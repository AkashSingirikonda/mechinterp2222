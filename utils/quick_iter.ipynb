{
 "cells": [
  {
   "cell_type": "code",
   "execution_count": 1,
   "id": "79907e88",
   "metadata": {},
   "outputs": [],
   "source": [
    "import sys\n",
    "import os\n",
    "\n",
    "project_root = os.path.abspath(os.path.join(os.getcwd(), \"..\"))\n",
    "if project_root not in sys.path:\n",
    "    sys.path.insert(0, project_root)\n",
    "    \n",
    "from list_prompt_family import ListPromptFamily\n",
    "from prompt_registry import PROMPT_REGISTRY, ALL_PROMPTS\n",
    "from wrap_registry import WRAP_REGISTRY\n",
    "import numpy as np\n",
    "import torch\n",
    "from dotenv import load_dotenv\n",
    "import os\n",
    "from transformer_lens import HookedTransformer\n"
   ]
  },
  {
   "cell_type": "code",
   "execution_count": 2,
   "id": "3261b3c9",
   "metadata": {},
   "outputs": [
    {
     "name": "stdout",
     "output_type": "stream",
     "text": [
      "The token has not been saved to the git credentials helper. Pass `add_to_git_credential=True` in this function directly or `--add-to-git-credential` if using via `huggingface-cli` if you want to set the git credential as well.\n",
      "Traceback (most recent call last):\n",
      "  File \"/Users/akash/Brown/fp_mechinterp/mechinterp2222/.venv/lib/python3.10/site-packages/huggingface_hub/utils/_http.py\", line 409, in hf_raise_for_status\n",
      "    response.raise_for_status()\n",
      "  File \"/Users/akash/Brown/fp_mechinterp/mechinterp2222/.venv/lib/python3.10/site-packages/requests/models.py\", line 1024, in raise_for_status\n",
      "    raise HTTPError(http_error_msg, response=self)\n",
      "requests.exceptions.HTTPError: 401 Client Error: Unauthorized for url: https://huggingface.co/api/whoami-v2\n",
      "\n",
      "The above exception was the direct cause of the following exception:\n",
      "\n",
      "Traceback (most recent call last):\n",
      "  File \"/Users/akash/Brown/fp_mechinterp/mechinterp2222/.venv/lib/python3.10/site-packages/huggingface_hub/hf_api.py\", line 1737, in whoami\n",
      "    hf_raise_for_status(r)\n",
      "  File \"/Users/akash/Brown/fp_mechinterp/mechinterp2222/.venv/lib/python3.10/site-packages/huggingface_hub/utils/_http.py\", line 482, in hf_raise_for_status\n",
      "    raise _format(HfHubHTTPError, str(e), response) from e\n",
      "huggingface_hub.errors.HfHubHTTPError: 401 Client Error: Unauthorized for url: https://huggingface.co/api/whoami-v2 (Request ID: Root=1-68099937-1215ee150a1bb3be2d3e5167;c45f63f3-e69e-44b8-b2e8-f0edd854a5e6)\n",
      "\n",
      "Invalid credentials in Authorization header\n",
      "\n",
      "The above exception was the direct cause of the following exception:\n",
      "\n",
      "Traceback (most recent call last):\n",
      "  File \"/Users/akash/Brown/fp_mechinterp/mechinterp2222/.venv/bin/huggingface-cli\", line 8, in <module>\n",
      "    sys.exit(main())\n",
      "  File \"/Users/akash/Brown/fp_mechinterp/mechinterp2222/.venv/lib/python3.10/site-packages/huggingface_hub/commands/huggingface_cli.py\", line 57, in main\n",
      "    service.run()\n",
      "  File \"/Users/akash/Brown/fp_mechinterp/mechinterp2222/.venv/lib/python3.10/site-packages/huggingface_hub/commands/user.py\", line 153, in run\n",
      "    login(\n",
      "  File \"/Users/akash/Brown/fp_mechinterp/mechinterp2222/.venv/lib/python3.10/site-packages/huggingface_hub/utils/_deprecation.py\", line 101, in inner_f\n",
      "    return f(*args, **kwargs)\n",
      "  File \"/Users/akash/Brown/fp_mechinterp/mechinterp2222/.venv/lib/python3.10/site-packages/huggingface_hub/utils/_deprecation.py\", line 31, in inner_f\n",
      "    return f(*args, **kwargs)\n",
      "  File \"/Users/akash/Brown/fp_mechinterp/mechinterp2222/.venv/lib/python3.10/site-packages/huggingface_hub/_login.py\", line 126, in login\n",
      "    _login(token, add_to_git_credential=add_to_git_credential)\n",
      "  File \"/Users/akash/Brown/fp_mechinterp/mechinterp2222/.venv/lib/python3.10/site-packages/huggingface_hub/_login.py\", line 404, in _login\n",
      "    token_info = whoami(token)\n",
      "  File \"/Users/akash/Brown/fp_mechinterp/mechinterp2222/.venv/lib/python3.10/site-packages/huggingface_hub/utils/_validators.py\", line 114, in _inner_fn\n",
      "    return fn(*args, **kwargs)\n",
      "  File \"/Users/akash/Brown/fp_mechinterp/mechinterp2222/.venv/lib/python3.10/site-packages/huggingface_hub/hf_api.py\", line 1750, in whoami\n",
      "    raise HTTPError(error_message, request=e.request, response=e.response) from e\n",
      "requests.exceptions.HTTPError: Invalid user token.\n"
     ]
    }
   ],
   "source": [
    "load_dotenv()\n",
    "hf_token = os.getenv(\"HF_TOKEN\")\n",
    "\n",
    "!huggingface-cli login --token {hf_token}"
   ]
  },
  {
   "cell_type": "code",
   "execution_count": 3,
   "id": "5b09d428",
   "metadata": {},
   "outputs": [
    {
     "name": "stderr",
     "output_type": "stream",
     "text": [
      "WARNING:root:Loading model microsoft/phi-2 requires setting trust_remote_code=True\n",
      "WARNING:root:Loading model microsoft/phi-2 state dict requires setting trust_remote_code=True\n"
     ]
    },
    {
     "data": {
      "application/vnd.jupyter.widget-view+json": {
       "model_id": "4cb3b18c9e1e43c5adaf5e993dc502b4",
       "version_major": 2,
       "version_minor": 0
      },
      "text/plain": [
       "Loading checkpoint shards:   0%|          | 0/2 [00:00<?, ?it/s]"
      ]
     },
     "metadata": {},
     "output_type": "display_data"
    },
    {
     "name": "stdout",
     "output_type": "stream",
     "text": [
      "Loaded pretrained model Phi-2 into HookedTransformer\n"
     ]
    }
   ],
   "source": [
    "MODEL_NAME = \"Phi-2\"\n",
    "torch.mps.empty_cache()\n",
    "model = HookedTransformer.from_pretrained(\n",
    "    MODEL_NAME,\n",
    "    device=\"mps\",  \n",
    ")           "
   ]
  },
  {
   "cell_type": "code",
   "execution_count": 4,
   "id": "c98f122e",
   "metadata": {},
   "outputs": [
    {
     "name": "stdout",
     "output_type": "stream",
     "text": [
      "{'clean': 'What is the output of the following python code [2, 1, 1, 1, 1].index(2)?\\nAnswer:', 'corrupted': 'What is the output of the following python code [1, 2, 1, 1, 1].index(2)?\\nAnswer:'}\n",
      "{'clean': 15, 'corrupted': 16}\n",
      "{'clean': 'What is the output of the following python code [2, 1, 1, 1, 1].index(2)?\\nAnswer:', 'corrupted': 'What is the output of the following python code [1, 1, 2, 1, 1].index(2)?\\nAnswer:'}\n",
      "{'clean': 15, 'corrupted': 17}\n",
      "{'clean': 'What is the output of the following python code [2, 1, 1, 1, 1].index(2)?\\nAnswer:', 'corrupted': 'What is the output of the following python code [1, 1, 1, 2, 1].index(2)?\\nAnswer:'}\n",
      "{'clean': 15, 'corrupted': 18}\n",
      "{'clean': 'What is the output of the following python code [2, 1, 1, 1, 1].index(2)?\\nAnswer:', 'corrupted': 'What is the output of the following python code [1, 1, 1, 1, 2].index(2)?\\nAnswer:'}\n",
      "{'clean': 15, 'corrupted': 19}\n",
      "{'clean': 'What is the output of the following python code [1, 2, 1, 1, 1].index(2)?\\nAnswer:', 'corrupted': 'What is the output of the following python code [1, 1, 2, 1, 1].index(2)?\\nAnswer:'}\n",
      "{'clean': 16, 'corrupted': 17}\n",
      "{'clean': 'What is the output of the following python code [1, 2, 1, 1, 1].index(2)?\\nAnswer:', 'corrupted': 'What is the output of the following python code [1, 1, 1, 2, 1].index(2)?\\nAnswer:'}\n",
      "{'clean': 16, 'corrupted': 18}\n",
      "{'clean': 'What is the output of the following python code [1, 2, 1, 1, 1].index(2)?\\nAnswer:', 'corrupted': 'What is the output of the following python code [1, 1, 1, 1, 2].index(2)?\\nAnswer:'}\n",
      "{'clean': 16, 'corrupted': 19}\n",
      "{'clean': 'What is the output of the following python code [1, 1, 2, 1, 1].index(2)?\\nAnswer:', 'corrupted': 'What is the output of the following python code [1, 1, 1, 2, 1].index(2)?\\nAnswer:'}\n",
      "{'clean': 17, 'corrupted': 18}\n",
      "{'clean': 'What is the output of the following python code [1, 1, 2, 1, 1].index(2)?\\nAnswer:', 'corrupted': 'What is the output of the following python code [1, 1, 1, 1, 2].index(2)?\\nAnswer:'}\n",
      "{'clean': 17, 'corrupted': 19}\n",
      "{'clean': 'What is the output of the following python code [1, 1, 1, 2, 1].index(2)?\\nAnswer:', 'corrupted': 'What is the output of the following python code [1, 1, 1, 1, 2].index(2)?\\nAnswer:'}\n",
      "{'clean': 18, 'corrupted': 19}\n"
     ]
    }
   ],
   "source": [
    "def gen_list_comprehension_prompt(start: int, end: int, step: int):\n",
    "    return f'What is the output of [i for i in range({start}, {end}, {step})]. Only output a list, no other information. List:', [f'{i}' for i in range(start, end, step)]\n",
    "\n",
    "def gen_find_index_prompt(elm, correct):\n",
    "    return lambda lst: f\"What is the output of the following python code {lst}.index({elm})?\\nAnswer:\", correct\n",
    "\n",
    "prompts = []\n",
    "\n",
    "lsts = []\n",
    "for i in range(5): \n",
    "    lst = [1, 1, 1, 1, 1]\n",
    "    lst[i] = 2\n",
    "    lsts.append(lst)\n",
    "    prompt_fn, correct = gen_find_index_prompt(2, i)\n",
    "    prompt = prompt_fn(lst)\n",
    "    prompts.append(prompt_fn)\n",
    "    # answer = model.generate(prompt, temperature=0.0, top_k=0, max_new_tokens=1)\n",
    "    # print(model.to_str_tokens(answer))\n",
    "    \n",
    "pairs = []\n",
    "answers = []\n",
    "for i in range(5):\n",
    "    for j in range(i+1, 5): #10 instead of 20\n",
    "        if i != j:\n",
    "            pairs.append({'clean': prompts[i](lsts[i]), 'corrupted': prompts[i](lsts[j])})\n",
    "            answers.append({'clean': model.to_single_token(f\"{i}\"), 'corrupted': model.to_single_token(f\"{j}\")})\n",
    "for pair, answer in zip(pairs, answers): \n",
    "    print(pair)\n",
    "    print(answer)"
   ]
  },
  {
   "cell_type": "code",
   "execution_count": 5,
   "id": "2d6e523e",
   "metadata": {},
   "outputs": [],
   "source": [
    "clean_tokens = model.to_tokens([pair['clean'] for pair in pairs])\n",
    "corrupted_tokens = model.to_tokens([pair['corrupted'] for pair in pairs])\n",
    "\n",
    "answer_token_indices = torch.tensor([[answers[i]['clean'], answers[i]['corrupted']] for i in range(len(answers))])"
   ]
  },
  {
   "cell_type": "code",
   "execution_count": 6,
   "id": "912dbc72",
   "metadata": {},
   "outputs": [],
   "source": [
    "def get_logit_diff(logits, answer_token_indices=answer_token_indices):\n",
    "    if len(logits.shape)==3:\n",
    "        logits = logits[:, -1, :]\n",
    "    # Move tensors to MPS device\n",
    "    logits = logits.to('mps')\n",
    "    answer_token_indices = answer_token_indices.to('mps')\n",
    "    correct_logits = logits.gather(1, answer_token_indices[:, 0].unsqueeze(1))\n",
    "    incorrect_logits = logits.gather(1, answer_token_indices[:, 1].unsqueeze(1))\n",
    "    return (correct_logits - incorrect_logits).mean()\n",
    "\n",
    "clean_logits, clean_cache = model.run_with_cache(clean_tokens)\n",
    "corrupted_logits, corrupted_cache = model.run_with_cache(corrupted_tokens)\n",
    "# print(torch.mps.current_allocated_memory())"
   ]
  },
  {
   "cell_type": "code",
   "execution_count": 7,
   "id": "6225d81d",
   "metadata": {},
   "outputs": [
    {
     "name": "stdout",
     "output_type": "stream",
     "text": [
      "Clean logit diff: 5.6589\n",
      "Corrupted logit diff: -7.1125\n"
     ]
    }
   ],
   "source": [
    "clean_logit_diff = get_logit_diff(clean_logits, answer_token_indices).item()\n",
    "print(f\"Clean logit diff: {clean_logit_diff:.4f}\")\n",
    "\n",
    "corrupted_logit_diff = get_logit_diff(corrupted_logits, answer_token_indices).item()\n",
    "print(f\"Corrupted logit diff: {corrupted_logit_diff:.4f}\")"
   ]
  },
  {
   "cell_type": "code",
   "execution_count": 8,
   "id": "c4657f15",
   "metadata": {},
   "outputs": [
    {
     "name": "stdout",
     "output_type": "stream",
     "text": [
      "Clean Baseline is 1: 1.0000\n",
      "Corrupted Baseline is 0: 0.0000\n"
     ]
    }
   ],
   "source": [
    "CLEAN_BASELINE = clean_logit_diff\n",
    "CORRUPTED_BASELINE = corrupted_logit_diff\n",
    "def ioi_metric(logits, answer_token_indices=answer_token_indices):\n",
    "    return (get_logit_diff(logits, answer_token_indices) - CORRUPTED_BASELINE) / (CLEAN_BASELINE  - CORRUPTED_BASELINE)\n",
    "\n",
    "print(f\"Clean Baseline is 1: {ioi_metric(clean_logits).item():.4f}\")\n",
    "print(f\"Corrupted Baseline is 0: {ioi_metric(corrupted_logits).item():.4f}\")"
   ]
  },
  {
   "cell_type": "code",
   "execution_count": 9,
   "id": "815909fd",
   "metadata": {},
   "outputs": [
    {
     "data": {
      "application/vnd.jupyter.widget-view+json": {
       "model_id": "e8988405e2a04a07aac3767992f5219c",
       "version_major": 2,
       "version_minor": 0
      },
      "text/plain": [
       "  0%|          | 0/896 [00:00<?, ?it/s]"
      ]
     },
     "metadata": {},
     "output_type": "display_data"
    },
    {
     "data": {
      "application/vnd.plotly.v1+json": {
       "config": {
        "plotlyServerURL": "https://plot.ly"
       },
       "data": [
        {
         "coloraxis": "coloraxis",
         "hovertemplate": "x: %{x}<br>y: %{y}<br>color: %{z}<extra></extra>",
         "name": "0",
         "type": "heatmap",
         "x": [
          "<|endoftext|> 0",
          "What 1",
          " is 2",
          " the 3",
          " output 4",
          " of 5",
          " the 6",
          " following 7",
          " python 8",
          " code 9",
          " [ 10",
          "2 11",
          ", 12",
          " 1 13",
          ", 14",
          " 1 15",
          ", 16",
          " 1 17",
          ", 18",
          " 1 19",
          "]. 20",
          "index 21",
          "( 22",
          "2 23",
          ")? 24",
          "\n 25",
          "Answer 26",
          ": 27"
         ],
         "xaxis": "x",
         "yaxis": "y",
         "z": {
          "bdata": "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",
          "dtype": "f4",
          "shape": "32, 28"
         }
        }
       ],
       "layout": {
        "coloraxis": {
         "cmid": 0,
         "colorscale": [
          [
           0,
           "rgb(103,0,31)"
          ],
          [
           0.1,
           "rgb(178,24,43)"
          ],
          [
           0.2,
           "rgb(214,96,77)"
          ],
          [
           0.3,
           "rgb(244,165,130)"
          ],
          [
           0.4,
           "rgb(253,219,199)"
          ],
          [
           0.5,
           "rgb(247,247,247)"
          ],
          [
           0.6,
           "rgb(209,229,240)"
          ],
          [
           0.7,
           "rgb(146,197,222)"
          ],
          [
           0.8,
           "rgb(67,147,195)"
          ],
          [
           0.9,
           "rgb(33,102,172)"
          ],
          [
           1,
           "rgb(5,48,97)"
          ]
         ]
        },
        "template": {
         "data": {
          "bar": [
           {
            "error_x": {
             "color": "#2a3f5f"
            },
            "error_y": {
             "color": "#2a3f5f"
            },
            "marker": {
             "line": {
              "color": "#E5ECF6",
              "width": 0.5
             },
             "pattern": {
              "fillmode": "overlay",
              "size": 10,
              "solidity": 0.2
             }
            },
            "type": "bar"
           }
          ],
          "barpolar": [
           {
            "marker": {
             "line": {
              "color": "#E5ECF6",
              "width": 0.5
             },
             "pattern": {
              "fillmode": "overlay",
              "size": 10,
              "solidity": 0.2
             }
            },
            "type": "barpolar"
           }
          ],
          "carpet": [
           {
            "aaxis": {
             "endlinecolor": "#2a3f5f",
             "gridcolor": "white",
             "linecolor": "white",
             "minorgridcolor": "white",
             "startlinecolor": "#2a3f5f"
            },
            "baxis": {
             "endlinecolor": "#2a3f5f",
             "gridcolor": "white",
             "linecolor": "white",
             "minorgridcolor": "white",
             "startlinecolor": "#2a3f5f"
            },
            "type": "carpet"
           }
          ],
          "choropleth": [
           {
            "colorbar": {
             "outlinewidth": 0,
             "ticks": ""
            },
            "type": "choropleth"
           }
          ],
          "contour": [
           {
            "colorbar": {
             "outlinewidth": 0,
             "ticks": ""
            },
            "colorscale": [
             [
              0,
              "#0d0887"
             ],
             [
              0.1111111111111111,
              "#46039f"
             ],
             [
              0.2222222222222222,
              "#7201a8"
             ],
             [
              0.3333333333333333,
              "#9c179e"
             ],
             [
              0.4444444444444444,
              "#bd3786"
             ],
             [
              0.5555555555555556,
              "#d8576b"
             ],
             [
              0.6666666666666666,
              "#ed7953"
             ],
             [
              0.7777777777777778,
              "#fb9f3a"
             ],
             [
              0.8888888888888888,
              "#fdca26"
             ],
             [
              1,
              "#f0f921"
             ]
            ],
            "type": "contour"
           }
          ],
          "contourcarpet": [
           {
            "colorbar": {
             "outlinewidth": 0,
             "ticks": ""
            },
            "type": "contourcarpet"
           }
          ],
          "heatmap": [
           {
            "colorbar": {
             "outlinewidth": 0,
             "ticks": ""
            },
            "colorscale": [
             [
              0,
              "#0d0887"
             ],
             [
              0.1111111111111111,
              "#46039f"
             ],
             [
              0.2222222222222222,
              "#7201a8"
             ],
             [
              0.3333333333333333,
              "#9c179e"
             ],
             [
              0.4444444444444444,
              "#bd3786"
             ],
             [
              0.5555555555555556,
              "#d8576b"
             ],
             [
              0.6666666666666666,
              "#ed7953"
             ],
             [
              0.7777777777777778,
              "#fb9f3a"
             ],
             [
              0.8888888888888888,
              "#fdca26"
             ],
             [
              1,
              "#f0f921"
             ]
            ],
            "type": "heatmap"
           }
          ],
          "histogram": [
           {
            "marker": {
             "pattern": {
              "fillmode": "overlay",
              "size": 10,
              "solidity": 0.2
             }
            },
            "type": "histogram"
           }
          ],
          "histogram2d": [
           {
            "colorbar": {
             "outlinewidth": 0,
             "ticks": ""
            },
            "colorscale": [
             [
              0,
              "#0d0887"
             ],
             [
              0.1111111111111111,
              "#46039f"
             ],
             [
              0.2222222222222222,
              "#7201a8"
             ],
             [
              0.3333333333333333,
              "#9c179e"
             ],
             [
              0.4444444444444444,
              "#bd3786"
             ],
             [
              0.5555555555555556,
              "#d8576b"
             ],
             [
              0.6666666666666666,
              "#ed7953"
             ],
             [
              0.7777777777777778,
              "#fb9f3a"
             ],
             [
              0.8888888888888888,
              "#fdca26"
             ],
             [
              1,
              "#f0f921"
             ]
            ],
            "type": "histogram2d"
           }
          ],
          "histogram2dcontour": [
           {
            "colorbar": {
             "outlinewidth": 0,
             "ticks": ""
            },
            "colorscale": [
             [
              0,
              "#0d0887"
             ],
             [
              0.1111111111111111,
              "#46039f"
             ],
             [
              0.2222222222222222,
              "#7201a8"
             ],
             [
              0.3333333333333333,
              "#9c179e"
             ],
             [
              0.4444444444444444,
              "#bd3786"
             ],
             [
              0.5555555555555556,
              "#d8576b"
             ],
             [
              0.6666666666666666,
              "#ed7953"
             ],
             [
              0.7777777777777778,
              "#fb9f3a"
             ],
             [
              0.8888888888888888,
              "#fdca26"
             ],
             [
              1,
              "#f0f921"
             ]
            ],
            "type": "histogram2dcontour"
           }
          ],
          "mesh3d": [
           {
            "colorbar": {
             "outlinewidth": 0,
             "ticks": ""
            },
            "type": "mesh3d"
           }
          ],
          "parcoords": [
           {
            "line": {
             "colorbar": {
              "outlinewidth": 0,
              "ticks": ""
             }
            },
            "type": "parcoords"
           }
          ],
          "pie": [
           {
            "automargin": true,
            "type": "pie"
           }
          ],
          "scatter": [
           {
            "fillpattern": {
             "fillmode": "overlay",
             "size": 10,
             "solidity": 0.2
            },
            "type": "scatter"
           }
          ],
          "scatter3d": [
           {
            "line": {
             "colorbar": {
              "outlinewidth": 0,
              "ticks": ""
             }
            },
            "marker": {
             "colorbar": {
              "outlinewidth": 0,
              "ticks": ""
             }
            },
            "type": "scatter3d"
           }
          ],
          "scattercarpet": [
           {
            "marker": {
             "colorbar": {
              "outlinewidth": 0,
              "ticks": ""
             }
            },
            "type": "scattercarpet"
           }
          ],
          "scattergeo": [
           {
            "marker": {
             "colorbar": {
              "outlinewidth": 0,
              "ticks": ""
             }
            },
            "type": "scattergeo"
           }
          ],
          "scattergl": [
           {
            "marker": {
             "colorbar": {
              "outlinewidth": 0,
              "ticks": ""
             }
            },
            "type": "scattergl"
           }
          ],
          "scattermap": [
           {
            "marker": {
             "colorbar": {
              "outlinewidth": 0,
              "ticks": ""
             }
            },
            "type": "scattermap"
           }
          ],
          "scattermapbox": [
           {
            "marker": {
             "colorbar": {
              "outlinewidth": 0,
              "ticks": ""
             }
            },
            "type": "scattermapbox"
           }
          ],
          "scatterpolar": [
           {
            "marker": {
             "colorbar": {
              "outlinewidth": 0,
              "ticks": ""
             }
            },
            "type": "scatterpolar"
           }
          ],
          "scatterpolargl": [
           {
            "marker": {
             "colorbar": {
              "outlinewidth": 0,
              "ticks": ""
             }
            },
            "type": "scatterpolargl"
           }
          ],
          "scatterternary": [
           {
            "marker": {
             "colorbar": {
              "outlinewidth": 0,
              "ticks": ""
             }
            },
            "type": "scatterternary"
           }
          ],
          "surface": [
           {
            "colorbar": {
             "outlinewidth": 0,
             "ticks": ""
            },
            "colorscale": [
             [
              0,
              "#0d0887"
             ],
             [
              0.1111111111111111,
              "#46039f"
             ],
             [
              0.2222222222222222,
              "#7201a8"
             ],
             [
              0.3333333333333333,
              "#9c179e"
             ],
             [
              0.4444444444444444,
              "#bd3786"
             ],
             [
              0.5555555555555556,
              "#d8576b"
             ],
             [
              0.6666666666666666,
              "#ed7953"
             ],
             [
              0.7777777777777778,
              "#fb9f3a"
             ],
             [
              0.8888888888888888,
              "#fdca26"
             ],
             [
              1,
              "#f0f921"
             ]
            ],
            "type": "surface"
           }
          ],
          "table": [
           {
            "cells": {
             "fill": {
              "color": "#EBF0F8"
             },
             "line": {
              "color": "white"
             }
            },
            "header": {
             "fill": {
              "color": "#C8D4E3"
             },
             "line": {
              "color": "white"
             }
            },
            "type": "table"
           }
          ]
         },
         "layout": {
          "annotationdefaults": {
           "arrowcolor": "#2a3f5f",
           "arrowhead": 0,
           "arrowwidth": 1
          },
          "autotypenumbers": "strict",
          "coloraxis": {
           "colorbar": {
            "outlinewidth": 0,
            "ticks": ""
           }
          },
          "colorscale": {
           "diverging": [
            [
             0,
             "#8e0152"
            ],
            [
             0.1,
             "#c51b7d"
            ],
            [
             0.2,
             "#de77ae"
            ],
            [
             0.3,
             "#f1b6da"
            ],
            [
             0.4,
             "#fde0ef"
            ],
            [
             0.5,
             "#f7f7f7"
            ],
            [
             0.6,
             "#e6f5d0"
            ],
            [
             0.7,
             "#b8e186"
            ],
            [
             0.8,
             "#7fbc41"
            ],
            [
             0.9,
             "#4d9221"
            ],
            [
             1,
             "#276419"
            ]
           ],
           "sequential": [
            [
             0,
             "#0d0887"
            ],
            [
             0.1111111111111111,
             "#46039f"
            ],
            [
             0.2222222222222222,
             "#7201a8"
            ],
            [
             0.3333333333333333,
             "#9c179e"
            ],
            [
             0.4444444444444444,
             "#bd3786"
            ],
            [
             0.5555555555555556,
             "#d8576b"
            ],
            [
             0.6666666666666666,
             "#ed7953"
            ],
            [
             0.7777777777777778,
             "#fb9f3a"
            ],
            [
             0.8888888888888888,
             "#fdca26"
            ],
            [
             1,
             "#f0f921"
            ]
           ],
           "sequentialminus": [
            [
             0,
             "#0d0887"
            ],
            [
             0.1111111111111111,
             "#46039f"
            ],
            [
             0.2222222222222222,
             "#7201a8"
            ],
            [
             0.3333333333333333,
             "#9c179e"
            ],
            [
             0.4444444444444444,
             "#bd3786"
            ],
            [
             0.5555555555555556,
             "#d8576b"
            ],
            [
             0.6666666666666666,
             "#ed7953"
            ],
            [
             0.7777777777777778,
             "#fb9f3a"
            ],
            [
             0.8888888888888888,
             "#fdca26"
            ],
            [
             1,
             "#f0f921"
            ]
           ]
          },
          "colorway": [
           "#636efa",
           "#EF553B",
           "#00cc96",
           "#ab63fa",
           "#FFA15A",
           "#19d3f3",
           "#FF6692",
           "#B6E880",
           "#FF97FF",
           "#FECB52"
          ],
          "font": {
           "color": "#2a3f5f"
          },
          "geo": {
           "bgcolor": "white",
           "lakecolor": "white",
           "landcolor": "#E5ECF6",
           "showlakes": true,
           "showland": true,
           "subunitcolor": "white"
          },
          "hoverlabel": {
           "align": "left"
          },
          "hovermode": "closest",
          "mapbox": {
           "style": "light"
          },
          "paper_bgcolor": "white",
          "plot_bgcolor": "#E5ECF6",
          "polar": {
           "angularaxis": {
            "gridcolor": "white",
            "linecolor": "white",
            "ticks": ""
           },
           "bgcolor": "#E5ECF6",
           "radialaxis": {
            "gridcolor": "white",
            "linecolor": "white",
            "ticks": ""
           }
          },
          "scene": {
           "xaxis": {
            "backgroundcolor": "#E5ECF6",
            "gridcolor": "white",
            "gridwidth": 2,
            "linecolor": "white",
            "showbackground": true,
            "ticks": "",
            "zerolinecolor": "white"
           },
           "yaxis": {
            "backgroundcolor": "#E5ECF6",
            "gridcolor": "white",
            "gridwidth": 2,
            "linecolor": "white",
            "showbackground": true,
            "ticks": "",
            "zerolinecolor": "white"
           },
           "zaxis": {
            "backgroundcolor": "#E5ECF6",
            "gridcolor": "white",
            "gridwidth": 2,
            "linecolor": "white",
            "showbackground": true,
            "ticks": "",
            "zerolinecolor": "white"
           }
          },
          "shapedefaults": {
           "line": {
            "color": "#2a3f5f"
           }
          },
          "ternary": {
           "aaxis": {
            "gridcolor": "white",
            "linecolor": "white",
            "ticks": ""
           },
           "baxis": {
            "gridcolor": "white",
            "linecolor": "white",
            "ticks": ""
           },
           "bgcolor": "#E5ECF6",
           "caxis": {
            "gridcolor": "white",
            "linecolor": "white",
            "ticks": ""
           }
          },
          "title": {
           "x": 0.05
          },
          "xaxis": {
           "automargin": true,
           "gridcolor": "white",
           "linecolor": "white",
           "ticks": "",
           "title": {
            "standoff": 15
           },
           "zerolinecolor": "white",
           "zerolinewidth": 2
          },
          "yaxis": {
           "automargin": true,
           "gridcolor": "white",
           "linecolor": "white",
           "ticks": "",
           "title": {
            "standoff": 15
           },
           "zerolinecolor": "white",
           "zerolinewidth": 2
          }
         }
        },
        "title": {
         "text": "resid_pre Activation Patching"
        },
        "xaxis": {
         "anchor": "y",
         "domain": [
          0,
          1
         ],
         "title": {
          "text": "Position"
         }
        },
        "yaxis": {
         "anchor": "x",
         "autorange": "reversed",
         "domain": [
          0,
          1
         ],
         "title": {
          "text": "Layer"
         }
        }
       }
      }
     },
     "metadata": {},
     "output_type": "display_data"
    }
   ],
   "source": [
    "import transformer_lens.patching as patching\n",
    "from neel_plotly import line, imshow, scatter\n",
    "\n",
    "resid_pre_act_patch_results = patching.get_act_patch_resid_pre(model, corrupted_tokens, clean_cache, ioi_metric)\n",
    "imshow(resid_pre_act_patch_results, \n",
    "       yaxis=\"Layer\", \n",
    "       xaxis=\"Position\", \n",
    "       x=[f\"{tok} {i}\" for i, tok in enumerate(model.to_str_tokens(clean_tokens[0]))],\n",
    "       title=\"resid_pre Activation Patching\")"
   ]
  }
 ],
 "metadata": {
  "kernelspec": {
   "display_name": ".venv",
   "language": "python",
   "name": "python3"
  },
  "language_info": {
   "codemirror_mode": {
    "name": "ipython",
    "version": 3
   },
   "file_extension": ".py",
   "mimetype": "text/x-python",
   "name": "python",
   "nbconvert_exporter": "python",
   "pygments_lexer": "ipython3",
   "version": "3.10.16"
  }
 },
 "nbformat": 4,
 "nbformat_minor": 5
}
