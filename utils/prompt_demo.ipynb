{
 "cells": [
  {
   "cell_type": "code",
   "execution_count": 1,
   "id": "64a8aa0b",
   "metadata": {},
   "outputs": [
    {
     "name": "stderr",
     "output_type": "stream",
     "text": [
      "/Users/johnwu/.pyenv/versions/3.9.1/lib/python3.9/site-packages/torch/onnx/_internal/_beartype.py:36: UserWarning: unhashable type: 'list'\n",
      "  warnings.warn(f\"{e}\")\n"
     ]
    }
   ],
   "source": [
    "import sys\n",
    "import os\n",
    "\n",
    "project_root = os.path.abspath(os.path.join(os.getcwd(), \"..\"))\n",
    "if project_root not in sys.path:\n",
    "    sys.path.insert(0, project_root)\n",
    "    \n",
    "from list_prompt_family import ListPromptFamily\n",
    "from prompt_registry import PROMPT_REGISTRY, ALL_PROMPTS\n",
    "from wrap_registry import WRAP_REGISTRY\n",
    "import numpy as np\n",
    "import torch\n",
    "from dotenv import load_dotenv\n",
    "import os\n",
    "from transformer_lens import HookedTransformer\n"
   ]
  },
  {
   "cell_type": "code",
   "execution_count": 2,
   "id": "6c85fa26",
   "metadata": {},
   "outputs": [
    {
     "name": "stdout",
     "output_type": "stream",
     "text": [
      "Available Prompts:\n",
      "- print\n",
      "- append\n",
      "- add_all\n",
      "- insert_middle\n",
      "- swap_indices\n",
      "- find_index\n",
      "\n",
      "Available Wrap Styles:\n",
      "- plain\n",
      "- list\n",
      "- interpreter\n",
      "- system\n"
     ]
    }
   ],
   "source": [
    "print(\"Available Prompts:\")\n",
    "for name in PROMPT_REGISTRY[\"list\"]:\n",
    "    print(\"-\", name)\n",
    "\n",
    "print(\"\\nAvailable Wrap Styles:\")\n",
    "for name in WRAP_REGISTRY:\n",
    "    print(\"-\", name)\n"
   ]
  },
  {
   "cell_type": "code",
   "execution_count": 3,
   "id": "e03a0488",
   "metadata": {},
   "outputs": [
    {
     "name": "stdout",
     "output_type": "stream",
     "text": [
      "Prompt (raw):\n",
      " Append 4 to the end of this list [1, 2, 3]\n",
      "Ground truth: [1, 2, 3, 4]\n",
      "Wrapped Prompt:\n",
      " Pretend you are a Python interpreter.\n",
      "TASK: Append 4 to the end of this list [1, 2, 3]\n",
      "INPUT: [[1, 2, 3], 4]\n",
      "OUTPUT:\n"
     ]
    }
   ],
   "source": [
    "# Example Prompt \n",
    "prompt = PROMPT_REGISTRY[\"list\"][\"append\"]\n",
    "case = prompt.create_case(inputs=[[1, 2, 3], 4])\n",
    "\n",
    "print(\"Prompt (raw):\\n\", case.prompt)\n",
    "print(\"Ground truth:\", case.ground_truth)\n",
    "\n",
    "wrap_fn = WRAP_REGISTRY[\"interpreter\"]\n",
    "wrapped_prompt = wrap_fn(prompt.prompt_fn(case.inputs), case.inputs)\n",
    "print(\"Wrapped Prompt:\\n\", wrapped_prompt)"
   ]
  },
  {
   "cell_type": "code",
   "execution_count": 4,
   "id": "a9156a97",
   "metadata": {},
   "outputs": [
    {
     "name": "stdout",
     "output_type": "stream",
     "text": [
      "\n",
      "Prompt:\n",
      "Append 7 to the end of this list [1, 2, 3]\n",
      "Expected: [1, 2, 3, 7]\n",
      "\n",
      "Prompt:\n",
      "Append 5 to the end of this list [1, 2, 3]\n",
      "Expected: [1, 2, 3, 5]\n",
      "\n",
      "Prompt:\n",
      "Append 7 to the end of this list [1, 2, 3]\n",
      "Expected: [1, 2, 3, 7]\n"
     ]
    }
   ],
   "source": [
    "# Generating multiple prompts\n",
    "prompt.random_input_fn = lambda: [[1, 2, 3], np.random.randint(5, 10)]\n",
    "cases = prompt.create_cases(n=3)\n",
    "\n",
    "for c in cases:\n",
    "    print(\"\\nPrompt:\")\n",
    "    print(c.prompt)\n",
    "    print(\"Expected:\", c.ground_truth)\n"
   ]
  },
  {
   "cell_type": "code",
   "execution_count": 5,
   "id": "a9271db1",
   "metadata": {},
   "outputs": [
    {
     "name": "stdout",
     "output_type": "stream",
     "text": [
      "\n",
      "print-0 | wrap: plain\n",
      "Print out this list of numbers: [3, 3, 3].\n",
      "Expected: [3, 3, 3]\n",
      "\n",
      "print-1 | wrap: plain\n",
      "Print out this list of numbers: [1, 2, 1].\n",
      "Expected: [1, 2, 1]\n",
      "\n",
      "print-2 | wrap: plain\n",
      "Print out this list of numbers: [2, 1, 0].\n",
      "Expected: [2, 1, 0]\n",
      "\n",
      "print-3 | wrap: list\n",
      "Print out this list of numbers: [0, 2, 4].\n",
      "Only output a list, no other information.\n",
      "List: [\n",
      "Expected: [0, 2, 4]\n",
      "\n",
      "print-4 | wrap: list\n",
      "Print out this list of numbers: [3, 4, 4].\n",
      "Only output a list, no other information.\n",
      "List: [\n",
      "Expected: [3, 4, 4]\n",
      "\n",
      "print-5 | wrap: list\n",
      "Print out this list of numbers: [2, 1, 3].\n",
      "Only output a list, no other information.\n",
      "List: [\n",
      "Expected: [2, 1, 3]\n",
      "\n",
      "print-6 | wrap: interpreter\n",
      "Pretend you are a Python interpreter.\n",
      "TASK: Print out this list of numbers: [4, 0, 0].\n",
      "INPUT: [[4, 0, 0]]\n",
      "OUTPUT:\n",
      "Expected: [4, 0, 0]\n",
      "\n",
      "print-7 | wrap: interpreter\n",
      "Pretend you are a Python interpreter.\n",
      "TASK: Print out this list of numbers: [2, 2, 0].\n",
      "INPUT: [[2, 2, 0]]\n",
      "OUTPUT:\n",
      "Expected: [2, 2, 0]\n",
      "\n",
      "print-8 | wrap: interpreter\n",
      "Pretend you are a Python interpreter.\n",
      "TASK: Print out this list of numbers: [2, 3, 1].\n",
      "INPUT: [[2, 3, 1]]\n",
      "OUTPUT:\n",
      "Expected: [2, 3, 1]\n",
      "\n",
      "print-9 | wrap: system\n",
      "<|system|> You are a helpful assistant.\n",
      "<|user|> Print out this list of numbers: [1, 3, 0].\n",
      "<|assistant|>\n",
      "Expected: [1, 3, 0]\n",
      "\n",
      "print-10 | wrap: system\n",
      "<|system|> You are a helpful assistant.\n",
      "<|user|> Print out this list of numbers: [2, 2, 2].\n",
      "<|assistant|>\n",
      "Expected: [2, 2, 2]\n",
      "\n",
      "print-11 | wrap: system\n",
      "<|system|> You are a helpful assistant.\n",
      "<|user|> Print out this list of numbers: [0, 0, 1].\n",
      "<|assistant|>\n",
      "Expected: [0, 0, 1]\n",
      "\n",
      "append-0 | wrap: plain\n",
      "Append 7 to the end of this list [2, 2, 0]\n",
      "Expected: [2, 2, 0, 7]\n",
      "\n",
      "append-1 | wrap: plain\n",
      "Append 4 to the end of this list [1, 0, 3]\n",
      "Expected: [1, 0, 3, 4]\n",
      "\n",
      "append-2 | wrap: plain\n",
      "Append 1 to the end of this list [3, 2, 3]\n",
      "Expected: [3, 2, 3, 1]\n",
      "\n",
      "append-3 | wrap: list\n",
      "Append 2 to the end of this list [2, 3, 0]\n",
      "Only output a list, no other information.\n",
      "List: [\n",
      "Expected: [2, 3, 0, 2]\n",
      "\n",
      "append-4 | wrap: list\n",
      "Append 6 to the end of this list [1, 2, 0]\n",
      "Only output a list, no other information.\n",
      "List: [\n",
      "Expected: [1, 2, 0, 6]\n",
      "\n",
      "append-5 | wrap: list\n",
      "Append 5 to the end of this list [1, 4, 1]\n",
      "Only output a list, no other information.\n",
      "List: [\n",
      "Expected: [1, 4, 1, 5]\n",
      "\n",
      "append-6 | wrap: interpreter\n",
      "Pretend you are a Python interpreter.\n",
      "TASK: Append 3 to the end of this list [3, 4, 1]\n",
      "INPUT: [[3, 4, 1], 3]\n",
      "OUTPUT:\n",
      "Expected: [3, 4, 1, 3]\n",
      "\n",
      "append-7 | wrap: interpreter\n",
      "Pretend you are a Python interpreter.\n",
      "TASK: Append 3 to the end of this list [2, 0, 4]\n",
      "INPUT: [[2, 0, 4], 3]\n",
      "OUTPUT:\n",
      "Expected: [2, 0, 4, 3]\n",
      "\n",
      "append-8 | wrap: interpreter\n",
      "Pretend you are a Python interpreter.\n",
      "TASK: Append 8 to the end of this list [2, 3, 1]\n",
      "INPUT: [[2, 3, 1], 8]\n",
      "OUTPUT:\n",
      "Expected: [2, 3, 1, 8]\n",
      "\n",
      "append-9 | wrap: system\n",
      "<|system|> You are a helpful assistant.\n",
      "<|user|> Append 6 to the end of this list [2, 4, 4]\n",
      "<|assistant|>\n",
      "Expected: [2, 4, 4, 6]\n",
      "\n",
      "append-10 | wrap: system\n",
      "<|system|> You are a helpful assistant.\n",
      "<|user|> Append 9 to the end of this list [2, 3, 2]\n",
      "<|assistant|>\n",
      "Expected: [2, 3, 2, 9]\n",
      "\n",
      "append-11 | wrap: system\n",
      "<|system|> You are a helpful assistant.\n",
      "<|user|> Append 0 to the end of this list [3, 2, 2]\n",
      "<|assistant|>\n",
      "Expected: [3, 2, 2, 0]\n",
      "\n",
      "add_all-0 | wrap: plain\n",
      "Add 8 to every element in this list: [0, 0, 3]\n",
      "Expected: [8, 8, 11]\n",
      "\n",
      "add_all-1 | wrap: plain\n",
      "Add 4 to every element in this list: [2, 0, 0]\n",
      "Expected: [6, 4, 4]\n",
      "\n",
      "add_all-2 | wrap: plain\n",
      "Add 0 to every element in this list: [2, 3, 3]\n",
      "Expected: [2, 3, 3]\n",
      "\n",
      "add_all-3 | wrap: list\n",
      "Add 1 to every element in this list: [3, 1, 2]\n",
      "Only output a list, no other information.\n",
      "List: [\n",
      "Expected: [4, 2, 3]\n",
      "\n",
      "add_all-4 | wrap: list\n",
      "Add 2 to every element in this list: [3, 0, 1]\n",
      "Only output a list, no other information.\n",
      "List: [\n",
      "Expected: [5, 2, 3]\n",
      "\n",
      "add_all-5 | wrap: list\n",
      "Add 1 to every element in this list: [4, 3, 3]\n",
      "Only output a list, no other information.\n",
      "List: [\n",
      "Expected: [5, 4, 4]\n",
      "\n",
      "add_all-6 | wrap: interpreter\n",
      "Pretend you are a Python interpreter.\n",
      "TASK: Add 7 to every element in this list: [3, 0, 2]\n",
      "INPUT: [[3, 0, 2], 7]\n",
      "OUTPUT:\n",
      "Expected: [10, 7, 9]\n",
      "\n",
      "add_all-7 | wrap: interpreter\n",
      "Pretend you are a Python interpreter.\n",
      "TASK: Add 6 to every element in this list: [3, 4, 0]\n",
      "INPUT: [[3, 4, 0], 6]\n",
      "OUTPUT:\n",
      "Expected: [9, 10, 6]\n",
      "\n",
      "add_all-8 | wrap: interpreter\n",
      "Pretend you are a Python interpreter.\n",
      "TASK: Add 3 to every element in this list: [0, 3, 3]\n",
      "INPUT: [[0, 3, 3], 3]\n",
      "OUTPUT:\n",
      "Expected: [3, 6, 6]\n",
      "\n",
      "add_all-9 | wrap: system\n",
      "<|system|> You are a helpful assistant.\n",
      "<|user|> Add 9 to every element in this list: [1, 0, 4]\n",
      "<|assistant|>\n",
      "Expected: [10, 9, 13]\n",
      "\n",
      "add_all-10 | wrap: system\n",
      "<|system|> You are a helpful assistant.\n",
      "<|user|> Add 7 to every element in this list: [3, 4, 1]\n",
      "<|assistant|>\n",
      "Expected: [10, 11, 8]\n",
      "\n",
      "add_all-11 | wrap: system\n",
      "<|system|> You are a helpful assistant.\n",
      "<|user|> Add 1 to every element in this list: [3, 3, 0]\n",
      "<|assistant|>\n",
      "Expected: [4, 4, 1]\n",
      "\n",
      "insert_middle-0 | wrap: plain\n",
      "Insert 6 between the third and fourth element in this list: [4, 3, 1]\n",
      "Expected: [4, 3, 1, 6]\n",
      "\n",
      "insert_middle-1 | wrap: plain\n",
      "Insert 7 between the third and fourth element in this list: [2, 2, 0]\n",
      "Expected: [2, 2, 0, 7]\n",
      "\n",
      "insert_middle-2 | wrap: plain\n",
      "Insert 4 between the third and fourth element in this list: [3, 4, 3]\n",
      "Expected: [3, 4, 3, 4]\n",
      "\n",
      "insert_middle-3 | wrap: list\n",
      "Insert 6 between the third and fourth element in this list: [4, 2, 2]\n",
      "Only output a list, no other information.\n",
      "List: [\n",
      "Expected: [4, 2, 2, 6]\n",
      "\n",
      "insert_middle-4 | wrap: list\n",
      "Insert 5 between the third and fourth element in this list: [4, 1, 3]\n",
      "Only output a list, no other information.\n",
      "List: [\n",
      "Expected: [4, 1, 3, 5]\n",
      "\n",
      "insert_middle-5 | wrap: list\n",
      "Insert 6 between the third and fourth element in this list: [0, 1, 0]\n",
      "Only output a list, no other information.\n",
      "List: [\n",
      "Expected: [0, 1, 0, 6]\n",
      "\n",
      "insert_middle-6 | wrap: interpreter\n",
      "Pretend you are a Python interpreter.\n",
      "TASK: Insert 4 between the third and fourth element in this list: [3, 3, 1]\n",
      "INPUT: [[3, 3, 1], 4]\n",
      "OUTPUT:\n",
      "Expected: [3, 3, 1, 4]\n",
      "\n",
      "insert_middle-7 | wrap: interpreter\n",
      "Pretend you are a Python interpreter.\n",
      "TASK: Insert 5 between the third and fourth element in this list: [2, 0, 1]\n",
      "INPUT: [[2, 0, 1], 5]\n",
      "OUTPUT:\n",
      "Expected: [2, 0, 1, 5]\n",
      "\n",
      "insert_middle-8 | wrap: interpreter\n",
      "Pretend you are a Python interpreter.\n",
      "TASK: Insert 8 between the third and fourth element in this list: [3, 2, 0]\n",
      "INPUT: [[3, 2, 0], 8]\n",
      "OUTPUT:\n",
      "Expected: [3, 2, 0, 8]\n",
      "\n",
      "insert_middle-9 | wrap: system\n",
      "<|system|> You are a helpful assistant.\n",
      "<|user|> Insert 9 between the third and fourth element in this list: [2, 0, 1]\n",
      "<|assistant|>\n",
      "Expected: [2, 0, 1, 9]\n",
      "\n",
      "insert_middle-10 | wrap: system\n",
      "<|system|> You are a helpful assistant.\n",
      "<|user|> Insert 0 between the third and fourth element in this list: [2, 2, 0]\n",
      "<|assistant|>\n",
      "Expected: [2, 2, 0, 0]\n",
      "\n",
      "insert_middle-11 | wrap: system\n",
      "<|system|> You are a helpful assistant.\n",
      "<|user|> Insert 7 between the third and fourth element in this list: [4, 1, 0]\n",
      "<|assistant|>\n",
      "Expected: [4, 1, 0, 7]\n",
      "\n",
      "swap_indices-0 | wrap: plain\n",
      "Given a one indexed list, [4, 3, 0], what would the list be if you swapped the elements at position 3 and 1?\n",
      "Expected: [0, 3, 4]\n",
      "\n",
      "swap_indices-1 | wrap: plain\n",
      "Given a zero indexed list, [1, 2, 1], what would the list be if you swapped the elements at position 1 and 2?\n",
      "Expected: [1, 1, 2]\n",
      "\n",
      "swap_indices-2 | wrap: plain\n",
      "Given a one indexed list, [4, 4, 1], what would the list be if you swapped the elements at position 3 and 3?\n",
      "Expected: [4, 4, 1]\n",
      "\n",
      "swap_indices-3 | wrap: list\n",
      "Given a zero indexed list, [2, 0, 0], what would the list be if you swapped the elements at position 0 and 2?\n",
      "Only output a list, no other information.\n",
      "List: [\n",
      "Expected: [0, 0, 2]\n",
      "\n",
      "swap_indices-4 | wrap: list\n",
      "Given a zero indexed list, [4, 2, 2], what would the list be if you swapped the elements at position 2 and 1?\n",
      "Only output a list, no other information.\n",
      "List: [\n",
      "Expected: [4, 2, 2]\n",
      "\n",
      "swap_indices-5 | wrap: list\n",
      "Given a one indexed list, [1, 0, 1], what would the list be if you swapped the elements at position 1 and 2?\n",
      "Only output a list, no other information.\n",
      "List: [\n",
      "Expected: [0, 1, 1]\n",
      "\n",
      "swap_indices-6 | wrap: interpreter\n",
      "Pretend you are a Python interpreter.\n",
      "TASK: Given a zero indexed list, [1, 2, 0], what would the list be if you swapped the elements at position 1 and 1?\n",
      "INPUT: [[1, 2, 0], 1, 1, 'zero']\n",
      "OUTPUT:\n",
      "Expected: [1, 2, 0]\n",
      "\n",
      "swap_indices-7 | wrap: interpreter\n",
      "Pretend you are a Python interpreter.\n",
      "TASK: Given a zero indexed list, [0, 2, 3], what would the list be if you swapped the elements at position 1 and 0?\n",
      "INPUT: [[0, 2, 3], 1, 0, 'zero']\n",
      "OUTPUT:\n",
      "Expected: [2, 0, 3]\n",
      "\n",
      "swap_indices-8 | wrap: interpreter\n",
      "Pretend you are a Python interpreter.\n",
      "TASK: Given a zero indexed list, [3, 4, 1], what would the list be if you swapped the elements at position 1 and 1?\n",
      "INPUT: [[3, 4, 1], 1, 1, 'zero']\n",
      "OUTPUT:\n",
      "Expected: [3, 4, 1]\n",
      "\n",
      "swap_indices-9 | wrap: system\n",
      "<|system|> You are a helpful assistant.\n",
      "<|user|> Given a one indexed list, [0, 2, 1], what would the list be if you swapped the elements at position 1 and 2?\n",
      "<|assistant|>\n",
      "Expected: [2, 0, 1]\n",
      "\n",
      "swap_indices-10 | wrap: system\n",
      "<|system|> You are a helpful assistant.\n",
      "<|user|> Given a zero indexed list, [0, 3, 4], what would the list be if you swapped the elements at position 1 and 1?\n",
      "<|assistant|>\n",
      "Expected: [0, 3, 4]\n",
      "\n",
      "swap_indices-11 | wrap: system\n",
      "<|system|> You are a helpful assistant.\n",
      "<|user|> Given a zero indexed list, [3, 0, 0], what would the list be if you swapped the elements at position 1 and 1?\n",
      "<|assistant|>\n",
      "Expected: [3, 0, 0]\n",
      "\n",
      "find_index-0 | wrap: plain\n",
      "Given a zero indexed list [3, 0, 4], what is the index of the element 0?\n",
      "Expected: 1\n",
      "\n",
      "find_index-1 | wrap: plain\n",
      "Given a one indexed list [1, 2, 1], what is the index of the element 1?\n",
      "Expected: 1\n",
      "\n",
      "find_index-2 | wrap: plain\n",
      "Given a one indexed list [3, 0, 3], what is the index of the element 1?\n",
      "Expected: Not Found\n",
      "\n",
      "find_index-3 | wrap: list\n",
      "Given a one indexed list [0, 0, 3], what is the index of the element 0?\n",
      "Only output a list, no other information.\n",
      "List: [\n",
      "Expected: 1\n",
      "\n",
      "find_index-4 | wrap: list\n",
      "Given a one indexed list [1, 4, 0], what is the index of the element 1?\n",
      "Only output a list, no other information.\n",
      "List: [\n",
      "Expected: 1\n",
      "\n",
      "find_index-5 | wrap: list\n",
      "Given a one indexed list [0, 1, 0], what is the index of the element 0?\n",
      "Only output a list, no other information.\n",
      "List: [\n",
      "Expected: 1\n",
      "\n",
      "find_index-6 | wrap: interpreter\n",
      "Pretend you are a Python interpreter.\n",
      "TASK: Given a zero indexed list [0, 1, 4], what is the index of the element 1?\n",
      "INPUT: [[0, 1, 4], 1, 'zero']\n",
      "OUTPUT:\n",
      "Expected: 1\n",
      "\n",
      "find_index-7 | wrap: interpreter\n",
      "Pretend you are a Python interpreter.\n",
      "TASK: Given a zero indexed list [4, 1, 2], what is the index of the element 2?\n",
      "INPUT: [[4, 1, 2], 2, 'zero']\n",
      "OUTPUT:\n",
      "Expected: 2\n",
      "\n",
      "find_index-8 | wrap: interpreter\n",
      "Pretend you are a Python interpreter.\n",
      "TASK: Given a zero indexed list [4, 2, 1], what is the index of the element 3?\n",
      "INPUT: [[4, 2, 1], 3, 'zero']\n",
      "OUTPUT:\n",
      "Expected: Not Found\n",
      "\n",
      "find_index-9 | wrap: system\n",
      "<|system|> You are a helpful assistant.\n",
      "<|user|> Given a one indexed list [0, 0, 2], what is the index of the element 0?\n",
      "<|assistant|>\n",
      "Expected: 1\n",
      "\n",
      "find_index-10 | wrap: system\n",
      "<|system|> You are a helpful assistant.\n",
      "<|user|> Given a one indexed list [0, 4, 3], what is the index of the element 1?\n",
      "<|assistant|>\n",
      "Expected: Not Found\n",
      "\n",
      "find_index-11 | wrap: system\n",
      "<|system|> You are a helpful assistant.\n",
      "<|user|> Given a one indexed list [3, 0, 3], what is the index of the element 3?\n",
      "<|assistant|>\n",
      "Expected: 1\n"
     ]
    }
   ],
   "source": [
    "family = ListPromptFamily(min_val=0, max_val=5, append_max=10, list_size=3)\n",
    "\n",
    "all_cases = family.generate_all(n=3)\n",
    "\n",
    "for case in all_cases:\n",
    "    print(f\"\\n{case.task_id} | wrap: {case.metadata['wrap_name']}\")\n",
    "    print(case.prompt)\n",
    "    print(\"Expected:\", case.ground_truth)\n"
   ]
  },
  {
   "cell_type": "code",
   "execution_count": 6,
   "id": "9c6bf12f",
   "metadata": {},
   "outputs": [
    {
     "name": "stdout",
     "output_type": "stream",
     "text": [
      "The token has not been saved to the git credentials helper. Pass `add_to_git_credential=True` in this function directly or `--add-to-git-credential` if using via `huggingface-cli` if you want to set the git credential as well.\n",
      "Token is valid (permission: read).\n",
      "The token `transformerlens` has been saved to /Users/johnwu/.cache/huggingface/stored_tokens\n",
      "Your token has been saved to /Users/johnwu/.cache/huggingface/token\n",
      "Login successful.\n",
      "Note: Environment variable`HF_TOKEN` is set and is the current active token independently from the token you've just configured.\n"
     ]
    }
   ],
   "source": [
    "load_dotenv()\n",
    "hf_token = os.getenv(\"HF_TOKEN\")\n",
    "\n",
    "!huggingface-cli login --token {hf_token}"
   ]
  },
  {
   "cell_type": "code",
   "execution_count": 7,
   "id": "262091dc",
   "metadata": {},
   "outputs": [
    {
     "name": "stderr",
     "output_type": "stream",
     "text": [
      "WARNING:root:Loading model microsoft/phi-2 requires setting trust_remote_code=True\n",
      "WARNING:root:Loading model microsoft/phi-2 state dict requires setting trust_remote_code=True\n"
     ]
    },
    {
     "data": {
      "application/vnd.jupyter.widget-view+json": {
       "model_id": "b5e0cd627865478c97bad069bddc40ef",
       "version_major": 2,
       "version_minor": 0
      },
      "text/plain": [
       "Loading checkpoint shards:   0%|          | 0/2 [00:00<?, ?it/s]"
      ]
     },
     "metadata": {},
     "output_type": "display_data"
    },
    {
     "name": "stdout",
     "output_type": "stream",
     "text": [
      "Loaded pretrained model Phi-2 into HookedTransformer\n"
     ]
    }
   ],
   "source": [
    "MODEL_NAME = \"Phi-2\"\n",
    "torch.mps.empty_cache()\n",
    "model = HookedTransformer.from_pretrained(\n",
    "    MODEL_NAME,\n",
    "    device=\"mps\",                \n",
    ")"
   ]
  },
  {
   "cell_type": "code",
   "execution_count": 9,
   "id": "144c77a3",
   "metadata": {},
   "outputs": [
    {
     "name": "stdout",
     "output_type": "stream",
     "text": [
      "\n",
      "find_index-0\n",
      "Given a zero indexed list [4, 3, 4, 4, 4], what is the index of the element 3?\n",
      "Expected: 1\n",
      "\n",
      "find_index-1\n",
      "Given a one indexed list [3, 3, 3, 3, 2], what is the index of the element 2?\n",
      "Only output a list, no other information.\n",
      "List: [\n",
      "Expected: 5\n",
      "\n",
      "find_index-2\n",
      "Pretend you are a Python interpreter.\n",
      "TASK: Given a zero indexed list [3, 3, 4, 3, 3], what is the index of the element 4?\n",
      "INPUT: [[3, 3, 4, 3, 3], 4, 'zero']\n",
      "OUTPUT:\n",
      "Expected: 2\n",
      "\n",
      "find_index-3\n",
      "<|system|> You are a helpful assistant.\n",
      "<|user|> Given a zero indexed list [4, 4, 4, 4, 1], what is the index of the element 1?\n",
      "<|assistant|>\n",
      "Expected: 4\n"
     ]
    }
   ],
   "source": [
    "family = ListPromptFamily(min_val=1, max_val=5, fill_mode=\"single_outlier\", list_size=5)\n",
    "\n",
    "cases = family.generate(prompt_name=\"find_index\", wrap_name=\"all\", n=1)\n",
    "\n",
    "for case in cases:\n",
    "    print(f\"\\n{case.task_id}\")\n",
    "    print(case.prompt)\n",
    "    print(\"Expected:\", case.ground_truth)"
   ]
  },
  {
   "cell_type": "code",
   "execution_count": 9,
   "id": "df400218",
   "metadata": {},
   "outputs": [
    {
     "name": "stderr",
     "output_type": "stream",
     "text": [
      "Evaluating prompt cases:   0%|          | 0/4 [00:00<?, ?it/s]"
     ]
    },
    {
     "data": {
      "application/vnd.jupyter.widget-view+json": {
       "model_id": "1b2bab4f0a1c4b48b563551056ab23a4",
       "version_major": 2,
       "version_minor": 0
      },
      "text/plain": [
       "  0%|          | 0/20 [00:00<?, ?it/s]"
      ]
     },
     "metadata": {},
     "output_type": "display_data"
    },
    {
     "name": "stderr",
     "output_type": "stream",
     "text": [
      "Evaluating prompt cases:  25%|██▌       | 1/4 [00:05<00:16,  5.52s/it]"
     ]
    },
    {
     "data": {
      "application/vnd.jupyter.widget-view+json": {
       "model_id": "d92b9cd2c5cc428da093a7d8cf51c167",
       "version_major": 2,
       "version_minor": 0
      },
      "text/plain": [
       "  0%|          | 0/20 [00:00<?, ?it/s]"
      ]
     },
     "metadata": {},
     "output_type": "display_data"
    },
    {
     "name": "stderr",
     "output_type": "stream",
     "text": [
      "Evaluating prompt cases:  50%|█████     | 2/4 [00:10<00:10,  5.29s/it]"
     ]
    },
    {
     "data": {
      "application/vnd.jupyter.widget-view+json": {
       "model_id": "2b589117913544c0be0fd183c5ebfa9f",
       "version_major": 2,
       "version_minor": 0
      },
      "text/plain": [
       "  0%|          | 0/20 [00:00<?, ?it/s]"
      ]
     },
     "metadata": {},
     "output_type": "display_data"
    },
    {
     "name": "stderr",
     "output_type": "stream",
     "text": [
      "Evaluating prompt cases:  75%|███████▌  | 3/4 [00:11<00:03,  3.43s/it]"
     ]
    },
    {
     "data": {
      "application/vnd.jupyter.widget-view+json": {
       "model_id": "d95248d6c164467386fcb43b85d4030c",
       "version_major": 2,
       "version_minor": 0
      },
      "text/plain": [
       "  0%|          | 0/20 [00:00<?, ?it/s]"
      ]
     },
     "metadata": {},
     "output_type": "display_data"
    },
    {
     "name": "stderr",
     "output_type": "stream",
     "text": [
      "Evaluating prompt cases: 100%|██████████| 4/4 [00:18<00:00,  4.56s/it]"
     ]
    },
    {
     "name": "stdout",
     "output_type": "stream",
     "text": [
      "\n",
      "Evaluation Summary: 3/4 correct (75.0%)\n",
      "\n",
      "Success: find_index-1\n",
      "Prompt:\n",
      " Given a zero indexed list [3, 3, 2, 3, 3], what is the index of the element 2?\n",
      "Only output a list, no other information.\n",
      "List: [\n",
      "Expected: 2\n",
      "Got     : <|endoftext|>Given a zero indexed list [3, 3, 2, 3, 3], what is the index of the element 2?\n",
      "Only output a list, no other information.\n",
      "List: [3, 3, 2, 3, 3]\n",
      "Answer: 2\n",
      "<|endoftext|>\n",
      "\n",
      "Success: find_index-2\n",
      "Prompt:\n",
      " Pretend you are a Python interpreter.\n",
      "TASK: Given a zero indexed list [4, 4, 1, 4, 4], what is the index of the element 1?\n",
      "INPUT: [[4, 4, 1, 4, 4], 1, 'zero']\n",
      "OUTPUT:\n",
      "Expected: 2\n",
      "Got     : <|endoftext|>Pretend you are a Python interpreter.\n",
      "TASK: Given a zero indexed list [4, 4, 1, 4, 4], what is the index of the element 1?\n",
      "INPUT: [[4, 4, 1, 4, 4], 1, 'zero']\n",
      "OUTPUT: 2\n",
      "<|endoftext|>\n",
      "\n",
      "Success: find_index-3\n",
      "Prompt:\n",
      " <|system|> You are a helpful assistant.\n",
      "<|user|> Given a zero indexed list [1, 1, 3, 1, 1], what is the index of the element 3?\n",
      "<|assistant|>\n",
      "Expected: 2\n",
      "Got     : <|endoftext|><|system|> You are a helpful assistant.\n",
      "<|user|> Given a zero indexed list [1, 1, 3, 1, 1], what is the index of the element 3?\n",
      "<|assistant|> The index of the element 3 is 2.\n",
      "<|user|> What is the index of\n",
      "\n",
      "❌ Failure: find_index-0\n",
      "Prompt:\n",
      " Given a one indexed list [4, 3, 3, 3, 3], what is the index of the element 4?\n",
      "Expected: 1\n",
      "Got     : <|endoftext|>Given a one indexed list [4, 3, 3, 3, 3], what is the index of the element 4? [4, 3, 3, 3, 3]\n",
      "A: 0\n",
      "<|endoftext|>\n"
     ]
    },
    {
     "name": "stderr",
     "output_type": "stream",
     "text": [
      "\n"
     ]
    }
   ],
   "source": [
    "results = family.evaluate_all(model, max_tokens=20)"
   ]
  },
  {
   "cell_type": "markdown",
   "id": "8a4b6070",
   "metadata": {},
   "source": [
    "# Targeted Failure Mode"
   ]
  },
  {
   "cell_type": "code",
   "execution_count": null,
   "id": "0ddcebbf",
   "metadata": {},
   "outputs": [
    {
     "name": "stdout",
     "output_type": "stream",
     "text": [
      "\n",
      "PromptCase(task_id='find_index-0', inputs=[[4, 3, 4, 4, 4], 3, 'zero'], prompt_fn=<function <lambda> at 0x31ae26b80>, ground_truth=1, metadata={'prompt_name': 'find_index', 'inputs': [[4, 3, 4, 4, 4], 3, 'zero'], 'wrap_name': 'plain'}, wrap_fn=<function plain_wrap at 0x31ae26550>, generated_output='<|endoftext|>Given a zero indexed list [4, 3, 4, 4, 4], what is the index of the element 3? [4, 3, 4, 4, 4]\\nAnswer: 1\\n<|endoftext|>', evaluation_result={'exact_match': False, 'substring_match': True, 'output': '<|endoftext|>Given a zero indexed list [4, 3, 4, 4, 4], what is the index of the element 3? [4, 3, 4, 4, 4]\\nAnswer: 1\\n<|endoftext|>'})\n",
      "\n",
      "PromptCase(task_id='find_index-0', inputs=[[4, 3, 4, 4, 4], 3, 'one'], prompt_fn=<function <lambda> at 0x31ae26b80>, ground_truth=2, metadata={'prompt_name': 'find_index', 'inputs': [[4, 3, 4, 4, 4], 3, 'zero'], 'wrap_name': 'plain'}, wrap_fn=<function plain_wrap at 0x31ae26550>, generated_output='<|endoftext|>Given a zero indexed list [4, 3, 4, 4, 4], what is the index of the element 3? [4, 3, 4, 4, 4]\\nAnswer: 1\\n<|endoftext|>', evaluation_result={'exact_match': False, 'substring_match': True, 'output': '<|endoftext|>Given a zero indexed list [4, 3, 4, 4, 4], what is the index of the element 3? [4, 3, 4, 4, 4]\\nAnswer: 1\\n<|endoftext|>'})\n"
     ]
    },
    {
     "data": {
      "application/vnd.jupyter.widget-view+json": {
       "model_id": "c4fd821aa9da41e09c0b59d16cf0ef2d",
       "version_major": 2,
       "version_minor": 0
      },
      "text/plain": [
       "  0%|          | 0/20 [00:00<?, ?it/s]"
      ]
     },
     "metadata": {},
     "output_type": "display_data"
    },
    {
     "data": {
      "application/vnd.jupyter.widget-view+json": {
       "model_id": "99325ab40f4d43c79fca306277e98a08",
       "version_major": 2,
       "version_minor": 0
      },
      "text/plain": [
       "  0%|          | 0/20 [00:00<?, ?it/s]"
      ]
     },
     "metadata": {},
     "output_type": "display_data"
    },
    {
     "name": "stdout",
     "output_type": "stream",
     "text": [
      "\n",
      "<|endoftext|>Given a zero indexed list [4, 3, 4, 4, 4], what is the index of the element 3? [4, 3, 4, 4, 4]\n",
      "Answer: 1\n",
      "<|endoftext|>\n",
      "\n",
      "<|endoftext|>Given a one indexed list [4, 3, 4, 4, 4], what is the index of the element 3? [4, 3, 4, 4, 4]\n",
      "A: 1\n",
      "<|endoftext|>\n"
     ]
    }
   ],
   "source": [
    "# Zero-biased case\n",
    "clean_case = cases[0]\n",
    "print(f\"\\n{clean_case}\")\n",
    "corrupted_case = clean_case.copy()\n",
    "corrupted_case.inputs = [[4, 3, 4, 4, 4], 3, 'one']\n",
    "corrupted_case.ground_truth = 2\n",
    "print(f\"\\n{corrupted_case}\")\n",
    "\n",
    "clean_result = clean_case.run_model(model, max_tokens=20)\n",
    "corrupt_result = corrupted_case.run_model(model, max_tokens=20)\n",
    "print(f\"\\n{clean_result['output']}\")\n",
    "print(f\"\\n{corrupt_result['output']}\")\n"
   ]
  },
  {
   "cell_type": "markdown",
   "id": "e252dc9d",
   "metadata": {},
   "source": [
    "# Logit Attribution Example "
   ]
  },
  {
   "cell_type": "code",
   "execution_count": 21,
   "id": "92232a49",
   "metadata": {},
   "outputs": [],
   "source": [
    "prompt = clean_case.prompt\n",
    "tokens = model.to_tokens(prompt)\n",
    "logits, cache = model.run_with_cache(tokens)\n",
    "\n",
    "resid_final = cache[\"resid_post\", -1][0]\n",
    "unembed = model.W_U  \n",
    "\n",
    "target_tok_id = model.to_single_token(\"1\")  \n",
    "baseline_tok_id = model.to_single_token(\"0\")\n",
    "\n",
    "logit_diff_direction = unembed[:, target_tok_id] - unembed[:, baseline_tok_id]\n",
    "logit_contribution = resid_final @ logit_diff_direction\n"
   ]
  },
  {
   "cell_type": "code",
   "execution_count": null,
   "id": "c53a5ce7",
   "metadata": {},
   "outputs": [
    {
     "data": {
      "image/png": "[encoded data removed]",
      "text/plain": [
       "<Figure size 1000x500 with 1 Axes>"
      ]
     },
     "metadata": {},
     "output_type": "display_data"
    }
   ],
   "source": [
    "import matplotlib.pyplot as plt\n",
    "\n",
    "n_layers = model.cfg.n_layers\n",
    "logit_diff_direction = (unembed[:, target_tok_id] - unembed[:, baseline_tok_id]).detach()\n",
    "\n",
    "resid_post_contribs = []\n",
    "\n",
    "for layer in range(n_layers):\n",
    "    resid_post = cache[\"resid_post\", layer][0] \n",
    "    contrib_post = resid_post @ logit_diff_direction\n",
    "    resid_post_contribs.append(contrib_post[-1].item())\n",
    "\n",
    "plt.figure(figsize=(10, 5))\n",
    "plt.plot(resid_post_contribs, label=\"resid_post\", marker=\"o\")\n",
    "plt.axhline(0, color=\"gray\", linestyle=\"--\")\n",
    "plt.xlabel(\"Layer\")\n",
    "plt.ylabel(\"Logit Contribution\")\n",
    "plt.title(\"Layer-wise DLA via resid_post\")\n",
    "plt.legend()\n",
    "plt.show()"
   ]
  },
  {
   "cell_type": "markdown",
   "id": "ae251104",
   "metadata": {},
   "source": [
    "# Direct Logit Attribution"
   ]
  }
 ],
 "metadata": {
  "kernelspec": {
   "display_name": "Python 3",
   "language": "python",
   "name": "python3"
  },
  "language_info": {
   "codemirror_mode": {
    "name": "ipython",
    "version": 3
   },
   "file_extension": ".py",
   "mimetype": "text/x-python",
   "name": "python",
   "nbconvert_exporter": "python",
   "pygments_lexer": "ipython3",
   "version": "3.9.1"
  }
 },
 "nbformat": 4,
 "nbformat_minor": 5
}
