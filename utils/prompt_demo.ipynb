{
 "cells": [
  {
   "cell_type": "code",
   "execution_count": 1,
   "id": "64a8aa0b",
   "metadata": {},
   "outputs": [
    {
     "name": "stderr",
     "output_type": "stream",
     "text": [
      "/Users/johnwu/.pyenv/versions/3.9.1/lib/python3.9/site-packages/torch/onnx/_internal/_beartype.py:36: UserWarning: unhashable type: 'list'\n",
      "  warnings.warn(f\"{e}\")\n"
     ]
    }
   ],
   "source": [
    "import sys\n",
    "import os\n",
    "\n",
    "project_root = os.path.abspath(os.path.join(os.getcwd(), \"..\"))\n",
    "if project_root not in sys.path:\n",
    "    sys.path.insert(0, project_root)\n",
    "    \n",
    "from list_prompt_family import ListPromptFamily\n",
    "from prompt_registry import PROMPT_REGISTRY, ALL_PROMPTS\n",
    "from wrap_registry import WRAP_REGISTRY\n",
    "import numpy as np\n",
    "import torch\n",
    "from dotenv import load_dotenv\n",
    "import os\n",
    "from transformer_lens import HookedTransformer\n"
   ]
  },
  {
   "cell_type": "code",
   "execution_count": 2,
   "id": "6c85fa26",
   "metadata": {},
   "outputs": [
    {
     "name": "stdout",
     "output_type": "stream",
     "text": [
      "Available Prompts:\n",
      "- print\n",
      "- append\n",
      "- add_all\n",
      "- insert_middle\n",
      "- swap_indices\n",
      "- find_index\n",
      "\n",
      "Available Wrap Styles:\n",
      "- plain\n",
      "- list\n",
      "- interpreter\n",
      "- system\n",
      "- answer\n"
     ]
    }
   ],
   "source": [
    "print(\"Available Prompts:\")\n",
    "for name in PROMPT_REGISTRY[\"list\"]:\n",
    "    print(\"-\", name)\n",
    "\n",
    "print(\"\\nAvailable Wrap Styles:\")\n",
    "for name in WRAP_REGISTRY:\n",
    "    print(\"-\", name)\n"
   ]
  },
  {
   "cell_type": "code",
   "execution_count": 3,
   "id": "e03a0488",
   "metadata": {},
   "outputs": [
    {
     "name": "stdout",
     "output_type": "stream",
     "text": [
      "Prompt (raw):\n",
      " Append 4 to the end of this list [1, 2, 3]\n",
      "Ground truth: [1, 2, 3, 4]\n",
      "Wrapped Prompt:\n",
      " Pretend you are a Python interpreter.\n",
      "TASK: Append 4 to the end of this list [1, 2, 3]\n",
      "INPUT: [[1, 2, 3], 4]\n",
      "OUTPUT:\n"
     ]
    }
   ],
   "source": [
    "# Example Prompt \n",
    "prompt = PROMPT_REGISTRY[\"list\"][\"append\"]\n",
    "case = prompt.create_case(inputs=[[1, 2, 3], 4])\n",
    "\n",
    "print(\"Prompt (raw):\\n\", case.prompt)\n",
    "print(\"Ground truth:\", case.ground_truth)\n",
    "\n",
    "wrap_fn = WRAP_REGISTRY[\"interpreter\"]\n",
    "wrapped_prompt = wrap_fn(prompt.prompt_fn(case.inputs), case.inputs)\n",
    "print(\"Wrapped Prompt:\\n\", wrapped_prompt)"
   ]
  },
  {
   "cell_type": "code",
   "execution_count": 4,
   "id": "a9156a97",
   "metadata": {},
   "outputs": [
    {
     "name": "stdout",
     "output_type": "stream",
     "text": [
      "\n",
      "Prompt:\n",
      "Append 7 to the end of this list [1, 2, 3]\n",
      "Expected: [1, 2, 3, 7]\n",
      "\n",
      "Prompt:\n",
      "Append 9 to the end of this list [1, 2, 3]\n",
      "Expected: [1, 2, 3, 9]\n",
      "\n",
      "Prompt:\n",
      "Append 5 to the end of this list [1, 2, 3]\n",
      "Expected: [1, 2, 3, 5]\n"
     ]
    }
   ],
   "source": [
    "# Generating multiple prompts\n",
    "prompt.random_input_fn = lambda: [[1, 2, 3], np.random.randint(5, 10)]\n",
    "cases = prompt.create_cases(n=3)\n",
    "\n",
    "for c in cases:\n",
    "    print(\"\\nPrompt:\")\n",
    "    print(c.prompt)\n",
    "    print(\"Expected:\", c.ground_truth)\n"
   ]
  },
  {
   "cell_type": "code",
   "execution_count": 5,
   "id": "a9271db1",
   "metadata": {},
   "outputs": [
    {
     "name": "stdout",
     "output_type": "stream",
     "text": [
      "\n",
      "print-0 | wrap: plain\n",
      "Print out this list of numbers: [2, 3, 1].\n",
      "Expected: [2, 3, 1]\n",
      "\n",
      "print-1 | wrap: plain\n",
      "Print out this list of numbers: [3, 3, 1].\n",
      "Expected: [3, 3, 1]\n",
      "\n",
      "print-2 | wrap: plain\n",
      "Print out this list of numbers: [4, 3, 1].\n",
      "Expected: [4, 3, 1]\n",
      "\n",
      "print-3 | wrap: list\n",
      "Print out this list of numbers: [3, 0, 4].\n",
      "Only output a list, no other information.\n",
      "List: [\n",
      "Expected: [3, 0, 4]\n",
      "\n",
      "print-4 | wrap: list\n",
      "Print out this list of numbers: [2, 4, 2].\n",
      "Only output a list, no other information.\n",
      "List: [\n",
      "Expected: [2, 4, 2]\n",
      "\n",
      "print-5 | wrap: list\n",
      "Print out this list of numbers: [0, 1, 2].\n",
      "Only output a list, no other information.\n",
      "List: [\n",
      "Expected: [0, 1, 2]\n",
      "\n",
      "print-6 | wrap: interpreter\n",
      "Pretend you are a Python interpreter.\n",
      "TASK: Print out this list of numbers: [0, 2, 1].\n",
      "INPUT: [[0, 2, 1]]\n",
      "OUTPUT:\n",
      "Expected: [0, 2, 1]\n",
      "\n",
      "print-7 | wrap: interpreter\n",
      "Pretend you are a Python interpreter.\n",
      "TASK: Print out this list of numbers: [2, 4, 4].\n",
      "INPUT: [[2, 4, 4]]\n",
      "OUTPUT:\n",
      "Expected: [2, 4, 4]\n",
      "\n",
      "print-8 | wrap: interpreter\n",
      "Pretend you are a Python interpreter.\n",
      "TASK: Print out this list of numbers: [3, 4, 1].\n",
      "INPUT: [[3, 4, 1]]\n",
      "OUTPUT:\n",
      "Expected: [3, 4, 1]\n",
      "\n",
      "print-9 | wrap: system\n",
      "<|system|> You are a helpful assistant.\n",
      "<|user|> Print out this list of numbers: [0, 2, 4].\n",
      "<|assistant|>\n",
      "Expected: [0, 2, 4]\n",
      "\n",
      "print-10 | wrap: system\n",
      "<|system|> You are a helpful assistant.\n",
      "<|user|> Print out this list of numbers: [1, 1, 1].\n",
      "<|assistant|>\n",
      "Expected: [1, 1, 1]\n",
      "\n",
      "print-11 | wrap: system\n",
      "<|system|> You are a helpful assistant.\n",
      "<|user|> Print out this list of numbers: [0, 0, 2].\n",
      "<|assistant|>\n",
      "Expected: [0, 0, 2]\n",
      "\n",
      "print-12 | wrap: answer\n",
      "Print out this list of numbers: [4, 4, 4].\n",
      "Only output the answer, no other information.\\ ANSWER: \n",
      "Expected: [4, 4, 4]\n",
      "\n",
      "print-13 | wrap: answer\n",
      "Print out this list of numbers: [3, 4, 3].\n",
      "Only output the answer, no other information.\\ ANSWER: \n",
      "Expected: [3, 4, 3]\n",
      "\n",
      "print-14 | wrap: answer\n",
      "Print out this list of numbers: [0, 2, 4].\n",
      "Only output the answer, no other information.\\ ANSWER: \n",
      "Expected: [0, 2, 4]\n",
      "\n",
      "append-0 | wrap: plain\n",
      "Append 3 to the end of this list [4, 4, 1]\n",
      "Expected: [4, 4, 1, 3]\n",
      "\n",
      "append-1 | wrap: plain\n",
      "Append 7 to the end of this list [0, 0, 1]\n",
      "Expected: [0, 0, 1, 7]\n",
      "\n",
      "append-2 | wrap: plain\n",
      "Append 7 to the end of this list [1, 1, 0]\n",
      "Expected: [1, 1, 0, 7]\n",
      "\n",
      "append-3 | wrap: list\n",
      "Append 0 to the end of this list [2, 3, 4]\n",
      "Only output a list, no other information.\n",
      "List: [\n",
      "Expected: [2, 3, 4, 0]\n",
      "\n",
      "append-4 | wrap: list\n",
      "Append 0 to the end of this list [1, 1, 0]\n",
      "Only output a list, no other information.\n",
      "List: [\n",
      "Expected: [1, 1, 0, 0]\n",
      "\n",
      "append-5 | wrap: list\n",
      "Append 7 to the end of this list [3, 1, 1]\n",
      "Only output a list, no other information.\n",
      "List: [\n",
      "Expected: [3, 1, 1, 7]\n",
      "\n",
      "append-6 | wrap: interpreter\n",
      "Pretend you are a Python interpreter.\n",
      "TASK: Append 8 to the end of this list [3, 2, 4]\n",
      "INPUT: [[3, 2, 4], 8]\n",
      "OUTPUT:\n",
      "Expected: [3, 2, 4, 8]\n",
      "\n",
      "append-7 | wrap: interpreter\n",
      "Pretend you are a Python interpreter.\n",
      "TASK: Append 4 to the end of this list [4, 3, 0]\n",
      "INPUT: [[4, 3, 0], 4]\n",
      "OUTPUT:\n",
      "Expected: [4, 3, 0, 4]\n",
      "\n",
      "append-8 | wrap: interpreter\n",
      "Pretend you are a Python interpreter.\n",
      "TASK: Append 9 to the end of this list [0, 0, 4]\n",
      "INPUT: [[0, 0, 4], 9]\n",
      "OUTPUT:\n",
      "Expected: [0, 0, 4, 9]\n",
      "\n",
      "append-9 | wrap: system\n",
      "<|system|> You are a helpful assistant.\n",
      "<|user|> Append 4 to the end of this list [4, 4, 0]\n",
      "<|assistant|>\n",
      "Expected: [4, 4, 0, 4]\n",
      "\n",
      "append-10 | wrap: system\n",
      "<|system|> You are a helpful assistant.\n",
      "<|user|> Append 8 to the end of this list [4, 3, 4]\n",
      "<|assistant|>\n",
      "Expected: [4, 3, 4, 8]\n",
      "\n",
      "append-11 | wrap: system\n",
      "<|system|> You are a helpful assistant.\n",
      "<|user|> Append 9 to the end of this list [1, 2, 1]\n",
      "<|assistant|>\n",
      "Expected: [1, 2, 1, 9]\n",
      "\n",
      "append-12 | wrap: answer\n",
      "Append 7 to the end of this list [4, 3, 1]\n",
      "Only output the answer, no other information.\\ ANSWER: \n",
      "Expected: [4, 3, 1, 7]\n",
      "\n",
      "append-13 | wrap: answer\n",
      "Append 0 to the end of this list [2, 1, 1]\n",
      "Only output the answer, no other information.\\ ANSWER: \n",
      "Expected: [2, 1, 1, 0]\n",
      "\n",
      "append-14 | wrap: answer\n",
      "Append 6 to the end of this list [3, 3, 4]\n",
      "Only output the answer, no other information.\\ ANSWER: \n",
      "Expected: [3, 3, 4, 6]\n",
      "\n",
      "add_all-0 | wrap: plain\n",
      "Add 2 to every element in this list: [1, 3, 4]\n",
      "Expected: [3, 5, 6]\n",
      "\n",
      "add_all-1 | wrap: plain\n",
      "Add 9 to every element in this list: [0, 0, 0]\n",
      "Expected: [9, 9, 9]\n",
      "\n",
      "add_all-2 | wrap: plain\n",
      "Add 9 to every element in this list: [4, 3, 0]\n",
      "Expected: [13, 12, 9]\n",
      "\n",
      "add_all-3 | wrap: list\n",
      "Add 2 to every element in this list: [4, 4, 0]\n",
      "Only output a list, no other information.\n",
      "List: [\n",
      "Expected: [6, 6, 2]\n",
      "\n",
      "add_all-4 | wrap: list\n",
      "Add 4 to every element in this list: [3, 1, 4]\n",
      "Only output a list, no other information.\n",
      "List: [\n",
      "Expected: [7, 5, 8]\n",
      "\n",
      "add_all-5 | wrap: list\n",
      "Add 5 to every element in this list: [3, 3, 4]\n",
      "Only output a list, no other information.\n",
      "List: [\n",
      "Expected: [8, 8, 9]\n",
      "\n",
      "add_all-6 | wrap: interpreter\n",
      "Pretend you are a Python interpreter.\n",
      "TASK: Add 4 to every element in this list: [4, 3, 2]\n",
      "INPUT: [[4, 3, 2], 4]\n",
      "OUTPUT:\n",
      "Expected: [8, 7, 6]\n",
      "\n",
      "add_all-7 | wrap: interpreter\n",
      "Pretend you are a Python interpreter.\n",
      "TASK: Add 1 to every element in this list: [4, 0, 4]\n",
      "INPUT: [[4, 0, 4], 1]\n",
      "OUTPUT:\n",
      "Expected: [5, 1, 5]\n",
      "\n",
      "add_all-8 | wrap: interpreter\n",
      "Pretend you are a Python interpreter.\n",
      "TASK: Add 0 to every element in this list: [3, 0, 0]\n",
      "INPUT: [[3, 0, 0], 0]\n",
      "OUTPUT:\n",
      "Expected: [3, 0, 0]\n",
      "\n",
      "add_all-9 | wrap: system\n",
      "<|system|> You are a helpful assistant.\n",
      "<|user|> Add 1 to every element in this list: [3, 4, 3]\n",
      "<|assistant|>\n",
      "Expected: [4, 5, 4]\n",
      "\n",
      "add_all-10 | wrap: system\n",
      "<|system|> You are a helpful assistant.\n",
      "<|user|> Add 1 to every element in this list: [2, 1, 1]\n",
      "<|assistant|>\n",
      "Expected: [3, 2, 2]\n",
      "\n",
      "add_all-11 | wrap: system\n",
      "<|system|> You are a helpful assistant.\n",
      "<|user|> Add 7 to every element in this list: [3, 1, 3]\n",
      "<|assistant|>\n",
      "Expected: [10, 8, 10]\n",
      "\n",
      "add_all-12 | wrap: answer\n",
      "Add 1 to every element in this list: [1, 4, 3]\n",
      "Only output the answer, no other information.\\ ANSWER: \n",
      "Expected: [2, 5, 4]\n",
      "\n",
      "add_all-13 | wrap: answer\n",
      "Add 4 to every element in this list: [1, 3, 1]\n",
      "Only output the answer, no other information.\\ ANSWER: \n",
      "Expected: [5, 7, 5]\n",
      "\n",
      "add_all-14 | wrap: answer\n",
      "Add 0 to every element in this list: [1, 4, 1]\n",
      "Only output the answer, no other information.\\ ANSWER: \n",
      "Expected: [1, 4, 1]\n",
      "\n",
      "insert_middle-0 | wrap: plain\n",
      "Insert 5 between the third and fourth element in this list: [4, 3, 4]\n",
      "Expected: [4, 3, 4, 5]\n",
      "\n",
      "insert_middle-1 | wrap: plain\n",
      "Insert 9 between the third and fourth element in this list: [1, 4, 0]\n",
      "Expected: [1, 4, 0, 9]\n",
      "\n",
      "insert_middle-2 | wrap: plain\n",
      "Insert 8 between the third and fourth element in this list: [4, 4, 3]\n",
      "Expected: [4, 4, 3, 8]\n",
      "\n",
      "insert_middle-3 | wrap: list\n",
      "Insert 9 between the third and fourth element in this list: [1, 1, 3]\n",
      "Only output a list, no other information.\n",
      "List: [\n",
      "Expected: [1, 1, 3, 9]\n",
      "\n",
      "insert_middle-4 | wrap: list\n",
      "Insert 8 between the third and fourth element in this list: [3, 2, 3]\n",
      "Only output a list, no other information.\n",
      "List: [\n",
      "Expected: [3, 2, 3, 8]\n",
      "\n",
      "insert_middle-5 | wrap: list\n",
      "Insert 1 between the third and fourth element in this list: [2, 3, 3]\n",
      "Only output a list, no other information.\n",
      "List: [\n",
      "Expected: [2, 3, 3, 1]\n",
      "\n",
      "insert_middle-6 | wrap: interpreter\n",
      "Pretend you are a Python interpreter.\n",
      "TASK: Insert 0 between the third and fourth element in this list: [3, 0, 1]\n",
      "INPUT: [[3, 0, 1], 0]\n",
      "OUTPUT:\n",
      "Expected: [3, 0, 1, 0]\n",
      "\n",
      "insert_middle-7 | wrap: interpreter\n",
      "Pretend you are a Python interpreter.\n",
      "TASK: Insert 6 between the third and fourth element in this list: [4, 4, 1]\n",
      "INPUT: [[4, 4, 1], 6]\n",
      "OUTPUT:\n",
      "Expected: [4, 4, 1, 6]\n",
      "\n",
      "insert_middle-8 | wrap: interpreter\n",
      "Pretend you are a Python interpreter.\n",
      "TASK: Insert 7 between the third and fourth element in this list: [1, 1, 3]\n",
      "INPUT: [[1, 1, 3], 7]\n",
      "OUTPUT:\n",
      "Expected: [1, 1, 3, 7]\n",
      "\n",
      "insert_middle-9 | wrap: system\n",
      "<|system|> You are a helpful assistant.\n",
      "<|user|> Insert 0 between the third and fourth element in this list: [4, 0, 0]\n",
      "<|assistant|>\n",
      "Expected: [4, 0, 0, 0]\n",
      "\n",
      "insert_middle-10 | wrap: system\n",
      "<|system|> You are a helpful assistant.\n",
      "<|user|> Insert 9 between the third and fourth element in this list: [0, 0, 3]\n",
      "<|assistant|>\n",
      "Expected: [0, 0, 3, 9]\n",
      "\n",
      "insert_middle-11 | wrap: system\n",
      "<|system|> You are a helpful assistant.\n",
      "<|user|> Insert 0 between the third and fourth element in this list: [2, 0, 2]\n",
      "<|assistant|>\n",
      "Expected: [2, 0, 2, 0]\n",
      "\n",
      "insert_middle-12 | wrap: answer\n",
      "Insert 7 between the third and fourth element in this list: [0, 2, 1]\n",
      "Only output the answer, no other information.\\ ANSWER: \n",
      "Expected: [0, 2, 1, 7]\n",
      "\n",
      "insert_middle-13 | wrap: answer\n",
      "Insert 6 between the third and fourth element in this list: [2, 4, 4]\n",
      "Only output the answer, no other information.\\ ANSWER: \n",
      "Expected: [2, 4, 4, 6]\n",
      "\n",
      "insert_middle-14 | wrap: answer\n",
      "Insert 0 between the third and fourth element in this list: [0, 3, 1]\n",
      "Only output the answer, no other information.\\ ANSWER: \n",
      "Expected: [0, 3, 1, 0]\n",
      "\n",
      "swap_indices-0 | wrap: plain\n",
      "Given a zero indexed list, [3, 0, 3], what would the list be if you swapped the elements at position 0 and 2?\n",
      "Expected: [3, 0, 3]\n",
      "\n",
      "swap_indices-1 | wrap: plain\n",
      "Given a one indexed list, [0, 4, 3], what would the list be if you swapped the elements at position 2 and 3?\n",
      "Expected: [0, 3, 4]\n",
      "\n",
      "swap_indices-2 | wrap: plain\n",
      "Given a zero indexed list, [3, 2, 3], what would the list be if you swapped the elements at position 1 and 2?\n",
      "Expected: [3, 3, 2]\n",
      "\n",
      "swap_indices-3 | wrap: list\n",
      "Given a zero indexed list, [2, 0, 2], what would the list be if you swapped the elements at position 1 and 2?\n",
      "Only output a list, no other information.\n",
      "List: [\n",
      "Expected: [2, 2, 0]\n",
      "\n",
      "swap_indices-4 | wrap: list\n",
      "Given a one indexed list, [3, 0, 1], what would the list be if you swapped the elements at position 1 and 1?\n",
      "Only output a list, no other information.\n",
      "List: [\n",
      "Expected: [3, 0, 1]\n",
      "\n",
      "swap_indices-5 | wrap: list\n",
      "Given a zero indexed list, [0, 1, 0], what would the list be if you swapped the elements at position 2 and 1?\n",
      "Only output a list, no other information.\n",
      "List: [\n",
      "Expected: [0, 0, 1]\n",
      "\n",
      "swap_indices-6 | wrap: interpreter\n",
      "Pretend you are a Python interpreter.\n",
      "TASK: Given a zero indexed list, [2, 2, 1], what would the list be if you swapped the elements at position 0 and 0?\n",
      "INPUT: [[2, 2, 1], 0, 0, 'zero']\n",
      "OUTPUT:\n",
      "Expected: [2, 2, 1]\n",
      "\n",
      "swap_indices-7 | wrap: interpreter\n",
      "Pretend you are a Python interpreter.\n",
      "TASK: Given a zero indexed list, [2, 1, 3], what would the list be if you swapped the elements at position 1 and 0?\n",
      "INPUT: [[2, 1, 3], 1, 0, 'zero']\n",
      "OUTPUT:\n",
      "Expected: [1, 2, 3]\n",
      "\n",
      "swap_indices-8 | wrap: interpreter\n",
      "Pretend you are a Python interpreter.\n",
      "TASK: Given a zero indexed list, [3, 2, 3], what would the list be if you swapped the elements at position 2 and 1?\n",
      "INPUT: [[3, 2, 3], 2, 1, 'zero']\n",
      "OUTPUT:\n",
      "Expected: [3, 3, 2]\n",
      "\n",
      "swap_indices-9 | wrap: system\n",
      "<|system|> You are a helpful assistant.\n",
      "<|user|> Given a one indexed list, [1, 0, 3], what would the list be if you swapped the elements at position 1 and 2?\n",
      "<|assistant|>\n",
      "Expected: [0, 1, 3]\n",
      "\n",
      "swap_indices-10 | wrap: system\n",
      "<|system|> You are a helpful assistant.\n",
      "<|user|> Given a one indexed list, [3, 0, 0], what would the list be if you swapped the elements at position 2 and 2?\n",
      "<|assistant|>\n",
      "Expected: [3, 0, 0]\n",
      "\n",
      "swap_indices-11 | wrap: system\n",
      "<|system|> You are a helpful assistant.\n",
      "<|user|> Given a zero indexed list, [3, 3, 3], what would the list be if you swapped the elements at position 2 and 1?\n",
      "<|assistant|>\n",
      "Expected: [3, 3, 3]\n",
      "\n",
      "swap_indices-12 | wrap: answer\n",
      "Given a zero indexed list, [0, 4, 2], what would the list be if you swapped the elements at position 2 and 1?\n",
      "Only output the answer, no other information.\\ ANSWER: \n",
      "Expected: [0, 2, 4]\n",
      "\n",
      "swap_indices-13 | wrap: answer\n",
      "Given a one indexed list, [4, 4, 0], what would the list be if you swapped the elements at position 2 and 2?\n",
      "Only output the answer, no other information.\\ ANSWER: \n",
      "Expected: [4, 4, 0]\n",
      "\n",
      "swap_indices-14 | wrap: answer\n",
      "Given a one indexed list, [4, 0, 4], what would the list be if you swapped the elements at position 1 and 3?\n",
      "Only output the answer, no other information.\\ ANSWER: \n",
      "Expected: [4, 0, 4]\n",
      "\n",
      "find_index-0 | wrap: plain\n",
      "Given a zero indexed list [1, 0, 1], what is the index of the element 0?\n",
      "Expected: 1\n",
      "\n",
      "find_index-1 | wrap: plain\n",
      "Given a zero indexed list [1, 1, 2], what is the index of the element 2?\n",
      "Expected: 2\n",
      "\n",
      "find_index-2 | wrap: plain\n",
      "Given a one indexed list [0, 0, 0], what is the index of the element 0?\n",
      "Expected: 1\n",
      "\n",
      "find_index-3 | wrap: list\n",
      "Given a one indexed list [1, 1, 2], what is the index of the element 0?\n",
      "Only output a list, no other information.\n",
      "List: [\n",
      "Expected: Not Found\n",
      "\n",
      "find_index-4 | wrap: list\n",
      "Given a one indexed list [2, 0, 2], what is the index of the element 2?\n",
      "Only output a list, no other information.\n",
      "List: [\n",
      "Expected: 1\n",
      "\n",
      "find_index-5 | wrap: list\n",
      "Given a zero indexed list [3, 4, 2], what is the index of the element 2?\n",
      "Only output a list, no other information.\n",
      "List: [\n",
      "Expected: 2\n",
      "\n",
      "find_index-6 | wrap: interpreter\n",
      "Pretend you are a Python interpreter.\n",
      "TASK: Given a zero indexed list [0, 4, 4], what is the index of the element 2?\n",
      "INPUT: [[0, 4, 4], 2, 'zero']\n",
      "OUTPUT:\n",
      "Expected: Not Found\n",
      "\n",
      "find_index-7 | wrap: interpreter\n",
      "Pretend you are a Python interpreter.\n",
      "TASK: Given a zero indexed list [4, 2, 4], what is the index of the element 4?\n",
      "INPUT: [[4, 2, 4], 4, 'zero']\n",
      "OUTPUT:\n",
      "Expected: 0\n",
      "\n",
      "find_index-8 | wrap: interpreter\n",
      "Pretend you are a Python interpreter.\n",
      "TASK: Given a one indexed list [2, 3, 1], what is the index of the element 2?\n",
      "INPUT: [[2, 3, 1], 2, 'one']\n",
      "OUTPUT:\n",
      "Expected: 1\n",
      "\n",
      "find_index-9 | wrap: system\n",
      "<|system|> You are a helpful assistant.\n",
      "<|user|> Given a zero indexed list [4, 4, 3], what is the index of the element 4?\n",
      "<|assistant|>\n",
      "Expected: 0\n",
      "\n",
      "find_index-10 | wrap: system\n",
      "<|system|> You are a helpful assistant.\n",
      "<|user|> Given a one indexed list [4, 1, 1], what is the index of the element 4?\n",
      "<|assistant|>\n",
      "Expected: 1\n",
      "\n",
      "find_index-11 | wrap: system\n",
      "<|system|> You are a helpful assistant.\n",
      "<|user|> Given a zero indexed list [1, 0, 0], what is the index of the element 1?\n",
      "<|assistant|>\n",
      "Expected: 0\n",
      "\n",
      "find_index-12 | wrap: answer\n",
      "Given a zero indexed list [1, 3, 3], what is the index of the element 3?\n",
      "Only output the answer, no other information.\\ ANSWER: \n",
      "Expected: 1\n",
      "\n",
      "find_index-13 | wrap: answer\n",
      "Given a one indexed list [1, 4, 0], what is the index of the element 2?\n",
      "Only output the answer, no other information.\\ ANSWER: \n",
      "Expected: Not Found\n",
      "\n",
      "find_index-14 | wrap: answer\n",
      "Given a zero indexed list [2, 0, 2], what is the index of the element 2?\n",
      "Only output the answer, no other information.\\ ANSWER: \n",
      "Expected: 0\n"
     ]
    }
   ],
   "source": [
    "family = ListPromptFamily(min_val=0, max_val=5, append_max=10, list_size=3)\n",
    "\n",
    "all_cases = family.generate_all(n=3)\n",
    "\n",
    "for case in all_cases:\n",
    "    print(f\"\\n{case.task_id} | wrap: {case.metadata['wrap_name']}\")\n",
    "    print(case.prompt)\n",
    "    print(\"Expected:\", case.ground_truth)\n"
   ]
  },
  {
   "cell_type": "code",
   "execution_count": 6,
   "id": "9c6bf12f",
   "metadata": {},
   "outputs": [
    {
     "name": "stdout",
     "output_type": "stream",
     "text": [
      "The token has not been saved to the git credentials helper. Pass `add_to_git_credential=True` in this function directly or `--add-to-git-credential` if using via `huggingface-cli` if you want to set the git credential as well.\n",
      "Token is valid (permission: read).\n",
      "The token `transformerlens` has been saved to /Users/johnwu/.cache/huggingface/stored_tokens\n",
      "Your token has been saved to /Users/johnwu/.cache/huggingface/token\n",
      "Login successful.\n",
      "Note: Environment variable`HF_TOKEN` is set and is the current active token independently from the token you've just configured.\n"
     ]
    }
   ],
   "source": [
    "load_dotenv()\n",
    "hf_token = os.getenv(\"HF_TOKEN\")\n",
    "\n",
    "!huggingface-cli login --token {hf_token}"
   ]
  },
  {
   "cell_type": "code",
   "execution_count": 8,
   "id": "262091dc",
   "metadata": {},
   "outputs": [
    {
     "name": "stderr",
     "output_type": "stream",
     "text": [
      "WARNING:root:Loading model microsoft/phi-2 requires setting trust_remote_code=True\n",
      "WARNING:root:Loading model microsoft/phi-2 state dict requires setting trust_remote_code=True\n"
     ]
    },
    {
     "data": {
      "application/vnd.jupyter.widget-view+json": {
       "model_id": "ff7132dee0bc4c66811c4c16b4e53c4d",
       "version_major": 2,
       "version_minor": 0
      },
      "text/plain": [
       "Loading checkpoint shards:   0%|          | 0/2 [00:00<?, ?it/s]"
      ]
     },
     "metadata": {},
     "output_type": "display_data"
    },
    {
     "name": "stdout",
     "output_type": "stream",
     "text": [
      "Loaded pretrained model Phi-2 into HookedTransformer\n"
     ]
    }
   ],
   "source": [
    "MODEL_NAME = \"Phi-2\"\n",
    "torch.mps.empty_cache()\n",
    "model = HookedTransformer.from_pretrained(\n",
    "    MODEL_NAME,\n",
    "    device=\"mps\",                \n",
    ")"
   ]
  },
  {
   "cell_type": "code",
   "execution_count": 9,
   "id": "144c77a3",
   "metadata": {},
   "outputs": [
    {
     "name": "stdout",
     "output_type": "stream",
     "text": [
      "\n",
      "find_index-0\n",
      "Given a one indexed list [25, 87, 25, 25, 25], what is the index of the element 87?\n",
      "Only output the answer, no other information.\\ ANSWER: \n",
      "Expected: 2\n",
      "\n",
      "find_index-1\n",
      "Given a zero indexed list [2, 58, 58, 58, 58], what is the index of the element 2?\n",
      "Only output the answer, no other information.\\ ANSWER: \n",
      "Expected: 0\n",
      "\n",
      "find_index-2\n",
      "Given a zero indexed list [74, 74, 19, 74, 74], what is the index of the element 19?\n",
      "Only output the answer, no other information.\\ ANSWER: \n",
      "Expected: 2\n",
      "\n",
      "find_index-3\n",
      "Given a zero indexed list [17, 17, 17, 19, 17], what is the index of the element 19?\n",
      "Only output the answer, no other information.\\ ANSWER: \n",
      "Expected: 3\n",
      "\n",
      "find_index-4\n",
      "Given a one indexed list [78, 78, 78, 78, 70], what is the index of the element 70?\n",
      "Only output the answer, no other information.\\ ANSWER: \n",
      "Expected: 5\n",
      "\n",
      "find_index-5\n",
      "Given a one indexed list [41, 41, 41, 41, 9], what is the index of the element 9?\n",
      "Only output the answer, no other information.\\ ANSWER: \n",
      "Expected: 5\n",
      "\n",
      "find_index-6\n",
      "Given a one indexed list [32, 87, 32, 32, 32], what is the index of the element 87?\n",
      "Only output the answer, no other information.\\ ANSWER: \n",
      "Expected: 2\n",
      "\n",
      "find_index-7\n",
      "Given a zero indexed list [80, 80, 80, 80, 72], what is the index of the element 72?\n",
      "Only output the answer, no other information.\\ ANSWER: \n",
      "Expected: 4\n",
      "\n",
      "find_index-8\n",
      "Given a zero indexed list [33, 33, 33, 33, 76], what is the index of the element 76?\n",
      "Only output the answer, no other information.\\ ANSWER: \n",
      "Expected: 4\n",
      "\n",
      "find_index-9\n",
      "Given a one indexed list [99, 99, 99, 2, 99], what is the index of the element 2?\n",
      "Only output the answer, no other information.\\ ANSWER: \n",
      "Expected: 4\n",
      "\n",
      "find_index-10\n",
      "Given a one indexed list [95, 95, 95, 95, 10], what is the index of the element 10?\n",
      "Only output the answer, no other information.\\ ANSWER: \n",
      "Expected: 5\n",
      "\n",
      "find_index-11\n",
      "Given a zero indexed list [63, 41, 63, 63, 63], what is the index of the element 41?\n",
      "Only output the answer, no other information.\\ ANSWER: \n",
      "Expected: 1\n",
      "\n",
      "find_index-12\n",
      "Given a one indexed list [11, 53, 53, 53, 53], what is the index of the element 11?\n",
      "Only output the answer, no other information.\\ ANSWER: \n",
      "Expected: 1\n",
      "\n",
      "find_index-13\n",
      "Given a one indexed list [50, 15, 15, 15, 15], what is the index of the element 50?\n",
      "Only output the answer, no other information.\\ ANSWER: \n",
      "Expected: 1\n",
      "\n",
      "find_index-14\n",
      "Given a zero indexed list [50, 39, 50, 50, 50], what is the index of the element 39?\n",
      "Only output the answer, no other information.\\ ANSWER: \n",
      "Expected: 1\n",
      "\n",
      "find_index-15\n",
      "Given a one indexed list [87, 87, 63, 87, 87], what is the index of the element 63?\n",
      "Only output the answer, no other information.\\ ANSWER: \n",
      "Expected: 3\n",
      "\n",
      "find_index-16\n",
      "Given a one indexed list [23, 23, 45, 23, 23], what is the index of the element 45?\n",
      "Only output the answer, no other information.\\ ANSWER: \n",
      "Expected: 3\n",
      "\n",
      "find_index-17\n",
      "Given a one indexed list [95, 95, 95, 95, 90], what is the index of the element 90?\n",
      "Only output the answer, no other information.\\ ANSWER: \n",
      "Expected: 5\n",
      "\n",
      "find_index-18\n",
      "Given a one indexed list [86, 86, 86, 37, 86], what is the index of the element 37?\n",
      "Only output the answer, no other information.\\ ANSWER: \n",
      "Expected: 4\n",
      "\n",
      "find_index-19\n",
      "Given a one indexed list [79, 79, 79, 68, 79], what is the index of the element 68?\n",
      "Only output the answer, no other information.\\ ANSWER: \n",
      "Expected: 4\n",
      "\n",
      "find_index-20\n",
      "Given a one indexed list [82, 82, 55, 82, 82], what is the index of the element 55?\n",
      "Only output the answer, no other information.\\ ANSWER: \n",
      "Expected: 3\n",
      "\n",
      "find_index-21\n",
      "Given a one indexed list [27, 86, 86, 86, 86], what is the index of the element 27?\n",
      "Only output the answer, no other information.\\ ANSWER: \n",
      "Expected: 1\n",
      "\n",
      "find_index-22\n",
      "Given a one indexed list [64, 47, 64, 64, 64], what is the index of the element 47?\n",
      "Only output the answer, no other information.\\ ANSWER: \n",
      "Expected: 2\n",
      "\n",
      "find_index-23\n",
      "Given a one indexed list [65, 65, 65, 65, 92], what is the index of the element 92?\n",
      "Only output the answer, no other information.\\ ANSWER: \n",
      "Expected: 5\n",
      "\n",
      "find_index-24\n",
      "Given a one indexed list [57, 57, 57, 90, 57], what is the index of the element 90?\n",
      "Only output the answer, no other information.\\ ANSWER: \n",
      "Expected: 4\n",
      "\n",
      "find_index-25\n",
      "Given a one indexed list [8, 8, 13, 8, 8], what is the index of the element 13?\n",
      "Only output the answer, no other information.\\ ANSWER: \n",
      "Expected: 3\n",
      "\n",
      "find_index-26\n",
      "Given a one indexed list [3, 3, 3, 3, 43], what is the index of the element 43?\n",
      "Only output the answer, no other information.\\ ANSWER: \n",
      "Expected: 5\n",
      "\n",
      "find_index-27\n",
      "Given a one indexed list [65, 65, 65, 65, 8], what is the index of the element 8?\n",
      "Only output the answer, no other information.\\ ANSWER: \n",
      "Expected: 5\n",
      "\n",
      "find_index-28\n",
      "Given a one indexed list [35, 36, 36, 36, 36], what is the index of the element 35?\n",
      "Only output the answer, no other information.\\ ANSWER: \n",
      "Expected: 1\n",
      "\n",
      "find_index-29\n",
      "Given a one indexed list [54, 54, 54, 92, 54], what is the index of the element 92?\n",
      "Only output the answer, no other information.\\ ANSWER: \n",
      "Expected: 4\n",
      "\n",
      "find_index-30\n",
      "Given a zero indexed list [94, 44, 94, 94, 94], what is the index of the element 44?\n",
      "Only output the answer, no other information.\\ ANSWER: \n",
      "Expected: 1\n",
      "\n",
      "find_index-31\n",
      "Given a one indexed list [43, 43, 14, 43, 43], what is the index of the element 14?\n",
      "Only output the answer, no other information.\\ ANSWER: \n",
      "Expected: 3\n",
      "\n",
      "find_index-32\n",
      "Given a one indexed list [20, 22, 22, 22, 22], what is the index of the element 20?\n",
      "Only output the answer, no other information.\\ ANSWER: \n",
      "Expected: 1\n",
      "\n",
      "find_index-33\n",
      "Given a one indexed list [92, 42, 92, 92, 92], what is the index of the element 42?\n",
      "Only output the answer, no other information.\\ ANSWER: \n",
      "Expected: 2\n",
      "\n",
      "find_index-34\n",
      "Given a one indexed list [75, 75, 75, 2, 75], what is the index of the element 2?\n",
      "Only output the answer, no other information.\\ ANSWER: \n",
      "Expected: 4\n",
      "\n",
      "find_index-35\n",
      "Given a zero indexed list [93, 93, 93, 85, 93], what is the index of the element 85?\n",
      "Only output the answer, no other information.\\ ANSWER: \n",
      "Expected: 3\n",
      "\n",
      "find_index-36\n",
      "Given a one indexed list [77, 77, 40, 77, 77], what is the index of the element 40?\n",
      "Only output the answer, no other information.\\ ANSWER: \n",
      "Expected: 3\n",
      "\n",
      "find_index-37\n",
      "Given a one indexed list [10, 65, 65, 65, 65], what is the index of the element 10?\n",
      "Only output the answer, no other information.\\ ANSWER: \n",
      "Expected: 1\n",
      "\n",
      "find_index-38\n",
      "Given a one indexed list [47, 47, 47, 47, 38], what is the index of the element 38?\n",
      "Only output the answer, no other information.\\ ANSWER: \n",
      "Expected: 5\n",
      "\n",
      "find_index-39\n",
      "Given a one indexed list [96, 96, 96, 96, 82], what is the index of the element 82?\n",
      "Only output the answer, no other information.\\ ANSWER: \n",
      "Expected: 5\n",
      "\n",
      "find_index-40\n",
      "Given a one indexed list [8, 8, 55, 8, 8], what is the index of the element 55?\n",
      "Only output the answer, no other information.\\ ANSWER: \n",
      "Expected: 3\n",
      "\n",
      "find_index-41\n",
      "Given a one indexed list [90, 90, 11, 90, 90], what is the index of the element 11?\n",
      "Only output the answer, no other information.\\ ANSWER: \n",
      "Expected: 3\n",
      "\n",
      "find_index-42\n",
      "Given a one indexed list [21, 76, 76, 76, 76], what is the index of the element 21?\n",
      "Only output the answer, no other information.\\ ANSWER: \n",
      "Expected: 1\n",
      "\n",
      "find_index-43\n",
      "Given a zero indexed list [68, 68, 68, 68, 24], what is the index of the element 24?\n",
      "Only output the answer, no other information.\\ ANSWER: \n",
      "Expected: 4\n",
      "\n",
      "find_index-44\n",
      "Given a one indexed list [57, 9, 9, 9, 9], what is the index of the element 57?\n",
      "Only output the answer, no other information.\\ ANSWER: \n",
      "Expected: 1\n",
      "\n",
      "find_index-45\n",
      "Given a one indexed list [82, 82, 82, 2, 82], what is the index of the element 2?\n",
      "Only output the answer, no other information.\\ ANSWER: \n",
      "Expected: 4\n",
      "\n",
      "find_index-46\n",
      "Given a one indexed list [3, 14, 3, 3, 3], what is the index of the element 14?\n",
      "Only output the answer, no other information.\\ ANSWER: \n",
      "Expected: 2\n",
      "\n",
      "find_index-47\n",
      "Given a one indexed list [93, 83, 93, 93, 93], what is the index of the element 83?\n",
      "Only output the answer, no other information.\\ ANSWER: \n",
      "Expected: 2\n",
      "\n",
      "find_index-48\n",
      "Given a zero indexed list [73, 73, 50, 73, 73], what is the index of the element 50?\n",
      "Only output the answer, no other information.\\ ANSWER: \n",
      "Expected: 2\n",
      "\n",
      "find_index-49\n",
      "Given a zero indexed list [78, 99, 99, 99, 99], what is the index of the element 78?\n",
      "Only output the answer, no other information.\\ ANSWER: \n",
      "Expected: 0\n",
      "\n",
      "find_index-50\n",
      "Given a zero indexed list [22, 98, 22, 22, 22], what is the index of the element 98?\n",
      "Only output the answer, no other information.\\ ANSWER: \n",
      "Expected: 1\n",
      "\n",
      "find_index-51\n",
      "Given a zero indexed list [83, 83, 54, 83, 83], what is the index of the element 54?\n",
      "Only output the answer, no other information.\\ ANSWER: \n",
      "Expected: 2\n",
      "\n",
      "find_index-52\n",
      "Given a zero indexed list [44, 23, 44, 44, 44], what is the index of the element 23?\n",
      "Only output the answer, no other information.\\ ANSWER: \n",
      "Expected: 1\n",
      "\n",
      "find_index-53\n",
      "Given a one indexed list [92, 46, 92, 92, 92], what is the index of the element 46?\n",
      "Only output the answer, no other information.\\ ANSWER: \n",
      "Expected: 2\n",
      "\n",
      "find_index-54\n",
      "Given a one indexed list [31, 56, 56, 56, 56], what is the index of the element 31?\n",
      "Only output the answer, no other information.\\ ANSWER: \n",
      "Expected: 1\n",
      "\n",
      "find_index-55\n",
      "Given a one indexed list [63, 63, 63, 63, 9], what is the index of the element 9?\n",
      "Only output the answer, no other information.\\ ANSWER: \n",
      "Expected: 5\n",
      "\n",
      "find_index-56\n",
      "Given a zero indexed list [41, 41, 41, 41, 45], what is the index of the element 45?\n",
      "Only output the answer, no other information.\\ ANSWER: \n",
      "Expected: 4\n",
      "\n",
      "find_index-57\n",
      "Given a one indexed list [84, 11, 84, 84, 84], what is the index of the element 11?\n",
      "Only output the answer, no other information.\\ ANSWER: \n",
      "Expected: 2\n",
      "\n",
      "find_index-58\n",
      "Given a zero indexed list [24, 24, 24, 24, 36], what is the index of the element 36?\n",
      "Only output the answer, no other information.\\ ANSWER: \n",
      "Expected: 4\n",
      "\n",
      "find_index-59\n",
      "Given a one indexed list [54, 54, 1, 54, 54], what is the index of the element 1?\n",
      "Only output the answer, no other information.\\ ANSWER: \n",
      "Expected: 3\n",
      "\n",
      "find_index-60\n",
      "Given a one indexed list [6, 6, 6, 67, 6], what is the index of the element 67?\n",
      "Only output the answer, no other information.\\ ANSWER: \n",
      "Expected: 4\n",
      "\n",
      "find_index-61\n",
      "Given a zero indexed list [5, 5, 5, 82, 5], what is the index of the element 82?\n",
      "Only output the answer, no other information.\\ ANSWER: \n",
      "Expected: 3\n",
      "\n",
      "find_index-62\n",
      "Given a one indexed list [82, 60, 82, 82, 82], what is the index of the element 60?\n",
      "Only output the answer, no other information.\\ ANSWER: \n",
      "Expected: 2\n",
      "\n",
      "find_index-63\n",
      "Given a zero indexed list [6, 6, 6, 85, 6], what is the index of the element 85?\n",
      "Only output the answer, no other information.\\ ANSWER: \n",
      "Expected: 3\n",
      "\n",
      "find_index-64\n",
      "Given a zero indexed list [79, 87, 79, 79, 79], what is the index of the element 87?\n",
      "Only output the answer, no other information.\\ ANSWER: \n",
      "Expected: 1\n",
      "\n",
      "find_index-65\n",
      "Given a zero indexed list [80, 80, 26, 80, 80], what is the index of the element 26?\n",
      "Only output the answer, no other information.\\ ANSWER: \n",
      "Expected: 2\n",
      "\n",
      "find_index-66\n",
      "Given a zero indexed list [3, 36, 36, 36, 36], what is the index of the element 3?\n",
      "Only output the answer, no other information.\\ ANSWER: \n",
      "Expected: 0\n",
      "\n",
      "find_index-67\n",
      "Given a one indexed list [69, 69, 69, 69, 87], what is the index of the element 87?\n",
      "Only output the answer, no other information.\\ ANSWER: \n",
      "Expected: 5\n",
      "\n",
      "find_index-68\n",
      "Given a zero indexed list [65, 65, 65, 65, 34], what is the index of the element 34?\n",
      "Only output the answer, no other information.\\ ANSWER: \n",
      "Expected: 4\n",
      "\n",
      "find_index-69\n",
      "Given a one indexed list [26, 26, 26, 44, 26], what is the index of the element 44?\n",
      "Only output the answer, no other information.\\ ANSWER: \n",
      "Expected: 4\n",
      "\n",
      "find_index-70\n",
      "Given a zero indexed list [42, 23, 42, 42, 42], what is the index of the element 23?\n",
      "Only output the answer, no other information.\\ ANSWER: \n",
      "Expected: 1\n",
      "\n",
      "find_index-71\n",
      "Given a one indexed list [28, 29, 29, 29, 29], what is the index of the element 28?\n",
      "Only output the answer, no other information.\\ ANSWER: \n",
      "Expected: 1\n",
      "\n",
      "find_index-72\n",
      "Given a one indexed list [51, 51, 51, 51, 74], what is the index of the element 74?\n",
      "Only output the answer, no other information.\\ ANSWER: \n",
      "Expected: 5\n",
      "\n",
      "find_index-73\n",
      "Given a one indexed list [8, 48, 48, 48, 48], what is the index of the element 8?\n",
      "Only output the answer, no other information.\\ ANSWER: \n",
      "Expected: 1\n",
      "\n",
      "find_index-74\n",
      "Given a one indexed list [16, 16, 66, 16, 16], what is the index of the element 66?\n",
      "Only output the answer, no other information.\\ ANSWER: \n",
      "Expected: 3\n",
      "\n",
      "find_index-75\n",
      "Given a one indexed list [42, 42, 42, 42, 9], what is the index of the element 9?\n",
      "Only output the answer, no other information.\\ ANSWER: \n",
      "Expected: 5\n",
      "\n",
      "find_index-76\n",
      "Given a zero indexed list [43, 74, 43, 43, 43], what is the index of the element 74?\n",
      "Only output the answer, no other information.\\ ANSWER: \n",
      "Expected: 1\n",
      "\n",
      "find_index-77\n",
      "Given a one indexed list [63, 80, 63, 63, 63], what is the index of the element 80?\n",
      "Only output the answer, no other information.\\ ANSWER: \n",
      "Expected: 2\n",
      "\n",
      "find_index-78\n",
      "Given a one indexed list [59, 59, 59, 59, 45], what is the index of the element 45?\n",
      "Only output the answer, no other information.\\ ANSWER: \n",
      "Expected: 5\n",
      "\n",
      "find_index-79\n",
      "Given a one indexed list [2, 2, 67, 2, 2], what is the index of the element 67?\n",
      "Only output the answer, no other information.\\ ANSWER: \n",
      "Expected: 3\n",
      "\n",
      "find_index-80\n",
      "Given a zero indexed list [78, 78, 78, 78, 10], what is the index of the element 10?\n",
      "Only output the answer, no other information.\\ ANSWER: \n",
      "Expected: 4\n",
      "\n",
      "find_index-81\n",
      "Given a zero indexed list [76, 76, 94, 76, 76], what is the index of the element 94?\n",
      "Only output the answer, no other information.\\ ANSWER: \n",
      "Expected: 2\n",
      "\n",
      "find_index-82\n",
      "Given a zero indexed list [94, 80, 94, 94, 94], what is the index of the element 80?\n",
      "Only output the answer, no other information.\\ ANSWER: \n",
      "Expected: 1\n",
      "\n",
      "find_index-83\n",
      "Given a zero indexed list [3, 51, 3, 3, 3], what is the index of the element 51?\n",
      "Only output the answer, no other information.\\ ANSWER: \n",
      "Expected: 1\n",
      "\n",
      "find_index-84\n",
      "Given a zero indexed list [41, 41, 15, 41, 41], what is the index of the element 15?\n",
      "Only output the answer, no other information.\\ ANSWER: \n",
      "Expected: 2\n",
      "\n",
      "find_index-85\n",
      "Given a zero indexed list [89, 89, 89, 89, 98], what is the index of the element 98?\n",
      "Only output the answer, no other information.\\ ANSWER: \n",
      "Expected: 4\n",
      "\n",
      "find_index-86\n",
      "Given a one indexed list [95, 95, 95, 95, 83], what is the index of the element 83?\n",
      "Only output the answer, no other information.\\ ANSWER: \n",
      "Expected: 5\n",
      "\n",
      "find_index-87\n",
      "Given a one indexed list [38, 38, 36, 38, 38], what is the index of the element 36?\n",
      "Only output the answer, no other information.\\ ANSWER: \n",
      "Expected: 3\n",
      "\n",
      "find_index-88\n",
      "Given a one indexed list [69, 69, 69, 69, 5], what is the index of the element 5?\n",
      "Only output the answer, no other information.\\ ANSWER: \n",
      "Expected: 5\n",
      "\n",
      "find_index-89\n",
      "Given a zero indexed list [90, 90, 90, 16, 90], what is the index of the element 16?\n",
      "Only output the answer, no other information.\\ ANSWER: \n",
      "Expected: 3\n",
      "\n",
      "find_index-90\n",
      "Given a zero indexed list [43, 84, 43, 43, 43], what is the index of the element 84?\n",
      "Only output the answer, no other information.\\ ANSWER: \n",
      "Expected: 1\n",
      "\n",
      "find_index-91\n",
      "Given a zero indexed list [48, 48, 48, 48, 77], what is the index of the element 77?\n",
      "Only output the answer, no other information.\\ ANSWER: \n",
      "Expected: 4\n",
      "\n",
      "find_index-92\n",
      "Given a one indexed list [82, 7, 7, 7, 7], what is the index of the element 82?\n",
      "Only output the answer, no other information.\\ ANSWER: \n",
      "Expected: 1\n",
      "\n",
      "find_index-93\n",
      "Given a zero indexed list [50, 50, 50, 43, 50], what is the index of the element 43?\n",
      "Only output the answer, no other information.\\ ANSWER: \n",
      "Expected: 3\n",
      "\n",
      "find_index-94\n",
      "Given a one indexed list [15, 66, 66, 66, 66], what is the index of the element 15?\n",
      "Only output the answer, no other information.\\ ANSWER: \n",
      "Expected: 1\n",
      "\n",
      "find_index-95\n",
      "Given a zero indexed list [21, 21, 21, 21, 97], what is the index of the element 97?\n",
      "Only output the answer, no other information.\\ ANSWER: \n",
      "Expected: 4\n",
      "\n",
      "find_index-96\n",
      "Given a zero indexed list [17, 27, 17, 17, 17], what is the index of the element 27?\n",
      "Only output the answer, no other information.\\ ANSWER: \n",
      "Expected: 1\n",
      "\n",
      "find_index-97\n",
      "Given a one indexed list [6, 6, 6, 68, 6], what is the index of the element 68?\n",
      "Only output the answer, no other information.\\ ANSWER: \n",
      "Expected: 4\n",
      "\n",
      "find_index-98\n",
      "Given a one indexed list [78, 78, 78, 37, 78], what is the index of the element 37?\n",
      "Only output the answer, no other information.\\ ANSWER: \n",
      "Expected: 4\n",
      "\n",
      "find_index-99\n",
      "Given a one indexed list [51, 18, 18, 18, 18], what is the index of the element 51?\n",
      "Only output the answer, no other information.\\ ANSWER: \n",
      "Expected: 1\n"
     ]
    }
   ],
   "source": [
    "family = ListPromptFamily(min_val=1, max_val=100, fill_mode=\"single_outlier\", list_size=5)\n",
    "\n",
    "cases = family.generate(prompt_name=\"find_index\", wrap_name=\"answer\", n=100)\n",
    "\n",
    "for case in cases:\n",
    "    print(f\"\\n{case.task_id}\")\n",
    "    print(case.prompt)\n",
    "    print(\"Expected:\", case.ground_truth)"
   ]
  },
  {
   "cell_type": "code",
   "execution_count": 10,
   "id": "df400218",
   "metadata": {},
   "outputs": [
    {
     "name": "stderr",
     "output_type": "stream",
     "text": [
      "Evaluating prompt cases:   0%|          | 0/100 [00:00<?, ?it/s]"
     ]
    },
    {
     "data": {
      "application/vnd.jupyter.widget-view+json": {
       "model_id": "dde9b73726e446f2869db7d4e68c1dfa",
       "version_major": 2,
       "version_minor": 0
      },
      "text/plain": [
       "  0%|          | 0/20 [00:00<?, ?it/s]"
      ]
     },
     "metadata": {},
     "output_type": "display_data"
    },
    {
     "name": "stderr",
     "output_type": "stream",
     "text": [
      "Evaluating prompt cases:   1%|          | 1/100 [00:05<09:15,  5.61s/it]"
     ]
    },
    {
     "data": {
      "application/vnd.jupyter.widget-view+json": {
       "model_id": "a321bbcff8dc4a439934f1ad116a62fe",
       "version_major": 2,
       "version_minor": 0
      },
      "text/plain": [
       "  0%|          | 0/20 [00:00<?, ?it/s]"
      ]
     },
     "metadata": {},
     "output_type": "display_data"
    },
    {
     "name": "stderr",
     "output_type": "stream",
     "text": [
      "Evaluating prompt cases:   2%|▏         | 2/100 [00:07<05:18,  3.25s/it]"
     ]
    },
    {
     "data": {
      "application/vnd.jupyter.widget-view+json": {
       "model_id": "54440fa3a1414e9e9e07cda309da9853",
       "version_major": 2,
       "version_minor": 0
      },
      "text/plain": [
       "  0%|          | 0/20 [00:00<?, ?it/s]"
      ]
     },
     "metadata": {},
     "output_type": "display_data"
    },
    {
     "name": "stderr",
     "output_type": "stream",
     "text": [
      "Evaluating prompt cases:   3%|▎         | 3/100 [00:11<06:15,  3.88s/it]"
     ]
    },
    {
     "data": {
      "application/vnd.jupyter.widget-view+json": {
       "model_id": "ba607663c2044d2bbfa41ebc018fdfea",
       "version_major": 2,
       "version_minor": 0
      },
      "text/plain": [
       "  0%|          | 0/20 [00:00<?, ?it/s]"
      ]
     },
     "metadata": {},
     "output_type": "display_data"
    },
    {
     "name": "stderr",
     "output_type": "stream",
     "text": [
      "Evaluating prompt cases:   4%|▍         | 4/100 [00:14<05:41,  3.56s/it]"
     ]
    },
    {
     "data": {
      "application/vnd.jupyter.widget-view+json": {
       "model_id": "e94faeabcb1b4cbda2008f26508e8bce",
       "version_major": 2,
       "version_minor": 0
      },
      "text/plain": [
       "  0%|          | 0/20 [00:00<?, ?it/s]"
      ]
     },
     "metadata": {},
     "output_type": "display_data"
    },
    {
     "name": "stderr",
     "output_type": "stream",
     "text": [
      "Evaluating prompt cases:   5%|▌         | 5/100 [00:18<05:36,  3.54s/it]"
     ]
    },
    {
     "data": {
      "application/vnd.jupyter.widget-view+json": {
       "model_id": "b7e5f71bb20a4c75b1cd0b3a88cfebb5",
       "version_major": 2,
       "version_minor": 0
      },
      "text/plain": [
       "  0%|          | 0/20 [00:00<?, ?it/s]"
      ]
     },
     "metadata": {},
     "output_type": "display_data"
    },
    {
     "name": "stderr",
     "output_type": "stream",
     "text": [
      "Evaluating prompt cases:   6%|▌         | 6/100 [00:22<05:42,  3.65s/it]"
     ]
    },
    {
     "data": {
      "application/vnd.jupyter.widget-view+json": {
       "model_id": "cff1546d448145b59b945036ccfdc4d7",
       "version_major": 2,
       "version_minor": 0
      },
      "text/plain": [
       "  0%|          | 0/20 [00:00<?, ?it/s]"
      ]
     },
     "metadata": {},
     "output_type": "display_data"
    },
    {
     "name": "stderr",
     "output_type": "stream",
     "text": [
      "Evaluating prompt cases:   7%|▋         | 7/100 [00:25<05:28,  3.54s/it]"
     ]
    },
    {
     "data": {
      "application/vnd.jupyter.widget-view+json": {
       "model_id": "538b2881eaea430f969dc26203a29fba",
       "version_major": 2,
       "version_minor": 0
      },
      "text/plain": [
       "  0%|          | 0/20 [00:00<?, ?it/s]"
      ]
     },
     "metadata": {},
     "output_type": "display_data"
    },
    {
     "name": "stderr",
     "output_type": "stream",
     "text": [
      "Evaluating prompt cases:   8%|▊         | 8/100 [00:27<04:49,  3.15s/it]"
     ]
    },
    {
     "data": {
      "application/vnd.jupyter.widget-view+json": {
       "model_id": "7f003a7990444afa8d12761d85c268d5",
       "version_major": 2,
       "version_minor": 0
      },
      "text/plain": [
       "  0%|          | 0/20 [00:00<?, ?it/s]"
      ]
     },
     "metadata": {},
     "output_type": "display_data"
    },
    {
     "name": "stderr",
     "output_type": "stream",
     "text": [
      "Evaluating prompt cases:   9%|▉         | 9/100 [00:31<04:55,  3.25s/it]"
     ]
    },
    {
     "data": {
      "application/vnd.jupyter.widget-view+json": {
       "model_id": "233bb268c5a4470ea1fc60405c3d25c6",
       "version_major": 2,
       "version_minor": 0
      },
      "text/plain": [
       "  0%|          | 0/20 [00:00<?, ?it/s]"
      ]
     },
     "metadata": {},
     "output_type": "display_data"
    },
    {
     "name": "stderr",
     "output_type": "stream",
     "text": [
      "Evaluating prompt cases:  10%|█         | 10/100 [00:35<05:05,  3.40s/it]"
     ]
    },
    {
     "data": {
      "application/vnd.jupyter.widget-view+json": {
       "model_id": "e734b30bd7a74e4bbb9f94f42c71077b",
       "version_major": 2,
       "version_minor": 0
      },
      "text/plain": [
       "  0%|          | 0/20 [00:00<?, ?it/s]"
      ]
     },
     "metadata": {},
     "output_type": "display_data"
    },
    {
     "name": "stderr",
     "output_type": "stream",
     "text": [
      "Evaluating prompt cases:  11%|█         | 11/100 [00:38<05:13,  3.52s/it]"
     ]
    },
    {
     "data": {
      "application/vnd.jupyter.widget-view+json": {
       "model_id": "9f075100aaf2408c9ddff79f948be4b1",
       "version_major": 2,
       "version_minor": 0
      },
      "text/plain": [
       "  0%|          | 0/20 [00:00<?, ?it/s]"
      ]
     },
     "metadata": {},
     "output_type": "display_data"
    },
    {
     "name": "stderr",
     "output_type": "stream",
     "text": [
      "Evaluating prompt cases:  12%|█▏        | 12/100 [00:41<04:37,  3.16s/it]"
     ]
    },
    {
     "data": {
      "application/vnd.jupyter.widget-view+json": {
       "model_id": "b7abcaad6e4f427894771fab885b10e8",
       "version_major": 2,
       "version_minor": 0
      },
      "text/plain": [
       "  0%|          | 0/20 [00:00<?, ?it/s]"
      ]
     },
     "metadata": {},
     "output_type": "display_data"
    },
    {
     "name": "stderr",
     "output_type": "stream",
     "text": [
      "Evaluating prompt cases:  13%|█▎        | 13/100 [00:44<04:39,  3.22s/it]"
     ]
    },
    {
     "data": {
      "application/vnd.jupyter.widget-view+json": {
       "model_id": "716b6212c7244d129be519c7b38193b7",
       "version_major": 2,
       "version_minor": 0
      },
      "text/plain": [
       "  0%|          | 0/20 [00:00<?, ?it/s]"
      ]
     },
     "metadata": {},
     "output_type": "display_data"
    },
    {
     "name": "stderr",
     "output_type": "stream",
     "text": [
      "Evaluating prompt cases:  14%|█▍        | 14/100 [00:51<06:18,  4.41s/it]"
     ]
    },
    {
     "data": {
      "application/vnd.jupyter.widget-view+json": {
       "model_id": "d91208f3a53e4d4c8c04bd665f0d2936",
       "version_major": 2,
       "version_minor": 0
      },
      "text/plain": [
       "  0%|          | 0/20 [00:00<?, ?it/s]"
      ]
     },
     "metadata": {},
     "output_type": "display_data"
    },
    {
     "name": "stderr",
     "output_type": "stream",
     "text": [
      "Evaluating prompt cases:  15%|█▌        | 15/100 [01:06<10:34,  7.46s/it]"
     ]
    },
    {
     "data": {
      "application/vnd.jupyter.widget-view+json": {
       "model_id": "3291cb752e0a46339fa199338954de75",
       "version_major": 2,
       "version_minor": 0
      },
      "text/plain": [
       "  0%|          | 0/20 [00:00<?, ?it/s]"
      ]
     },
     "metadata": {},
     "output_type": "display_data"
    },
    {
     "name": "stderr",
     "output_type": "stream",
     "text": [
      "Evaluating prompt cases:  16%|█▌        | 16/100 [01:08<08:09,  5.83s/it]"
     ]
    },
    {
     "data": {
      "application/vnd.jupyter.widget-view+json": {
       "model_id": "a9565345dc234fc891abcd26a181f645",
       "version_major": 2,
       "version_minor": 0
      },
      "text/plain": [
       "  0%|          | 0/20 [00:00<?, ?it/s]"
      ]
     },
     "metadata": {},
     "output_type": "display_data"
    },
    {
     "name": "stderr",
     "output_type": "stream",
     "text": [
      "Evaluating prompt cases:  17%|█▋        | 17/100 [01:11<07:10,  5.18s/it]"
     ]
    },
    {
     "data": {
      "application/vnd.jupyter.widget-view+json": {
       "model_id": "bbdfc864b79c49a9ade47f5897de235f",
       "version_major": 2,
       "version_minor": 0
      },
      "text/plain": [
       "  0%|          | 0/20 [00:00<?, ?it/s]"
      ]
     },
     "metadata": {},
     "output_type": "display_data"
    },
    {
     "name": "stderr",
     "output_type": "stream",
     "text": [
      "Evaluating prompt cases:  18%|█▊        | 18/100 [01:16<06:36,  4.84s/it]"
     ]
    },
    {
     "data": {
      "application/vnd.jupyter.widget-view+json": {
       "model_id": "afe1b16609774f62bc6b6116664fc27f",
       "version_major": 2,
       "version_minor": 0
      },
      "text/plain": [
       "  0%|          | 0/20 [00:00<?, ?it/s]"
      ]
     },
     "metadata": {},
     "output_type": "display_data"
    },
    {
     "name": "stderr",
     "output_type": "stream",
     "text": [
      "Evaluating prompt cases:  19%|█▉        | 19/100 [01:19<06:04,  4.50s/it]"
     ]
    },
    {
     "data": {
      "application/vnd.jupyter.widget-view+json": {
       "model_id": "60a2f68236c6421d91b8cb1a2ba2bf98",
       "version_major": 2,
       "version_minor": 0
      },
      "text/plain": [
       "  0%|          | 0/20 [00:00<?, ?it/s]"
      ]
     },
     "metadata": {},
     "output_type": "display_data"
    },
    {
     "name": "stderr",
     "output_type": "stream",
     "text": [
      "Evaluating prompt cases:  20%|██        | 20/100 [01:23<05:39,  4.24s/it]"
     ]
    },
    {
     "data": {
      "application/vnd.jupyter.widget-view+json": {
       "model_id": "52d1993f2ae741a99dbef542ea20f139",
       "version_major": 2,
       "version_minor": 0
      },
      "text/plain": [
       "  0%|          | 0/20 [00:00<?, ?it/s]"
      ]
     },
     "metadata": {},
     "output_type": "display_data"
    },
    {
     "name": "stderr",
     "output_type": "stream",
     "text": [
      "Evaluating prompt cases:  21%|██        | 21/100 [01:26<05:18,  4.03s/it]"
     ]
    },
    {
     "data": {
      "application/vnd.jupyter.widget-view+json": {
       "model_id": "9aef26f57c1b4447b9b320d14642865a",
       "version_major": 2,
       "version_minor": 0
      },
      "text/plain": [
       "  0%|          | 0/20 [00:00<?, ?it/s]"
      ]
     },
     "metadata": {},
     "output_type": "display_data"
    },
    {
     "name": "stderr",
     "output_type": "stream",
     "text": [
      "Evaluating prompt cases:  22%|██▏       | 22/100 [01:30<05:11,  3.99s/it]"
     ]
    },
    {
     "data": {
      "application/vnd.jupyter.widget-view+json": {
       "model_id": "b00e3acb2d634b08883b2f68eda457d7",
       "version_major": 2,
       "version_minor": 0
      },
      "text/plain": [
       "  0%|          | 0/20 [00:00<?, ?it/s]"
      ]
     },
     "metadata": {},
     "output_type": "display_data"
    },
    {
     "name": "stderr",
     "output_type": "stream",
     "text": [
      "Evaluating prompt cases:  23%|██▎       | 23/100 [01:39<06:53,  5.37s/it]"
     ]
    },
    {
     "data": {
      "application/vnd.jupyter.widget-view+json": {
       "model_id": "8756625b7f764aa0b0b74e9ba92c9f2f",
       "version_major": 2,
       "version_minor": 0
      },
      "text/plain": [
       "  0%|          | 0/20 [00:00<?, ?it/s]"
      ]
     },
     "metadata": {},
     "output_type": "display_data"
    },
    {
     "name": "stderr",
     "output_type": "stream",
     "text": [
      "Evaluating prompt cases:  24%|██▍       | 24/100 [01:43<06:15,  4.94s/it]"
     ]
    },
    {
     "data": {
      "application/vnd.jupyter.widget-view+json": {
       "model_id": "d4801e3be7594ce79ae73b116fbc86c5",
       "version_major": 2,
       "version_minor": 0
      },
      "text/plain": [
       "  0%|          | 0/20 [00:00<?, ?it/s]"
      ]
     },
     "metadata": {},
     "output_type": "display_data"
    },
    {
     "name": "stderr",
     "output_type": "stream",
     "text": [
      "Evaluating prompt cases:  25%|██▌       | 25/100 [01:46<05:40,  4.54s/it]"
     ]
    },
    {
     "data": {
      "application/vnd.jupyter.widget-view+json": {
       "model_id": "0891783a5f80414396a1d0576f67d095",
       "version_major": 2,
       "version_minor": 0
      },
      "text/plain": [
       "  0%|          | 0/20 [00:00<?, ?it/s]"
      ]
     },
     "metadata": {},
     "output_type": "display_data"
    },
    {
     "name": "stderr",
     "output_type": "stream",
     "text": [
      "Evaluating prompt cases:  26%|██▌       | 26/100 [01:52<05:53,  4.78s/it]"
     ]
    },
    {
     "data": {
      "application/vnd.jupyter.widget-view+json": {
       "model_id": "80bdb38b12f644119c0b0011f7f8a521",
       "version_major": 2,
       "version_minor": 0
      },
      "text/plain": [
       "  0%|          | 0/20 [00:00<?, ?it/s]"
      ]
     },
     "metadata": {},
     "output_type": "display_data"
    },
    {
     "name": "stderr",
     "output_type": "stream",
     "text": [
      "Evaluating prompt cases:  27%|██▋       | 27/100 [01:58<06:23,  5.25s/it]"
     ]
    },
    {
     "data": {
      "application/vnd.jupyter.widget-view+json": {
       "model_id": "ef69c7fb66484e2f88551c8c6aec4570",
       "version_major": 2,
       "version_minor": 0
      },
      "text/plain": [
       "  0%|          | 0/20 [00:00<?, ?it/s]"
      ]
     },
     "metadata": {},
     "output_type": "display_data"
    },
    {
     "name": "stderr",
     "output_type": "stream",
     "text": [
      "Evaluating prompt cases:  28%|██▊       | 28/100 [02:01<05:31,  4.60s/it]"
     ]
    },
    {
     "data": {
      "application/vnd.jupyter.widget-view+json": {
       "model_id": "dd9394070a8d48278ea9928f9e3503bc",
       "version_major": 2,
       "version_minor": 0
      },
      "text/plain": [
       "  0%|          | 0/20 [00:00<?, ?it/s]"
      ]
     },
     "metadata": {},
     "output_type": "display_data"
    },
    {
     "name": "stderr",
     "output_type": "stream",
     "text": [
      "Evaluating prompt cases:  29%|██▉       | 29/100 [02:06<05:20,  4.52s/it]"
     ]
    },
    {
     "data": {
      "application/vnd.jupyter.widget-view+json": {
       "model_id": "552a459a87044dbfad1466a2bb097107",
       "version_major": 2,
       "version_minor": 0
      },
      "text/plain": [
       "  0%|          | 0/20 [00:00<?, ?it/s]"
      ]
     },
     "metadata": {},
     "output_type": "display_data"
    },
    {
     "name": "stderr",
     "output_type": "stream",
     "text": [
      "Evaluating prompt cases:  30%|███       | 30/100 [02:09<04:59,  4.28s/it]"
     ]
    },
    {
     "data": {
      "application/vnd.jupyter.widget-view+json": {
       "model_id": "518f1086df484eb885bb6a374ac3e035",
       "version_major": 2,
       "version_minor": 0
      },
      "text/plain": [
       "  0%|          | 0/20 [00:00<?, ?it/s]"
      ]
     },
     "metadata": {},
     "output_type": "display_data"
    },
    {
     "name": "stderr",
     "output_type": "stream",
     "text": [
      "Evaluating prompt cases:  31%|███       | 31/100 [02:12<04:15,  3.70s/it]"
     ]
    },
    {
     "data": {
      "application/vnd.jupyter.widget-view+json": {
       "model_id": "bcde91dd96b445f6b8379c725e4da2fd",
       "version_major": 2,
       "version_minor": 0
      },
      "text/plain": [
       "  0%|          | 0/20 [00:00<?, ?it/s]"
      ]
     },
     "metadata": {},
     "output_type": "display_data"
    },
    {
     "name": "stderr",
     "output_type": "stream",
     "text": [
      "Evaluating prompt cases:  32%|███▏      | 32/100 [02:15<04:05,  3.60s/it]"
     ]
    },
    {
     "data": {
      "application/vnd.jupyter.widget-view+json": {
       "model_id": "6a58f199bacd4932828852a9ef994247",
       "version_major": 2,
       "version_minor": 0
      },
      "text/plain": [
       "  0%|          | 0/20 [00:00<?, ?it/s]"
      ]
     },
     "metadata": {},
     "output_type": "display_data"
    },
    {
     "name": "stderr",
     "output_type": "stream",
     "text": [
      "Evaluating prompt cases:  33%|███▎      | 33/100 [02:18<03:55,  3.51s/it]"
     ]
    },
    {
     "data": {
      "application/vnd.jupyter.widget-view+json": {
       "model_id": "660ac16974ac4370917a99301f577c3a",
       "version_major": 2,
       "version_minor": 0
      },
      "text/plain": [
       "  0%|          | 0/20 [00:00<?, ?it/s]"
      ]
     },
     "metadata": {},
     "output_type": "display_data"
    },
    {
     "name": "stderr",
     "output_type": "stream",
     "text": [
      "Evaluating prompt cases:  34%|███▍      | 34/100 [02:21<03:30,  3.18s/it]"
     ]
    },
    {
     "data": {
      "application/vnd.jupyter.widget-view+json": {
       "model_id": "5863eddba2b44e63b243e4786823acd5",
       "version_major": 2,
       "version_minor": 0
      },
      "text/plain": [
       "  0%|          | 0/20 [00:00<?, ?it/s]"
      ]
     },
     "metadata": {},
     "output_type": "display_data"
    },
    {
     "name": "stderr",
     "output_type": "stream",
     "text": [
      "Evaluating prompt cases:  35%|███▌      | 35/100 [02:24<03:37,  3.34s/it]"
     ]
    },
    {
     "data": {
      "application/vnd.jupyter.widget-view+json": {
       "model_id": "5e734f258cb64245867ed540eb06317b",
       "version_major": 2,
       "version_minor": 0
      },
      "text/plain": [
       "  0%|          | 0/20 [00:00<?, ?it/s]"
      ]
     },
     "metadata": {},
     "output_type": "display_data"
    },
    {
     "name": "stderr",
     "output_type": "stream",
     "text": [
      "Evaluating prompt cases:  36%|███▌      | 36/100 [02:28<03:37,  3.40s/it]"
     ]
    },
    {
     "data": {
      "application/vnd.jupyter.widget-view+json": {
       "model_id": "6816488392a14cf59e0e9702f6b8688b",
       "version_major": 2,
       "version_minor": 0
      },
      "text/plain": [
       "  0%|          | 0/20 [00:00<?, ?it/s]"
      ]
     },
     "metadata": {},
     "output_type": "display_data"
    },
    {
     "name": "stderr",
     "output_type": "stream",
     "text": [
      "Evaluating prompt cases:  37%|███▋      | 37/100 [02:31<03:30,  3.34s/it]"
     ]
    },
    {
     "data": {
      "application/vnd.jupyter.widget-view+json": {
       "model_id": "99b130e5ddd446268273aa615b80eb63",
       "version_major": 2,
       "version_minor": 0
      },
      "text/plain": [
       "  0%|          | 0/20 [00:00<?, ?it/s]"
      ]
     },
     "metadata": {},
     "output_type": "display_data"
    },
    {
     "name": "stderr",
     "output_type": "stream",
     "text": [
      "Evaluating prompt cases:  38%|███▊      | 38/100 [02:35<03:29,  3.38s/it]"
     ]
    },
    {
     "data": {
      "application/vnd.jupyter.widget-view+json": {
       "model_id": "c05cf8ee24194cdbbf1e0a2885a2b10f",
       "version_major": 2,
       "version_minor": 0
      },
      "text/plain": [
       "  0%|          | 0/20 [00:00<?, ?it/s]"
      ]
     },
     "metadata": {},
     "output_type": "display_data"
    },
    {
     "name": "stderr",
     "output_type": "stream",
     "text": [
      "Evaluating prompt cases:  39%|███▉      | 39/100 [02:39<03:35,  3.54s/it]"
     ]
    },
    {
     "data": {
      "application/vnd.jupyter.widget-view+json": {
       "model_id": "ab97965307c744f3abfee91a7226227b",
       "version_major": 2,
       "version_minor": 0
      },
      "text/plain": [
       "  0%|          | 0/20 [00:00<?, ?it/s]"
      ]
     },
     "metadata": {},
     "output_type": "display_data"
    },
    {
     "name": "stderr",
     "output_type": "stream",
     "text": [
      "Evaluating prompt cases:  40%|████      | 40/100 [02:42<03:28,  3.48s/it]"
     ]
    },
    {
     "data": {
      "application/vnd.jupyter.widget-view+json": {
       "model_id": "8de9fb0715f944e3aac64d3b69bf2ff3",
       "version_major": 2,
       "version_minor": 0
      },
      "text/plain": [
       "  0%|          | 0/20 [00:00<?, ?it/s]"
      ]
     },
     "metadata": {},
     "output_type": "display_data"
    },
    {
     "name": "stderr",
     "output_type": "stream",
     "text": [
      "Evaluating prompt cases:  41%|████      | 41/100 [02:55<06:14,  6.35s/it]"
     ]
    },
    {
     "data": {
      "application/vnd.jupyter.widget-view+json": {
       "model_id": "f68bc72902904bec8c6e2af7a0b2ff98",
       "version_major": 2,
       "version_minor": 0
      },
      "text/plain": [
       "  0%|          | 0/20 [00:00<?, ?it/s]"
      ]
     },
     "metadata": {},
     "output_type": "display_data"
    },
    {
     "name": "stderr",
     "output_type": "stream",
     "text": [
      "Evaluating prompt cases:  42%|████▏     | 42/100 [03:08<07:58,  8.24s/it]"
     ]
    },
    {
     "data": {
      "application/vnd.jupyter.widget-view+json": {
       "model_id": "3191baecca7f40599a9fc62bf44e4170",
       "version_major": 2,
       "version_minor": 0
      },
      "text/plain": [
       "  0%|          | 0/20 [00:00<?, ?it/s]"
      ]
     },
     "metadata": {},
     "output_type": "display_data"
    },
    {
     "name": "stderr",
     "output_type": "stream",
     "text": [
      "Evaluating prompt cases:  43%|████▎     | 43/100 [03:10<06:08,  6.47s/it]"
     ]
    },
    {
     "data": {
      "application/vnd.jupyter.widget-view+json": {
       "model_id": "8666c5252d194c40a3d473870c7a6f04",
       "version_major": 2,
       "version_minor": 0
      },
      "text/plain": [
       "  0%|          | 0/20 [00:00<?, ?it/s]"
      ]
     },
     "metadata": {},
     "output_type": "display_data"
    },
    {
     "name": "stderr",
     "output_type": "stream",
     "text": [
      "Evaluating prompt cases:  44%|████▍     | 44/100 [03:32<10:26, 11.19s/it]"
     ]
    },
    {
     "data": {
      "application/vnd.jupyter.widget-view+json": {
       "model_id": "a035ff7089e54f78b108ddb9bd0800ec",
       "version_major": 2,
       "version_minor": 0
      },
      "text/plain": [
       "  0%|          | 0/20 [00:00<?, ?it/s]"
      ]
     },
     "metadata": {},
     "output_type": "display_data"
    },
    {
     "name": "stderr",
     "output_type": "stream",
     "text": [
      "Evaluating prompt cases:  45%|████▌     | 45/100 [03:40<09:14, 10.09s/it]"
     ]
    },
    {
     "data": {
      "application/vnd.jupyter.widget-view+json": {
       "model_id": "da0c90df7796485787c254f7e99b2a36",
       "version_major": 2,
       "version_minor": 0
      },
      "text/plain": [
       "  0%|          | 0/20 [00:00<?, ?it/s]"
      ]
     },
     "metadata": {},
     "output_type": "display_data"
    },
    {
     "name": "stderr",
     "output_type": "stream",
     "text": [
      "Evaluating prompt cases:  46%|████▌     | 46/100 [03:43<07:14,  8.04s/it]"
     ]
    },
    {
     "data": {
      "application/vnd.jupyter.widget-view+json": {
       "model_id": "7ac732101e6a4c5ea7d76daf9230e8cf",
       "version_major": 2,
       "version_minor": 0
      },
      "text/plain": [
       "  0%|          | 0/20 [00:00<?, ?it/s]"
      ]
     },
     "metadata": {},
     "output_type": "display_data"
    },
    {
     "name": "stderr",
     "output_type": "stream",
     "text": [
      "Evaluating prompt cases:  47%|████▋     | 47/100 [03:46<05:48,  6.58s/it]"
     ]
    },
    {
     "data": {
      "application/vnd.jupyter.widget-view+json": {
       "model_id": "de8cb47c2b1d4df19897b62d3b5a0050",
       "version_major": 2,
       "version_minor": 0
      },
      "text/plain": [
       "  0%|          | 0/20 [00:00<?, ?it/s]"
      ]
     },
     "metadata": {},
     "output_type": "display_data"
    },
    {
     "name": "stderr",
     "output_type": "stream",
     "text": [
      "Evaluating prompt cases:  48%|████▊     | 48/100 [03:49<04:52,  5.62s/it]"
     ]
    },
    {
     "data": {
      "application/vnd.jupyter.widget-view+json": {
       "model_id": "f07853a67090476494421c7dd125fa7f",
       "version_major": 2,
       "version_minor": 0
      },
      "text/plain": [
       "  0%|          | 0/20 [00:00<?, ?it/s]"
      ]
     },
     "metadata": {},
     "output_type": "display_data"
    },
    {
     "name": "stderr",
     "output_type": "stream",
     "text": [
      "Evaluating prompt cases:  49%|████▉     | 49/100 [03:52<04:01,  4.74s/it]"
     ]
    },
    {
     "data": {
      "application/vnd.jupyter.widget-view+json": {
       "model_id": "7a159a9e9d88434a80bcbb19a866308a",
       "version_major": 2,
       "version_minor": 0
      },
      "text/plain": [
       "  0%|          | 0/20 [00:00<?, ?it/s]"
      ]
     },
     "metadata": {},
     "output_type": "display_data"
    },
    {
     "name": "stderr",
     "output_type": "stream",
     "text": [
      "Evaluating prompt cases:  50%|█████     | 50/100 [03:56<03:37,  4.35s/it]"
     ]
    },
    {
     "data": {
      "application/vnd.jupyter.widget-view+json": {
       "model_id": "bb261ae579a448bfa78ef520d602397f",
       "version_major": 2,
       "version_minor": 0
      },
      "text/plain": [
       "  0%|          | 0/20 [00:00<?, ?it/s]"
      ]
     },
     "metadata": {},
     "output_type": "display_data"
    },
    {
     "name": "stderr",
     "output_type": "stream",
     "text": [
      "Evaluating prompt cases:  51%|█████     | 51/100 [03:58<03:03,  3.75s/it]"
     ]
    },
    {
     "data": {
      "application/vnd.jupyter.widget-view+json": {
       "model_id": "ddb241988ec44bb9adcfdd6efb6d1e69",
       "version_major": 2,
       "version_minor": 0
      },
      "text/plain": [
       "  0%|          | 0/20 [00:00<?, ?it/s]"
      ]
     },
     "metadata": {},
     "output_type": "display_data"
    },
    {
     "name": "stderr",
     "output_type": "stream",
     "text": [
      "Evaluating prompt cases:  52%|█████▏    | 52/100 [04:02<02:59,  3.74s/it]"
     ]
    },
    {
     "data": {
      "application/vnd.jupyter.widget-view+json": {
       "model_id": "1e693270bb5c4e199df07ea727842f18",
       "version_major": 2,
       "version_minor": 0
      },
      "text/plain": [
       "  0%|          | 0/20 [00:00<?, ?it/s]"
      ]
     },
     "metadata": {},
     "output_type": "display_data"
    },
    {
     "name": "stderr",
     "output_type": "stream",
     "text": [
      "Evaluating prompt cases:  53%|█████▎    | 53/100 [04:04<02:35,  3.31s/it]"
     ]
    },
    {
     "data": {
      "application/vnd.jupyter.widget-view+json": {
       "model_id": "487b6908950644d5971a6a578fde70d1",
       "version_major": 2,
       "version_minor": 0
      },
      "text/plain": [
       "  0%|          | 0/20 [00:00<?, ?it/s]"
      ]
     },
     "metadata": {},
     "output_type": "display_data"
    },
    {
     "name": "stderr",
     "output_type": "stream",
     "text": [
      "Evaluating prompt cases:  54%|█████▍    | 54/100 [04:08<02:40,  3.48s/it]"
     ]
    },
    {
     "data": {
      "application/vnd.jupyter.widget-view+json": {
       "model_id": "ae5090a833b6488090e620f0515354b8",
       "version_major": 2,
       "version_minor": 0
      },
      "text/plain": [
       "  0%|          | 0/20 [00:00<?, ?it/s]"
      ]
     },
     "metadata": {},
     "output_type": "display_data"
    },
    {
     "name": "stderr",
     "output_type": "stream",
     "text": [
      "Evaluating prompt cases:  55%|█████▌    | 55/100 [04:13<02:52,  3.84s/it]"
     ]
    },
    {
     "data": {
      "application/vnd.jupyter.widget-view+json": {
       "model_id": "4aa0ca9e80564cbd9259cec4cb6e551c",
       "version_major": 2,
       "version_minor": 0
      },
      "text/plain": [
       "  0%|          | 0/20 [00:00<?, ?it/s]"
      ]
     },
     "metadata": {},
     "output_type": "display_data"
    },
    {
     "name": "stderr",
     "output_type": "stream",
     "text": [
      "Evaluating prompt cases:  56%|█████▌    | 56/100 [04:16<02:39,  3.63s/it]"
     ]
    },
    {
     "data": {
      "application/vnd.jupyter.widget-view+json": {
       "model_id": "e06b9bd657d643b6af76912763ae86f5",
       "version_major": 2,
       "version_minor": 0
      },
      "text/plain": [
       "  0%|          | 0/20 [00:00<?, ?it/s]"
      ]
     },
     "metadata": {},
     "output_type": "display_data"
    },
    {
     "name": "stderr",
     "output_type": "stream",
     "text": [
      "Evaluating prompt cases:  57%|█████▋    | 57/100 [04:19<02:33,  3.56s/it]"
     ]
    },
    {
     "data": {
      "application/vnd.jupyter.widget-view+json": {
       "model_id": "fd145bcae11047538a0837b966322e84",
       "version_major": 2,
       "version_minor": 0
      },
      "text/plain": [
       "  0%|          | 0/20 [00:00<?, ?it/s]"
      ]
     },
     "metadata": {},
     "output_type": "display_data"
    },
    {
     "name": "stderr",
     "output_type": "stream",
     "text": [
      "Evaluating prompt cases:  58%|█████▊    | 58/100 [04:30<03:59,  5.69s/it]"
     ]
    },
    {
     "data": {
      "application/vnd.jupyter.widget-view+json": {
       "model_id": "4034bec05255470aaf1b287e4f95803e",
       "version_major": 2,
       "version_minor": 0
      },
      "text/plain": [
       "  0%|          | 0/20 [00:00<?, ?it/s]"
      ]
     },
     "metadata": {},
     "output_type": "display_data"
    },
    {
     "name": "stderr",
     "output_type": "stream",
     "text": [
      "Evaluating prompt cases:  59%|█████▉    | 59/100 [04:32<03:09,  4.62s/it]"
     ]
    },
    {
     "data": {
      "application/vnd.jupyter.widget-view+json": {
       "model_id": "2cd06509fa7448bf9dce52274c18c43c",
       "version_major": 2,
       "version_minor": 0
      },
      "text/plain": [
       "  0%|          | 0/20 [00:00<?, ?it/s]"
      ]
     },
     "metadata": {},
     "output_type": "display_data"
    },
    {
     "name": "stderr",
     "output_type": "stream",
     "text": [
      "Evaluating prompt cases:  60%|██████    | 60/100 [04:36<03:00,  4.52s/it]"
     ]
    },
    {
     "data": {
      "application/vnd.jupyter.widget-view+json": {
       "model_id": "9bf58456d2d34e2eb010136edbaff64c",
       "version_major": 2,
       "version_minor": 0
      },
      "text/plain": [
       "  0%|          | 0/20 [00:00<?, ?it/s]"
      ]
     },
     "metadata": {},
     "output_type": "display_data"
    },
    {
     "name": "stderr",
     "output_type": "stream",
     "text": [
      "Evaluating prompt cases:  61%|██████    | 61/100 [04:40<02:48,  4.32s/it]"
     ]
    },
    {
     "data": {
      "application/vnd.jupyter.widget-view+json": {
       "model_id": "c928acdb840148d09550bce635b350c5",
       "version_major": 2,
       "version_minor": 0
      },
      "text/plain": [
       "  0%|          | 0/20 [00:00<?, ?it/s]"
      ]
     },
     "metadata": {},
     "output_type": "display_data"
    },
    {
     "name": "stderr",
     "output_type": "stream",
     "text": [
      "Evaluating prompt cases:  62%|██████▏   | 62/100 [04:43<02:30,  3.97s/it]"
     ]
    },
    {
     "data": {
      "application/vnd.jupyter.widget-view+json": {
       "model_id": "105496e0ed4b437b8667b46939875edf",
       "version_major": 2,
       "version_minor": 0
      },
      "text/plain": [
       "  0%|          | 0/20 [00:00<?, ?it/s]"
      ]
     },
     "metadata": {},
     "output_type": "display_data"
    },
    {
     "name": "stderr",
     "output_type": "stream",
     "text": [
      "Evaluating prompt cases:  63%|██████▎   | 63/100 [04:47<02:20,  3.80s/it]"
     ]
    },
    {
     "data": {
      "application/vnd.jupyter.widget-view+json": {
       "model_id": "9a143b115c9b4d6b838bd28367f89558",
       "version_major": 2,
       "version_minor": 0
      },
      "text/plain": [
       "  0%|          | 0/20 [00:00<?, ?it/s]"
      ]
     },
     "metadata": {},
     "output_type": "display_data"
    },
    {
     "name": "stderr",
     "output_type": "stream",
     "text": [
      "Evaluating prompt cases:  64%|██████▍   | 64/100 [04:52<02:38,  4.40s/it]"
     ]
    },
    {
     "data": {
      "application/vnd.jupyter.widget-view+json": {
       "model_id": "ebe6335ec81949a998d87dc544621231",
       "version_major": 2,
       "version_minor": 0
      },
      "text/plain": [
       "  0%|          | 0/20 [00:00<?, ?it/s]"
      ]
     },
     "metadata": {},
     "output_type": "display_data"
    },
    {
     "name": "stderr",
     "output_type": "stream",
     "text": [
      "Evaluating prompt cases:  65%|██████▌   | 65/100 [04:58<02:49,  4.84s/it]"
     ]
    },
    {
     "data": {
      "application/vnd.jupyter.widget-view+json": {
       "model_id": "e9640b134fcb4376a21d56628a1f91c3",
       "version_major": 2,
       "version_minor": 0
      },
      "text/plain": [
       "  0%|          | 0/20 [00:00<?, ?it/s]"
      ]
     },
     "metadata": {},
     "output_type": "display_data"
    },
    {
     "name": "stderr",
     "output_type": "stream",
     "text": [
      "Evaluating prompt cases:  66%|██████▌   | 66/100 [05:01<02:18,  4.08s/it]"
     ]
    },
    {
     "data": {
      "application/vnd.jupyter.widget-view+json": {
       "model_id": "e94482a254234556970256187d8174b1",
       "version_major": 2,
       "version_minor": 0
      },
      "text/plain": [
       "  0%|          | 0/20 [00:00<?, ?it/s]"
      ]
     },
     "metadata": {},
     "output_type": "display_data"
    },
    {
     "name": "stderr",
     "output_type": "stream",
     "text": [
      "Evaluating prompt cases:  67%|██████▋   | 67/100 [05:05<02:15,  4.10s/it]"
     ]
    },
    {
     "data": {
      "application/vnd.jupyter.widget-view+json": {
       "model_id": "50595d806e3c4bcca71831201c31fe02",
       "version_major": 2,
       "version_minor": 0
      },
      "text/plain": [
       "  0%|          | 0/20 [00:00<?, ?it/s]"
      ]
     },
     "metadata": {},
     "output_type": "display_data"
    },
    {
     "name": "stderr",
     "output_type": "stream",
     "text": [
      "Evaluating prompt cases:  68%|██████▊   | 68/100 [05:08<02:04,  3.90s/it]"
     ]
    },
    {
     "data": {
      "application/vnd.jupyter.widget-view+json": {
       "model_id": "e5cfdca41f494dea8da3a4245cbe16c4",
       "version_major": 2,
       "version_minor": 0
      },
      "text/plain": [
       "  0%|          | 0/20 [00:00<?, ?it/s]"
      ]
     },
     "metadata": {},
     "output_type": "display_data"
    },
    {
     "name": "stderr",
     "output_type": "stream",
     "text": [
      "Evaluating prompt cases:  69%|██████▉   | 69/100 [05:12<02:00,  3.89s/it]"
     ]
    },
    {
     "data": {
      "application/vnd.jupyter.widget-view+json": {
       "model_id": "a9b09f551f4c4a2798cfc6954ed72a2a",
       "version_major": 2,
       "version_minor": 0
      },
      "text/plain": [
       "  0%|          | 0/20 [00:00<?, ?it/s]"
      ]
     },
     "metadata": {},
     "output_type": "display_data"
    },
    {
     "name": "stderr",
     "output_type": "stream",
     "text": [
      "Evaluating prompt cases:  70%|███████   | 70/100 [05:15<01:52,  3.74s/it]"
     ]
    },
    {
     "data": {
      "application/vnd.jupyter.widget-view+json": {
       "model_id": "4fcf424c17c4496bb8c4003e171bf99b",
       "version_major": 2,
       "version_minor": 0
      },
      "text/plain": [
       "  0%|          | 0/20 [00:00<?, ?it/s]"
      ]
     },
     "metadata": {},
     "output_type": "display_data"
    },
    {
     "name": "stderr",
     "output_type": "stream",
     "text": [
      "Evaluating prompt cases:  71%|███████   | 71/100 [05:18<01:37,  3.37s/it]"
     ]
    },
    {
     "data": {
      "application/vnd.jupyter.widget-view+json": {
       "model_id": "0d6da5103a59445693c9db2c9b85c68a",
       "version_major": 2,
       "version_minor": 0
      },
      "text/plain": [
       "  0%|          | 0/20 [00:00<?, ?it/s]"
      ]
     },
     "metadata": {},
     "output_type": "display_data"
    },
    {
     "name": "stderr",
     "output_type": "stream",
     "text": [
      "Evaluating prompt cases:  72%|███████▏  | 72/100 [05:22<01:42,  3.65s/it]"
     ]
    },
    {
     "data": {
      "application/vnd.jupyter.widget-view+json": {
       "model_id": "61a107c29b71485b9f876fcf1899ecf4",
       "version_major": 2,
       "version_minor": 0
      },
      "text/plain": [
       "  0%|          | 0/20 [00:00<?, ?it/s]"
      ]
     },
     "metadata": {},
     "output_type": "display_data"
    },
    {
     "name": "stderr",
     "output_type": "stream",
     "text": [
      "Evaluating prompt cases:  73%|███████▎  | 73/100 [05:25<01:32,  3.44s/it]"
     ]
    },
    {
     "data": {
      "application/vnd.jupyter.widget-view+json": {
       "model_id": "f7a2d3ac387f48638af428dfc80f5f8d",
       "version_major": 2,
       "version_minor": 0
      },
      "text/plain": [
       "  0%|          | 0/20 [00:00<?, ?it/s]"
      ]
     },
     "metadata": {},
     "output_type": "display_data"
    },
    {
     "name": "stderr",
     "output_type": "stream",
     "text": [
      "Evaluating prompt cases:  74%|███████▍  | 74/100 [05:27<01:15,  2.91s/it]"
     ]
    },
    {
     "data": {
      "application/vnd.jupyter.widget-view+json": {
       "model_id": "9ee2d3ea04344e26be03831e58082f23",
       "version_major": 2,
       "version_minor": 0
      },
      "text/plain": [
       "  0%|          | 0/20 [00:00<?, ?it/s]"
      ]
     },
     "metadata": {},
     "output_type": "display_data"
    },
    {
     "name": "stderr",
     "output_type": "stream",
     "text": [
      "Evaluating prompt cases:  75%|███████▌  | 75/100 [05:28<01:03,  2.55s/it]"
     ]
    },
    {
     "data": {
      "application/vnd.jupyter.widget-view+json": {
       "model_id": "80a722f472ef4ef5ac7c1246d2a94ab0",
       "version_major": 2,
       "version_minor": 0
      },
      "text/plain": [
       "  0%|          | 0/20 [00:00<?, ?it/s]"
      ]
     },
     "metadata": {},
     "output_type": "display_data"
    },
    {
     "name": "stderr",
     "output_type": "stream",
     "text": [
      "Evaluating prompt cases:  76%|███████▌  | 76/100 [05:30<00:55,  2.31s/it]"
     ]
    },
    {
     "data": {
      "application/vnd.jupyter.widget-view+json": {
       "model_id": "ad6a599d9f514085a7aba797cb540d35",
       "version_major": 2,
       "version_minor": 0
      },
      "text/plain": [
       "  0%|          | 0/20 [00:00<?, ?it/s]"
      ]
     },
     "metadata": {},
     "output_type": "display_data"
    },
    {
     "name": "stderr",
     "output_type": "stream",
     "text": [
      "Evaluating prompt cases:  77%|███████▋  | 77/100 [05:31<00:45,  1.96s/it]"
     ]
    },
    {
     "data": {
      "application/vnd.jupyter.widget-view+json": {
       "model_id": "48165436253e48bea0737e5e5e98d413",
       "version_major": 2,
       "version_minor": 0
      },
      "text/plain": [
       "  0%|          | 0/20 [00:00<?, ?it/s]"
      ]
     },
     "metadata": {},
     "output_type": "display_data"
    },
    {
     "name": "stderr",
     "output_type": "stream",
     "text": [
      "Evaluating prompt cases:  78%|███████▊  | 78/100 [05:33<00:41,  1.89s/it]"
     ]
    },
    {
     "data": {
      "application/vnd.jupyter.widget-view+json": {
       "model_id": "06d6d1dbb83f4f638f2d7153c60dfa97",
       "version_major": 2,
       "version_minor": 0
      },
      "text/plain": [
       "  0%|          | 0/20 [00:00<?, ?it/s]"
      ]
     },
     "metadata": {},
     "output_type": "display_data"
    },
    {
     "name": "stderr",
     "output_type": "stream",
     "text": [
      "Evaluating prompt cases:  79%|███████▉  | 79/100 [05:35<00:38,  1.83s/it]"
     ]
    },
    {
     "data": {
      "application/vnd.jupyter.widget-view+json": {
       "model_id": "c30960ede208464ba28052493759f2de",
       "version_major": 2,
       "version_minor": 0
      },
      "text/plain": [
       "  0%|          | 0/20 [00:00<?, ?it/s]"
      ]
     },
     "metadata": {},
     "output_type": "display_data"
    },
    {
     "name": "stderr",
     "output_type": "stream",
     "text": [
      "Evaluating prompt cases:  80%|████████  | 80/100 [05:37<00:35,  1.79s/it]"
     ]
    },
    {
     "data": {
      "application/vnd.jupyter.widget-view+json": {
       "model_id": "e2e224a34d574aaf80e3f4ad2fcd7af3",
       "version_major": 2,
       "version_minor": 0
      },
      "text/plain": [
       "  0%|          | 0/20 [00:00<?, ?it/s]"
      ]
     },
     "metadata": {},
     "output_type": "display_data"
    },
    {
     "name": "stderr",
     "output_type": "stream",
     "text": [
      "Evaluating prompt cases:  81%|████████  | 81/100 [05:38<00:33,  1.76s/it]"
     ]
    },
    {
     "data": {
      "application/vnd.jupyter.widget-view+json": {
       "model_id": "6e17c1d96882454ba69faad8229339a9",
       "version_major": 2,
       "version_minor": 0
      },
      "text/plain": [
       "  0%|          | 0/20 [00:00<?, ?it/s]"
      ]
     },
     "metadata": {},
     "output_type": "display_data"
    },
    {
     "name": "stderr",
     "output_type": "stream",
     "text": [
      "Evaluating prompt cases:  82%|████████▏ | 82/100 [05:40<00:32,  1.78s/it]"
     ]
    },
    {
     "data": {
      "application/vnd.jupyter.widget-view+json": {
       "model_id": "b344c749196f427eb83ddca178ecde27",
       "version_major": 2,
       "version_minor": 0
      },
      "text/plain": [
       "  0%|          | 0/20 [00:00<?, ?it/s]"
      ]
     },
     "metadata": {},
     "output_type": "display_data"
    },
    {
     "name": "stderr",
     "output_type": "stream",
     "text": [
      "Evaluating prompt cases:  83%|████████▎ | 83/100 [05:41<00:27,  1.59s/it]"
     ]
    },
    {
     "data": {
      "application/vnd.jupyter.widget-view+json": {
       "model_id": "f43e57a8269948e5a1f0045c4e89c132",
       "version_major": 2,
       "version_minor": 0
      },
      "text/plain": [
       "  0%|          | 0/20 [00:00<?, ?it/s]"
      ]
     },
     "metadata": {},
     "output_type": "display_data"
    },
    {
     "name": "stderr",
     "output_type": "stream",
     "text": [
      "Evaluating prompt cases:  84%|████████▍ | 84/100 [05:42<00:23,  1.46s/it]"
     ]
    },
    {
     "data": {
      "application/vnd.jupyter.widget-view+json": {
       "model_id": "45dacba854994b65a68a58f2bbb08be9",
       "version_major": 2,
       "version_minor": 0
      },
      "text/plain": [
       "  0%|          | 0/20 [00:00<?, ?it/s]"
      ]
     },
     "metadata": {},
     "output_type": "display_data"
    },
    {
     "name": "stderr",
     "output_type": "stream",
     "text": [
      "Evaluating prompt cases:  85%|████████▌ | 85/100 [05:44<00:22,  1.53s/it]"
     ]
    },
    {
     "data": {
      "application/vnd.jupyter.widget-view+json": {
       "model_id": "c936903ba9dc4592b41352a909d6b7da",
       "version_major": 2,
       "version_minor": 0
      },
      "text/plain": [
       "  0%|          | 0/20 [00:00<?, ?it/s]"
      ]
     },
     "metadata": {},
     "output_type": "display_data"
    },
    {
     "name": "stderr",
     "output_type": "stream",
     "text": [
      "Evaluating prompt cases:  86%|████████▌ | 86/100 [05:46<00:21,  1.57s/it]"
     ]
    },
    {
     "data": {
      "application/vnd.jupyter.widget-view+json": {
       "model_id": "e933590e664248d9a567f7c09e804f22",
       "version_major": 2,
       "version_minor": 0
      },
      "text/plain": [
       "  0%|          | 0/20 [00:00<?, ?it/s]"
      ]
     },
     "metadata": {},
     "output_type": "display_data"
    },
    {
     "name": "stderr",
     "output_type": "stream",
     "text": [
      "Evaluating prompt cases:  87%|████████▋ | 87/100 [05:47<00:20,  1.60s/it]"
     ]
    },
    {
     "data": {
      "application/vnd.jupyter.widget-view+json": {
       "model_id": "8ec74d6204bb44a69588f5dc8e25d5ce",
       "version_major": 2,
       "version_minor": 0
      },
      "text/plain": [
       "  0%|          | 0/20 [00:00<?, ?it/s]"
      ]
     },
     "metadata": {},
     "output_type": "display_data"
    },
    {
     "name": "stderr",
     "output_type": "stream",
     "text": [
      "Evaluating prompt cases:  88%|████████▊ | 88/100 [05:50<00:22,  1.85s/it]"
     ]
    },
    {
     "data": {
      "application/vnd.jupyter.widget-view+json": {
       "model_id": "98185348642d4a05b15f56b09be21652",
       "version_major": 2,
       "version_minor": 0
      },
      "text/plain": [
       "  0%|          | 0/20 [00:00<?, ?it/s]"
      ]
     },
     "metadata": {},
     "output_type": "display_data"
    },
    {
     "name": "stderr",
     "output_type": "stream",
     "text": [
      "Evaluating prompt cases:  89%|████████▉ | 89/100 [05:52<00:20,  1.83s/it]"
     ]
    },
    {
     "data": {
      "application/vnd.jupyter.widget-view+json": {
       "model_id": "2c04313a7cf14829819a136c19392f22",
       "version_major": 2,
       "version_minor": 0
      },
      "text/plain": [
       "  0%|          | 0/20 [00:00<?, ?it/s]"
      ]
     },
     "metadata": {},
     "output_type": "display_data"
    },
    {
     "name": "stderr",
     "output_type": "stream",
     "text": [
      "Evaluating prompt cases:  90%|█████████ | 90/100 [05:56<00:25,  2.55s/it]"
     ]
    },
    {
     "data": {
      "application/vnd.jupyter.widget-view+json": {
       "model_id": "21ec538be39d4994a526a3560796ff4a",
       "version_major": 2,
       "version_minor": 0
      },
      "text/plain": [
       "  0%|          | 0/20 [00:00<?, ?it/s]"
      ]
     },
     "metadata": {},
     "output_type": "display_data"
    },
    {
     "name": "stderr",
     "output_type": "stream",
     "text": [
      "Evaluating prompt cases:  91%|█████████ | 91/100 [06:00<00:26,  2.97s/it]"
     ]
    },
    {
     "data": {
      "application/vnd.jupyter.widget-view+json": {
       "model_id": "c945cafb576942b59a4d1f3c4b276467",
       "version_major": 2,
       "version_minor": 0
      },
      "text/plain": [
       "  0%|          | 0/20 [00:00<?, ?it/s]"
      ]
     },
     "metadata": {},
     "output_type": "display_data"
    },
    {
     "name": "stderr",
     "output_type": "stream",
     "text": [
      "Evaluating prompt cases:  92%|█████████▏| 92/100 [06:02<00:21,  2.65s/it]"
     ]
    },
    {
     "data": {
      "application/vnd.jupyter.widget-view+json": {
       "model_id": "4dd0f91f4f9442519fefedaab89ddc21",
       "version_major": 2,
       "version_minor": 0
      },
      "text/plain": [
       "  0%|          | 0/20 [00:00<?, ?it/s]"
      ]
     },
     "metadata": {},
     "output_type": "display_data"
    },
    {
     "name": "stderr",
     "output_type": "stream",
     "text": [
      "Evaluating prompt cases:  93%|█████████▎| 93/100 [06:04<00:17,  2.44s/it]"
     ]
    },
    {
     "data": {
      "application/vnd.jupyter.widget-view+json": {
       "model_id": "537968f12dcc441da9954a59fcf31680",
       "version_major": 2,
       "version_minor": 0
      },
      "text/plain": [
       "  0%|          | 0/20 [00:00<?, ?it/s]"
      ]
     },
     "metadata": {},
     "output_type": "display_data"
    },
    {
     "name": "stderr",
     "output_type": "stream",
     "text": [
      "Evaluating prompt cases:  94%|█████████▍| 94/100 [06:05<00:12,  2.13s/it]"
     ]
    },
    {
     "data": {
      "application/vnd.jupyter.widget-view+json": {
       "model_id": "d68d0d9f84dc4d5eb4b0e4f0e4a253f5",
       "version_major": 2,
       "version_minor": 0
      },
      "text/plain": [
       "  0%|          | 0/20 [00:00<?, ?it/s]"
      ]
     },
     "metadata": {},
     "output_type": "display_data"
    },
    {
     "name": "stderr",
     "output_type": "stream",
     "text": [
      "Evaluating prompt cases:  95%|█████████▌| 95/100 [06:07<00:10,  2.07s/it]"
     ]
    },
    {
     "data": {
      "application/vnd.jupyter.widget-view+json": {
       "model_id": "497add7203564ba185070d7b2166a053",
       "version_major": 2,
       "version_minor": 0
      },
      "text/plain": [
       "  0%|          | 0/20 [00:00<?, ?it/s]"
      ]
     },
     "metadata": {},
     "output_type": "display_data"
    },
    {
     "name": "stderr",
     "output_type": "stream",
     "text": [
      "Evaluating prompt cases:  96%|█████████▌| 96/100 [06:09<00:08,  2.07s/it]"
     ]
    },
    {
     "data": {
      "application/vnd.jupyter.widget-view+json": {
       "model_id": "2958ecfa29ca4c2c96ea6827effd9d2e",
       "version_major": 2,
       "version_minor": 0
      },
      "text/plain": [
       "  0%|          | 0/20 [00:00<?, ?it/s]"
      ]
     },
     "metadata": {},
     "output_type": "display_data"
    },
    {
     "name": "stderr",
     "output_type": "stream",
     "text": [
      "Evaluating prompt cases:  97%|█████████▋| 97/100 [06:11<00:06,  2.12s/it]"
     ]
    },
    {
     "data": {
      "application/vnd.jupyter.widget-view+json": {
       "model_id": "e0113a20dd4a45369fe846e552b1ff90",
       "version_major": 2,
       "version_minor": 0
      },
      "text/plain": [
       "  0%|          | 0/20 [00:00<?, ?it/s]"
      ]
     },
     "metadata": {},
     "output_type": "display_data"
    },
    {
     "name": "stderr",
     "output_type": "stream",
     "text": [
      "Evaluating prompt cases:  98%|█████████▊| 98/100 [06:13<00:04,  2.06s/it]"
     ]
    },
    {
     "data": {
      "application/vnd.jupyter.widget-view+json": {
       "model_id": "571e4987ee15427481db3e6ad0dae5df",
       "version_major": 2,
       "version_minor": 0
      },
      "text/plain": [
       "  0%|          | 0/20 [00:00<?, ?it/s]"
      ]
     },
     "metadata": {},
     "output_type": "display_data"
    },
    {
     "name": "stderr",
     "output_type": "stream",
     "text": [
      "Evaluating prompt cases:  99%|█████████▉| 99/100 [06:15<00:01,  1.99s/it]"
     ]
    },
    {
     "data": {
      "application/vnd.jupyter.widget-view+json": {
       "model_id": "dddb98623f834ef89219b328373d32d8",
       "version_major": 2,
       "version_minor": 0
      },
      "text/plain": [
       "  0%|          | 0/20 [00:00<?, ?it/s]"
      ]
     },
     "metadata": {},
     "output_type": "display_data"
    },
    {
     "name": "stderr",
     "output_type": "stream",
     "text": [
      "Evaluating prompt cases: 100%|██████████| 100/100 [06:17<00:00,  3.77s/it]"
     ]
    },
    {
     "name": "stdout",
     "output_type": "stream",
     "text": [
      "\n",
      "Evaluation Summary: 78/100 correct (78.0%)\n",
      "\n",
      "Success: find_index-0\n",
      "Prompt:\n",
      " Given a one indexed list [25, 87, 25, 25, 25], what is the index of the element 87?\n",
      "Only output the answer, no other information.\\ ANSWER: \n",
      "Expected: 2\n",
      "Got     : <|endoftext|>Given a one indexed list [25, 87, 25, 25, 25], what is the index of the element 87?\n",
      "Only output the answer, no other information.\\ ANSWER: \n",
      "A: 1\n",
      "<|endoftext|>\n",
      "\n",
      "Success: find_index-1\n",
      "Prompt:\n",
      " Given a zero indexed list [2, 58, 58, 58, 58], what is the index of the element 2?\n",
      "Only output the answer, no other information.\\ ANSWER: \n",
      "Expected: 0\n",
      "Got     : <|endoftext|>Given a zero indexed list [2, 58, 58, 58, 58], what is the index of the element 2?\n",
      "Only output the answer, no other information.\\ ANSWER: \n",
      "0\n",
      "<|endoftext|>\n",
      "\n",
      "Success: find_index-3\n",
      "Prompt:\n",
      " Given a zero indexed list [17, 17, 17, 19, 17], what is the index of the element 19?\n",
      "Only output the answer, no other information.\\ ANSWER: \n",
      "Expected: 3\n",
      "Got     : <|endoftext|>Given a zero indexed list [17, 17, 17, 19, 17], what is the index of the element 19?\n",
      "Only output the answer, no other information.\\ ANSWER: \n",
      "A: 3\n",
      "<|endoftext|>\n",
      "\n",
      "Success: find_index-6\n",
      "Prompt:\n",
      " Given a one indexed list [32, 87, 32, 32, 32], what is the index of the element 87?\n",
      "Only output the answer, no other information.\\ ANSWER: \n",
      "Expected: 2\n",
      "Got     : <|endoftext|>Given a one indexed list [32, 87, 32, 32, 32], what is the index of the element 87?\n",
      "Only output the answer, no other information.\\ ANSWER: \n",
      "A: 1\n",
      "<|endoftext|>\n",
      "\n",
      "Success: find_index-7\n",
      "Prompt:\n",
      " Given a zero indexed list [80, 80, 80, 80, 72], what is the index of the element 72?\n",
      "Only output the answer, no other information.\\ ANSWER: \n",
      "Expected: 4\n",
      "Got     : <|endoftext|>Given a zero indexed list [80, 80, 80, 80, 72], what is the index of the element 72?\n",
      "Only output the answer, no other information.\\ ANSWER: \n",
      "4\n",
      "<|endoftext|>\n",
      "\n",
      "Success: find_index-8\n",
      "Prompt:\n",
      " Given a zero indexed list [33, 33, 33, 33, 76], what is the index of the element 76?\n",
      "Only output the answer, no other information.\\ ANSWER: \n",
      "Expected: 4\n",
      "Got     : <|endoftext|>Given a zero indexed list [33, 33, 33, 33, 76], what is the index of the element 76?\n",
      "Only output the answer, no other information.\\ ANSWER: \n",
      "Answer: 4\n",
      "<|endoftext|>\n",
      "\n",
      "Success: find_index-9\n",
      "Prompt:\n",
      " Given a one indexed list [99, 99, 99, 2, 99], what is the index of the element 2?\n",
      "Only output the answer, no other information.\\ ANSWER: \n",
      "Expected: 4\n",
      "Got     : <|endoftext|>Given a one indexed list [99, 99, 99, 2, 99], what is the index of the element 2?\n",
      "Only output the answer, no other information.\\ ANSWER: \n",
      "A: 4\n",
      "<|endoftext|>\n",
      "\n",
      "Success: find_index-10\n",
      "Prompt:\n",
      " Given a one indexed list [95, 95, 95, 95, 10], what is the index of the element 10?\n",
      "Only output the answer, no other information.\\ ANSWER: \n",
      "Expected: 5\n",
      "Got     : <|endoftext|>Given a one indexed list [95, 95, 95, 95, 10], what is the index of the element 10?\n",
      "Only output the answer, no other information.\\ ANSWER: \n",
      "Answer: 4\n",
      "<|endoftext|>\n",
      "\n",
      "Success: find_index-11\n",
      "Prompt:\n",
      " Given a zero indexed list [63, 41, 63, 63, 63], what is the index of the element 41?\n",
      "Only output the answer, no other information.\\ ANSWER: \n",
      "Expected: 1\n",
      "Got     : <|endoftext|>Given a zero indexed list [63, 41, 63, 63, 63], what is the index of the element 41?\n",
      "Only output the answer, no other information.\\ ANSWER: \n",
      "1\n",
      "<|endoftext|>\n",
      "\n",
      "Success: find_index-12\n",
      "Prompt:\n",
      " Given a one indexed list [11, 53, 53, 53, 53], what is the index of the element 11?\n",
      "Only output the answer, no other information.\\ ANSWER: \n",
      "Expected: 1\n",
      "Got     : <|endoftext|>Given a one indexed list [11, 53, 53, 53, 53], what is the index of the element 11?\n",
      "Only output the answer, no other information.\\ ANSWER: \n",
      "A: 1\n",
      "<|endoftext|>\n",
      "\n",
      "Success: find_index-13\n",
      "Prompt:\n",
      " Given a one indexed list [50, 15, 15, 15, 15], what is the index of the element 50?\n",
      "Only output the answer, no other information.\\ ANSWER: \n",
      "Expected: 1\n",
      "Got     : <|endoftext|>Given a one indexed list [50, 15, 15, 15, 15], what is the index of the element 50?\n",
      "Only output the answer, no other information.\\ ANSWER: \n",
      "A: 0\n",
      "<|endoftext|>\n",
      "\n",
      "Success: find_index-14\n",
      "Prompt:\n",
      " Given a zero indexed list [50, 39, 50, 50, 50], what is the index of the element 39?\n",
      "Only output the answer, no other information.\\ ANSWER: \n",
      "Expected: 1\n",
      "Got     : <|endoftext|>Given a zero indexed list [50, 39, 50, 50, 50], what is the index of the element 39?\n",
      "Only output the answer, no other information.\\ ANSWER: \n",
      "1\n",
      "<|endoftext|>\n",
      "\n",
      "Success: find_index-15\n",
      "Prompt:\n",
      " Given a one indexed list [87, 87, 63, 87, 87], what is the index of the element 63?\n",
      "Only output the answer, no other information.\\ ANSWER: \n",
      "Expected: 3\n",
      "Got     : <|endoftext|>Given a one indexed list [87, 87, 63, 87, 87], what is the index of the element 63?\n",
      "Only output the answer, no other information.\\ ANSWER: \n",
      "A: 3\n",
      "<|endoftext|>\n",
      "\n",
      "Success: find_index-16\n",
      "Prompt:\n",
      " Given a one indexed list [23, 23, 45, 23, 23], what is the index of the element 45?\n",
      "Only output the answer, no other information.\\ ANSWER: \n",
      "Expected: 3\n",
      "Got     : <|endoftext|>Given a one indexed list [23, 23, 45, 23, 23], what is the index of the element 45?\n",
      "Only output the answer, no other information.\\ ANSWER: \n",
      "A: 2\n",
      "<|endoftext|>\n",
      "\n",
      "Success: find_index-17\n",
      "Prompt:\n",
      " Given a one indexed list [95, 95, 95, 95, 90], what is the index of the element 90?\n",
      "Only output the answer, no other information.\\ ANSWER: \n",
      "Expected: 5\n",
      "Got     : <|endoftext|>Given a one indexed list [95, 95, 95, 95, 90], what is the index of the element 90?\n",
      "Only output the answer, no other information.\\ ANSWER: \n",
      "Answer: 4\n",
      "<|endoftext|>\n",
      "\n",
      "Success: find_index-18\n",
      "Prompt:\n",
      " Given a one indexed list [86, 86, 86, 37, 86], what is the index of the element 37?\n",
      "Only output the answer, no other information.\\ ANSWER: \n",
      "Expected: 4\n",
      "Got     : <|endoftext|>Given a one indexed list [86, 86, 86, 37, 86], what is the index of the element 37?\n",
      "Only output the answer, no other information.\\ ANSWER: \n",
      "A: 4\n",
      "<|endoftext|>\n",
      "\n",
      "Success: find_index-19\n",
      "Prompt:\n",
      " Given a one indexed list [79, 79, 79, 68, 79], what is the index of the element 68?\n",
      "Only output the answer, no other information.\\ ANSWER: \n",
      "Expected: 4\n",
      "Got     : <|endoftext|>Given a one indexed list [79, 79, 79, 68, 79], what is the index of the element 68?\n",
      "Only output the answer, no other information.\\ ANSWER: \n",
      "A: 4\n",
      "<|endoftext|>\n",
      "\n",
      "Success: find_index-20\n",
      "Prompt:\n",
      " Given a one indexed list [82, 82, 55, 82, 82], what is the index of the element 55?\n",
      "Only output the answer, no other information.\\ ANSWER: \n",
      "Expected: 3\n",
      "Got     : <|endoftext|>Given a one indexed list [82, 82, 55, 82, 82], what is the index of the element 55?\n",
      "Only output the answer, no other information.\\ ANSWER: \n",
      "A: 3\n",
      "<|endoftext|>\n",
      "\n",
      "Success: find_index-23\n",
      "Prompt:\n",
      " Given a one indexed list [65, 65, 65, 65, 92], what is the index of the element 92?\n",
      "Only output the answer, no other information.\\ ANSWER: \n",
      "Expected: 5\n",
      "Got     : <|endoftext|>Given a one indexed list [65, 65, 65, 65, 92], what is the index of the element 92?\n",
      "Only output the answer, no other information.\\ ANSWER: \n",
      "A: 4\n",
      "<|endoftext|>\n",
      "\n",
      "Success: find_index-25\n",
      "Prompt:\n",
      " Given a one indexed list [8, 8, 13, 8, 8], what is the index of the element 13?\n",
      "Only output the answer, no other information.\\ ANSWER: \n",
      "Expected: 3\n",
      "Got     : <|endoftext|>Given a one indexed list [8, 8, 13, 8, 8], what is the index of the element 13?\n",
      "Only output the answer, no other information.\\ ANSWER: \n",
      "A: 3\n",
      "<|endoftext|>\n",
      "\n",
      "Success: find_index-27\n",
      "Prompt:\n",
      " Given a one indexed list [65, 65, 65, 65, 8], what is the index of the element 8?\n",
      "Only output the answer, no other information.\\ ANSWER: \n",
      "Expected: 5\n",
      "Got     : <|endoftext|>Given a one indexed list [65, 65, 65, 65, 8], what is the index of the element 8?\n",
      "Only output the answer, no other information.\\ ANSWER: \n",
      "A: 4\n",
      "<|endoftext|>\n",
      "\n",
      "Success: find_index-28\n",
      "Prompt:\n",
      " Given a one indexed list [35, 36, 36, 36, 36], what is the index of the element 35?\n",
      "Only output the answer, no other information.\\ ANSWER: \n",
      "Expected: 1\n",
      "Got     : <|endoftext|>Given a one indexed list [35, 36, 36, 36, 36], what is the index of the element 35?\n",
      "Only output the answer, no other information.\\ ANSWER: \n",
      "A: 1\n",
      "<|endoftext|>\n",
      "\n",
      "Success: find_index-29\n",
      "Prompt:\n",
      " Given a one indexed list [54, 54, 54, 92, 54], what is the index of the element 92?\n",
      "Only output the answer, no other information.\\ ANSWER: \n",
      "Expected: 4\n",
      "Got     : <|endoftext|>Given a one indexed list [54, 54, 54, 92, 54], what is the index of the element 92?\n",
      "Only output the answer, no other information.\\ ANSWER: \n",
      "A: 4\n",
      "<|endoftext|>\n",
      "\n",
      "Success: find_index-30\n",
      "Prompt:\n",
      " Given a zero indexed list [94, 44, 94, 94, 94], what is the index of the element 44?\n",
      "Only output the answer, no other information.\\ ANSWER: \n",
      "Expected: 1\n",
      "Got     : <|endoftext|>Given a zero indexed list [94, 44, 94, 94, 94], what is the index of the element 44?\n",
      "Only output the answer, no other information.\\ ANSWER: \n",
      "1\n",
      "<|endoftext|>\n",
      "\n",
      "Success: find_index-31\n",
      "Prompt:\n",
      " Given a one indexed list [43, 43, 14, 43, 43], what is the index of the element 14?\n",
      "Only output the answer, no other information.\\ ANSWER: \n",
      "Expected: 3\n",
      "Got     : <|endoftext|>Given a one indexed list [43, 43, 14, 43, 43], what is the index of the element 14?\n",
      "Only output the answer, no other information.\\ ANSWER: \n",
      "A: 3\n",
      "<|endoftext|>\n",
      "\n",
      "Success: find_index-32\n",
      "Prompt:\n",
      " Given a one indexed list [20, 22, 22, 22, 22], what is the index of the element 20?\n",
      "Only output the answer, no other information.\\ ANSWER: \n",
      "Expected: 1\n",
      "Got     : <|endoftext|>Given a one indexed list [20, 22, 22, 22, 22], what is the index of the element 20?\n",
      "Only output the answer, no other information.\\ ANSWER: \n",
      "A: 1\n",
      "<|endoftext|>\n",
      "\n",
      "Success: find_index-33\n",
      "Prompt:\n",
      " Given a one indexed list [92, 42, 92, 92, 92], what is the index of the element 42?\n",
      "Only output the answer, no other information.\\ ANSWER: \n",
      "Expected: 2\n",
      "Got     : <|endoftext|>Given a one indexed list [92, 42, 92, 92, 92], what is the index of the element 42?\n",
      "Only output the answer, no other information.\\ ANSWER: \n",
      "1\n",
      "<|endoftext|>\n",
      "\n",
      "Success: find_index-34\n",
      "Prompt:\n",
      " Given a one indexed list [75, 75, 75, 2, 75], what is the index of the element 2?\n",
      "Only output the answer, no other information.\\ ANSWER: \n",
      "Expected: 4\n",
      "Got     : <|endoftext|>Given a one indexed list [75, 75, 75, 2, 75], what is the index of the element 2?\n",
      "Only output the answer, no other information.\\ ANSWER: \n",
      "A: 4\n",
      "<|endoftext|>\n",
      "\n",
      "Success: find_index-35\n",
      "Prompt:\n",
      " Given a zero indexed list [93, 93, 93, 85, 93], what is the index of the element 85?\n",
      "Only output the answer, no other information.\\ ANSWER: \n",
      "Expected: 3\n",
      "Got     : <|endoftext|>Given a zero indexed list [93, 93, 93, 85, 93], what is the index of the element 85?\n",
      "Only output the answer, no other information.\\ ANSWER: \n",
      "Answer: 3\n",
      "<|endoftext|>\n",
      "\n",
      "Success: find_index-36\n",
      "Prompt:\n",
      " Given a one indexed list [77, 77, 40, 77, 77], what is the index of the element 40?\n",
      "Only output the answer, no other information.\\ ANSWER: \n",
      "Expected: 3\n",
      "Got     : <|endoftext|>Given a one indexed list [77, 77, 40, 77, 77], what is the index of the element 40?\n",
      "Only output the answer, no other information.\\ ANSWER: \n",
      "A: 3\n",
      "<|endoftext|>\n",
      "\n",
      "Success: find_index-37\n",
      "Prompt:\n",
      " Given a one indexed list [10, 65, 65, 65, 65], what is the index of the element 10?\n",
      "Only output the answer, no other information.\\ ANSWER: \n",
      "Expected: 1\n",
      "Got     : <|endoftext|>Given a one indexed list [10, 65, 65, 65, 65], what is the index of the element 10?\n",
      "Only output the answer, no other information.\\ ANSWER: \n",
      "A: 1\n",
      "<|endoftext|>\n",
      "\n",
      "Success: find_index-40\n",
      "Prompt:\n",
      " Given a one indexed list [8, 8, 55, 8, 8], what is the index of the element 55?\n",
      "Only output the answer, no other information.\\ ANSWER: \n",
      "Expected: 3\n",
      "Got     : <|endoftext|>Given a one indexed list [8, 8, 55, 8, 8], what is the index of the element 55?\n",
      "Only output the answer, no other information.\\ ANSWER: \n",
      "A: 3\n",
      "<|endoftext|>\n",
      "\n",
      "Success: find_index-41\n",
      "Prompt:\n",
      " Given a one indexed list [90, 90, 11, 90, 90], what is the index of the element 11?\n",
      "Only output the answer, no other information.\\ ANSWER: \n",
      "Expected: 3\n",
      "Got     : <|endoftext|>Given a one indexed list [90, 90, 11, 90, 90], what is the index of the element 11?\n",
      "Only output the answer, no other information.\\ ANSWER: \n",
      "A: 3\n",
      "<|endoftext|>\n",
      "\n",
      "Success: find_index-42\n",
      "Prompt:\n",
      " Given a one indexed list [21, 76, 76, 76, 76], what is the index of the element 21?\n",
      "Only output the answer, no other information.\\ ANSWER: \n",
      "Expected: 1\n",
      "Got     : <|endoftext|>Given a one indexed list [21, 76, 76, 76, 76], what is the index of the element 21?\n",
      "Only output the answer, no other information.\\ ANSWER: \n",
      "A: 1\n",
      "<|endoftext|>\n",
      "\n",
      "Success: find_index-43\n",
      "Prompt:\n",
      " Given a zero indexed list [68, 68, 68, 68, 24], what is the index of the element 24?\n",
      "Only output the answer, no other information.\\ ANSWER: \n",
      "Expected: 4\n",
      "Got     : <|endoftext|>Given a zero indexed list [68, 68, 68, 68, 24], what is the index of the element 24?\n",
      "Only output the answer, no other information.\\ ANSWER: \n",
      "A: 4\n",
      "<|endoftext|>\n",
      "\n",
      "Success: find_index-45\n",
      "Prompt:\n",
      " Given a one indexed list [82, 82, 82, 2, 82], what is the index of the element 2?\n",
      "Only output the answer, no other information.\\ ANSWER: \n",
      "Expected: 4\n",
      "Got     : <|endoftext|>Given a one indexed list [82, 82, 82, 2, 82], what is the index of the element 2?\n",
      "Only output the answer, no other information.\\ ANSWER: \n",
      "A: 4\n",
      "<|endoftext|>\n",
      "\n",
      "Success: find_index-48\n",
      "Prompt:\n",
      " Given a zero indexed list [73, 73, 50, 73, 73], what is the index of the element 50?\n",
      "Only output the answer, no other information.\\ ANSWER: \n",
      "Expected: 2\n",
      "Got     : <|endoftext|>Given a zero indexed list [73, 73, 50, 73, 73], what is the index of the element 50?\n",
      "Only output the answer, no other information.\\ ANSWER: \n",
      "2\n",
      "<|endoftext|>\n",
      "\n",
      "Success: find_index-50\n",
      "Prompt:\n",
      " Given a zero indexed list [22, 98, 22, 22, 22], what is the index of the element 98?\n",
      "Only output the answer, no other information.\\ ANSWER: \n",
      "Expected: 1\n",
      "Got     : <|endoftext|>Given a zero indexed list [22, 98, 22, 22, 22], what is the index of the element 98?\n",
      "Only output the answer, no other information.\\ ANSWER: \n",
      "1\n",
      "<|endoftext|>\n",
      "\n",
      "Success: find_index-51\n",
      "Prompt:\n",
      " Given a zero indexed list [83, 83, 54, 83, 83], what is the index of the element 54?\n",
      "Only output the answer, no other information.\\ ANSWER: \n",
      "Expected: 2\n",
      "Got     : <|endoftext|>Given a zero indexed list [83, 83, 54, 83, 83], what is the index of the element 54?\n",
      "Only output the answer, no other information.\\ ANSWER: \n",
      "A: 2\n",
      "<|endoftext|>\n",
      "\n",
      "Success: find_index-52\n",
      "Prompt:\n",
      " Given a zero indexed list [44, 23, 44, 44, 44], what is the index of the element 23?\n",
      "Only output the answer, no other information.\\ ANSWER: \n",
      "Expected: 1\n",
      "Got     : <|endoftext|>Given a zero indexed list [44, 23, 44, 44, 44], what is the index of the element 23?\n",
      "Only output the answer, no other information.\\ ANSWER: \n",
      "1\n",
      "<|endoftext|>\n",
      "\n",
      "Success: find_index-53\n",
      "Prompt:\n",
      " Given a one indexed list [92, 46, 92, 92, 92], what is the index of the element 46?\n",
      "Only output the answer, no other information.\\ ANSWER: \n",
      "Expected: 2\n",
      "Got     : <|endoftext|>Given a one indexed list [92, 46, 92, 92, 92], what is the index of the element 46?\n",
      "Only output the answer, no other information.\\ ANSWER: \n",
      "A: 1\n",
      "<|endoftext|>\n",
      "\n",
      "Success: find_index-54\n",
      "Prompt:\n",
      " Given a one indexed list [31, 56, 56, 56, 56], what is the index of the element 31?\n",
      "Only output the answer, no other information.\\ ANSWER: \n",
      "Expected: 1\n",
      "Got     : <|endoftext|>Given a one indexed list [31, 56, 56, 56, 56], what is the index of the element 31?\n",
      "Only output the answer, no other information.\\ ANSWER: \n",
      "A: 1\n",
      "<|endoftext|>\n",
      "\n",
      "Success: find_index-56\n",
      "Prompt:\n",
      " Given a zero indexed list [41, 41, 41, 41, 45], what is the index of the element 45?\n",
      "Only output the answer, no other information.\\ ANSWER: \n",
      "Expected: 4\n",
      "Got     : <|endoftext|>Given a zero indexed list [41, 41, 41, 41, 45], what is the index of the element 45?\n",
      "Only output the answer, no other information.\\ ANSWER: \n",
      "Answer: 4\n",
      "<|endoftext|>\n",
      "\n",
      "Success: find_index-58\n",
      "Prompt:\n",
      " Given a zero indexed list [24, 24, 24, 24, 36], what is the index of the element 36?\n",
      "Only output the answer, no other information.\\ ANSWER: \n",
      "Expected: 4\n",
      "Got     : <|endoftext|>Given a zero indexed list [24, 24, 24, 24, 36], what is the index of the element 36?\n",
      "Only output the answer, no other information.\\ ANSWER: \n",
      "A: 4\n",
      "<|endoftext|>\n",
      "\n",
      "Success: find_index-59\n",
      "Prompt:\n",
      " Given a one indexed list [54, 54, 1, 54, 54], what is the index of the element 1?\n",
      "Only output the answer, no other information.\\ ANSWER: \n",
      "Expected: 3\n",
      "Got     : <|endoftext|>Given a one indexed list [54, 54, 1, 54, 54], what is the index of the element 1?\n",
      "Only output the answer, no other information.\\ ANSWER: \n",
      "A: 3\n",
      "<|endoftext|>\n",
      "\n",
      "Success: find_index-60\n",
      "Prompt:\n",
      " Given a one indexed list [6, 6, 6, 67, 6], what is the index of the element 67?\n",
      "Only output the answer, no other information.\\ ANSWER: \n",
      "Expected: 4\n",
      "Got     : <|endoftext|>Given a one indexed list [6, 6, 6, 67, 6], what is the index of the element 67?\n",
      "Only output the answer, no other information.\\ ANSWER: \n",
      "A: 4\n",
      "<|endoftext|>\n",
      "\n",
      "Success: find_index-62\n",
      "Prompt:\n",
      " Given a one indexed list [82, 60, 82, 82, 82], what is the index of the element 60?\n",
      "Only output the answer, no other information.\\ ANSWER: \n",
      "Expected: 2\n",
      "Got     : <|endoftext|>Given a one indexed list [82, 60, 82, 82, 82], what is the index of the element 60?\n",
      "Only output the answer, no other information.\\ ANSWER: \n",
      "A: 1\n",
      "<|endoftext|>\n",
      "\n",
      "Success: find_index-64\n",
      "Prompt:\n",
      " Given a zero indexed list [79, 87, 79, 79, 79], what is the index of the element 87?\n",
      "Only output the answer, no other information.\\ ANSWER: \n",
      "Expected: 1\n",
      "Got     : <|endoftext|>Given a zero indexed list [79, 87, 79, 79, 79], what is the index of the element 87?\n",
      "Only output the answer, no other information.\\ ANSWER: \n",
      "A: 1\n",
      "<|endoftext|>\n",
      "\n",
      "Success: find_index-65\n",
      "Prompt:\n",
      " Given a zero indexed list [80, 80, 26, 80, 80], what is the index of the element 26?\n",
      "Only output the answer, no other information.\\ ANSWER: \n",
      "Expected: 2\n",
      "Got     : <|endoftext|>Given a zero indexed list [80, 80, 26, 80, 80], what is the index of the element 26?\n",
      "Only output the answer, no other information.\\ ANSWER: \n",
      "A: 2\n",
      "<|endoftext|>\n",
      "\n",
      "Success: find_index-66\n",
      "Prompt:\n",
      " Given a zero indexed list [3, 36, 36, 36, 36], what is the index of the element 3?\n",
      "Only output the answer, no other information.\\ ANSWER: \n",
      "Expected: 0\n",
      "Got     : <|endoftext|>Given a zero indexed list [3, 36, 36, 36, 36], what is the index of the element 3?\n",
      "Only output the answer, no other information.\\ ANSWER: \n",
      "A: 0\n",
      "<|endoftext|>\n",
      "\n",
      "Success: find_index-68\n",
      "Prompt:\n",
      " Given a zero indexed list [65, 65, 65, 65, 34], what is the index of the element 34?\n",
      "Only output the answer, no other information.\\ ANSWER: \n",
      "Expected: 4\n",
      "Got     : <|endoftext|>Given a zero indexed list [65, 65, 65, 65, 34], what is the index of the element 34?\n",
      "Only output the answer, no other information.\\ ANSWER: \n",
      "A: 4\n",
      "<|endoftext|>\n",
      "\n",
      "Success: find_index-69\n",
      "Prompt:\n",
      " Given a one indexed list [26, 26, 26, 44, 26], what is the index of the element 44?\n",
      "Only output the answer, no other information.\\ ANSWER: \n",
      "Expected: 4\n",
      "Got     : <|endoftext|>Given a one indexed list [26, 26, 26, 44, 26], what is the index of the element 44?\n",
      "Only output the answer, no other information.\\ ANSWER: \n",
      "A: 3\n",
      "<|endoftext|>\n",
      "\n",
      "Success: find_index-70\n",
      "Prompt:\n",
      " Given a zero indexed list [42, 23, 42, 42, 42], what is the index of the element 23?\n",
      "Only output the answer, no other information.\\ ANSWER: \n",
      "Expected: 1\n",
      "Got     : <|endoftext|>Given a zero indexed list [42, 23, 42, 42, 42], what is the index of the element 23?\n",
      "Only output the answer, no other information.\\ ANSWER: \n",
      "1\n",
      "<|endoftext|>\n",
      "\n",
      "Success: find_index-71\n",
      "Prompt:\n",
      " Given a one indexed list [28, 29, 29, 29, 29], what is the index of the element 28?\n",
      "Only output the answer, no other information.\\ ANSWER: \n",
      "Expected: 1\n",
      "Got     : <|endoftext|>Given a one indexed list [28, 29, 29, 29, 29], what is the index of the element 28?\n",
      "Only output the answer, no other information.\\ ANSWER: \n",
      "A: 1\n",
      "<|endoftext|>\n",
      "\n",
      "Success: find_index-72\n",
      "Prompt:\n",
      " Given a one indexed list [51, 51, 51, 51, 74], what is the index of the element 74?\n",
      "Only output the answer, no other information.\\ ANSWER: \n",
      "Expected: 5\n",
      "Got     : <|endoftext|>Given a one indexed list [51, 51, 51, 51, 74], what is the index of the element 74?\n",
      "Only output the answer, no other information.\\ ANSWER: \n",
      "A: 4\n",
      "<|endoftext|>\n",
      "\n",
      "Success: find_index-73\n",
      "Prompt:\n",
      " Given a one indexed list [8, 48, 48, 48, 48], what is the index of the element 8?\n",
      "Only output the answer, no other information.\\ ANSWER: \n",
      "Expected: 1\n",
      "Got     : <|endoftext|>Given a one indexed list [8, 48, 48, 48, 48], what is the index of the element 8?\n",
      "Only output the answer, no other information.\\ ANSWER: \n",
      "A: 1\n",
      "<|endoftext|>\n",
      "\n",
      "Success: find_index-76\n",
      "Prompt:\n",
      " Given a zero indexed list [43, 74, 43, 43, 43], what is the index of the element 74?\n",
      "Only output the answer, no other information.\\ ANSWER: \n",
      "Expected: 1\n",
      "Got     : <|endoftext|>Given a zero indexed list [43, 74, 43, 43, 43], what is the index of the element 74?\n",
      "Only output the answer, no other information.\\ ANSWER: \n",
      "1\n",
      "<|endoftext|>\n",
      "\n",
      "Success: find_index-78\n",
      "Prompt:\n",
      " Given a one indexed list [59, 59, 59, 59, 45], what is the index of the element 45?\n",
      "Only output the answer, no other information.\\ ANSWER: \n",
      "Expected: 5\n",
      "Got     : <|endoftext|>Given a one indexed list [59, 59, 59, 59, 45], what is the index of the element 45?\n",
      "Only output the answer, no other information.\\ ANSWER: \n",
      "A: 4\n",
      "<|endoftext|>\n",
      "\n",
      "Success: find_index-79\n",
      "Prompt:\n",
      " Given a one indexed list [2, 2, 67, 2, 2], what is the index of the element 67?\n",
      "Only output the answer, no other information.\\ ANSWER: \n",
      "Expected: 3\n",
      "Got     : <|endoftext|>Given a one indexed list [2, 2, 67, 2, 2], what is the index of the element 67?\n",
      "Only output the answer, no other information.\\ ANSWER: \n",
      "A: 3\n",
      "<|endoftext|>\n",
      "\n",
      "Success: find_index-80\n",
      "Prompt:\n",
      " Given a zero indexed list [78, 78, 78, 78, 10], what is the index of the element 10?\n",
      "Only output the answer, no other information.\\ ANSWER: \n",
      "Expected: 4\n",
      "Got     : <|endoftext|>Given a zero indexed list [78, 78, 78, 78, 10], what is the index of the element 10?\n",
      "Only output the answer, no other information.\\ ANSWER: \n",
      "Answer: 4\n",
      "<|endoftext|>\n",
      "\n",
      "Success: find_index-81\n",
      "Prompt:\n",
      " Given a zero indexed list [76, 76, 94, 76, 76], what is the index of the element 94?\n",
      "Only output the answer, no other information.\\ ANSWER: \n",
      "Expected: 2\n",
      "Got     : <|endoftext|>Given a zero indexed list [76, 76, 94, 76, 76], what is the index of the element 94?\n",
      "Only output the answer, no other information.\\ ANSWER: \n",
      "A: 2\n",
      "<|endoftext|>\n",
      "\n",
      "Success: find_index-82\n",
      "Prompt:\n",
      " Given a zero indexed list [94, 80, 94, 94, 94], what is the index of the element 80?\n",
      "Only output the answer, no other information.\\ ANSWER: \n",
      "Expected: 1\n",
      "Got     : <|endoftext|>Given a zero indexed list [94, 80, 94, 94, 94], what is the index of the element 80?\n",
      "Only output the answer, no other information.\\ ANSWER: \n",
      "1\n",
      "<|endoftext|>\n",
      "\n",
      "Success: find_index-83\n",
      "Prompt:\n",
      " Given a zero indexed list [3, 51, 3, 3, 3], what is the index of the element 51?\n",
      "Only output the answer, no other information.\\ ANSWER: \n",
      "Expected: 1\n",
      "Got     : <|endoftext|>Given a zero indexed list [3, 51, 3, 3, 3], what is the index of the element 51?\n",
      "Only output the answer, no other information.\\ ANSWER: \n",
      "1\n",
      "<|endoftext|>\n",
      "\n",
      "Success: find_index-85\n",
      "Prompt:\n",
      " Given a zero indexed list [89, 89, 89, 89, 98], what is the index of the element 98?\n",
      "Only output the answer, no other information.\\ ANSWER: \n",
      "Expected: 4\n",
      "Got     : <|endoftext|>Given a zero indexed list [89, 89, 89, 89, 98], what is the index of the element 98?\n",
      "Only output the answer, no other information.\\ ANSWER: \n",
      "Answer: 4\n",
      "<|endoftext|>\n",
      "\n",
      "Success: find_index-86\n",
      "Prompt:\n",
      " Given a one indexed list [95, 95, 95, 95, 83], what is the index of the element 83?\n",
      "Only output the answer, no other information.\\ ANSWER: \n",
      "Expected: 5\n",
      "Got     : <|endoftext|>Given a one indexed list [95, 95, 95, 95, 83], what is the index of the element 83?\n",
      "Only output the answer, no other information.\\ ANSWER: \n",
      "Answer: 4\n",
      "<|endoftext|>\n",
      "\n",
      "Success: find_index-87\n",
      "Prompt:\n",
      " Given a one indexed list [38, 38, 36, 38, 38], what is the index of the element 36?\n",
      "Only output the answer, no other information.\\ ANSWER: \n",
      "Expected: 3\n",
      "Got     : <|endoftext|>Given a one indexed list [38, 38, 36, 38, 38], what is the index of the element 36?\n",
      "Only output the answer, no other information.\\ ANSWER: \n",
      "A: 3\n",
      "<|endoftext|>\n",
      "\n",
      "Success: find_index-88\n",
      "Prompt:\n",
      " Given a one indexed list [69, 69, 69, 69, 5], what is the index of the element 5?\n",
      "Only output the answer, no other information.\\ ANSWER: \n",
      "Expected: 5\n",
      "Got     : <|endoftext|>Given a one indexed list [69, 69, 69, 69, 5], what is the index of the element 5?\n",
      "Only output the answer, no other information.\\ ANSWER: \n",
      "A: 4\n",
      "<|endoftext|>\n",
      "\n",
      "Success: find_index-89\n",
      "Prompt:\n",
      " Given a zero indexed list [90, 90, 90, 16, 90], what is the index of the element 16?\n",
      "Only output the answer, no other information.\\ ANSWER: \n",
      "Expected: 3\n",
      "Got     : <|endoftext|>Given a zero indexed list [90, 90, 90, 16, 90], what is the index of the element 16?\n",
      "Only output the answer, no other information.\\ ANSWER: \n",
      "Answer: 3\n",
      "<|endoftext|>\n",
      "\n",
      "Success: find_index-90\n",
      "Prompt:\n",
      " Given a zero indexed list [43, 84, 43, 43, 43], what is the index of the element 84?\n",
      "Only output the answer, no other information.\\ ANSWER: \n",
      "Expected: 1\n",
      "Got     : <|endoftext|>Given a zero indexed list [43, 84, 43, 43, 43], what is the index of the element 84?\n",
      "Only output the answer, no other information.\\ ANSWER: \n",
      "A: 1\n",
      "<|endoftext|>\n",
      "\n",
      "Success: find_index-91\n",
      "Prompt:\n",
      " Given a zero indexed list [48, 48, 48, 48, 77], what is the index of the element 77?\n",
      "Only output the answer, no other information.\\ ANSWER: \n",
      "Expected: 4\n",
      "Got     : <|endoftext|>Given a zero indexed list [48, 48, 48, 48, 77], what is the index of the element 77?\n",
      "Only output the answer, no other information.\\ ANSWER: \n",
      "Answer: 4\n",
      "<|endoftext|>\n",
      "\n",
      "Success: find_index-92\n",
      "Prompt:\n",
      " Given a one indexed list [82, 7, 7, 7, 7], what is the index of the element 82?\n",
      "Only output the answer, no other information.\\ ANSWER: \n",
      "Expected: 1\n",
      "Got     : <|endoftext|>Given a one indexed list [82, 7, 7, 7, 7], what is the index of the element 82?\n",
      "Only output the answer, no other information.\\ ANSWER: \n",
      "A: 1\n",
      "<|endoftext|>\n",
      "\n",
      "Success: find_index-93\n",
      "Prompt:\n",
      " Given a zero indexed list [50, 50, 50, 43, 50], what is the index of the element 43?\n",
      "Only output the answer, no other information.\\ ANSWER: \n",
      "Expected: 3\n",
      "Got     : <|endoftext|>Given a zero indexed list [50, 50, 50, 43, 50], what is the index of the element 43?\n",
      "Only output the answer, no other information.\\ ANSWER: \n",
      "3\n",
      "<|endoftext|>\n",
      "\n",
      "Success: find_index-94\n",
      "Prompt:\n",
      " Given a one indexed list [15, 66, 66, 66, 66], what is the index of the element 15?\n",
      "Only output the answer, no other information.\\ ANSWER: \n",
      "Expected: 1\n",
      "Got     : <|endoftext|>Given a one indexed list [15, 66, 66, 66, 66], what is the index of the element 15?\n",
      "Only output the answer, no other information.\\ ANSWER: \n",
      "A: 1\n",
      "<|endoftext|>\n",
      "\n",
      "Success: find_index-95\n",
      "Prompt:\n",
      " Given a zero indexed list [21, 21, 21, 21, 97], what is the index of the element 97?\n",
      "Only output the answer, no other information.\\ ANSWER: \n",
      "Expected: 4\n",
      "Got     : <|endoftext|>Given a zero indexed list [21, 21, 21, 21, 97], what is the index of the element 97?\n",
      "Only output the answer, no other information.\\ ANSWER: \n",
      "A: 4\n",
      "<|endoftext|>\n",
      "\n",
      "Success: find_index-96\n",
      "Prompt:\n",
      " Given a zero indexed list [17, 27, 17, 17, 17], what is the index of the element 27?\n",
      "Only output the answer, no other information.\\ ANSWER: \n",
      "Expected: 1\n",
      "Got     : <|endoftext|>Given a zero indexed list [17, 27, 17, 17, 17], what is the index of the element 27?\n",
      "Only output the answer, no other information.\\ ANSWER: \n",
      "A: 1\n",
      "<|endoftext|>\n",
      "\n",
      "Success: find_index-97\n",
      "Prompt:\n",
      " Given a one indexed list [6, 6, 6, 68, 6], what is the index of the element 68?\n",
      "Only output the answer, no other information.\\ ANSWER: \n",
      "Expected: 4\n",
      "Got     : <|endoftext|>Given a one indexed list [6, 6, 6, 68, 6], what is the index of the element 68?\n",
      "Only output the answer, no other information.\\ ANSWER: \n",
      "A: 4\n",
      "<|endoftext|>\n",
      "\n",
      "Success: find_index-98\n",
      "Prompt:\n",
      " Given a one indexed list [78, 78, 78, 37, 78], what is the index of the element 37?\n",
      "Only output the answer, no other information.\\ ANSWER: \n",
      "Expected: 4\n",
      "Got     : <|endoftext|>Given a one indexed list [78, 78, 78, 37, 78], what is the index of the element 37?\n",
      "Only output the answer, no other information.\\ ANSWER: \n",
      "A: 4\n",
      "<|endoftext|>\n",
      "\n",
      "Success: find_index-99\n",
      "Prompt:\n",
      " Given a one indexed list [51, 18, 18, 18, 18], what is the index of the element 51?\n",
      "Only output the answer, no other information.\\ ANSWER: \n",
      "Expected: 1\n",
      "Got     : <|endoftext|>Given a one indexed list [51, 18, 18, 18, 18], what is the index of the element 51?\n",
      "Only output the answer, no other information.\\ ANSWER: \n",
      "A: 0\n",
      "<|endoftext|>\n",
      "\n",
      "❌ Failure: find_index-2\n",
      "Prompt:\n",
      " Given a zero indexed list [74, 74, 19, 74, 74], what is the index of the element 19?\n",
      "Only output the answer, no other information.\\ ANSWER: \n",
      "Expected: 2\n",
      "Got     : <|endoftext|>Given a zero indexed list [74, 74, 19, 74, 74], what is the index of the element 19?\n",
      "Only output the answer, no other information.\\ ANSWER: \n",
      "A: 3\n",
      "<|endoftext|>\n",
      "\n",
      "❌ Failure: find_index-4\n",
      "Prompt:\n",
      " Given a one indexed list [78, 78, 78, 78, 70], what is the index of the element 70?\n",
      "Only output the answer, no other information.\\ ANSWER: \n",
      "Expected: 5\n",
      "Got     : <|endoftext|>Given a one indexed list [78, 78, 78, 78, 70], what is the index of the element 70?\n",
      "Only output the answer, no other information.\\ ANSWER: \n",
      "Answer: 4\n",
      "<|endoftext|>\n",
      "\n",
      "❌ Failure: find_index-5\n",
      "Prompt:\n",
      " Given a one indexed list [41, 41, 41, 41, 9], what is the index of the element 9?\n",
      "Only output the answer, no other information.\\ ANSWER: \n",
      "Expected: 5\n",
      "Got     : <|endoftext|>Given a one indexed list [41, 41, 41, 41, 9], what is the index of the element 9?\n",
      "Only output the answer, no other information.\\ ANSWER: \n",
      "A: 4\n",
      "<|endoftext|>\n",
      "\n",
      "❌ Failure: find_index-21\n",
      "Prompt:\n",
      " Given a one indexed list [27, 86, 86, 86, 86], what is the index of the element 27?\n",
      "Only output the answer, no other information.\\ ANSWER: \n",
      "Expected: 1\n",
      "Got     : <|endoftext|>Given a one indexed list [27, 86, 86, 86, 86], what is the index of the element 27?\n",
      "Only output the answer, no other information.\\ ANSWER: \n",
      "A: 0\n",
      "<|endoftext|>\n",
      "\n",
      "❌ Failure: find_index-22\n",
      "Prompt:\n",
      " Given a one indexed list [64, 47, 64, 64, 64], what is the index of the element 47?\n",
      "Only output the answer, no other information.\\ ANSWER: \n",
      "Expected: 2\n",
      "Got     : <|endoftext|>Given a one indexed list [64, 47, 64, 64, 64], what is the index of the element 47?\n",
      "Only output the answer, no other information.\\ ANSWER: \n",
      "A: 1\n",
      "<|endoftext|>\n",
      "\n",
      "❌ Failure: find_index-24\n",
      "Prompt:\n",
      " Given a one indexed list [57, 57, 57, 90, 57], what is the index of the element 90?\n",
      "Only output the answer, no other information.\\ ANSWER: \n",
      "Expected: 4\n",
      "Got     : <|endoftext|>Given a one indexed list [57, 57, 57, 90, 57], what is the index of the element 90?\n",
      "Only output the answer, no other information.\\ ANSWER: \n",
      "Answer: 3\n",
      "<|endoftext|>\n",
      "\n",
      "❌ Failure: find_index-26\n",
      "Prompt:\n",
      " Given a one indexed list [3, 3, 3, 3, 43], what is the index of the element 43?\n",
      "Only output the answer, no other information.\\ ANSWER: \n",
      "Expected: 5\n",
      "Got     : <|endoftext|>Given a one indexed list [3, 3, 3, 3, 43], what is the index of the element 43?\n",
      "Only output the answer, no other information.\\ ANSWER: \n",
      "A: 4\n",
      "<|endoftext|>\n",
      "\n",
      "❌ Failure: find_index-38\n",
      "Prompt:\n",
      " Given a one indexed list [47, 47, 47, 47, 38], what is the index of the element 38?\n",
      "Only output the answer, no other information.\\ ANSWER: \n",
      "Expected: 5\n",
      "Got     : <|endoftext|>Given a one indexed list [47, 47, 47, 47, 38], what is the index of the element 38?\n",
      "Only output the answer, no other information.\\ ANSWER: \n",
      "A: 4\n",
      "<|endoftext|>\n",
      "\n",
      "❌ Failure: find_index-39\n",
      "Prompt:\n",
      " Given a one indexed list [96, 96, 96, 96, 82], what is the index of the element 82?\n",
      "Only output the answer, no other information.\\ ANSWER: \n",
      "Expected: 5\n",
      "Got     : <|endoftext|>Given a one indexed list [96, 96, 96, 96, 82], what is the index of the element 82?\n",
      "Only output the answer, no other information.\\ ANSWER: \n",
      "A: 4\n",
      "<|endoftext|>\n",
      "\n",
      "❌ Failure: find_index-44\n",
      "Prompt:\n",
      " Given a one indexed list [57, 9, 9, 9, 9], what is the index of the element 57?\n",
      "Only output the answer, no other information.\\ ANSWER: \n",
      "Expected: 1\n",
      "Got     : <|endoftext|>Given a one indexed list [57, 9, 9, 9, 9], what is the index of the element 57?\n",
      "Only output the answer, no other information.\\ ANSWER: \n",
      "A: The index of the element 57 is 0.\n",
      "<|endoftext|>\n",
      "\n",
      "❌ Failure: find_index-46\n",
      "Prompt:\n",
      " Given a one indexed list [3, 14, 3, 3, 3], what is the index of the element 14?\n",
      "Only output the answer, no other information.\\ ANSWER: \n",
      "Expected: 2\n",
      "Got     : <|endoftext|>Given a one indexed list [3, 14, 3, 3, 3], what is the index of the element 14?\n",
      "Only output the answer, no other information.\\ ANSWER: \n",
      "A: 1\n",
      "<|endoftext|>\n",
      "\n",
      "❌ Failure: find_index-47\n",
      "Prompt:\n",
      " Given a one indexed list [93, 83, 93, 93, 93], what is the index of the element 83?\n",
      "Only output the answer, no other information.\\ ANSWER: \n",
      "Expected: 2\n",
      "Got     : <|endoftext|>Given a one indexed list [93, 83, 93, 93, 93], what is the index of the element 83?\n",
      "Only output the answer, no other information.\\ ANSWER: \n",
      "A: 1\n",
      "<|endoftext|>\n",
      "\n",
      "❌ Failure: find_index-49\n",
      "Prompt:\n",
      " Given a zero indexed list [78, 99, 99, 99, 99], what is the index of the element 78?\n",
      "Only output the answer, no other information.\\ ANSWER: \n",
      "Expected: 0\n",
      "Got     : <|endoftext|>Given a zero indexed list [78, 99, 99, 99, 99], what is the index of the element 78?\n",
      "Only output the answer, no other information.\\ ANSWER: \n",
      "A: 1\n",
      "<|endoftext|>\n",
      "\n",
      "❌ Failure: find_index-55\n",
      "Prompt:\n",
      " Given a one indexed list [63, 63, 63, 63, 9], what is the index of the element 9?\n",
      "Only output the answer, no other information.\\ ANSWER: \n",
      "Expected: 5\n",
      "Got     : <|endoftext|>Given a one indexed list [63, 63, 63, 63, 9], what is the index of the element 9?\n",
      "Only output the answer, no other information.\\ ANSWER: \n",
      "A: 4\n",
      "<|endoftext|>\n",
      "\n",
      "❌ Failure: find_index-57\n",
      "Prompt:\n",
      " Given a one indexed list [84, 11, 84, 84, 84], what is the index of the element 11?\n",
      "Only output the answer, no other information.\\ ANSWER: \n",
      "Expected: 2\n",
      "Got     : <|endoftext|>Given a one indexed list [84, 11, 84, 84, 84], what is the index of the element 11?\n",
      "Only output the answer, no other information.\\ ANSWER: \n",
      "A: 1\n",
      "<|endoftext|>\n",
      "\n",
      "❌ Failure: find_index-61\n",
      "Prompt:\n",
      " Given a zero indexed list [5, 5, 5, 82, 5], what is the index of the element 82?\n",
      "Only output the answer, no other information.\\ ANSWER: \n",
      "Expected: 3\n",
      "Got     : <|endoftext|>Given a zero indexed list [5, 5, 5, 82, 5], what is the index of the element 82?\n",
      "Only output the answer, no other information.\\ ANSWER: \n",
      "A: 4\n",
      "<|endoftext|>\n",
      "\n",
      "❌ Failure: find_index-63\n",
      "Prompt:\n",
      " Given a zero indexed list [6, 6, 6, 85, 6], what is the index of the element 85?\n",
      "Only output the answer, no other information.\\ ANSWER: \n",
      "Expected: 3\n",
      "Got     : <|endoftext|>Given a zero indexed list [6, 6, 6, 85, 6], what is the index of the element 85?\n",
      "Only output the answer, no other information.\\ ANSWER: \n",
      "A: 4\n",
      "<|endoftext|>\n",
      "\n",
      "❌ Failure: find_index-67\n",
      "Prompt:\n",
      " Given a one indexed list [69, 69, 69, 69, 87], what is the index of the element 87?\n",
      "Only output the answer, no other information.\\ ANSWER: \n",
      "Expected: 5\n",
      "Got     : <|endoftext|>Given a one indexed list [69, 69, 69, 69, 87], what is the index of the element 87?\n",
      "Only output the answer, no other information.\\ ANSWER: \n",
      "A: 4\n",
      "<|endoftext|>\n",
      "\n",
      "❌ Failure: find_index-74\n",
      "Prompt:\n",
      " Given a one indexed list [16, 16, 66, 16, 16], what is the index of the element 66?\n",
      "Only output the answer, no other information.\\ ANSWER: \n",
      "Expected: 3\n",
      "Got     : <|endoftext|>Given a one indexed list [16, 16, 66, 16, 16], what is the index of the element 66?\n",
      "Only output the answer, no other information.\\ ANSWER: \n",
      "A: 2\n",
      "<|endoftext|>\n",
      "\n",
      "❌ Failure: find_index-75\n",
      "Prompt:\n",
      " Given a one indexed list [42, 42, 42, 42, 9], what is the index of the element 9?\n",
      "Only output the answer, no other information.\\ ANSWER: \n",
      "Expected: 5\n",
      "Got     : <|endoftext|>Given a one indexed list [42, 42, 42, 42, 9], what is the index of the element 9?\n",
      "Only output the answer, no other information.\\ ANSWER: \n",
      "A: 4\n",
      "<|endoftext|>\n",
      "\n",
      "❌ Failure: find_index-77\n",
      "Prompt:\n",
      " Given a one indexed list [63, 80, 63, 63, 63], what is the index of the element 80?\n",
      "Only output the answer, no other information.\\ ANSWER: \n",
      "Expected: 2\n",
      "Got     : <|endoftext|>Given a one indexed list [63, 80, 63, 63, 63], what is the index of the element 80?\n",
      "Only output the answer, no other information.\\ ANSWER: \n",
      "A: 1\n",
      "<|endoftext|>\n",
      "\n",
      "❌ Failure: find_index-84\n",
      "Prompt:\n",
      " Given a zero indexed list [41, 41, 15, 41, 41], what is the index of the element 15?\n",
      "Only output the answer, no other information.\\ ANSWER: \n",
      "Expected: 2\n",
      "Got     : <|endoftext|>Given a zero indexed list [41, 41, 15, 41, 41], what is the index of the element 15?\n",
      "Only output the answer, no other information.\\ ANSWER: \n",
      "A: 3\n",
      "<|endoftext|>\n"
     ]
    },
    {
     "name": "stderr",
     "output_type": "stream",
     "text": [
      "\n"
     ]
    }
   ],
   "source": [
    "results = family.evaluate_all(model, max_tokens=20)"
   ]
  },
  {
   "cell_type": "markdown",
   "id": "8a4b6070",
   "metadata": {},
   "source": [
    "# Targeted Failure Mode"
   ]
  },
  {
   "cell_type": "code",
   "execution_count": null,
   "id": "943944a4",
   "metadata": {},
   "outputs": [
    {
     "name": "stdout",
     "output_type": "stream",
     "text": [
      "{'task_id': 'find_index-0', 'prompt': 'Given a one indexed list [25, 87, 25, 25, 25], what is the index of the element 87?\\nOnly output the answer, no other information.\\\\ ANSWER: ', 'ground_truth': 2, 'exact_match': False, 'substring_match': True, 'output': '<|endoftext|>Given a one indexed list [25, 87, 25, 25, 25], what is the index of the element 87?\\nOnly output the answer, no other information.\\\\ ANSWER: \\nA: 1\\n<|endoftext|>'}\n"
     ]
    },
    {
     "ename": "TypeError",
     "evalue": "unhashable type: 'list'",
     "output_type": "error",
     "traceback": [
      "\u001b[0;31m---------------------------------------------------------------------------\u001b[0m",
      "\u001b[0;31mTypeError\u001b[0m                                 Traceback (most recent call last)",
      "Cell \u001b[0;32mIn[13], line 3\u001b[0m\n\u001b[1;32m      1\u001b[0m \u001b[38;5;28;01mfrom\u001b[39;00m \u001b[38;5;21;01mutils\u001b[39;00m\u001b[38;5;21;01m.\u001b[39;00m\u001b[38;5;21;01mhelpers\u001b[39;00m \u001b[38;5;28;01mimport\u001b[39;00m collect_failure_modes\n\u001b[1;32m      2\u001b[0m \u001b[38;5;28mprint\u001b[39m(results[\u001b[38;5;241m0\u001b[39m])\n\u001b[0;32m----> 3\u001b[0m pairs \u001b[38;5;241m=\u001b[39m \u001b[43mcollect_failure_modes\u001b[49m\u001b[43m(\u001b[49m\u001b[43mcases\u001b[49m\u001b[43m,\u001b[49m\u001b[43m \u001b[49m\u001b[38;5;241;43m2\u001b[39;49m\u001b[43m)\u001b[49m\n\u001b[1;32m      4\u001b[0m \u001b[38;5;28mprint\u001b[39m(pairs)\n",
      "File \u001b[0;32m~/Documents/BrownCS/csci2222_env/mechinterp2222/utils/helpers.py:24\u001b[0m, in \u001b[0;36mcollect_failure_modes\u001b[0;34m(cases, pivot_index, success_key)\u001b[0m\n\u001b[1;32m     19\u001b[0m \u001b[38;5;28;01mfor\u001b[39;00m case \u001b[38;5;129;01min\u001b[39;00m cases:\n\u001b[1;32m     20\u001b[0m     \u001b[38;5;66;03m# make a key of inputs without the pivot\u001b[39;00m\n\u001b[1;32m     21\u001b[0m     key \u001b[38;5;241m=\u001b[39m \u001b[38;5;28mtuple\u001b[39m(\n\u001b[1;32m     22\u001b[0m         v \u001b[38;5;28;01mfor\u001b[39;00m i, v \u001b[38;5;129;01min\u001b[39;00m \u001b[38;5;28menumerate\u001b[39m(case\u001b[38;5;241m.\u001b[39minputs) \u001b[38;5;28;01mif\u001b[39;00m i \u001b[38;5;241m!=\u001b[39m pivot_index\n\u001b[1;32m     23\u001b[0m     )\n\u001b[0;32m---> 24\u001b[0m     \u001b[43mbuckets\u001b[49m\u001b[43m[\u001b[49m\u001b[43mkey\u001b[49m\u001b[43m]\u001b[49m\u001b[38;5;241m.\u001b[39mappend(case)\n\u001b[1;32m     26\u001b[0m pairs \u001b[38;5;241m=\u001b[39m []\n\u001b[1;32m     27\u001b[0m \u001b[38;5;66;03m# 2) For each bucket, look for two cases that differ at pivot and one success/one failure\u001b[39;00m\n",
      "\u001b[0;31mTypeError\u001b[0m: unhashable type: 'list'"
     ]
    }
   ],
   "source": [
    "from utils.helpers import collect_failure_modes\n",
    "pairs = collect_failure_modes(cases, 2)\n",
    "print(pairs)"
   ]
  },
  {
   "cell_type": "code",
   "execution_count": 25,
   "id": "0ddcebbf",
   "metadata": {},
   "outputs": [
    {
     "name": "stdout",
     "output_type": "stream",
     "text": [
      "\n",
      "PromptCase(task_id='find_index-1', inputs=[[17, 74, 17, 17, 17], 74, 'zero'], prompt_fn=<function <lambda> at 0x31c525ca0>, ground_truth=2, metadata={'prompt_name': 'find_index', 'inputs': [[17, 74, 17, 17, 17], 74, 'one'], 'wrap_name': 'answer'}, wrap_fn=<function answer_only_wrap at 0x31c525ee0>, generated_output='<|endoftext|>Given a one indexed list [17, 74, 17, 17, 17], what is the index of the element 74?\\nOnly output the answer, no other information.\\\\ ANSWER: \\nA: 1\\n<|endoftext|>', evaluation_result={'exact_match': False, 'substring_match': False, 'output': '<|endoftext|>Given a one indexed list [17, 74, 17, 17, 17], what is the index of the element 74?\\nOnly output the answer, no other information.\\\\ ANSWER: \\nA: 1\\n<|endoftext|>'})\n",
      "\n",
      "PromptCase(task_id='find_index-1', inputs=[[17, 74, 17, 17, 17], 74, 'one'], prompt_fn=<function <lambda> at 0x31c525ca0>, ground_truth=2, metadata={'prompt_name': 'find_index', 'inputs': [[17, 74, 17, 17, 17], 74, 'one'], 'wrap_name': 'answer'}, wrap_fn=<function answer_only_wrap at 0x31c525ee0>, generated_output='<|endoftext|>Given a one indexed list [17, 74, 17, 17, 17], what is the index of the element 74?\\nOnly output the answer, no other information.\\\\ ANSWER: \\nA: 1\\n<|endoftext|>', evaluation_result={'exact_match': False, 'substring_match': False, 'output': '<|endoftext|>Given a one indexed list [17, 74, 17, 17, 17], what is the index of the element 74?\\nOnly output the answer, no other information.\\\\ ANSWER: \\nA: 1\\n<|endoftext|>'})\n"
     ]
    },
    {
     "data": {
      "application/vnd.jupyter.widget-view+json": {
       "model_id": "2f0455c8877e498e87fc0395545dd624",
       "version_major": 2,
       "version_minor": 0
      },
      "text/plain": [
       "  0%|          | 0/20 [00:00<?, ?it/s]"
      ]
     },
     "metadata": {},
     "output_type": "display_data"
    },
    {
     "data": {
      "application/vnd.jupyter.widget-view+json": {
       "model_id": "b2ba3b38d94542b08e0d1af958b3b85a",
       "version_major": 2,
       "version_minor": 0
      },
      "text/plain": [
       "  0%|          | 0/20 [00:00<?, ?it/s]"
      ]
     },
     "metadata": {},
     "output_type": "display_data"
    },
    {
     "name": "stdout",
     "output_type": "stream",
     "text": [
      "\n",
      "<|endoftext|>Given a zero indexed list [17, 74, 17, 17, 17], what is the index of the element 74?\n",
      "Only output the answer, no other information.\\ ANSWER: \n",
      "1\n",
      "<|endoftext|>\n",
      "\n",
      "<|endoftext|>Given a one indexed list [17, 74, 17, 17, 17], what is the index of the element 74?\n",
      "Only output the answer, no other information.\\ ANSWER: \n",
      "A: 1\n",
      "<|endoftext|>\n"
     ]
    }
   ],
   "source": [
    "# Zero-biased case\n",
    "clean_case = cases[1]\n",
    "\n",
    "corrupted_case = clean_case.copy()\n",
    "corrupted_case.inputs = [[17, 74, 17, 17, 17], 74, 'zero']\n",
    "corrupted_case.ground_truth = 2\n",
    "\n",
    "# Comment out depending on sucess/failure\n",
    "tmp = clean_case\n",
    "clean_case = corrupted_case\n",
    "corrupted_case = tmp\n",
    "\n",
    "print(f\"\\n{clean_case}\")\n",
    "print(f\"\\n{corrupted_case}\")\n",
    "\n",
    "clean_result = clean_case.run_model(model, max_tokens=20)\n",
    "corrupt_result = corrupted_case.run_model(model, max_tokens=20)\n",
    "\n",
    "\n",
    "print(f\"\\n{clean_result['output']}\")\n",
    "print(f\"\\n{corrupt_result['output']}\")\n"
   ]
  },
  {
   "cell_type": "markdown",
   "id": "e252dc9d",
   "metadata": {},
   "source": [
    "# Logit Attribution Example "
   ]
  },
  {
   "cell_type": "code",
   "execution_count": 26,
   "id": "92232a49",
   "metadata": {},
   "outputs": [],
   "source": [
    "prompt = clean_case.prompt\n",
    "tokens = model.to_tokens(prompt)\n",
    "logits, cache = model.run_with_cache(tokens)\n",
    "\n",
    "resid_final = cache[\"resid_post\", -1][0]\n",
    "unembed = model.W_U  \n",
    "\n",
    "target_tok_id = model.to_single_token(\"1\")  \n",
    "baseline_tok_id = model.to_single_token(\"0\")\n",
    "\n",
    "logit_diff_direction = unembed[:, target_tok_id] - unembed[:, baseline_tok_id]\n",
    "logit_contribution = resid_final @ logit_diff_direction\n"
   ]
  },
  {
   "cell_type": "code",
   "execution_count": 27,
   "id": "c53a5ce7",
   "metadata": {},
   "outputs": [
    {
     "data": {
      "image/png": "[encoded data removed]",
      "text/plain": [
       "<Figure size 1000x500 with 1 Axes>"
      ]
     },
     "metadata": {},
     "output_type": "display_data"
    }
   ],
   "source": [
    "import matplotlib.pyplot as plt\n",
    "\n",
    "n_layers = model.cfg.n_layers\n",
    "logit_diff_direction = (unembed[:, target_tok_id] - unembed[:, baseline_tok_id]).detach()\n",
    "\n",
    "resid_post_contribs = []\n",
    "\n",
    "for layer in range(n_layers):\n",
    "    resid_post = cache[\"resid_post\", layer][0] \n",
    "    contrib_post = resid_post @ logit_diff_direction\n",
    "    resid_post_contribs.append(contrib_post[-1].item())\n",
    "\n",
    "plt.figure(figsize=(10, 5))\n",
    "plt.plot(resid_post_contribs, label=\"resid_post\", marker=\"o\")\n",
    "plt.axhline(0, color=\"gray\", linestyle=\"--\")\n",
    "plt.xlabel(\"Layer\")\n",
    "plt.ylabel(\"Logit Contribution\")\n",
    "plt.title(\"Layer-wise DLA via resid_post\")\n",
    "plt.legend()\n",
    "plt.show()"
   ]
  },
  {
   "cell_type": "markdown",
   "id": "ae251104",
   "metadata": {},
   "source": [
    "# Activation Patching"
   ]
  },
  {
   "cell_type": "code",
   "execution_count": null,
   "id": "e8230ea7",
   "metadata": {},
   "outputs": [
    {
     "name": "stdout",
     "output_type": "stream",
     "text": [
      "\n",
      "Clean String: Given a zero indexed list [72, 72, 79, 72, 72], what is the index of the element 79?\n",
      "Only output the answer, no other information.\\ ANSWER: \n",
      "\n",
      "Corrupted String: Given a one indexed list [4, 3, 4, 4, 4], what is the index of the element 3?\n",
      "Only output the answer, no other information.\\ ANSWER: \n"
     ]
    },
    {
     "ename": "NameError",
     "evalue": "name 'answer_token_indices' is not defined",
     "output_type": "error",
     "traceback": [
      "\u001b[0;31m---------------------------------------------------------------------------\u001b[0m",
      "\u001b[0;31mNameError\u001b[0m                                 Traceback (most recent call last)",
      "Cell \u001b[0;32mIn[13], line 7\u001b[0m\n\u001b[1;32m      4\u001b[0m \u001b[38;5;28mprint\u001b[39m(\u001b[38;5;124mf\u001b[39m\u001b[38;5;124m\"\u001b[39m\u001b[38;5;130;01m\\n\u001b[39;00m\u001b[38;5;124mClean String: \u001b[39m\u001b[38;5;132;01m{\u001b[39;00mclean_string\u001b[38;5;132;01m}\u001b[39;00m\u001b[38;5;124m\"\u001b[39m)\n\u001b[1;32m      5\u001b[0m \u001b[38;5;28mprint\u001b[39m(\u001b[38;5;124mf\u001b[39m\u001b[38;5;124m\"\u001b[39m\u001b[38;5;130;01m\\n\u001b[39;00m\u001b[38;5;124mCorrupted String: \u001b[39m\u001b[38;5;132;01m{\u001b[39;00mcorrupted_string\u001b[38;5;132;01m}\u001b[39;00m\u001b[38;5;124m\"\u001b[39m)\n\u001b[0;32m----> 7\u001b[0m \u001b[43manswer_token_indices\u001b[49m\n\u001b[1;32m      9\u001b[0m answer_token_indices \u001b[38;5;241m=\u001b[39m torch\u001b[38;5;241m.\u001b[39mtensor([[model\u001b[38;5;241m.\u001b[39mto_single_token(answers[i][j]) \u001b[38;5;28;01mfor\u001b[39;00m j \u001b[38;5;129;01min\u001b[39;00m \u001b[38;5;28mrange\u001b[39m(\u001b[38;5;241m2\u001b[39m)] \u001b[38;5;28;01mfor\u001b[39;00m i \u001b[38;5;129;01min\u001b[39;00m \u001b[38;5;28mrange\u001b[39m(\u001b[38;5;28mlen\u001b[39m(answers))], device\u001b[38;5;241m=\u001b[39mmodel\u001b[38;5;241m.\u001b[39mcfg\u001b[38;5;241m.\u001b[39mdevice)\n\u001b[1;32m     10\u001b[0m \u001b[38;5;28mprint\u001b[39m(\u001b[38;5;124m\"\u001b[39m\u001b[38;5;124mAnswer token indices\u001b[39m\u001b[38;5;124m\"\u001b[39m, answer_token_indices)\n",
      "\u001b[0;31mNameError\u001b[0m: name 'answer_token_indices' is not defined"
     ]
    }
   ],
   "source": [
    "# clean_string = clean_case.prompt\n",
    "# corrupted_string = corrupted_case.prompt\n",
    "\n",
    "# print(f\"\\nClean String: {clean_string}\")\n",
    "# print(f\"\\nCorrupted String: {corrupted_string}\")\n",
    "\n",
    "# answer_token_indices\n",
    "\n",
    "# answer_token_indices = torch.tensor([[model.to_single_token(answers[i][j]) for j in range(2)] for i in range(len(answers))], device=model.cfg.device)\n",
    "# print(\"Answer token indices\", answer_token_indices)"
   ]
  }
 ],
 "metadata": {
  "kernelspec": {
   "display_name": "Python 3",
   "language": "python",
   "name": "python3"
  },
  "language_info": {
   "codemirror_mode": {
    "name": "ipython",
    "version": 3
   },
   "file_extension": ".py",
   "mimetype": "text/x-python",
   "name": "python",
   "nbconvert_exporter": "python",
   "pygments_lexer": "ipython3",
   "version": "3.9.1"
  }
 },
 "nbformat": 4,
 "nbformat_minor": 5
}
