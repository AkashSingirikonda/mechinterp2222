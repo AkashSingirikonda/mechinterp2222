{
 "cells": [
  {
   "cell_type": "code",
   "execution_count": 1,
   "id": "64a8aa0b",
   "metadata": {},
   "outputs": [
    {
     "name": "stderr",
     "output_type": "stream",
     "text": [
      "/Users/johnwu/.pyenv/versions/3.9.1/lib/python3.9/site-packages/torch/onnx/_internal/_beartype.py:36: UserWarning: unhashable type: 'list'\n",
      "  warnings.warn(f\"{e}\")\n"
     ]
    }
   ],
   "source": [
    "import sys\n",
    "import os\n",
    "\n",
    "project_root = os.path.abspath(os.path.join(os.getcwd(), \"..\"))\n",
    "if project_root not in sys.path:\n",
    "    sys.path.insert(0, project_root)\n",
    "    \n",
    "from list_prompt_family import ListPromptFamily\n",
    "from prompt_registry import PROMPT_REGISTRY, ALL_PROMPTS\n",
    "from wrap_registry import WRAP_REGISTRY\n",
    "import numpy as np"
   ]
  },
  {
   "cell_type": "code",
   "execution_count": 2,
   "id": "6c85fa26",
   "metadata": {},
   "outputs": [
    {
     "name": "stdout",
     "output_type": "stream",
     "text": [
      "Available Prompts:\n",
      "- print\n",
      "- append\n",
      "- add_all\n",
      "- insert_middle\n",
      "- swap_indices\n",
      "\n",
      "Available Wrap Styles:\n",
      "- plain\n",
      "- list\n",
      "- interpreter\n",
      "- system\n"
     ]
    }
   ],
   "source": [
    "print(\"Available Prompts:\")\n",
    "for name in PROMPT_REGISTRY[\"list\"]:\n",
    "    print(\"-\", name)\n",
    "\n",
    "print(\"\\nAvailable Wrap Styles:\")\n",
    "for name in WRAP_REGISTRY:\n",
    "    print(\"-\", name)\n"
   ]
  },
  {
   "cell_type": "code",
   "execution_count": 3,
   "id": "e03a0488",
   "metadata": {},
   "outputs": [
    {
     "name": "stdout",
     "output_type": "stream",
     "text": [
      "Prompt (raw):\n",
      " Append 4 to the end of this list [1, 2, 3]\n",
      "Ground truth: [1, 2, 3, 4]\n",
      "Wrapped Prompt:\n",
      " Pretend you are a Python interpreter.\n",
      "TASK: Append 4 to the end of this list [1, 2, 3]\n",
      "INPUT: [[1, 2, 3], 4]\n",
      "OUTPUT:\n"
     ]
    }
   ],
   "source": [
    "# Example Prompt \n",
    "prompt = PROMPT_REGISTRY[\"list\"][\"append\"]\n",
    "case = prompt.create_case(inputs=[[1, 2, 3], 4])\n",
    "\n",
    "print(\"Prompt (raw):\\n\", case.prompt)\n",
    "print(\"Ground truth:\", case.ground_truth)\n",
    "\n",
    "wrap_fn = WRAP_REGISTRY[\"interpreter\"]\n",
    "wrapped_prompt = wrap_fn(prompt.prompt_fn(case.inputs), case.inputs)\n",
    "print(\"Wrapped Prompt:\\n\", wrapped_prompt)"
   ]
  },
  {
   "cell_type": "code",
   "execution_count": 4,
   "id": "a9156a97",
   "metadata": {},
   "outputs": [
    {
     "name": "stdout",
     "output_type": "stream",
     "text": [
      "\n",
      "Prompt:\n",
      "Append 9 to the end of this list [1, 2, 3]\n",
      "Expected: [1, 2, 3, 9]\n",
      "\n",
      "Prompt:\n",
      "Append 8 to the end of this list [1, 2, 3]\n",
      "Expected: [1, 2, 3, 8]\n",
      "\n",
      "Prompt:\n",
      "Append 8 to the end of this list [1, 2, 3]\n",
      "Expected: [1, 2, 3, 8]\n"
     ]
    }
   ],
   "source": [
    "# Generating multiple prompts\n",
    "prompt.random_input_fn = lambda: [[1, 2, 3], np.random.randint(5, 10)]\n",
    "cases = prompt.create_cases(n=3)\n",
    "\n",
    "for c in cases:\n",
    "    print(\"\\nPrompt:\")\n",
    "    print(c.prompt)\n",
    "    print(\"Expected:\", c.ground_truth)\n"
   ]
  },
  {
   "cell_type": "code",
   "execution_count": 5,
   "id": "6582a674",
   "metadata": {},
   "outputs": [
    {
     "name": "stdout",
     "output_type": "stream",
     "text": [
      "\n",
      "add_all-0\n",
      "Add 8 to every element in this list: [2, 2, 1, 3]\n",
      "Only output a list, no other information.\n",
      "List:\n",
      "Expected: [10, 10, 9, 11]\n",
      "\n",
      "add_all-1\n",
      "Add 6 to every element in this list: [4, 2, 2, 3]\n",
      "Only output a list, no other information.\n",
      "List:\n",
      "Expected: [10, 8, 8, 9]\n",
      "\n",
      "add_all-2\n",
      "Add 12 to every element in this list: [3, 2, 3, 4]\n",
      "Only output a list, no other information.\n",
      "List:\n",
      "Expected: [15, 14, 15, 16]\n",
      "\n",
      "add_all-3\n",
      "Add 9 to every element in this list: [3, 3, 1, 2]\n",
      "Only output a list, no other information.\n",
      "List:\n",
      "Expected: [12, 12, 10, 11]\n",
      "\n",
      "add_all-4\n",
      "Add 14 to every element in this list: [3, 3, 4, 1]\n",
      "Only output a list, no other information.\n",
      "List:\n",
      "Expected: [17, 17, 18, 15]\n"
     ]
    }
   ],
   "source": [
    "family = ListPromptFamily(min_val=1, max_val=5, append_max=15, list_size=4)\n",
    "\n",
    "cases = family.generate(prompt_name=\"add_all\", wrap_name=\"list\", n=5)\n",
    "\n",
    "for case in cases:\n",
    "    print(f\"\\n{case.task_id}\")\n",
    "    print(case.prompt)\n",
    "    print(\"Expected:\", case.ground_truth)\n"
   ]
  },
  {
   "cell_type": "code",
   "execution_count": 6,
   "id": "a9271db1",
   "metadata": {},
   "outputs": [
    {
     "ename": "IndexError",
     "evalue": "list index out of range",
     "output_type": "error",
     "traceback": [
      "\u001b[0;31m---------------------------------------------------------------------------\u001b[0m",
      "\u001b[0;31mIndexError\u001b[0m                                Traceback (most recent call last)",
      "Cell \u001b[0;32mIn[6], line 3\u001b[0m\n\u001b[1;32m      1\u001b[0m family \u001b[38;5;241m=\u001b[39m ListPromptFamily(min_val\u001b[38;5;241m=\u001b[39m\u001b[38;5;241m0\u001b[39m, max_val\u001b[38;5;241m=\u001b[39m\u001b[38;5;241m5\u001b[39m, append_max\u001b[38;5;241m=\u001b[39m\u001b[38;5;241m10\u001b[39m, list_size\u001b[38;5;241m=\u001b[39m\u001b[38;5;241m3\u001b[39m)\n\u001b[0;32m----> 3\u001b[0m all_cases \u001b[38;5;241m=\u001b[39m \u001b[43mfamily\u001b[49m\u001b[38;5;241;43m.\u001b[39;49m\u001b[43mgenerate_all\u001b[49m\u001b[43m(\u001b[49m\u001b[43mn\u001b[49m\u001b[38;5;241;43m=\u001b[39;49m\u001b[38;5;241;43m3\u001b[39;49m\u001b[43m)\u001b[49m\n\u001b[1;32m      5\u001b[0m \u001b[38;5;28;01mfor\u001b[39;00m case \u001b[38;5;129;01min\u001b[39;00m all_cases:\n\u001b[1;32m      6\u001b[0m     \u001b[38;5;28mprint\u001b[39m(\u001b[38;5;124mf\u001b[39m\u001b[38;5;124m\"\u001b[39m\u001b[38;5;130;01m\\n\u001b[39;00m\u001b[38;5;132;01m{\u001b[39;00mcase\u001b[38;5;241m.\u001b[39mtask_id\u001b[38;5;132;01m}\u001b[39;00m\u001b[38;5;124m | wrap: \u001b[39m\u001b[38;5;132;01m{\u001b[39;00mcase\u001b[38;5;241m.\u001b[39mmetadata[\u001b[38;5;124m'\u001b[39m\u001b[38;5;124mwrap_name\u001b[39m\u001b[38;5;124m'\u001b[39m]\u001b[38;5;132;01m}\u001b[39;00m\u001b[38;5;124m\"\u001b[39m)\n",
      "File \u001b[0;32m~/Documents/BrownCS/csci2222_env/mechinterp2222/utils/prompt_interface.py:89\u001b[0m, in \u001b[0;36mPromptFamily.generate_all\u001b[0;34m(self, n)\u001b[0m\n\u001b[1;32m     87\u001b[0m \u001b[38;5;28;01mfor\u001b[39;00m prompt_name \u001b[38;5;129;01min\u001b[39;00m \u001b[38;5;28mself\u001b[39m\u001b[38;5;241m.\u001b[39mprompts:\n\u001b[1;32m     88\u001b[0m     \u001b[38;5;28;01mfor\u001b[39;00m wrap_name \u001b[38;5;129;01min\u001b[39;00m \u001b[38;5;28mself\u001b[39m\u001b[38;5;241m.\u001b[39mwraps:\n\u001b[0;32m---> 89\u001b[0m         \u001b[38;5;28;43mself\u001b[39;49m\u001b[38;5;241;43m.\u001b[39;49m\u001b[43mgenerate\u001b[49m\u001b[43m(\u001b[49m\u001b[43mprompt_name\u001b[49m\u001b[43m,\u001b[49m\u001b[43m \u001b[49m\u001b[43mwrap_name\u001b[49m\u001b[43m,\u001b[49m\u001b[43m \u001b[49m\u001b[43mn\u001b[49m\u001b[43m)\u001b[49m\n\u001b[1;32m     90\u001b[0m \u001b[38;5;28;01mreturn\u001b[39;00m \u001b[38;5;28mself\u001b[39m\u001b[38;5;241m.\u001b[39mcases\n",
      "File \u001b[0;32m~/Documents/BrownCS/csci2222_env/mechinterp2222/utils/prompt_interface.py:78\u001b[0m, in \u001b[0;36mPromptFamily.generate\u001b[0;34m(self, prompt_name, wrap_name, n)\u001b[0m\n\u001b[1;32m     75\u001b[0m prompt \u001b[38;5;241m=\u001b[39m \u001b[38;5;28mself\u001b[39m\u001b[38;5;241m.\u001b[39mprompts[prompt_name]\n\u001b[1;32m     76\u001b[0m wrap_fn \u001b[38;5;241m=\u001b[39m \u001b[38;5;28mself\u001b[39m\u001b[38;5;241m.\u001b[39mwraps[wrap_name]\n\u001b[0;32m---> 78\u001b[0m cases \u001b[38;5;241m=\u001b[39m \u001b[43mprompt\u001b[49m\u001b[38;5;241;43m.\u001b[39;49m\u001b[43mcreate_cases\u001b[49m\u001b[43m(\u001b[49m\u001b[43mn\u001b[49m\u001b[43m)\u001b[49m\n\u001b[1;32m     79\u001b[0m \u001b[38;5;28;01mfor\u001b[39;00m case \u001b[38;5;129;01min\u001b[39;00m cases:\n\u001b[1;32m     80\u001b[0m     \u001b[38;5;28;01mcase\u001b[39;00m\u001b[38;5;241m.\u001b[39mwrap_fn \u001b[38;5;241m=\u001b[39m wrap_fn\n",
      "File \u001b[0;32m~/Documents/BrownCS/csci2222_env/mechinterp2222/utils/prompt_interface.py:52\u001b[0m, in \u001b[0;36mPrompt.create_cases\u001b[0;34m(self, n)\u001b[0m\n\u001b[1;32m     51\u001b[0m \u001b[38;5;28;01mdef\u001b[39;00m \u001b[38;5;21mcreate_cases\u001b[39m(\u001b[38;5;28mself\u001b[39m, n: \u001b[38;5;28mint\u001b[39m) \u001b[38;5;241m-\u001b[39m\u001b[38;5;241m>\u001b[39m List[PromptCase]:\n\u001b[0;32m---> 52\u001b[0m     \u001b[38;5;28;01mreturn\u001b[39;00m [\u001b[38;5;28mself\u001b[39m\u001b[38;5;241m.\u001b[39mcreate_case() \u001b[38;5;28;01mfor\u001b[39;00m _ \u001b[38;5;129;01min\u001b[39;00m \u001b[38;5;28mrange\u001b[39m(n)]\n",
      "File \u001b[0;32m~/Documents/BrownCS/csci2222_env/mechinterp2222/utils/prompt_interface.py:52\u001b[0m, in \u001b[0;36m<listcomp>\u001b[0;34m(.0)\u001b[0m\n\u001b[1;32m     51\u001b[0m \u001b[38;5;28;01mdef\u001b[39;00m \u001b[38;5;21mcreate_cases\u001b[39m(\u001b[38;5;28mself\u001b[39m, n: \u001b[38;5;28mint\u001b[39m) \u001b[38;5;241m-\u001b[39m\u001b[38;5;241m>\u001b[39m List[PromptCase]:\n\u001b[0;32m---> 52\u001b[0m     \u001b[38;5;28;01mreturn\u001b[39;00m [\u001b[38;5;28;43mself\u001b[39;49m\u001b[38;5;241;43m.\u001b[39;49m\u001b[43mcreate_case\u001b[49m\u001b[43m(\u001b[49m\u001b[43m)\u001b[49m \u001b[38;5;28;01mfor\u001b[39;00m _ \u001b[38;5;129;01min\u001b[39;00m \u001b[38;5;28mrange\u001b[39m(n)]\n",
      "File \u001b[0;32m~/Documents/BrownCS/csci2222_env/mechinterp2222/utils/prompt_interface.py:34\u001b[0m, in \u001b[0;36mPrompt.create_case\u001b[0;34m(self, inputs, task_id, metadata)\u001b[0m\n\u001b[1;32m     27\u001b[0m \u001b[38;5;28;01mdef\u001b[39;00m \u001b[38;5;21mcreate_case\u001b[39m(\n\u001b[1;32m     28\u001b[0m     \u001b[38;5;28mself\u001b[39m,\n\u001b[1;32m     29\u001b[0m     inputs: Optional[List[Any]] \u001b[38;5;241m=\u001b[39m \u001b[38;5;28;01mNone\u001b[39;00m,\n\u001b[1;32m     30\u001b[0m     task_id: Optional[\u001b[38;5;28mstr\u001b[39m] \u001b[38;5;241m=\u001b[39m \u001b[38;5;28;01mNone\u001b[39;00m,\n\u001b[1;32m     31\u001b[0m     metadata: Optional[Dict] \u001b[38;5;241m=\u001b[39m \u001b[38;5;28;01mNone\u001b[39;00m,\n\u001b[1;32m     32\u001b[0m ) \u001b[38;5;241m-\u001b[39m\u001b[38;5;241m>\u001b[39m PromptCase:\n\u001b[1;32m     33\u001b[0m     inputs \u001b[38;5;241m=\u001b[39m inputs \u001b[38;5;129;01mor\u001b[39;00m \u001b[38;5;28mself\u001b[39m\u001b[38;5;241m.\u001b[39mrandom_inputs()\n\u001b[0;32m---> 34\u001b[0m     ground_truth \u001b[38;5;241m=\u001b[39m \u001b[38;5;28;43mself\u001b[39;49m\u001b[38;5;241;43m.\u001b[39;49m\u001b[43mtransform_fn\u001b[49m\u001b[43m(\u001b[49m\u001b[43minputs\u001b[49m\u001b[43m)\u001b[49m \u001b[38;5;28;01mif\u001b[39;00m \u001b[38;5;28mself\u001b[39m\u001b[38;5;241m.\u001b[39mtransform_fn \u001b[38;5;28;01melse\u001b[39;00m inputs\n\u001b[1;32m     35\u001b[0m     task_id \u001b[38;5;241m=\u001b[39m task_id \u001b[38;5;129;01mor\u001b[39;00m \u001b[38;5;124mf\u001b[39m\u001b[38;5;124m\"\u001b[39m\u001b[38;5;132;01m{\u001b[39;00m\u001b[38;5;28mself\u001b[39m\u001b[38;5;241m.\u001b[39mname\u001b[38;5;132;01m}\u001b[39;00m\u001b[38;5;124m-\u001b[39m\u001b[38;5;132;01m{\u001b[39;00m\u001b[38;5;28mself\u001b[39m\u001b[38;5;241m.\u001b[39mcase_counter\u001b[38;5;132;01m}\u001b[39;00m\u001b[38;5;124m\"\u001b[39m\n\u001b[1;32m     36\u001b[0m     \u001b[38;5;28mself\u001b[39m\u001b[38;5;241m.\u001b[39mcase_counter \u001b[38;5;241m+\u001b[39m\u001b[38;5;241m=\u001b[39m \u001b[38;5;241m1\u001b[39m\n",
      "File \u001b[0;32m~/Documents/BrownCS/csci2222_env/mechinterp2222/utils/prompt_registry.py:39\u001b[0m, in \u001b[0;36m<lambda>\u001b[0;34m(inp)\u001b[0m\n\u001b[1;32m     19\u001b[0m ADD_ALL_PROMPT \u001b[38;5;241m=\u001b[39m Prompt(\n\u001b[1;32m     20\u001b[0m     name\u001b[38;5;241m=\u001b[39m\u001b[38;5;124m\"\u001b[39m\u001b[38;5;124madd_all\u001b[39m\u001b[38;5;124m\"\u001b[39m,\n\u001b[1;32m     21\u001b[0m     prompt_fn\u001b[38;5;241m=\u001b[39m\u001b[38;5;28;01mlambda\u001b[39;00m inp: \u001b[38;5;124mf\u001b[39m\u001b[38;5;124m\"\u001b[39m\u001b[38;5;124mAdd \u001b[39m\u001b[38;5;132;01m{\u001b[39;00minp[\u001b[38;5;241m1\u001b[39m]\u001b[38;5;132;01m}\u001b[39;00m\u001b[38;5;124m to every element in this list: \u001b[39m\u001b[38;5;132;01m{\u001b[39;00minp[\u001b[38;5;241m0\u001b[39m]\u001b[38;5;132;01m}\u001b[39;00m\u001b[38;5;124m\"\u001b[39m,\n\u001b[1;32m     22\u001b[0m     transform_fn\u001b[38;5;241m=\u001b[39m\u001b[38;5;28;01mlambda\u001b[39;00m inp: [x \u001b[38;5;241m+\u001b[39m inp[\u001b[38;5;241m1\u001b[39m] \u001b[38;5;28;01mfor\u001b[39;00m x \u001b[38;5;129;01min\u001b[39;00m inp[\u001b[38;5;241m0\u001b[39m]],\n\u001b[1;32m     23\u001b[0m     random_input_fn\u001b[38;5;241m=\u001b[39m\u001b[38;5;28;01mNone\u001b[39;00m,\n\u001b[1;32m     24\u001b[0m )\n\u001b[1;32m     26\u001b[0m INSERT_MIDDLE_PROMPT \u001b[38;5;241m=\u001b[39m Prompt(\n\u001b[1;32m     27\u001b[0m     name\u001b[38;5;241m=\u001b[39m\u001b[38;5;124m\"\u001b[39m\u001b[38;5;124minsert_middle\u001b[39m\u001b[38;5;124m\"\u001b[39m,\n\u001b[1;32m     28\u001b[0m     prompt_fn\u001b[38;5;241m=\u001b[39m\u001b[38;5;28;01mlambda\u001b[39;00m inp: \u001b[38;5;124mf\u001b[39m\u001b[38;5;124m\"\u001b[39m\u001b[38;5;124mInsert \u001b[39m\u001b[38;5;132;01m{\u001b[39;00minp[\u001b[38;5;241m1\u001b[39m]\u001b[38;5;132;01m}\u001b[39;00m\u001b[38;5;124m between the third and fourth element in this list: \u001b[39m\u001b[38;5;132;01m{\u001b[39;00minp[\u001b[38;5;241m0\u001b[39m]\u001b[38;5;132;01m}\u001b[39;00m\u001b[38;5;124m\"\u001b[39m,\n\u001b[1;32m     29\u001b[0m     transform_fn\u001b[38;5;241m=\u001b[39m\u001b[38;5;28;01mlambda\u001b[39;00m inp: inp[\u001b[38;5;241m0\u001b[39m][:\u001b[38;5;241m3\u001b[39m] \u001b[38;5;241m+\u001b[39m [inp[\u001b[38;5;241m1\u001b[39m]] \u001b[38;5;241m+\u001b[39m inp[\u001b[38;5;241m0\u001b[39m][\u001b[38;5;241m3\u001b[39m:],\n\u001b[1;32m     30\u001b[0m     random_input_fn\u001b[38;5;241m=\u001b[39m\u001b[38;5;28;01mNone\u001b[39;00m,\n\u001b[1;32m     31\u001b[0m )\n\u001b[1;32m     33\u001b[0m SWAP_INDICES_PROMPT \u001b[38;5;241m=\u001b[39m Prompt(\n\u001b[1;32m     34\u001b[0m     name\u001b[38;5;241m=\u001b[39m\u001b[38;5;124m\"\u001b[39m\u001b[38;5;124mswap_indices\u001b[39m\u001b[38;5;124m\"\u001b[39m,\n\u001b[1;32m     35\u001b[0m     prompt_fn\u001b[38;5;241m=\u001b[39m\u001b[38;5;28;01mlambda\u001b[39;00m inp: (\n\u001b[1;32m     36\u001b[0m         \u001b[38;5;124mf\u001b[39m\u001b[38;5;124m\"\u001b[39m\u001b[38;5;124mGiven a \u001b[39m\u001b[38;5;132;01m{\u001b[39;00minp[\u001b[38;5;241m3\u001b[39m]\u001b[38;5;132;01m}\u001b[39;00m\u001b[38;5;124m indexed list, \u001b[39m\u001b[38;5;132;01m{\u001b[39;00minp[\u001b[38;5;241m0\u001b[39m]\u001b[38;5;132;01m}\u001b[39;00m\u001b[38;5;124m, \u001b[39m\u001b[38;5;124m\"\u001b[39m\n\u001b[1;32m     37\u001b[0m         \u001b[38;5;124mf\u001b[39m\u001b[38;5;124m\"\u001b[39m\u001b[38;5;124mwhat would the list be if you swapped the elements at position \u001b[39m\u001b[38;5;132;01m{\u001b[39;00minp[\u001b[38;5;241m1\u001b[39m]\u001b[38;5;132;01m}\u001b[39;00m\u001b[38;5;124m and \u001b[39m\u001b[38;5;132;01m{\u001b[39;00minp[\u001b[38;5;241m2\u001b[39m]\u001b[38;5;132;01m}\u001b[39;00m\u001b[38;5;124m?\u001b[39m\u001b[38;5;124m\"\u001b[39m\n\u001b[1;32m     38\u001b[0m     ),\n\u001b[0;32m---> 39\u001b[0m     transform_fn\u001b[38;5;241m=\u001b[39m\u001b[38;5;28;01mlambda\u001b[39;00m inp: \u001b[43m(\u001b[49m\n\u001b[1;32m     40\u001b[0m \u001b[43m        \u001b[49m\u001b[38;5;28;43;01mlambda\u001b[39;49;00m\u001b[43m \u001b[49m\u001b[43mx\u001b[49m\u001b[43m:\u001b[49m\u001b[43m \u001b[49m\u001b[43m(\u001b[49m\u001b[43mx\u001b[49m\u001b[43m \u001b[49m\u001b[38;5;241;43m:=\u001b[39;49m\u001b[43m \u001b[49m\u001b[43mx\u001b[49m\u001b[38;5;241;43m.\u001b[39;49m\u001b[43mcopy\u001b[49m\u001b[43m(\u001b[49m\u001b[43m)\u001b[49m\u001b[43m,\u001b[49m\u001b[43m \u001b[49m\u001b[43mx\u001b[49m\u001b[38;5;241;43m.\u001b[39;49m\u001b[38;5;21;43m__setitem__\u001b[39;49m\u001b[43m(\u001b[49m\u001b[43minp\u001b[49m\u001b[43m[\u001b[49m\u001b[38;5;241;43m1\u001b[39;49m\u001b[43m]\u001b[49m\u001b[43m,\u001b[49m\u001b[43m \u001b[49m\u001b[43mx\u001b[49m\u001b[43m[\u001b[49m\u001b[43minp\u001b[49m\u001b[43m[\u001b[49m\u001b[38;5;241;43m2\u001b[39;49m\u001b[43m]\u001b[49m\u001b[43m]\u001b[49m\u001b[43m)\u001b[49m\u001b[43m,\u001b[49m\n\u001b[1;32m     41\u001b[0m \u001b[43m                   \u001b[49m\u001b[43mx\u001b[49m\u001b[38;5;241;43m.\u001b[39;49m\u001b[38;5;21;43m__setitem__\u001b[39;49m\u001b[43m(\u001b[49m\u001b[43minp\u001b[49m\u001b[43m[\u001b[49m\u001b[38;5;241;43m2\u001b[39;49m\u001b[43m]\u001b[49m\u001b[43m,\u001b[49m\u001b[43m \u001b[49m\u001b[43minp\u001b[49m\u001b[43m[\u001b[49m\u001b[38;5;241;43m0\u001b[39;49m\u001b[43m]\u001b[49m\u001b[43m[\u001b[49m\u001b[43minp\u001b[49m\u001b[43m[\u001b[49m\u001b[38;5;241;43m1\u001b[39;49m\u001b[43m]\u001b[49m\u001b[43m]\u001b[49m\u001b[43m)\u001b[49m\u001b[43m,\u001b[49m\u001b[43m \u001b[49m\u001b[43mx\u001b[49m\u001b[43m)\u001b[49m\u001b[43m[\u001b[49m\u001b[38;5;241;43m-\u001b[39;49m\u001b[38;5;241;43m1\u001b[39;49m\u001b[43m]\u001b[49m\n\u001b[1;32m     42\u001b[0m \u001b[43m    \u001b[49m\u001b[43m)\u001b[49m\u001b[43m(\u001b[49m\u001b[43minp\u001b[49m\u001b[43m[\u001b[49m\u001b[38;5;241;43m0\u001b[39;49m\u001b[43m]\u001b[49m\u001b[43m)\u001b[49m,\n\u001b[1;32m     43\u001b[0m     random_input_fn\u001b[38;5;241m=\u001b[39m\u001b[38;5;28;01mNone\u001b[39;00m,\n\u001b[1;32m     44\u001b[0m )\n\u001b[1;32m     47\u001b[0m LIST_PROMPTS \u001b[38;5;241m=\u001b[39m [\n\u001b[1;32m     48\u001b[0m     PRINT_PROMPT,\n\u001b[1;32m     49\u001b[0m     APPEND_PROMPT,\n\u001b[0;32m   (...)\u001b[0m\n\u001b[1;32m     52\u001b[0m     SWAP_INDICES_PROMPT,\n\u001b[1;32m     53\u001b[0m ]\n\u001b[1;32m     55\u001b[0m PROMPT_REGISTRY \u001b[38;5;241m=\u001b[39m {\n\u001b[1;32m     56\u001b[0m     \u001b[38;5;124m\"\u001b[39m\u001b[38;5;124mlist\u001b[39m\u001b[38;5;124m\"\u001b[39m: {p\u001b[38;5;241m.\u001b[39mname: p \u001b[38;5;28;01mfor\u001b[39;00m p \u001b[38;5;129;01min\u001b[39;00m LIST_PROMPTS}\n\u001b[1;32m     57\u001b[0m }\n",
      "File \u001b[0;32m~/Documents/BrownCS/csci2222_env/mechinterp2222/utils/prompt_registry.py:40\u001b[0m, in \u001b[0;36m<lambda>.<locals>.<lambda>\u001b[0;34m(x)\u001b[0m\n\u001b[1;32m     19\u001b[0m ADD_ALL_PROMPT \u001b[38;5;241m=\u001b[39m Prompt(\n\u001b[1;32m     20\u001b[0m     name\u001b[38;5;241m=\u001b[39m\u001b[38;5;124m\"\u001b[39m\u001b[38;5;124madd_all\u001b[39m\u001b[38;5;124m\"\u001b[39m,\n\u001b[1;32m     21\u001b[0m     prompt_fn\u001b[38;5;241m=\u001b[39m\u001b[38;5;28;01mlambda\u001b[39;00m inp: \u001b[38;5;124mf\u001b[39m\u001b[38;5;124m\"\u001b[39m\u001b[38;5;124mAdd \u001b[39m\u001b[38;5;132;01m{\u001b[39;00minp[\u001b[38;5;241m1\u001b[39m]\u001b[38;5;132;01m}\u001b[39;00m\u001b[38;5;124m to every element in this list: \u001b[39m\u001b[38;5;132;01m{\u001b[39;00minp[\u001b[38;5;241m0\u001b[39m]\u001b[38;5;132;01m}\u001b[39;00m\u001b[38;5;124m\"\u001b[39m,\n\u001b[1;32m     22\u001b[0m     transform_fn\u001b[38;5;241m=\u001b[39m\u001b[38;5;28;01mlambda\u001b[39;00m inp: [x \u001b[38;5;241m+\u001b[39m inp[\u001b[38;5;241m1\u001b[39m] \u001b[38;5;28;01mfor\u001b[39;00m x \u001b[38;5;129;01min\u001b[39;00m inp[\u001b[38;5;241m0\u001b[39m]],\n\u001b[1;32m     23\u001b[0m     random_input_fn\u001b[38;5;241m=\u001b[39m\u001b[38;5;28;01mNone\u001b[39;00m,\n\u001b[1;32m     24\u001b[0m )\n\u001b[1;32m     26\u001b[0m INSERT_MIDDLE_PROMPT \u001b[38;5;241m=\u001b[39m Prompt(\n\u001b[1;32m     27\u001b[0m     name\u001b[38;5;241m=\u001b[39m\u001b[38;5;124m\"\u001b[39m\u001b[38;5;124minsert_middle\u001b[39m\u001b[38;5;124m\"\u001b[39m,\n\u001b[1;32m     28\u001b[0m     prompt_fn\u001b[38;5;241m=\u001b[39m\u001b[38;5;28;01mlambda\u001b[39;00m inp: \u001b[38;5;124mf\u001b[39m\u001b[38;5;124m\"\u001b[39m\u001b[38;5;124mInsert \u001b[39m\u001b[38;5;132;01m{\u001b[39;00minp[\u001b[38;5;241m1\u001b[39m]\u001b[38;5;132;01m}\u001b[39;00m\u001b[38;5;124m between the third and fourth element in this list: \u001b[39m\u001b[38;5;132;01m{\u001b[39;00minp[\u001b[38;5;241m0\u001b[39m]\u001b[38;5;132;01m}\u001b[39;00m\u001b[38;5;124m\"\u001b[39m,\n\u001b[1;32m     29\u001b[0m     transform_fn\u001b[38;5;241m=\u001b[39m\u001b[38;5;28;01mlambda\u001b[39;00m inp: inp[\u001b[38;5;241m0\u001b[39m][:\u001b[38;5;241m3\u001b[39m] \u001b[38;5;241m+\u001b[39m [inp[\u001b[38;5;241m1\u001b[39m]] \u001b[38;5;241m+\u001b[39m inp[\u001b[38;5;241m0\u001b[39m][\u001b[38;5;241m3\u001b[39m:],\n\u001b[1;32m     30\u001b[0m     random_input_fn\u001b[38;5;241m=\u001b[39m\u001b[38;5;28;01mNone\u001b[39;00m,\n\u001b[1;32m     31\u001b[0m )\n\u001b[1;32m     33\u001b[0m SWAP_INDICES_PROMPT \u001b[38;5;241m=\u001b[39m Prompt(\n\u001b[1;32m     34\u001b[0m     name\u001b[38;5;241m=\u001b[39m\u001b[38;5;124m\"\u001b[39m\u001b[38;5;124mswap_indices\u001b[39m\u001b[38;5;124m\"\u001b[39m,\n\u001b[1;32m     35\u001b[0m     prompt_fn\u001b[38;5;241m=\u001b[39m\u001b[38;5;28;01mlambda\u001b[39;00m inp: (\n\u001b[1;32m     36\u001b[0m         \u001b[38;5;124mf\u001b[39m\u001b[38;5;124m\"\u001b[39m\u001b[38;5;124mGiven a \u001b[39m\u001b[38;5;132;01m{\u001b[39;00minp[\u001b[38;5;241m3\u001b[39m]\u001b[38;5;132;01m}\u001b[39;00m\u001b[38;5;124m indexed list, \u001b[39m\u001b[38;5;132;01m{\u001b[39;00minp[\u001b[38;5;241m0\u001b[39m]\u001b[38;5;132;01m}\u001b[39;00m\u001b[38;5;124m, \u001b[39m\u001b[38;5;124m\"\u001b[39m\n\u001b[1;32m     37\u001b[0m         \u001b[38;5;124mf\u001b[39m\u001b[38;5;124m\"\u001b[39m\u001b[38;5;124mwhat would the list be if you swapped the elements at position \u001b[39m\u001b[38;5;132;01m{\u001b[39;00minp[\u001b[38;5;241m1\u001b[39m]\u001b[38;5;132;01m}\u001b[39;00m\u001b[38;5;124m and \u001b[39m\u001b[38;5;132;01m{\u001b[39;00minp[\u001b[38;5;241m2\u001b[39m]\u001b[38;5;132;01m}\u001b[39;00m\u001b[38;5;124m?\u001b[39m\u001b[38;5;124m\"\u001b[39m\n\u001b[1;32m     38\u001b[0m     ),\n\u001b[1;32m     39\u001b[0m     transform_fn\u001b[38;5;241m=\u001b[39m\u001b[38;5;28;01mlambda\u001b[39;00m inp: (\n\u001b[0;32m---> 40\u001b[0m         \u001b[38;5;28;01mlambda\u001b[39;00m x: (x \u001b[38;5;241m:=\u001b[39m x\u001b[38;5;241m.\u001b[39mcopy(), x\u001b[38;5;241m.\u001b[39m\u001b[38;5;21m__setitem__\u001b[39m(inp[\u001b[38;5;241m1\u001b[39m], \u001b[43mx\u001b[49m\u001b[43m[\u001b[49m\u001b[43minp\u001b[49m\u001b[43m[\u001b[49m\u001b[38;5;241;43m2\u001b[39;49m\u001b[43m]\u001b[49m\u001b[43m]\u001b[49m),\n\u001b[1;32m     41\u001b[0m                    x\u001b[38;5;241m.\u001b[39m\u001b[38;5;21m__setitem__\u001b[39m(inp[\u001b[38;5;241m2\u001b[39m], inp[\u001b[38;5;241m0\u001b[39m][inp[\u001b[38;5;241m1\u001b[39m]]), x)[\u001b[38;5;241m-\u001b[39m\u001b[38;5;241m1\u001b[39m]\n\u001b[1;32m     42\u001b[0m     )(inp[\u001b[38;5;241m0\u001b[39m]),\n\u001b[1;32m     43\u001b[0m     random_input_fn\u001b[38;5;241m=\u001b[39m\u001b[38;5;28;01mNone\u001b[39;00m,\n\u001b[1;32m     44\u001b[0m )\n\u001b[1;32m     47\u001b[0m LIST_PROMPTS \u001b[38;5;241m=\u001b[39m [\n\u001b[1;32m     48\u001b[0m     PRINT_PROMPT,\n\u001b[1;32m     49\u001b[0m     APPEND_PROMPT,\n\u001b[0;32m   (...)\u001b[0m\n\u001b[1;32m     52\u001b[0m     SWAP_INDICES_PROMPT,\n\u001b[1;32m     53\u001b[0m ]\n\u001b[1;32m     55\u001b[0m PROMPT_REGISTRY \u001b[38;5;241m=\u001b[39m {\n\u001b[1;32m     56\u001b[0m     \u001b[38;5;124m\"\u001b[39m\u001b[38;5;124mlist\u001b[39m\u001b[38;5;124m\"\u001b[39m: {p\u001b[38;5;241m.\u001b[39mname: p \u001b[38;5;28;01mfor\u001b[39;00m p \u001b[38;5;129;01min\u001b[39;00m LIST_PROMPTS}\n\u001b[1;32m     57\u001b[0m }\n",
      "\u001b[0;31mIndexError\u001b[0m: list index out of range"
     ]
    }
   ],
   "source": [
    "family = ListPromptFamily(min_val=0, max_val=5, append_max=10, list_size=3)\n",
    "\n",
    "all_cases = family.generate_all(n=3)\n",
    "\n",
    "for case in all_cases:\n",
    "    print(f\"\\n{case.task_id} | wrap: {case.metadata['wrap_name']}\")\n",
    "    print(case.prompt)\n",
    "    print(\"Expected:\", case.ground_truth)\n"
   ]
  }
 ],
 "metadata": {
  "kernelspec": {
   "display_name": "Python 3",
   "language": "python",
   "name": "python3"
  },
  "language_info": {
   "codemirror_mode": {
    "name": "ipython",
    "version": 3
   },
   "file_extension": ".py",
   "mimetype": "text/x-python",
   "name": "python",
   "nbconvert_exporter": "python",
   "pygments_lexer": "ipython3",
   "version": "3.9.1"
  }
 },
 "nbformat": 4,
 "nbformat_minor": 5
}
