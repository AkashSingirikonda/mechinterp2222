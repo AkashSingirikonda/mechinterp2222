{
 "cells": [
  {
   "cell_type": "code",
   "execution_count": 38,
   "metadata": {},
   "outputs": [],
   "source": [
    "import random\n",
    "from typing import List, Tuple, Dict, Callable, Optional\n",
    "from dataclasses import dataclass\n",
    "import torch\n",
    "from transformer_lens import HookedTransformer\n",
    "from transformer_lens import patching\n",
    "import transformer_lens.utils as utils\n",
    "import ollama\n",
    "import re\n",
    "import numpy as np\n",
    "import os\n",
    "from dotenv import load_dotenv\n",
    "from tqdm.notebook import tqdm\n",
    "import json\n",
    "import matplotlib.pyplot as plt\n",
    "from neel_plotly import line, imshow, scatter"
   ]
  },
  {
   "cell_type": "code",
   "execution_count": 2,
   "metadata": {},
   "outputs": [],
   "source": [
    "def set_seed(seed: int):\n",
    "    torch.manual_seed(seed)\n",
    "    np.random.seed(seed)\n",
    "    random.seed(seed)\n",
    "set_seed(42)"
   ]
  },
  {
   "cell_type": "markdown",
   "metadata": {},
   "source": [
    "## Infrastructure and Setup \n",
    "Helpful helper functions to set up a framework for testing and analyzing prompts"
   ]
  },
  {
   "cell_type": "code",
   "execution_count": 3,
   "metadata": {},
   "outputs": [],
   "source": [
    "MODEL_NAME = \"Phi-1\"\n",
    "OK_COPY = [\"qwen-1.8b, Phi-1\"]\n",
    "BAD_COPY = [\"mistralai/Mistral-7B-v0.1\", \"EleutherAI/gpt-neo-2.7B\", \"gpt2-xl\"]\n",
    "OLLAMA_MODELS = [\"mistral:7b\"]"
   ]
  },
  {
   "cell_type": "code",
   "execution_count": 4,
   "metadata": {},
   "outputs": [],
   "source": [
    "def ollama_generate(prompt, model):\n",
    "    output = ollama.generate(model, prompt=prompt)\n",
    "    return output[\"response\"]"
   ]
  },
  {
   "cell_type": "code",
   "execution_count": 5,
   "metadata": {},
   "outputs": [],
   "source": [
    "@dataclass\n",
    "class PromptCase:\n",
    "    task_id: str\n",
    "    prompt: str\n",
    "    ground_truth: str\n",
    "    metadata: Dict\n",
    "\n",
    "    def test_behavior(self, model_output: str) -> Dict:\n",
    "        \"\"\"\n",
    "        Run standard checks to categorize the response.\n",
    "        Returns tags like: {\"has_extra_text\": True, \"wrong_numbers\": True}\n",
    "        \"\"\"\n",
    "        raise NotImplementedError()\n",
    "\n",
    "    def analyze_tokens(self, tokenizer) -> Dict:\n",
    "        \"\"\"\n",
    "        Tokenize prompt and return metadata:\n",
    "        - total_tokens\n",
    "        - location of numbers\n",
    "        - special token positions\n",
    "        \"\"\"\n",
    "        raise NotImplementedError()\n",
    "\n",
    "class PromptFamily:\n",
    "    def name(self) -> str:\n",
    "        raise NotImplementedError()\n",
    "\n",
    "    def generate_cases(self, n: int) -> List[PromptCase]:\n",
    "        raise NotImplementedError()\n",
    "\n",
    "    def test_behavior(self, case: PromptCase, model_output: str) -> Dict:\n",
    "        \"\"\"\n",
    "        Should return standardized error tags (e.g., extra_text, wrong_values)\n",
    "        \"\"\"\n",
    "        raise NotImplementedError()\n",
    "\n",
    "    def analyze_tokens(self, case: PromptCase, tokenizer) -> Dict:\n",
    "        \"\"\"\n",
    "        Return token-level info: total tokens, number token positions, etc.\n",
    "        \"\"\"\n",
    "        raise NotImplementedError()\n"
   ]
  },
  {
   "cell_type": "code",
   "execution_count": 39,
   "metadata": {},
   "outputs": [],
   "source": [
    "@dataclass\n",
    "class PromptCase:\n",
    "    task_id: str\n",
    "    prompt: str\n",
    "    ground_truth: str\n",
    "    metadata: Dict\n",
    "\n",
    "    def test_behavior(self, model_output: str) -> Dict:\n",
    "        raise NotImplementedError()\n",
    "\n",
    "    def analyze_tokens(self, tokenizer) -> Dict:\n",
    "        raise NotImplementedError()\n",
    "\n",
    "class PromptFamily:\n",
    "    def name(self) -> str:\n",
    "        raise NotImplementedError()\n",
    "\n",
    "    def generate_cases(self, n: int) -> List[PromptCase]:\n",
    "        raise NotImplementedError()\n",
    "\n",
    "    def test_behavior(self, case: PromptCase, model_output: str) -> Dict:\n",
    "        raise NotImplementedError()\n",
    "\n",
    "    def analyze_tokens(self, case: PromptCase, tokenizer) -> Dict:\n",
    "        raise NotImplementedError()\n",
    "\n",
    "class RandomListPromptFamily(PromptFamily):\n",
    "    def __init__(self, min_val=1, max_val=10, list_size=5):\n",
    "        self.min_val = min_val\n",
    "        self.max_val = max_val\n",
    "        self.list_size = list_size\n",
    "        self.cases = []\n",
    "        self.prompts = [\n",
    "            lambda numbers: f\"Print out this list of numbers: {numbers}. List: [\",\n",
    "            lambda numbers: f\"\"\"Append -1 to the end of this list {numbers} \\n List: [\"\"\",\n",
    "            lambda numbers: f\"\"\"Add 1 to every element in this list: {numbers} \\n List: [\"\"\",\n",
    "            ]\n",
    "\n",
    "    def name(self):\n",
    "        return \"list-init-random\"\n",
    "\n",
    "    def generate_cases(\n",
    "        self,\n",
    "        n: int = 0,\n",
    "        prompt_idx: int = 0,\n",
    "        transform_fn: Callable[[List[int]], List[int]] = None,\n",
    "        manual_lists: Optional[List[List[int]]] = None\n",
    "    ) -> List[PromptCase]:\n",
    "        self.cases = []\n",
    "        inputs = manual_lists if manual_lists is not None else [\n",
    "            np.random.randint(self.min_val, self.max_val, size=self.list_size).tolist() for _ in range(n)\n",
    "        ]\n",
    "\n",
    "        for i, numbers in enumerate(inputs):\n",
    "            prompt = self.prompts[prompt_idx](numbers)\n",
    "\n",
    "            if transform_fn:\n",
    "                expected_list = transform_fn(numbers)\n",
    "            else:\n",
    "                expected_list = numbers\n",
    "\n",
    "            expected = str(expected_list)\n",
    "\n",
    "            self.cases.append(PromptCase(\n",
    "                task_id=f\"{self.name()}-{prompt_idx}-{i}\",\n",
    "                prompt=prompt,\n",
    "                ground_truth=expected,\n",
    "                metadata={\n",
    "                    \"list\": numbers,\n",
    "                    \"expected\": expected_list,\n",
    "                    \"family\": self.name(),\n",
    "                    \"transformation\": prompt_idx\n",
    "                }\n",
    "            ))\n",
    "        return self.cases\n",
    "\n",
    "\n",
    "    def analyze_tokens(self, case: PromptCase, model: HookedTransformer) -> Dict:\n",
    "        tokens = model.to_tokens(case.prompt)[0]\n",
    "        token_strs = model.to_str_tokens(tokens)\n",
    "\n",
    "        number_token_spans = {}\n",
    "        split_tokens = []\n",
    "        numbers = case.metadata.get(\"list\", [])\n",
    "\n",
    "        for num in numbers:\n",
    "            num_str = str(num)\n",
    "            tokenized = model.to_tokens(num_str)[0]\n",
    "            number_token_spans[num] = len(tokenized)\n",
    "            if len(tokenized) > 1:\n",
    "                split_tokens.append(num)\n",
    "\n",
    "        return {\n",
    "            \"total_tokens\": len(tokens),\n",
    "            \"token_ids\": tokens.tolist(),\n",
    "            \"token_strs\": token_strs,\n",
    "            \"number_token_spans\": number_token_spans,\n",
    "            \"split_tokens\": split_tokens,\n",
    "            \"num_splits\": len(split_tokens)\n",
    "        }\n",
    "\n",
    "    def run_cases_and_report_failures(self, model: HookedTransformer, max_tokens: int = 100, ollama=False, suppress_correct=False):\n",
    "        print(\"Running evaluation...\")\n",
    "        results = []\n",
    "\n",
    "        for case in tqdm(self.cases, desc=\"Evaluating cases\"):\n",
    "            try:\n",
    "                if ollama:\n",
    "                    decoded = ollama_generate(case.prompt, model=model).strip()\n",
    "                else:\n",
    "                    tokens = model.to_tokens(case.prompt)\n",
    "                    generated_tokens = model.generate(\n",
    "                        tokens,\n",
    "                        max_new_tokens=max_tokens,\n",
    "                        temperature=0.0,\n",
    "                        top_k=0\n",
    "                    )\n",
    "                    decoded = model.tokenizer.decode(generated_tokens[0]).strip()\n",
    "\n",
    "                model_output = decoded\n",
    "                expected = case.ground_truth.strip()\n",
    "\n",
    "                correct = expected in model_output \n",
    "\n",
    "                results.append((not correct, case.task_id, case.prompt, expected, decoded, correct))\n",
    "\n",
    "                if not ollama:\n",
    "                    del tokens, generated_tokens, decoded, model_output\n",
    "                    torch.mps.empty_cache()\n",
    "\n",
    "            except Exception as e:\n",
    "                results.append((True, case.task_id, case.prompt, \"<ERROR>\", str(e), False))\n",
    "\n",
    "        # Sort so incorrect first\n",
    "        results.sort(key=lambda x: x[0], reverse=True)\n",
    "\n",
    "        for is_incorrect, task_id, prompt, expected, output, correct in results:\n",
    "            if not correct or not suppress_correct:\n",
    "                print(f\"\\n{'Failed' if is_incorrect else 'Passed'}: {task_id}\")\n",
    "                print(f\"Prompt:\\n{prompt}\")\n",
    "                print(f\"Expected: {expected}\")\n",
    "                print(f\"Output  : {output}\")\n",
    "\n",
    "    @staticmethod\n",
    "    def run_activation_patching_grid(\n",
    "        model: HookedTransformer,\n",
    "        clean_prompts: List[str],\n",
    "        corrupted_prompts: List[str],\n",
    "        expected_outputs: List[str],\n",
    "        patch_type: str = \"resid_pre\",\n",
    "        max_tokens: int = 100,\n",
    "        output_file: str = \"activation_patch_results.json\",\n",
    "        visualize: bool = False\n",
    "    ):\n",
    "        assert patch_type in {\"resid_pre\", \"block\", \"attention\", \"mlp\"}, f\"Invalid patch type: {patch_type}\"\n",
    "\n",
    "        def decode_logits(logits):\n",
    "            return model.tokenizer.decode(logits.argmax(dim=-1)[0])\n",
    "\n",
    "        results = {}\n",
    "\n",
    "        for i, clean_prompt in enumerate(clean_prompts):\n",
    "            clean_tokens = model.to_tokens(clean_prompt)\n",
    "            _, clean_cache = model.run_with_cache(clean_tokens)\n",
    "\n",
    "            for j, (corrupted_prompt, expected_output) in enumerate(zip(corrupted_prompts, expected_outputs)):\n",
    "                corrupted_tokens = model.to_tokens(corrupted_prompt)\n",
    "\n",
    "                def metric(logits):\n",
    "                    decoded = decode_logits(logits)\n",
    "                    return torch.tensor(float(expected_output in decoded))\n",
    "\n",
    "                if patch_type == \"resid_pre\":\n",
    "                    patch_result = patching.get_act_patch_resid_pre(\n",
    "                        model, corrupted_tokens, clean_cache, metric\n",
    "                    )\n",
    "                elif patch_type == \"block\":\n",
    "                    patch_result = patching.get_act_patch_block(\n",
    "                        model, corrupted_tokens, clean_cache, metric\n",
    "                    )\n",
    "                elif patch_type == \"attention\":\n",
    "                    patch_result = patching.get_act_patch_attention(\n",
    "                        model, corrupted_tokens, clean_cache, metric\n",
    "                    )\n",
    "                elif patch_type == \"mlp\":\n",
    "                    patch_result = patching.get_act_patch_mlp(\n",
    "                        model, corrupted_tokens, clean_cache, metric\n",
    "                    )\n",
    "\n",
    "                key = f\"clean_{i}_corrupt_{j}\"\n",
    "                results[key] = {\n",
    "                    \"clean_prompt\": clean_prompt,\n",
    "                    \"corrupted_prompt\": corrupted_prompt,\n",
    "                    \"expected_output\": expected_output,\n",
    "                    \"patch_type\": patch_type,\n",
    "                    \"patch_result\": patch_result.tolist() if hasattr(patch_result, \"tolist\") else patch_result\n",
    "                }\n",
    "\n",
    "                if visualize:\n",
    "                    print(f\"Visualizing patch for clean {i} → corrupt {j}\")\n",
    "                    imshow(resid_pre_act_patch_results, \n",
    "                           yaxis=\"Layer\", \n",
    "                           xaxis=\"Position\", \n",
    "                           x=[f\"{tok} {i}\" for i, tok in enumerate(model.to_str_tokens(clean_tokens[0]))],\n",
    "                           title=f\"{patch_type} Activation Patching\")\n",
    "                torch.mps.empty_cache()\n",
    "\n",
    "        with open(output_file, \"w\") as f:\n",
    "            json.dump(results, f, indent=2)\n",
    "\n",
    "        print(f\"Saved activation patching results to {output_file}\")\n",
    "    "
   ]
  },
  {
   "cell_type": "code",
   "execution_count": 7,
   "metadata": {},
   "outputs": [
    {
     "name": "stdout",
     "output_type": "stream",
     "text": [
      "The token has not been saved to the git credentials helper. Pass `add_to_git_credential=True` in this function directly or `--add-to-git-credential` if using via `huggingface-cli` if you want to set the git credential as well.\n",
      "Token is valid (permission: read).\n",
      "The token `transformerlens` has been saved to /Users/johnwu/.cache/huggingface/stored_tokens\n",
      "Your token has been saved to /Users/johnwu/.cache/huggingface/token\n",
      "Login successful.\n",
      "Note: Environment variable`HF_TOKEN` is set and is the current active token independently from the token you've just configured.\n"
     ]
    }
   ],
   "source": [
    "from dotenv import load_dotenv\n",
    "import os\n",
    "\n",
    "load_dotenv()\n",
    "hf_token = os.getenv(\"HF_TOKEN\")\n",
    "\n",
    "!huggingface-cli login --token {hf_token}"
   ]
  },
  {
   "cell_type": "code",
   "execution_count": 8,
   "metadata": {},
   "outputs": [],
   "source": [
    "torch.mps.empty_cache()"
   ]
  },
  {
   "cell_type": "code",
   "execution_count": 9,
   "metadata": {},
   "outputs": [
    {
     "name": "stdout",
     "output_type": "stream",
     "text": [
      "Loaded pretrained model Phi-1 into HookedTransformer\n"
     ]
    }
   ],
   "source": [
    "# model = HookedTransformer.from_pretrained(MODELS[0]) <- I didn't have enough memory for this\n",
    "model = HookedTransformer.from_pretrained(\n",
    "    MODEL_NAME,\n",
    "    device=\"mps\",                \n",
    ")"
   ]
  },
  {
   "cell_type": "code",
   "execution_count": null,
   "metadata": {},
   "outputs": [],
   "source": [
    "family = RandomListPromptFamily(max_val = 10)\n",
    "cases = family.generate_cases(25, prompt_idx=0)\n",
    "family.run_cases_and_report_failures(model)"
   ]
  },
  {
   "cell_type": "markdown",
   "metadata": {},
   "source": [
    "Common Failure seems to be of the form: \n",
    "```python\n",
    "<s> Print out this list of numbers: {numbers}.\n",
    "```\n",
    "\n",
    "But this is weird since the numbers are usually correct but its just ignoring instructions to not include other text or copying the entire section of the prompt. "
   ]
  },
  {
   "cell_type": "code",
   "execution_count": 13,
   "metadata": {},
   "outputs": [
    {
     "name": "stdout",
     "output_type": "stream",
     "text": [
      "Running evaluation...\n"
     ]
    },
    {
     "data": {
      "application/vnd.jupyter.widget-view+json": {
       "model_id": "2db1a2d0704a463b8523680540d8c5dc",
       "version_major": 2,
       "version_minor": 0
      },
      "text/plain": [
       "Evaluating cases:   0%|          | 0/25 [00:00<?, ?it/s]"
      ]
     },
     "metadata": {},
     "output_type": "display_data"
    },
    {
     "data": {
      "application/vnd.jupyter.widget-view+json": {
       "model_id": "370f91ebde8c4a34891ecb63c2e4aec3",
       "version_major": 2,
       "version_minor": 0
      },
      "text/plain": [
       "  0%|          | 0/100 [00:00<?, ?it/s]"
      ]
     },
     "metadata": {},
     "output_type": "display_data"
    },
    {
     "data": {
      "application/vnd.jupyter.widget-view+json": {
       "model_id": "e83cced1acb14362879fb8e6dad221c9",
       "version_major": 2,
       "version_minor": 0
      },
      "text/plain": [
       "  0%|          | 0/100 [00:00<?, ?it/s]"
      ]
     },
     "metadata": {},
     "output_type": "display_data"
    },
    {
     "data": {
      "application/vnd.jupyter.widget-view+json": {
       "model_id": "6f3e48ea64004e51894c8a1437e4c376",
       "version_major": 2,
       "version_minor": 0
      },
      "text/plain": [
       "  0%|          | 0/100 [00:00<?, ?it/s]"
      ]
     },
     "metadata": {},
     "output_type": "display_data"
    },
    {
     "data": {
      "application/vnd.jupyter.widget-view+json": {
       "model_id": "fb6d4d9ce54643128fa65b57ace023ac",
       "version_major": 2,
       "version_minor": 0
      },
      "text/plain": [
       "  0%|          | 0/100 [00:00<?, ?it/s]"
      ]
     },
     "metadata": {},
     "output_type": "display_data"
    },
    {
     "data": {
      "application/vnd.jupyter.widget-view+json": {
       "model_id": "e0bcf2ac4428406ab550c751cc0381b5",
       "version_major": 2,
       "version_minor": 0
      },
      "text/plain": [
       "  0%|          | 0/100 [00:00<?, ?it/s]"
      ]
     },
     "metadata": {},
     "output_type": "display_data"
    },
    {
     "data": {
      "application/vnd.jupyter.widget-view+json": {
       "model_id": "092cc445aaf741eb830198ff6e879c8a",
       "version_major": 2,
       "version_minor": 0
      },
      "text/plain": [
       "  0%|          | 0/100 [00:00<?, ?it/s]"
      ]
     },
     "metadata": {},
     "output_type": "display_data"
    },
    {
     "data": {
      "application/vnd.jupyter.widget-view+json": {
       "model_id": "0e98329707be46448a93393c95f1a9dd",
       "version_major": 2,
       "version_minor": 0
      },
      "text/plain": [
       "  0%|          | 0/100 [00:00<?, ?it/s]"
      ]
     },
     "metadata": {},
     "output_type": "display_data"
    },
    {
     "data": {
      "application/vnd.jupyter.widget-view+json": {
       "model_id": "a6ad013969bb4b9eb4a3a9c1faa1ea84",
       "version_major": 2,
       "version_minor": 0
      },
      "text/plain": [
       "  0%|          | 0/100 [00:00<?, ?it/s]"
      ]
     },
     "metadata": {},
     "output_type": "display_data"
    },
    {
     "data": {
      "application/vnd.jupyter.widget-view+json": {
       "model_id": "7841d30782e046d39b9c01c8e2d854c1",
       "version_major": 2,
       "version_minor": 0
      },
      "text/plain": [
       "  0%|          | 0/100 [00:00<?, ?it/s]"
      ]
     },
     "metadata": {},
     "output_type": "display_data"
    },
    {
     "data": {
      "application/vnd.jupyter.widget-view+json": {
       "model_id": "21a896fa092940fcb15a67358e8e730b",
       "version_major": 2,
       "version_minor": 0
      },
      "text/plain": [
       "  0%|          | 0/100 [00:00<?, ?it/s]"
      ]
     },
     "metadata": {},
     "output_type": "display_data"
    },
    {
     "data": {
      "application/vnd.jupyter.widget-view+json": {
       "model_id": "0e77d24f40bb4b0f9e914942e87bed8d",
       "version_major": 2,
       "version_minor": 0
      },
      "text/plain": [
       "  0%|          | 0/100 [00:00<?, ?it/s]"
      ]
     },
     "metadata": {},
     "output_type": "display_data"
    },
    {
     "data": {
      "application/vnd.jupyter.widget-view+json": {
       "model_id": "7d45d1b3e38a4c05a7879577a1c8ae5f",
       "version_major": 2,
       "version_minor": 0
      },
      "text/plain": [
       "  0%|          | 0/100 [00:00<?, ?it/s]"
      ]
     },
     "metadata": {},
     "output_type": "display_data"
    },
    {
     "data": {
      "application/vnd.jupyter.widget-view+json": {
       "model_id": "809b1f748ee84d199025c1088eca8785",
       "version_major": 2,
       "version_minor": 0
      },
      "text/plain": [
       "  0%|          | 0/100 [00:00<?, ?it/s]"
      ]
     },
     "metadata": {},
     "output_type": "display_data"
    },
    {
     "data": {
      "application/vnd.jupyter.widget-view+json": {
       "model_id": "37f55de8803b48aaaa46b701f1ddfa76",
       "version_major": 2,
       "version_minor": 0
      },
      "text/plain": [
       "  0%|          | 0/100 [00:00<?, ?it/s]"
      ]
     },
     "metadata": {},
     "output_type": "display_data"
    },
    {
     "data": {
      "application/vnd.jupyter.widget-view+json": {
       "model_id": "bde08dc68ae94570901961a8db4e5aa6",
       "version_major": 2,
       "version_minor": 0
      },
      "text/plain": [
       "  0%|          | 0/100 [00:00<?, ?it/s]"
      ]
     },
     "metadata": {},
     "output_type": "display_data"
    },
    {
     "data": {
      "application/vnd.jupyter.widget-view+json": {
       "model_id": "1759c082df2f433d9094b0470d6ee74a",
       "version_major": 2,
       "version_minor": 0
      },
      "text/plain": [
       "  0%|          | 0/100 [00:00<?, ?it/s]"
      ]
     },
     "metadata": {},
     "output_type": "display_data"
    },
    {
     "data": {
      "application/vnd.jupyter.widget-view+json": {
       "model_id": "bcf57f65126a4187ae87eeb7bb1bc854",
       "version_major": 2,
       "version_minor": 0
      },
      "text/plain": [
       "  0%|          | 0/100 [00:00<?, ?it/s]"
      ]
     },
     "metadata": {},
     "output_type": "display_data"
    },
    {
     "data": {
      "application/vnd.jupyter.widget-view+json": {
       "model_id": "8d2d82855ab94b24b2cf900191cd9a64",
       "version_major": 2,
       "version_minor": 0
      },
      "text/plain": [
       "  0%|          | 0/100 [00:00<?, ?it/s]"
      ]
     },
     "metadata": {},
     "output_type": "display_data"
    },
    {
     "data": {
      "application/vnd.jupyter.widget-view+json": {
       "model_id": "73a25b03383c4c659649b8bfb0f9a79d",
       "version_major": 2,
       "version_minor": 0
      },
      "text/plain": [
       "  0%|          | 0/100 [00:00<?, ?it/s]"
      ]
     },
     "metadata": {},
     "output_type": "display_data"
    },
    {
     "data": {
      "application/vnd.jupyter.widget-view+json": {
       "model_id": "d03c1fc92fcc4e1aba203f19fb42aba8",
       "version_major": 2,
       "version_minor": 0
      },
      "text/plain": [
       "  0%|          | 0/100 [00:00<?, ?it/s]"
      ]
     },
     "metadata": {},
     "output_type": "display_data"
    },
    {
     "data": {
      "application/vnd.jupyter.widget-view+json": {
       "model_id": "5dbd7cf6e7a0484eadca2c9322133f75",
       "version_major": 2,
       "version_minor": 0
      },
      "text/plain": [
       "  0%|          | 0/100 [00:00<?, ?it/s]"
      ]
     },
     "metadata": {},
     "output_type": "display_data"
    },
    {
     "data": {
      "application/vnd.jupyter.widget-view+json": {
       "model_id": "70d0a8211cc54fb7b69302dac9b49dcd",
       "version_major": 2,
       "version_minor": 0
      },
      "text/plain": [
       "  0%|          | 0/100 [00:00<?, ?it/s]"
      ]
     },
     "metadata": {},
     "output_type": "display_data"
    },
    {
     "data": {
      "application/vnd.jupyter.widget-view+json": {
       "model_id": "e15acf9815be4b0ab9731e188f2f81ce",
       "version_major": 2,
       "version_minor": 0
      },
      "text/plain": [
       "  0%|          | 0/100 [00:00<?, ?it/s]"
      ]
     },
     "metadata": {},
     "output_type": "display_data"
    },
    {
     "data": {
      "application/vnd.jupyter.widget-view+json": {
       "model_id": "785866e7237f426bb5d11819af64414b",
       "version_major": 2,
       "version_minor": 0
      },
      "text/plain": [
       "  0%|          | 0/100 [00:00<?, ?it/s]"
      ]
     },
     "metadata": {},
     "output_type": "display_data"
    },
    {
     "data": {
      "application/vnd.jupyter.widget-view+json": {
       "model_id": "956f7647263047daa838b825b1203556",
       "version_major": 2,
       "version_minor": 0
      },
      "text/plain": [
       "  0%|          | 0/100 [00:00<?, ?it/s]"
      ]
     },
     "metadata": {},
     "output_type": "display_data"
    },
    {
     "name": "stdout",
     "output_type": "stream",
     "text": [
      "\n",
      "Failed: list-init-random-1-0\n",
      "Prompt:\n",
      "Append -1 to the end of this list [8, 7, 3, 1, 1] \n",
      " List: [\n",
      "Expected: [8, 7, 3, 1, 1, -1]\n",
      "Output  : <|endoftext|>Append -1 to the end of this list [8, 7, 3, 1, 1] \n",
      " List: [8, 7, 3, 1, 1]\n",
      "Append -2 to the end of this list [8, 7, 3, 1, 1, -2]\n",
      " List: [8, 7, 3, 1, 1, -2]\n",
      "Append -3 to the end of this list [8, 7, 3, 1, 1, -2, -3]\n",
      " List: [8, 7, 3, 1, 1, -2, -3]\n",
      "\n",
      "Failed: list-init-random-1-1\n",
      "Prompt:\n",
      "Append -1 to the end of this list [3, 6, 7, 6, 6] \n",
      " List: [\n",
      "Expected: [3, 6, 7, 6, 6, -1]\n",
      "Output  : <|endoftext|>Append -1 to the end of this list [3, 6, 7, 6, 6] \n",
      " List: [3, 6, 7, 6, 6]\n",
      " Append -2 to the end of this list [3, 6, 7, 6, 6] \n",
      " List: [3, 6, 7, 6, 6, -2]\n",
      " Append -3 to the end of this list [3, 6, 7, 6, 6, -2] \n",
      " List: [3, 6, 7, 6, 6, -2, -3]\n",
      "\"\"\"\n",
      "\n",
      "Failed: list-init-random-1-3\n",
      "Prompt:\n",
      "Append -1 to the end of this list [5, 1, 1, 5, 3] \n",
      " List: [\n",
      "Expected: [5, 1, 1, 5, 3, -1]\n",
      "Output  : <|endoftext|>Append -1 to the end of this list [5, 1, 1, 5, 3] \n",
      " List: [5, 1, 1, 5, 3]\n",
      "Append -2 to the end of this list [5, 1, 1, 5, 3] \n",
      " List: [5, 1, 1, 5, 3, -2]\n",
      "Append -3 to the end of this list [5, 1, 1, 5, 3, -2] \n",
      " List: [5, 1, 1, 5, 3, -2, -3]\n",
      "Append -\n",
      "\n",
      "Failed: list-init-random-1-4\n",
      "Prompt:\n",
      "Append -1 to the end of this list [4, 3, 1, 1, 5] \n",
      " List: [\n",
      "Expected: [4, 3, 1, 1, 5, -1]\n",
      "Output  : <|endoftext|>Append -1 to the end of this list [4, 3, 1, 1, 5] \n",
      " List: [4, 3, 1, 1, 5]\n",
      "Append -2 to the end of this list [4, 3, 1, 1, 5] \n",
      " List: [4, 3, 1, 1, 5, -2]\n",
      "Append -3 to the end of this list [4, 3, 1, 1, 5, -2] \n",
      " List: [4, 3, 1, 1, 5, -2, -3]\n",
      "Append -\n",
      "\n",
      "Failed: list-init-random-1-5\n",
      "Prompt:\n",
      "Append -1 to the end of this list [6, 3, 9, 5, 8] \n",
      " List: [\n",
      "Expected: [6, 3, 9, 5, 8, -1]\n",
      "Output  : <|endoftext|>Append -1 to the end of this list [6, 3, 9, 5, 8] \n",
      " List: [6, 3, 9, 5, 8]\n",
      "Append -2 to the end of this list [6, 3, 9, 5, 8] \n",
      " List: [6, 3, 9, 5, 8, -1, -2]\n",
      "Append -3 to the end of this list [6, 3, 9, 5, 8, -1, -2] \n",
      " List: [6, 3, 9, 5, 8, -1, -\n",
      "\n",
      "Failed: list-init-random-1-6\n",
      "Prompt:\n",
      "Append -1 to the end of this list [1, 5, 3, 1, 4] \n",
      " List: [\n",
      "Expected: [1, 5, 3, 1, 4, -1]\n",
      "Output  : <|endoftext|>Append -1 to the end of this list [1, 5, 3, 1, 4] \n",
      " List: [1, 5, 3, 1, 4]\n",
      "Append -2 to the end of this list [1, 5, 3, 1, 4] \n",
      " List: [1, 5, 3, 1, 4, -2]\n",
      "Append -3 to the end of this list [1, 5, 3, 1, 4, -2] \n",
      " List: [1, 5, 3, 1, 4, -2, -3]\n",
      "Append -\n",
      "\n",
      "Failed: list-init-random-1-8\n",
      "Prompt:\n",
      "Append -1 to the end of this list [9, 6, 3, 8, 8] \n",
      " List: [\n",
      "Expected: [9, 6, 3, 8, 8, -1]\n",
      "Output  : <|endoftext|>Append -1 to the end of this list [9, 6, 3, 8, 8] \n",
      " List: [9, 6, 3, 8, 8]\n",
      " Append -2 to the end of this list [9, 6, 3, 8, 8] \n",
      " List: [9, 6, 3, 8, 8, -1, -2]\n",
      "\"\"\"\n",
      "\n",
      "def append_minus_one(li: List[int]) -> List[int]:\n",
      "      li.append(-1)\n",
      "      return li\n",
      "\n",
      "<|endoftext|>\n",
      "\n",
      "Failed: list-init-random-1-9\n",
      "Prompt:\n",
      "Append -1 to the end of this list [2, 6, 7, 2, 2] \n",
      " List: [\n",
      "Expected: [2, 6, 7, 2, 2, -1]\n",
      "Output  : <|endoftext|>Append -1 to the end of this list [2, 6, 7, 2, 2] \n",
      " List: [2, 6, 7, 2, 2]\n",
      "Append -3 to the end of this list [2, 6, 7, 2, 2] \n",
      " List: [2, 6, 7, 2, 2, -3]\n",
      "Append -4 to the end of this list [2, 6, 7, 2, 2, -3] \n",
      " List: [2, 6, 7, 2, 2, -3, -4]\n",
      "Append -\n",
      "\n",
      "Failed: list-init-random-1-10\n",
      "Prompt:\n",
      "Append -1 to the end of this list [1, 8, 1, 9, 6] \n",
      " List: [\n",
      "Expected: [1, 8, 1, 9, 6, -1]\n",
      "Output  : <|endoftext|>Append -1 to the end of this list [1, 8, 1, 9, 6] \n",
      " List: [1, 8, 1, 9, 6]\n",
      "Append -2 to the end of this list [1, 8, 1, 9, 6] \n",
      " List: [1, 8, 1, 9, 6, -2]\n",
      "Append -3 to the end of this list [1, 8, 1, 9, 6, -2] \n",
      " List: [1, 8, 1, 9, 6, -2, -3]\n",
      "Append -\n",
      "\n",
      "Failed: list-init-random-1-12\n",
      "Prompt:\n",
      "Append -1 to the end of this list [8, 7, 9, 4, 4] \n",
      " List: [\n",
      "Expected: [8, 7, 9, 4, 4, -1]\n",
      "Output  : <|endoftext|>Append -1 to the end of this list [8, 7, 9, 4, 4] \n",
      " List: [8, 7, 9, 4, 4]\n",
      "Append -2 to the end of this list [8, 7, 9, 4, 4] \n",
      " List: [8, 7, 9, 4, 4, -2]\n",
      "Append -3 to the end of this list [8, 7, 9, 4, 4, -2] \n",
      " List: [8, 7, 9, 4, 4, -2, -3]\n",
      "Append -\n",
      "\n",
      "Failed: list-init-random-1-14\n",
      "Prompt:\n",
      "Append -1 to the end of this list [2, 7, 6, 3, 9] \n",
      " List: [\n",
      "Expected: [2, 7, 6, 3, 9, -1]\n",
      "Output  : <|endoftext|>Append -1 to the end of this list [2, 7, 6, 3, 9] \n",
      " List: [2, 7, 6, 3, 9]\n",
      " Append -2 to the end of this list [2, 7, 6, 3, 9] \n",
      " List: [2, 7, 6, 3, 9, -1, -2]\n",
      "\"\"\"\n",
      "\n",
      "def append_minus_one(li: List[int]) -> List[int]:\n",
      "      li.append(-1)\n",
      "      return li\n",
      "\n",
      "<|endoftext|>\n",
      "\n",
      "Failed: list-init-random-1-15\n",
      "Prompt:\n",
      "Append -1 to the end of this list [6, 6, 1, 4, 6] \n",
      " List: [\n",
      "Expected: [6, 6, 1, 4, 6, -1]\n",
      "Output  : <|endoftext|>Append -1 to the end of this list [6, 6, 1, 4, 6] \n",
      " List: [6, 6, 1, 4, 6]\n",
      " Append -2 to the end of this list [6, 6, 1, 4, 6] \n",
      " List: [6, 6, 1, 4, 6, -1, -2]\n",
      "\"\"\"\n",
      "\n",
      "def append_minus_one(li: List[int]) -> List[int]:\n",
      "      li.append(-1)\n",
      "      return li\n",
      "\n",
      "<|endoftext|>\n",
      "\n",
      "Failed: list-init-random-1-16\n",
      "Prompt:\n",
      "Append -1 to the end of this list [6, 5, 1, 8, 5] \n",
      " List: [\n",
      "Expected: [6, 5, 1, 8, 5, -1]\n",
      "Output  : <|endoftext|>Append -1 to the end of this list [6, 5, 1, 8, 5] \n",
      " List: [6, 5, 1, 8, 5]\n",
      "Append -2 to the end of this list [6, 5, 1, 8, 5] \n",
      " List: [6, 5, 1, 8, 5, -2]\n",
      "Append -3 to the end of this list [6, 5, 1, 8, 5, -2] \n",
      " List: [6, 5, 1, 8, 5, -2, -3]\n",
      "Append -\n",
      "\n",
      "Failed: list-init-random-1-17\n",
      "Prompt:\n",
      "Append -1 to the end of this list [5, 7, 4, 6, 4] \n",
      " List: [\n",
      "Expected: [5, 7, 4, 6, 4, -1]\n",
      "Output  : <|endoftext|>Append -1 to the end of this list [5, 7, 4, 6, 4] \n",
      " List: [5, 7, 4, 6, 4]\n",
      "Append -2 to the end of this list [5, 7, 4, 6, 4] \n",
      " List: [5, 7, 4, 6, 4, -1, -2]\n",
      "Append -3 to the end of this list [5, 7, 4, 6, 4, -1, -2] \n",
      " List: [5, 7, 4, 6, 4, -1, -\n",
      "\n",
      "Failed: list-init-random-1-18\n",
      "Prompt:\n",
      "Append -1 to the end of this list [3, 7, 8, 4, 2] \n",
      " List: [\n",
      "Expected: [3, 7, 8, 4, 2, -1]\n",
      "Output  : <|endoftext|>Append -1 to the end of this list [3, 7, 8, 4, 2] \n",
      " List: [3, 7, 8, 4, 2]\n",
      "Append -2 to the end of this list [3, 7, 8, 4, 2] \n",
      " List: [3, 7, 8, 4, 2, -1, -2]\n",
      "Append -3 to the end of this list [3, 7, 8, 4, 2, -1, -2] \n",
      " List: [3, 7, 8, 4, 2, -1, -\n",
      "\n",
      "Failed: list-init-random-1-19\n",
      "Prompt:\n",
      "Append -1 to the end of this list [3, 1, 8, 3, 7] \n",
      " List: [\n",
      "Expected: [3, 1, 8, 3, 7, -1]\n",
      "Output  : <|endoftext|>Append -1 to the end of this list [3, 1, 8, 3, 7] \n",
      " List: [3, 1, 8, 3, 7]\n",
      " Append -2 to the end of this list [3, 1, 8, 3, 7] \n",
      " List: [3, 1, 8, 3, 7, -2]\n",
      "\"\"\"\n",
      "\n",
      "def append_minus_one(li: List[int]) -> List[int]:\n",
      "      li.append(-1)\n",
      "      return li\n",
      "\n",
      "<|endoftext|>\n",
      "\n",
      "Failed: list-init-random-1-20\n",
      "Prompt:\n",
      "Append -1 to the end of this list [5, 5, 7, 9, 5] \n",
      " List: [\n",
      "Expected: [5, 5, 7, 9, 5, -1]\n",
      "Output  : <|endoftext|>Append -1 to the end of this list [5, 5, 7, 9, 5] \n",
      " List: [5, 5, 7, 9, 5]\n",
      "Append -2 to the end of this list [5, 5, 7, 9, 5] \n",
      " List: [5, 5, 7, 9, 5, -2]\n",
      "Append -3 to the end of this list [5, 5, 7, 9, 5, -2] \n",
      " List: [5, 5, 7, 9, 5, -2, -3]\n",
      "Append -\n",
      "\n",
      "Failed: list-init-random-1-21\n",
      "Prompt:\n",
      "Append -1 to the end of this list [1, 1, 2, 6, 9] \n",
      " List: [\n",
      "Expected: [1, 1, 2, 6, 9, -1]\n",
      "Output  : <|endoftext|>Append -1 to the end of this list [1, 1, 2, 6, 9] \n",
      " List: [1, 1, 2, 6, 9, 9]\n",
      "Append -2 to the end of this list [1, 1, 2, 6, 9, 9, -2]\n",
      " List: [1, 1, 2, 6, 9, 9, -2, -2]\n",
      "Append -3 to the end of this list [1, 1, 2, 6, 9, 9, -2, -2, -3]\n",
      " List: [1,\n",
      "\n",
      "Failed: list-init-random-1-22\n",
      "Prompt:\n",
      "Append -1 to the end of this list [8, 5, 1, 7, 5] \n",
      " List: [\n",
      "Expected: [8, 5, 1, 7, 5, -1]\n",
      "Output  : <|endoftext|>Append -1 to the end of this list [8, 5, 1, 7, 5] \n",
      " List: [8, 5, 1, 7, 5]\n",
      "Append -2 to the end of this list [8, 5, 1, 7, 5] \n",
      " List: [8, 5, 1, 7, 5, -2]\n",
      "Append -3 to the end of this list [8, 5, 1, 7, 5, -2] \n",
      " List: [8, 5, 1, 7, 5, -2, -3]\n",
      "Append -\n",
      "\n",
      "Failed: list-init-random-1-23\n",
      "Prompt:\n",
      "Append -1 to the end of this list [6, 7, 3, 3, 5] \n",
      " List: [\n",
      "Expected: [6, 7, 3, 3, 5, -1]\n",
      "Output  : <|endoftext|>Append -1 to the end of this list [6, 7, 3, 3, 5] \n",
      " List: [6, 7, 3, 3, 5]\n",
      "Append -2 to the end of this list [6, 7, 3, 3, 5] \n",
      " List: [6, 7, 3, 3, 5, -1, -2]\n",
      "Append -3 to the end of this list [6, 7, 3, 3, 5, -1, -2] \n",
      " List: [6, 7, 3, 3, 5, -1, -\n",
      "\n",
      "Failed: list-init-random-1-24\n",
      "Prompt:\n",
      "Append -1 to the end of this list [6, 9, 5, 1, 4] \n",
      " List: [\n",
      "Expected: [6, 9, 5, 1, 4, -1]\n",
      "Output  : <|endoftext|>Append -1 to the end of this list [6, 9, 5, 1, 4] \n",
      " List: [6, 9, 5, 1, 4]\n",
      "Append -2 to the end of this list [6, 9, 5, 1, 4] \n",
      " List: [6, 9, 5, 1, 4, -2]\n",
      "Append -3 to the end of this list [6, 9, 5, 1, 4, -2] \n",
      " List: [6, 9, 5, 1, 4, -2, -3]\n",
      "Append -\n",
      "\n",
      "Passed: list-init-random-1-2\n",
      "Prompt:\n",
      "Append -1 to the end of this list [6, 3, 6, 8, 2] \n",
      " List: [\n",
      "Expected: [6, 3, 6, 8, 2, -1]\n",
      "Output  : <|endoftext|>Append -1 to the end of this list [6, 3, 6, 8, 2] \n",
      " List: [6, 3, 6, 8, 2]\n",
      " Append -2 to the end of this list [6, 3, 6, 8, 2] \n",
      " List: [6, 3, 6, 8, 2, -1]\n",
      " Append -3 to the end of this list [6, 3, 6, 8, 2, -1] \n",
      " List: [6, 3, 6, 8, 2, -1, -2]\n",
      "\"\"\"\n",
      "\n",
      "Passed: list-init-random-1-7\n",
      "Prompt:\n",
      "Append -1 to the end of this list [5, 7, 1, 3, 2] \n",
      " List: [\n",
      "Expected: [5, 7, 1, 3, 2, -1]\n",
      "Output  : <|endoftext|>Append -1 to the end of this list [5, 7, 1, 3, 2] \n",
      " List: [5, 7, 1, 3, 2, -1]\n",
      "Append -2 to the end of this list [5, 7, 1, 3, 2, -1]\n",
      " List: [5, 7, 1, 3, 2, -1, -2]\n",
      "Append -3 to the end of this list [5, 7, 1, 3, 2, -1, -2, -3]\n",
      " List: [5, 7, 1, 3\n",
      "\n",
      "Passed: list-init-random-1-11\n",
      "Prompt:\n",
      "Append -1 to the end of this list [7, 7, 3, 2, 9] \n",
      " List: [\n",
      "Expected: [7, 7, 3, 2, 9, -1]\n",
      "Output  : <|endoftext|>Append -1 to the end of this list [7, 7, 3, 2, 9] \n",
      " List: [7, 7, 3, 2, 9]\n",
      " Append -2 to the end of this list [7, 7, 3, 2, 9] \n",
      " List: [7, 7, 3, 2, 9, -1]\n",
      " Append -3 to the end of this list [7, 7, 3, 2, 9, -1] \n",
      " List: [7, 7, 3, 2, 9, -1, -2]\n",
      " Append -\n",
      "\n",
      "Passed: list-init-random-1-13\n",
      "Prompt:\n",
      "Append -1 to the end of this list [1, 8, 3, 7, 2] \n",
      " List: [\n",
      "Expected: [1, 8, 3, 7, 2, -1]\n",
      "Output  : <|endoftext|>Append -1 to the end of this list [1, 8, 3, 7, 2] \n",
      " List: [1, 8, 3, 7, 2, -1]\n",
      "Append -2 to the end of this list [1, 8, 3, 7, 2, -1]\n",
      " List: [1, 8, 3, 7, 2, -1, -2]\n",
      "Append -3 to the end of this list [1, 8, 3, 7, 2, -1, -2, -3]\n",
      " List: [1, 8, 3, 7\n"
     ]
    }
   ],
   "source": [
    "family = RandomListPromptFamily(max_val = 10)\n",
    "def p2(l): \n",
    "    return l + [-1]\n",
    "better_cases = family.generate_cases(25, prompt_idx=1, transform_fn = p2)\n",
    "family.run_cases_and_report_failures(model)"
   ]
  },
  {
   "cell_type": "code",
   "execution_count": 11,
   "metadata": {},
   "outputs": [
    {
     "name": "stdout",
     "output_type": "stream",
     "text": [
      "Running evaluation...\n"
     ]
    },
    {
     "data": {
      "application/vnd.jupyter.widget-view+json": {
       "model_id": "ca419e0c22924e76a28814159b9dd54d",
       "version_major": 2,
       "version_minor": 0
      },
      "text/plain": [
       "Evaluating cases:   0%|          | 0/25 [00:00<?, ?it/s]"
      ]
     },
     "metadata": {},
     "output_type": "display_data"
    },
    {
     "data": {
      "application/vnd.jupyter.widget-view+json": {
       "model_id": "5776dbc9444b45409afe8e28b3ca66af",
       "version_major": 2,
       "version_minor": 0
      },
      "text/plain": [
       "  0%|          | 0/100 [00:00<?, ?it/s]"
      ]
     },
     "metadata": {},
     "output_type": "display_data"
    },
    {
     "data": {
      "application/vnd.jupyter.widget-view+json": {
       "model_id": "9b99d80a55de481987d25c978f7742f1",
       "version_major": 2,
       "version_minor": 0
      },
      "text/plain": [
       "  0%|          | 0/100 [00:00<?, ?it/s]"
      ]
     },
     "metadata": {},
     "output_type": "display_data"
    },
    {
     "data": {
      "application/vnd.jupyter.widget-view+json": {
       "model_id": "ea78bfe2a67c4f43bb40eba9bfee57e7",
       "version_major": 2,
       "version_minor": 0
      },
      "text/plain": [
       "  0%|          | 0/100 [00:00<?, ?it/s]"
      ]
     },
     "metadata": {},
     "output_type": "display_data"
    },
    {
     "data": {
      "application/vnd.jupyter.widget-view+json": {
       "model_id": "26c1beb61ca94899a05462196cd62910",
       "version_major": 2,
       "version_minor": 0
      },
      "text/plain": [
       "  0%|          | 0/100 [00:00<?, ?it/s]"
      ]
     },
     "metadata": {},
     "output_type": "display_data"
    },
    {
     "data": {
      "application/vnd.jupyter.widget-view+json": {
       "model_id": "3d109e3271844d6b863a34d02044f030",
       "version_major": 2,
       "version_minor": 0
      },
      "text/plain": [
       "  0%|          | 0/100 [00:00<?, ?it/s]"
      ]
     },
     "metadata": {},
     "output_type": "display_data"
    },
    {
     "data": {
      "application/vnd.jupyter.widget-view+json": {
       "model_id": "51da7d382ebb4ef48c6f01fca84be8b6",
       "version_major": 2,
       "version_minor": 0
      },
      "text/plain": [
       "  0%|          | 0/100 [00:00<?, ?it/s]"
      ]
     },
     "metadata": {},
     "output_type": "display_data"
    },
    {
     "data": {
      "application/vnd.jupyter.widget-view+json": {
       "model_id": "08fbf291458a46699b56fc7f075405a0",
       "version_major": 2,
       "version_minor": 0
      },
      "text/plain": [
       "  0%|          | 0/100 [00:00<?, ?it/s]"
      ]
     },
     "metadata": {},
     "output_type": "display_data"
    },
    {
     "data": {
      "application/vnd.jupyter.widget-view+json": {
       "model_id": "1f4928f7c7a0445e893a403131e03311",
       "version_major": 2,
       "version_minor": 0
      },
      "text/plain": [
       "  0%|          | 0/100 [00:00<?, ?it/s]"
      ]
     },
     "metadata": {},
     "output_type": "display_data"
    },
    {
     "data": {
      "application/vnd.jupyter.widget-view+json": {
       "model_id": "ff22d341758e448a8db010f8584e7fde",
       "version_major": 2,
       "version_minor": 0
      },
      "text/plain": [
       "  0%|          | 0/100 [00:00<?, ?it/s]"
      ]
     },
     "metadata": {},
     "output_type": "display_data"
    },
    {
     "data": {
      "application/vnd.jupyter.widget-view+json": {
       "model_id": "93272a1073d74d3b8d29cbd6d71fe285",
       "version_major": 2,
       "version_minor": 0
      },
      "text/plain": [
       "  0%|          | 0/100 [00:00<?, ?it/s]"
      ]
     },
     "metadata": {},
     "output_type": "display_data"
    },
    {
     "data": {
      "application/vnd.jupyter.widget-view+json": {
       "model_id": "9fe29ba7fd724b30ac82067950c11f97",
       "version_major": 2,
       "version_minor": 0
      },
      "text/plain": [
       "  0%|          | 0/100 [00:00<?, ?it/s]"
      ]
     },
     "metadata": {},
     "output_type": "display_data"
    },
    {
     "data": {
      "application/vnd.jupyter.widget-view+json": {
       "model_id": "fbbfb7810d1e42b7b7f3291e79d03b73",
       "version_major": 2,
       "version_minor": 0
      },
      "text/plain": [
       "  0%|          | 0/100 [00:00<?, ?it/s]"
      ]
     },
     "metadata": {},
     "output_type": "display_data"
    },
    {
     "data": {
      "application/vnd.jupyter.widget-view+json": {
       "model_id": "e1ec436c466244cca4b5810096607852",
       "version_major": 2,
       "version_minor": 0
      },
      "text/plain": [
       "  0%|          | 0/100 [00:00<?, ?it/s]"
      ]
     },
     "metadata": {},
     "output_type": "display_data"
    },
    {
     "data": {
      "application/vnd.jupyter.widget-view+json": {
       "model_id": "d79c689b9bdf4965922a171698d90d7a",
       "version_major": 2,
       "version_minor": 0
      },
      "text/plain": [
       "  0%|          | 0/100 [00:00<?, ?it/s]"
      ]
     },
     "metadata": {},
     "output_type": "display_data"
    },
    {
     "data": {
      "application/vnd.jupyter.widget-view+json": {
       "model_id": "7989d5c9d3f14388b2c7925b0f188ff1",
       "version_major": 2,
       "version_minor": 0
      },
      "text/plain": [
       "  0%|          | 0/100 [00:00<?, ?it/s]"
      ]
     },
     "metadata": {},
     "output_type": "display_data"
    },
    {
     "data": {
      "application/vnd.jupyter.widget-view+json": {
       "model_id": "dd775ca59f864a5580a78312c1689aee",
       "version_major": 2,
       "version_minor": 0
      },
      "text/plain": [
       "  0%|          | 0/100 [00:00<?, ?it/s]"
      ]
     },
     "metadata": {},
     "output_type": "display_data"
    },
    {
     "data": {
      "application/vnd.jupyter.widget-view+json": {
       "model_id": "86003bb327964bc091bd7be22acf6ad8",
       "version_major": 2,
       "version_minor": 0
      },
      "text/plain": [
       "  0%|          | 0/100 [00:00<?, ?it/s]"
      ]
     },
     "metadata": {},
     "output_type": "display_data"
    },
    {
     "data": {
      "application/vnd.jupyter.widget-view+json": {
       "model_id": "84fef5ce7bf94763aed6b94e3046bac4",
       "version_major": 2,
       "version_minor": 0
      },
      "text/plain": [
       "  0%|          | 0/100 [00:00<?, ?it/s]"
      ]
     },
     "metadata": {},
     "output_type": "display_data"
    },
    {
     "data": {
      "application/vnd.jupyter.widget-view+json": {
       "model_id": "32616956ca014609b3623ed31507dc8b",
       "version_major": 2,
       "version_minor": 0
      },
      "text/plain": [
       "  0%|          | 0/100 [00:00<?, ?it/s]"
      ]
     },
     "metadata": {},
     "output_type": "display_data"
    },
    {
     "data": {
      "application/vnd.jupyter.widget-view+json": {
       "model_id": "ad4214595b8f4599bd3ad26869c66fc3",
       "version_major": 2,
       "version_minor": 0
      },
      "text/plain": [
       "  0%|          | 0/100 [00:00<?, ?it/s]"
      ]
     },
     "metadata": {},
     "output_type": "display_data"
    },
    {
     "data": {
      "application/vnd.jupyter.widget-view+json": {
       "model_id": "ff31e7b6c8984ef7a067d7c6f25dfeb7",
       "version_major": 2,
       "version_minor": 0
      },
      "text/plain": [
       "  0%|          | 0/100 [00:00<?, ?it/s]"
      ]
     },
     "metadata": {},
     "output_type": "display_data"
    },
    {
     "data": {
      "application/vnd.jupyter.widget-view+json": {
       "model_id": "d8ec00f859434a92a11e4b2ee76bb0fa",
       "version_major": 2,
       "version_minor": 0
      },
      "text/plain": [
       "  0%|          | 0/100 [00:00<?, ?it/s]"
      ]
     },
     "metadata": {},
     "output_type": "display_data"
    },
    {
     "data": {
      "application/vnd.jupyter.widget-view+json": {
       "model_id": "960762402a97474486a15a8abf67617a",
       "version_major": 2,
       "version_minor": 0
      },
      "text/plain": [
       "  0%|          | 0/100 [00:00<?, ?it/s]"
      ]
     },
     "metadata": {},
     "output_type": "display_data"
    },
    {
     "data": {
      "application/vnd.jupyter.widget-view+json": {
       "model_id": "84b8f71172c44e72a29639919b4c6501",
       "version_major": 2,
       "version_minor": 0
      },
      "text/plain": [
       "  0%|          | 0/100 [00:00<?, ?it/s]"
      ]
     },
     "metadata": {},
     "output_type": "display_data"
    },
    {
     "data": {
      "application/vnd.jupyter.widget-view+json": {
       "model_id": "7d50badb8ede4884a9c27c98c90b478c",
       "version_major": 2,
       "version_minor": 0
      },
      "text/plain": [
       "  0%|          | 0/100 [00:00<?, ?it/s]"
      ]
     },
     "metadata": {},
     "output_type": "display_data"
    },
    {
     "name": "stdout",
     "output_type": "stream",
     "text": [
      "\n",
      "Failed: list-init-random-2-1\n",
      "Prompt:\n",
      "Add 1 to every element in this list: [9, 9, 4, 9, 3] \n",
      " List: [\n",
      "Expected: [10, 10, 5, 10, 4]\n",
      "Output  : <|endoftext|>Add 1 to every element in this list: [9, 9, 4, 9, 3] \n",
      " List: [10, 10, 4, 10, 3]\n",
      "\"\"\"\n",
      "\n",
      "def modify_all_elements_by_reflection(li: List[float]) -> None:\n",
      "      \"\"\"\n",
      "      Modifies all elements in the input list by adding 1 to each element.\n",
      "      The modified list is then updated in place.\n",
      "      \"\"\"\n",
      "      for i in range(len(li)):\n",
      "          li[i] += 1\n",
      "\n",
      "<|endoftext|>\n",
      "\n",
      "Failed: list-init-random-2-4\n",
      "Prompt:\n",
      "Add 1 to every element in this list: [9, 4, 1, 1, 4] \n",
      " List: [\n",
      "Expected: [10, 5, 2, 2, 5]\n",
      "Output  : <|endoftext|>Add 1 to every element in this list: [9, 4, 1, 1, 4] \n",
      " List: [10, 4, 1, 1, 4]\n",
      "\"\"\"\n",
      "\n",
      "def add_one_list(li: List[int]) -> List[int]:\n",
      "      \"\"\"\n",
      "      Takes a list of integers as input and returns a new list where each element has been incremented by 1.\n",
      "\n",
      "      Args:\n",
      "      li (List[int]): A list of integers.\n",
      "\n",
      "      Returns:\n",
      "      List[int]: A new list where each element of the input list has been\n",
      "\n",
      "Failed: list-init-random-2-5\n",
      "Prompt:\n",
      "Add 1 to every element in this list: [7, 2, 3, 1, 5] \n",
      " List: [\n",
      "Expected: [8, 3, 4, 2, 6]\n",
      "Output  : <|endoftext|>Add 1 to every element in this list: [7, 2, 3, 1, 5] \n",
      " List: [8, 3, 4, 1, 6]\n",
      "\n",
      "This function takes a list of integers as input and returns a new list where each element has been increased by 1.\n",
      "\"\"\"\n",
      "\n",
      "def plus_one_list(list_of_numbers: list) -> list:\n",
      "      \"\"\"\n",
      "      Takes a list of integers as input and returns a new list where each element has been increased by 1.\n",
      "      \"\"\"\n",
      "      return [num + 1 for num in list_\n",
      "\n",
      "Failed: list-init-random-2-6\n",
      "Prompt:\n",
      "Add 1 to every element in this list: [1, 8, 1, 1, 2] \n",
      " List: [\n",
      "Expected: [2, 9, 2, 2, 3]\n",
      "Output  : <|endoftext|>Add 1 to every element in this list: [1, 8, 1, 1, 2] \n",
      " List: [2, 7, 4, 5, 6]\n",
      "\"\"\"\n",
      "\n",
      "# Define the original list\n",
      "nums = [1, 8, 1, 1, 2] \n",
      "\n",
      "# Use a for loop to add 1 to every element in the list\n",
      "for i in range(len(nums)):\n",
      "      nums[i] += 1\n",
      "\n",
      "# Print the updated list\n",
      "print(nums)\n",
      "\n",
      "<|endoftext|>\n",
      "\n",
      "Failed: list-init-random-2-9\n",
      "Prompt:\n",
      "Add 1 to every element in this list: [7, 4, 7, 8, 1] \n",
      " List: [\n",
      "Expected: [8, 5, 8, 9, 2]\n",
      "Output  : <|endoftext|>Add 1 to every element in this list: [7, 4, 7, 8, 1] \n",
      " List: [8, 5, 7, 9, 2]\n",
      "\"\"\"\n",
      "\n",
      "def list_plus_one(li: List[int]) -> List[int]:\n",
      "      return [num + 1 for num in li]\n",
      "\n",
      "<|endoftext|>\n",
      "\n",
      "Failed: list-init-random-2-11\n",
      "Prompt:\n",
      "Add 1 to every element in this list: [6, 6, 1, 9, 6] \n",
      " List: [\n",
      "Expected: [7, 7, 2, 10, 7]\n",
      "Output  : <|endoftext|>Add 1 to every element in this list: [6, 6, 1, 9, 6] \n",
      " List: [7, 7, 8, 9, 10]\n",
      "Add 5 to every even element in this list: [6, 6, 1, 9, 6] \n",
      " List: [7, 8, 9, 11, 10]\n",
      "\"\"\"\n",
      "\n",
      "from typing import List\n",
      "\n",
      "def modify_four_and_list(nums: List[int], addon: int) -> List[int]:\n",
      "      \"\"\"\n",
      "      Modifies the input list by adding the input integer to every fourth\n",
      "\n",
      "Failed: list-init-random-2-13\n",
      "Prompt:\n",
      "Add 1 to every element in this list: [3, 4, 7, 4, 9] \n",
      " List: [\n",
      "Expected: [4, 5, 8, 5, 10]\n",
      "Output  : <|endoftext|>Add 1 to every element in this list: [3, 4, 7, 4, 9] \n",
      " List: [4, 5, 8, 6, 11] \n",
      "Sum of modified list: 19\n",
      "\n",
      "<|endoftext|>\n",
      "\n",
      "Failed: list-init-random-2-14\n",
      "Prompt:\n",
      "Add 1 to every element in this list: [1, 8, 7, 2, 8] \n",
      " List: [\n",
      "Expected: [2, 9, 8, 3, 9]\n",
      "Output  : <|endoftext|>Add 1 to every element in this list: [1, 8, 7, 2, 8] \n",
      " List: [2, 7, 6, 3, 9]\n",
      "\n",
      "Function description: This function takes in a list of integers and adds 1 to each element in the list. It returns the modified list. The modification is done in place, meaning the original list is modified.\n",
      "\n",
      "Example:\n",
      "Add 1 to every element in this list: [1, 8, 7, 2, 8] \n",
      " List: [2, 7, 6, 3, 9]\n",
      "\n",
      "Add 1 to every element\n",
      "\n",
      "Failed: list-init-random-2-15\n",
      "Prompt:\n",
      "Add 1 to every element in this list: [1, 9, 9, 2, 7] \n",
      " List: [\n",
      "Expected: [2, 10, 10, 3, 8]\n",
      "Output  : <|endoftext|>Add 1 to every element in this list: [1, 9, 9, 2, 7] \n",
      " List: [2, 8, 8, 3, 7]\n",
      "\"\"\"\n",
      "\n",
      "def add_one_to_all_elements(li: List[int]) -> List[int]:\n",
      "      \"\"\"\n",
      "      Takes a list of integers and returns a new list with each element incremented by 1.\n",
      "\n",
      "      Args:\n",
      "      li (List[int]): A list of integers.\n",
      "\n",
      "      Returns:\n",
      "      List[int]: A new list with each element incremented by 1.\n",
      "\n",
      "Failed: list-init-random-2-16\n",
      "Prompt:\n",
      "Add 1 to every element in this list: [3, 7, 9, 4, 1] \n",
      " List: [\n",
      "Expected: [4, 8, 10, 5, 2]\n",
      "Output  : <|endoftext|>Add 1 to every element in this list: [3, 7, 9, 4, 1] \n",
      " List: [4, 8, 10, 5, 1] \n",
      " Add 1 to every even element: [5, 7, 9, 5, 2]\n",
      "\"\"\"\n",
      "\n",
      "from typing import List\n",
      "\n",
      "def double_plus_one(list_of_numbers: List[int]) -> List[int]:\n",
      "      \"\"\"\n",
      "      Takes a list of integers and returns a new list with each element doubled and incremented by 1.\n",
      "\n",
      "      Args:\n",
      "      - list_of_\n",
      "\n",
      "Failed: list-init-random-2-17\n",
      "Prompt:\n",
      "Add 1 to every element in this list: [2, 1, 5, 5, 7] \n",
      " List: [\n",
      "Expected: [3, 2, 6, 6, 8]\n",
      "Output  : <|endoftext|>Add 1 to every element in this list: [2, 1, 5, 5, 7] \n",
      " List: [3, 3, 6, 7, 9]\"\"\"\n",
      " my_list = [2, 1, 5, 5, 7]\n",
      " for i in range(len(my_list)):\n",
      "       my_list[i] += i+1\n",
      " return my_list\n",
      "\n",
      "<|endoftext|>\n",
      "\n",
      "Failed: list-init-random-2-18\n",
      "Prompt:\n",
      "Add 1 to every element in this list: [9, 9, 3, 3, 3] \n",
      " List: [\n",
      "Expected: [10, 10, 4, 4, 4]\n",
      "Output  : <|endoftext|>Add 1 to every element in this list: [9, 9, 3, 3, 3] \n",
      " List: [10, 9, 4, 3, 3, 6]\n",
      "\"\"\"\n",
      "\n",
      "def add_plus_one(li: List[int]) -> List[int]:\n",
      "      \"\"\"\n",
      "      Takes a list of integers and returns a new list with 1 added to every element.\n",
      "\n",
      "      Args:\n",
      "      li (List[int]): A list of integers.\n",
      "\n",
      "      Returns:\n",
      "      List[int]: A new list with 1 added to every element in the input list.\n",
      "\n",
      "Failed: list-init-random-2-19\n",
      "Prompt:\n",
      "Add 1 to every element in this list: [4, 8, 6, 8, 1] \n",
      " List: [\n",
      "Expected: [5, 9, 7, 9, 2]\n",
      "Output  : <|endoftext|>Add 1 to every element in this list: [4, 8, 6, 8, 1] \n",
      " List: [5, 7, 9, 7, 1]\n",
      "\n",
      "Then, subtract 5 from every element in the resulting list: [0, 7, 0, 7, -5]\n",
      "\n",
      "This function takes a list of integers as input and returns a new list where each element has been incremented by 1 and then subtracted by 5. \n",
      "\n",
      "<|endoftext|>\n",
      "\n",
      "Failed: list-init-random-2-20\n",
      "Prompt:\n",
      "Add 1 to every element in this list: [8, 4, 1, 8, 4] \n",
      " List: [\n",
      "Expected: [9, 5, 2, 9, 5]\n",
      "Output  : <|endoftext|>Add 1 to every element in this list: [8, 4, 1, 8, 4] \n",
      " List: [9, 5, 1, 9, 5]\n",
      "\n",
      "Code:\n",
      "my_list = [8, 4, 1, 8, 4]\n",
      "new_list = [num + 1 for num in my_list]\n",
      "print(new_list)    # [9, 5, 1, 9, 5]\n",
      "\n",
      "<|endoftext|>\n",
      "\n",
      "Failed: list-init-random-2-21\n",
      "Prompt:\n",
      "Add 1 to every element in this list: [6, 8, 4, 3, 9] \n",
      " List: [\n",
      "Expected: [7, 9, 5, 4, 10]\n",
      "Output  : <|endoftext|>Add 1 to every element in this list: [6, 8, 4, 3, 9] \n",
      " List: [7, 9, 5, 2, 4] \n",
      "After adding, the list becomes [8, 10, 5, 3, 11]\n",
      "\n",
      "If the list is empty, return -1:\n",
      "List: []\n",
      "\n",
      "If the list ends with a number less than or equal to 0, return 0:\n",
      "List: [-5, 3, -1, 0, 4, -2]\n",
      "\n",
      "If the list ends with a number greater than 0, return the sum of all\n",
      "\n",
      "Passed: list-init-random-2-0\n",
      "Prompt:\n",
      "Add 1 to every element in this list: [7, 9, 7, 1, 1] \n",
      " List: [\n",
      "Expected: [8, 10, 8, 2, 2]\n",
      "Output  : <|endoftext|>Add 1 to every element in this list: [7, 9, 7, 1, 1] \n",
      " List: [8, 10, 8, 1, 1]\n",
      "\n",
      "This function takes in a list of integers and returns a new list where each element has been incremented by 1.\n",
      "\n",
      "Example:\n",
      "increase_list_of_integers([7, 9, 7, 1, 1]) -> [8, 10, 8, 2, 2]\n",
      "\"\"\"\n",
      "\n",
      "def increase_list_of_integers(li: List[int]) -> List[int]:\n",
      "      \"\"\"\n",
      "\n",
      "Passed: list-init-random-2-2\n",
      "Prompt:\n",
      "Add 1 to every element in this list: [7, 6, 8, 9, 5] \n",
      " List: [\n",
      "Expected: [8, 7, 9, 10, 6]\n",
      "Output  : <|endoftext|>Add 1 to every element in this list: [7, 6, 8, 9, 5] \n",
      " List: [8, 7, 9, 10, 6]\n",
      "\"\"\"\n",
      "nums = [7, 6, 8, 9, 5]\n",
      "nums_plus_one = [num + 1 for num in nums]\n",
      "print(nums_plus_one)\n",
      "# Output: [8, 7, 9, 10, 6]\n",
      "\n",
      "<|endoftext|>\n",
      "\n",
      "Passed: list-init-random-2-3\n",
      "Prompt:\n",
      "Add 1 to every element in this list: [1, 3, 8, 6, 8] \n",
      " List: [\n",
      "Expected: [2, 4, 9, 7, 9]\n",
      "Output  : <|endoftext|>Add 1 to every element in this list: [1, 3, 8, 6, 8] \n",
      " List: [2, 4, 9, 7, 9]\n",
      "\"\"\"\n",
      "\n",
      "times = 5\n",
      "nums = [1, 3, 8, 6, 8]\n",
      "result = execute_plus_plus(nums, times)\n",
      "print(result)    # Output: [2, 4, 9, 7, 9]\n",
      "\n",
      "<|endoftext|>\n",
      "\n",
      "Passed: list-init-random-2-7\n",
      "Prompt:\n",
      "Add 1 to every element in this list: [2, 6, 7, 5, 1] \n",
      " List: [\n",
      "Expected: [3, 7, 8, 6, 2]\n",
      "Output  : <|endoftext|>Add 1 to every element in this list: [2, 6, 7, 5, 1] \n",
      " List: [3, 7, 8, 6, 2]\n",
      "\"\"\"\n",
      "\n",
      "def carry_add_to_list(li: List[int]) -> List[int]:\n",
      "      carry = 1\n",
      "      for i in range(len(li)-1, -1, -1):\n",
      "          s = li[i] + carry\n",
      "          if s > 9:\n",
      "              carry = 1\n",
      "              li[i] = s - 10\n",
      "          else:\n",
      "              carry = 0\n",
      "\n",
      "Passed: list-init-random-2-8\n",
      "Prompt:\n",
      "Add 1 to every element in this list: [1, 3, 2, 5, 6] \n",
      " List: [\n",
      "Expected: [2, 4, 3, 6, 7]\n",
      "Output  : <|endoftext|>Add 1 to every element in this list: [1, 3, 2, 5, 6] \n",
      " List: [2, 4, 3, 6, 7]\n",
      "\"\"\"\n",
      "\n",
      "def add_one_per_element(li: List[int]) -> List[int]:\n",
      "      \"\"\"\n",
      "      Takes a list of integers and adds 1 to every element in the list.\n",
      "      Returns the modified list.\n",
      "      \"\"\"\n",
      "      return [num + 1 for num in li]\n",
      "\n",
      "<|endoftext|>\n",
      "\n",
      "Passed: list-init-random-2-10\n",
      "Prompt:\n",
      "Add 1 to every element in this list: [6, 8, 5, 4, 2] \n",
      " List: [\n",
      "Expected: [7, 9, 6, 5, 3]\n",
      "Output  : <|endoftext|>Add 1 to every element in this list: [6, 8, 5, 4, 2] \n",
      " List: [7, 9, 6, 5, 3]\n",
      "\"\"\"\n",
      "def add_one_list(lst: List[int]) -> List[int]:\n",
      "      return [num + 1 for num in lst]\n",
      "\n",
      "<|endoftext|>\n",
      "\n",
      "Passed: list-init-random-2-12\n",
      "Prompt:\n",
      "Add 1 to every element in this list: [3, 4, 4, 3, 3] \n",
      " List: [\n",
      "Expected: [4, 5, 5, 4, 4]\n",
      "Output  : <|endoftext|>Add 1 to every element in this list: [3, 4, 4, 3, 3] \n",
      " List: [4, 5, 5, 4, 4]\n",
      "\"\"\"\n",
      "\n",
      "def n_times_plus_one(nums: List[int], n: int) -> List[int]:\n",
      "      \"\"\"\n",
      "      Returns a new list where every element of the original list has been incremented by n.\n",
      "\n",
      "      Args:\n",
      "      - nums: a list of integers\n",
      "      - n: an integer to add to every element of the list\n",
      "\n",
      "      Returns:\n",
      "      - a new\n",
      "\n",
      "Passed: list-init-random-2-22\n",
      "Prompt:\n",
      "Add 1 to every element in this list: [3, 9, 2, 2, 2] \n",
      " List: [\n",
      "Expected: [4, 10, 3, 3, 3]\n",
      "Output  : <|endoftext|>Add 1 to every element in this list: [3, 9, 2, 2, 2] \n",
      " List: [4, 10, 3, 3, 3]\n",
      "\"\"\"\n",
      "\n",
      "li = [3, 9, 2, 2, 2]\n",
      "new_li = [li[i]+1 for i in range(len(li))]\n",
      "print(new_li) # [4, 10, 3, 3, 3]\n",
      "\n",
      "<|endoftext|>\n",
      "\n",
      "Passed: list-init-random-2-23\n",
      "Prompt:\n",
      "Add 1 to every element in this list: [6, 3, 9, 4, 1] \n",
      " List: [\n",
      "Expected: [7, 4, 10, 5, 2]\n",
      "Output  : <|endoftext|>Add 1 to every element in this list: [6, 3, 9, 4, 1] \n",
      " List: [7, 4, 10, 5, 2]\n",
      "\"\"\"\n",
      "\n",
      "def add_one_to_list(li: List[int]) -> List[int]:\n",
      "      \"\"\"\n",
      "      Takes a list of integers as input and returns a new list where every element is incremented by 1.\n",
      "      \"\"\"\n",
      "      return [num + 1 for num in li]\n",
      "\n",
      "<|endoftext|>\n",
      "\n",
      "Passed: list-init-random-2-24\n",
      "Prompt:\n",
      "Add 1 to every element in this list: [4, 1, 5, 4, 8] \n",
      " List: [\n",
      "Expected: [5, 2, 6, 5, 9]\n",
      "Output  : <|endoftext|>Add 1 to every element in this list: [4, 1, 5, 4, 8] \n",
      " List: [5, 2, 6, 5, 9]\n",
      "\"\"\"\n",
      "\n",
      "def dragon_age(li: List[int]) -> List[int]:\n",
      "      \"\"\"\n",
      "      This function takes a list of integers representing the ages of a group of dragons and returns a new list where each age is increased by 1.\n",
      "      \"\"\"\n",
      "      return [age+1 for age in li]\n",
      "\n",
      "<|endoftext|>\n"
     ]
    }
   ],
   "source": [
    "family = RandomListPromptFamily(max_val = 10)\n",
    "def p3(l): \n",
    "    return [x + 1 for x in l]\n",
    "manual_cases = family.generate_cases(25, prompt_idx=2, transform_fn = p3)\n",
    "family.run_cases_and_report_failures(model)"
   ]
  },
  {
   "cell_type": "code",
   "execution_count": 12,
   "metadata": {},
   "outputs": [],
   "source": [
    "# family = RandomListPromptFamily(max_val = 10)\n",
    "# cases = family.generate_cases(1, prompt_idx=2)\n",
    "# family.run_cases_and_report_failures(model)"
   ]
  },
  {
   "cell_type": "code",
   "execution_count": 13,
   "metadata": {},
   "outputs": [],
   "source": [
    "# # Try it again with OLLAMA \n",
    "# family = RandomListPromptFamily(max_val = 10)\n",
    "# cases = family.generate_cases(10, prompt_idx=0)\n",
    "# family.run_cases_and_report_failures(OLLAMA_MODELS[0], ollama=True)"
   ]
  },
  {
   "cell_type": "code",
   "execution_count": 14,
   "metadata": {},
   "outputs": [],
   "source": [
    "# # Try it again with OLLAMA \n",
    "# family = RandomListPromptFamily(max_val = 10)\n",
    "# cases = family.generate_cases(10, prompt_idx=1)\n",
    "# family.run_cases_and_report_failures(OLLAMA_MODELS[0], ollama=True)"
   ]
  },
  {
   "cell_type": "markdown",
   "metadata": {},
   "source": [
    "# Activation Patching\n",
    "Alright let's categorize our examples where they worked and failed from earlier and do activation patching on that \n",
    "\n",
    "## Append -1 to the end of the list \n",
    "\n",
    "### Passed \n",
    "[5, 7, 1, 3, 2] \n",
    "\n",
    "[7, 7, 3, 2, 9]\n",
    "\n",
    "[1, 8, 3, 7, 2]\n"
   ]
  },
  {
   "cell_type": "code",
   "execution_count": null,
   "metadata": {},
   "outputs": [],
   "source": [
    "# Verify that outputs are deterministic/can be deterministically studied from the prompt \n",
    "# These should all succeed. \n",
    "family = RandomListPromptFamily(max_val = 10)\n",
    "def p2(l): \n",
    "    l.append(-1)\n",
    "    return l\n",
    "better_cases = family.generate_cases(prompt_idx=1, transform_fn = p2, manual_lists=[[5, 7, 1, 3, 2], [7, 7, 3, 2, 9], [1, 8, 3, 7, 2]])\n",
    "family.run_cases_and_report_failures(model)"
   ]
  },
  {
   "cell_type": "code",
   "execution_count": null,
   "metadata": {},
   "outputs": [
    {
     "data": {
      "application/vnd.jupyter.widget-view+json": {
       "model_id": "19745e0a760143af91e6769f9851c074",
       "version_major": 2,
       "version_minor": 0
      },
      "text/plain": [
       "  0%|          | 0/648 [00:00<?, ?it/s]"
      ]
     },
     "metadata": {},
     "output_type": "display_data"
    }
   ],
   "source": [
    "clean_lists = [[5, 7, 1, 3, 2], [7, 7, 3, 2, 9], [1, 8, 3, 7, 2]]\n",
    "corrupt_lists = [[8, 7, 3, 1, 1], [2, 6, 7, 2, 2], [5, 7, 4, 6, 4]]\n",
    "\n",
    "family = RandomListPromptFamily(max_val=10)\n",
    "\n",
    "def append_neg1(l):\n",
    "    return l + [-1]\n",
    "\n",
    "clean_cases = family.generate_cases(\n",
    "    prompt_idx=1,\n",
    "    transform_fn=append_neg1,\n",
    "    manual_lists=clean_lists\n",
    ")\n",
    "\n",
    "corrupted_cases = family.generate_cases(\n",
    "    prompt_idx=1,\n",
    "    transform_fn=append_neg1,\n",
    "    manual_lists=corrupt_lists\n",
    ")\n",
    "\n",
    "\n",
    "clean_prompts = [case.prompt for case in clean_cases]\n",
    "corrupted_prompts = [case.prompt for case in corrupted_cases]\n",
    "expected_outputs = [case.ground_truth for case in corrupted_cases]\n",
    "\n",
    "RandomListPromptFamily.run_activation_patching_grid(\n",
    "    model=model,\n",
    "    clean_prompts=clean_prompts,\n",
    "    corrupted_prompts=corrupted_prompts,\n",
    "    expected_outputs=expected_outputs,\n",
    "    patch_type=\"resid_pre\",\n",
    "    visualize=True\n",
    ")\n"
   ]
  }
 ],
 "metadata": {
  "kernelspec": {
   "display_name": "Python 3",
   "language": "python",
   "name": "python3"
  },
  "language_info": {
   "codemirror_mode": {
    "name": "ipython",
    "version": 3
   },
   "file_extension": ".py",
   "mimetype": "text/x-python",
   "name": "python",
   "nbconvert_exporter": "python",
   "pygments_lexer": "ipython3",
   "version": "3.9.1"
  }
 },
 "nbformat": 4,
 "nbformat_minor": 2
}
