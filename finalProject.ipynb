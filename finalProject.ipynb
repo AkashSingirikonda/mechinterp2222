{
 "cells": [
  {
   "cell_type": "code",
   "execution_count": null,
   "metadata": {},
   "outputs": [
    {
     "name": "stderr",
     "output_type": "stream",
     "text": [
      "/Users/johnwu/.pyenv/versions/3.9.1/lib/python3.9/site-packages/torch/onnx/_internal/_beartype.py:36: UserWarning: unhashable type: 'list'\n",
      "  warnings.warn(f\"{e}\")\n"
     ]
    }
   ],
   "source": [
    "import random\n",
    "from typing import List, Tuple, Dict, Callable, Optional\n",
    "from dataclasses import dataclass\n",
    "import torch\n",
    "from transformer_lens import HookedTransformer\n",
    "from transformer_lens import patching\n",
    "import transformer_lens.utils as utils\n",
    "import ollama\n",
    "import re\n",
    "import numpy as np\n",
    "import os\n",
    "from dotenv import load_dotenv\n",
    "from tqdm.notebook import tqdm"
   ]
  },
  {
   "cell_type": "code",
   "execution_count": 25,
   "metadata": {},
   "outputs": [],
   "source": [
    "def set_seed(seed: int):\n",
    "    torch.manual_seed(seed)\n",
    "    np.random.seed(seed)\n",
    "    random.seed(seed)\n",
    "set_seed(42)"
   ]
  },
  {
   "cell_type": "markdown",
   "metadata": {},
   "source": [
    "## Infrastructure and Setup \n",
    "Helpful helper functions to set up a framework for testing and analyzing prompts"
   ]
  },
  {
   "cell_type": "code",
   "execution_count": 26,
   "metadata": {},
   "outputs": [],
   "source": [
    "MODEL_NAME = \"Phi-1\"\n",
    "OK_COPY = [\"qwen-1.8b, Phi-1\"]\n",
    "BAD_COPY = [\"mistralai/Mistral-7B-v0.1\", \"EleutherAI/gpt-neo-2.7B\", \"gpt2-xl\"]\n",
    "OLLAMA_MODELS = [\"mistral:7b\"]"
   ]
  },
  {
   "cell_type": "code",
   "execution_count": 27,
   "metadata": {},
   "outputs": [],
   "source": [
    "def ollama_generate(prompt, model):\n",
    "    output = ollama.generate(model, prompt=prompt)\n",
    "    return output[\"response\"]"
   ]
  },
  {
   "cell_type": "code",
   "execution_count": 28,
   "metadata": {},
   "outputs": [],
   "source": [
    "@dataclass\n",
    "class PromptCase:\n",
    "    task_id: str\n",
    "    prompt: str\n",
    "    ground_truth: str\n",
    "    metadata: Dict\n",
    "\n",
    "    def test_behavior(self, model_output: str) -> Dict:\n",
    "        \"\"\"\n",
    "        Run standard checks to categorize the response.\n",
    "        Returns tags like: {\"has_extra_text\": True, \"wrong_numbers\": True}\n",
    "        \"\"\"\n",
    "        raise NotImplementedError()\n",
    "\n",
    "    def analyze_tokens(self, tokenizer) -> Dict:\n",
    "        \"\"\"\n",
    "        Tokenize prompt and return metadata:\n",
    "        - total_tokens\n",
    "        - location of numbers\n",
    "        - special token positions\n",
    "        \"\"\"\n",
    "        raise NotImplementedError()\n",
    "\n",
    "class PromptFamily:\n",
    "    def name(self) -> str:\n",
    "        raise NotImplementedError()\n",
    "\n",
    "    def generate_cases(self, n: int) -> List[PromptCase]:\n",
    "        raise NotImplementedError()\n",
    "\n",
    "    def test_behavior(self, case: PromptCase, model_output: str) -> Dict:\n",
    "        \"\"\"\n",
    "        Should return standardized error tags (e.g., extra_text, wrong_values)\n",
    "        \"\"\"\n",
    "        raise NotImplementedError()\n",
    "\n",
    "    def analyze_tokens(self, case: PromptCase, tokenizer) -> Dict:\n",
    "        \"\"\"\n",
    "        Return token-level info: total tokens, number token positions, etc.\n",
    "        \"\"\"\n",
    "        raise NotImplementedError()\n"
   ]
  },
  {
   "cell_type": "code",
   "execution_count": 21,
   "metadata": {},
   "outputs": [],
   "source": [
    "@dataclass\n",
    "class PromptCase:\n",
    "    task_id: str\n",
    "    prompt: str\n",
    "    ground_truth: str\n",
    "    metadata: Dict\n",
    "\n",
    "    def test_behavior(self, model_output: str) -> Dict:\n",
    "        raise NotImplementedError()\n",
    "\n",
    "    def analyze_tokens(self, tokenizer) -> Dict:\n",
    "        raise NotImplementedError()\n",
    "\n",
    "class PromptFamily:\n",
    "    def name(self) -> str:\n",
    "        raise NotImplementedError()\n",
    "\n",
    "    def generate_cases(self, n: int) -> List[PromptCase]:\n",
    "        raise NotImplementedError()\n",
    "\n",
    "    def test_behavior(self, case: PromptCase, model_output: str) -> Dict:\n",
    "        raise NotImplementedError()\n",
    "\n",
    "    def analyze_tokens(self, case: PromptCase, tokenizer) -> Dict:\n",
    "        raise NotImplementedError()\n",
    "\n",
    "class RandomListPromptFamily(PromptFamily):\n",
    "    def __init__(self, min_val=1, max_val=10, list_size=5):\n",
    "        self.min_val = min_val\n",
    "        self.max_val = max_val\n",
    "        self.list_size = list_size\n",
    "        self.cases = []\n",
    "        self.prompts = [\n",
    "            lambda numbers: f\"Print out this list of numbers: {numbers}. List: [\",\n",
    "            lambda numbers: f\"\"\"Append -1 to the end of this list {numbers} \\n List: [\"\"\",\n",
    "            lambda numbers: f\"\"\"Add 1 to every element in this list: {numbers} \\n List: [\"\"\",\n",
    "            ]\n",
    "\n",
    "    def name(self):\n",
    "        return \"list-init-random\"\n",
    "\n",
    "    def generate_cases(\n",
    "        self,\n",
    "        n: int = 0,\n",
    "        prompt_idx: int = 0,\n",
    "        transform_fn: Callable[[List[int]], List[int]] = None,\n",
    "        manual_lists: Optional[List[List[int]]] = None\n",
    "    ) -> List[PromptCase]:\n",
    "        self.cases = []\n",
    "        inputs = manual_lists if manual_lists is not None else [\n",
    "            np.random.randint(self.min_val, self.max_val, size=self.list_size).tolist() for _ in range(n)\n",
    "        ]\n",
    "\n",
    "        for i, numbers in enumerate(inputs):\n",
    "            prompt = self.prompts[prompt_idx](numbers)\n",
    "\n",
    "            if transform_fn:\n",
    "                expected_list = transform_fn(numbers)\n",
    "            else:\n",
    "                expected_list = numbers\n",
    "\n",
    "            expected = str(expected_list)\n",
    "\n",
    "            self.cases.append(PromptCase(\n",
    "                task_id=f\"{self.name()}-{prompt_idx}-{i}\",\n",
    "                prompt=prompt,\n",
    "                ground_truth=expected,\n",
    "                metadata={\n",
    "                    \"list\": numbers,\n",
    "                    \"expected\": expected_list,\n",
    "                    \"family\": self.name(),\n",
    "                    \"transformation\": prompt_idx\n",
    "                }\n",
    "            ))\n",
    "        return self.cases\n",
    "\n",
    "\n",
    "    def analyze_tokens(self, case: PromptCase, model: HookedTransformer) -> Dict:\n",
    "        tokens = model.to_tokens(case.prompt)[0]\n",
    "        token_strs = model.to_str_tokens(tokens)\n",
    "\n",
    "        number_token_spans = {}\n",
    "        split_tokens = []\n",
    "        numbers = case.metadata.get(\"list\", [])\n",
    "\n",
    "        for num in numbers:\n",
    "            num_str = str(num)\n",
    "            tokenized = model.to_tokens(num_str)[0]\n",
    "            number_token_spans[num] = len(tokenized)\n",
    "            if len(tokenized) > 1:\n",
    "                split_tokens.append(num)\n",
    "\n",
    "        return {\n",
    "            \"total_tokens\": len(tokens),\n",
    "            \"token_ids\": tokens.tolist(),\n",
    "            \"token_strs\": token_strs,\n",
    "            \"number_token_spans\": number_token_spans,\n",
    "            \"split_tokens\": split_tokens,\n",
    "            \"num_splits\": len(split_tokens)\n",
    "        }\n",
    "\n",
    "    def run_cases_and_report_failures(self, model: HookedTransformer, max_tokens: int = 100, ollama=False, suppress_correct=False):\n",
    "        print(\"Running evaluation...\")\n",
    "        results = []\n",
    "\n",
    "        for case in tqdm(self.cases, desc=\"Evaluating cases\"):\n",
    "            try:\n",
    "                if ollama:\n",
    "                    decoded = ollama_generate(case.prompt, model=model).strip()\n",
    "                else:\n",
    "                    tokens = model.to_tokens(case.prompt)\n",
    "                    generated_tokens = model.generate(tokens, max_new_tokens=max_tokens)\n",
    "                    decoded = model.tokenizer.decode(generated_tokens[0]).strip()\n",
    "\n",
    "                model_output = decoded\n",
    "                expected = case.ground_truth.strip()\n",
    "\n",
    "                correct = expected in model_output \n",
    "\n",
    "                results.append((not correct, case.task_id, case.prompt, expected, decoded, correct))\n",
    "\n",
    "                if not ollama:\n",
    "                    del tokens, generated_tokens, decoded, model_output\n",
    "                    torch.mps.empty_cache()\n",
    "\n",
    "            except Exception as e:\n",
    "                results.append((True, case.task_id, case.prompt, \"<ERROR>\", str(e), False))\n",
    "\n",
    "        # Sort so incorrect first\n",
    "        results.sort(key=lambda x: x[0], reverse=True)\n",
    "\n",
    "        for is_incorrect, task_id, prompt, expected, output, correct in results:\n",
    "            if not correct or not suppress_correct:\n",
    "                print(f\"\\n{'Failed' if is_incorrect else 'Passed'}: {task_id}\")\n",
    "                print(f\"Prompt:\\n{prompt}\")\n",
    "                print(f\"Expected: {expected}\")\n",
    "                print(f\"Output  : {output}\")\n"
   ]
  },
  {
   "cell_type": "code",
   "execution_count": 6,
   "metadata": {},
   "outputs": [
    {
     "name": "stdout",
     "output_type": "stream",
     "text": [
      "The token has not been saved to the git credentials helper. Pass `add_to_git_credential=True` in this function directly or `--add-to-git-credential` if using via `huggingface-cli` if you want to set the git credential as well.\n",
      "Token is valid (permission: read).\n",
      "The token `transformerlens` has been saved to /Users/johnwu/.cache/huggingface/stored_tokens\n",
      "Your token has been saved to /Users/johnwu/.cache/huggingface/token\n",
      "Login successful.\n",
      "Note: Environment variable`HF_TOKEN` is set and is the current active token independently from the token you've just configured.\n"
     ]
    }
   ],
   "source": [
    "from dotenv import load_dotenv\n",
    "import os\n",
    "\n",
    "load_dotenv()\n",
    "hf_token = os.getenv(\"HF_TOKEN\")\n",
    "\n",
    "!huggingface-cli login --token {hf_token}"
   ]
  },
  {
   "cell_type": "code",
   "execution_count": 7,
   "metadata": {},
   "outputs": [],
   "source": [
    "torch.mps.empty_cache()"
   ]
  },
  {
   "cell_type": "code",
   "execution_count": 8,
   "metadata": {},
   "outputs": [
    {
     "name": "stdout",
     "output_type": "stream",
     "text": [
      "Loaded pretrained model Phi-1 into HookedTransformer\n"
     ]
    }
   ],
   "source": [
    "# model = HookedTransformer.from_pretrained(MODELS[0]) <- I didn't have enough memory for this\n",
    "model = HookedTransformer.from_pretrained(\n",
    "    MODEL_NAME,\n",
    "    device=\"mps\",                \n",
    ")"
   ]
  },
  {
   "cell_type": "code",
   "execution_count": 9,
   "metadata": {},
   "outputs": [
    {
     "name": "stdout",
     "output_type": "stream",
     "text": [
      "Running evaluation...\n"
     ]
    },
    {
     "data": {
      "application/vnd.jupyter.widget-view+json": {
       "model_id": "07a39a17534e418f98a8e0629725467e",
       "version_major": 2,
       "version_minor": 0
      },
      "text/plain": [
       "Evaluating cases:   0%|          | 0/25 [00:00<?, ?it/s]"
      ]
     },
     "metadata": {},
     "output_type": "display_data"
    },
    {
     "data": {
      "application/vnd.jupyter.widget-view+json": {
       "model_id": "a6d93ecda7724c76ae4c90c3e5a6e343",
       "version_major": 2,
       "version_minor": 0
      },
      "text/plain": [
       "  0%|          | 0/30 [00:00<?, ?it/s]"
      ]
     },
     "metadata": {},
     "output_type": "display_data"
    },
    {
     "data": {
      "application/vnd.jupyter.widget-view+json": {
       "model_id": "0d41240ce4a34175abab1f7ce96c87ef",
       "version_major": 2,
       "version_minor": 0
      },
      "text/plain": [
       "  0%|          | 0/30 [00:00<?, ?it/s]"
      ]
     },
     "metadata": {},
     "output_type": "display_data"
    },
    {
     "data": {
      "application/vnd.jupyter.widget-view+json": {
       "model_id": "6f580fbf87a04a19a943cc4b78f45f76",
       "version_major": 2,
       "version_minor": 0
      },
      "text/plain": [
       "  0%|          | 0/30 [00:00<?, ?it/s]"
      ]
     },
     "metadata": {},
     "output_type": "display_data"
    },
    {
     "data": {
      "application/vnd.jupyter.widget-view+json": {
       "model_id": "c6ce82c2ab634920a4ab9f2b13e0199e",
       "version_major": 2,
       "version_minor": 0
      },
      "text/plain": [
       "  0%|          | 0/30 [00:00<?, ?it/s]"
      ]
     },
     "metadata": {},
     "output_type": "display_data"
    },
    {
     "data": {
      "application/vnd.jupyter.widget-view+json": {
       "model_id": "cdd70a3bb7a140f68bc8ba3a6f4b1263",
       "version_major": 2,
       "version_minor": 0
      },
      "text/plain": [
       "  0%|          | 0/30 [00:00<?, ?it/s]"
      ]
     },
     "metadata": {},
     "output_type": "display_data"
    },
    {
     "data": {
      "application/vnd.jupyter.widget-view+json": {
       "model_id": "19f07af57e2d48b290682ac1122509d6",
       "version_major": 2,
       "version_minor": 0
      },
      "text/plain": [
       "  0%|          | 0/30 [00:00<?, ?it/s]"
      ]
     },
     "metadata": {},
     "output_type": "display_data"
    },
    {
     "data": {
      "application/vnd.jupyter.widget-view+json": {
       "model_id": "a707ff1f04e840fda538e62017c00cf7",
       "version_major": 2,
       "version_minor": 0
      },
      "text/plain": [
       "  0%|          | 0/30 [00:00<?, ?it/s]"
      ]
     },
     "metadata": {},
     "output_type": "display_data"
    },
    {
     "data": {
      "application/vnd.jupyter.widget-view+json": {
       "model_id": "e2c294072da7476d80e03dec4b6fd184",
       "version_major": 2,
       "version_minor": 0
      },
      "text/plain": [
       "  0%|          | 0/30 [00:00<?, ?it/s]"
      ]
     },
     "metadata": {},
     "output_type": "display_data"
    },
    {
     "data": {
      "application/vnd.jupyter.widget-view+json": {
       "model_id": "46cfaefa6d7b4758824ec0204b6b715f",
       "version_major": 2,
       "version_minor": 0
      },
      "text/plain": [
       "  0%|          | 0/30 [00:00<?, ?it/s]"
      ]
     },
     "metadata": {},
     "output_type": "display_data"
    },
    {
     "data": {
      "application/vnd.jupyter.widget-view+json": {
       "model_id": "2a51f6ce11494e29b01519141e01dae8",
       "version_major": 2,
       "version_minor": 0
      },
      "text/plain": [
       "  0%|          | 0/30 [00:00<?, ?it/s]"
      ]
     },
     "metadata": {},
     "output_type": "display_data"
    },
    {
     "data": {
      "application/vnd.jupyter.widget-view+json": {
       "model_id": "90146530e1364e3ebd37fcb9bfc68752",
       "version_major": 2,
       "version_minor": 0
      },
      "text/plain": [
       "  0%|          | 0/30 [00:00<?, ?it/s]"
      ]
     },
     "metadata": {},
     "output_type": "display_data"
    },
    {
     "data": {
      "application/vnd.jupyter.widget-view+json": {
       "model_id": "33a0c51ccdf54db4b113007cbec4b775",
       "version_major": 2,
       "version_minor": 0
      },
      "text/plain": [
       "  0%|          | 0/30 [00:00<?, ?it/s]"
      ]
     },
     "metadata": {},
     "output_type": "display_data"
    },
    {
     "data": {
      "application/vnd.jupyter.widget-view+json": {
       "model_id": "3972079eb31d4a3aab8de80514f2a96e",
       "version_major": 2,
       "version_minor": 0
      },
      "text/plain": [
       "  0%|          | 0/30 [00:00<?, ?it/s]"
      ]
     },
     "metadata": {},
     "output_type": "display_data"
    },
    {
     "data": {
      "application/vnd.jupyter.widget-view+json": {
       "model_id": "4cd3eb5ddf83464fbc0ee0f714085f08",
       "version_major": 2,
       "version_minor": 0
      },
      "text/plain": [
       "  0%|          | 0/30 [00:00<?, ?it/s]"
      ]
     },
     "metadata": {},
     "output_type": "display_data"
    },
    {
     "data": {
      "application/vnd.jupyter.widget-view+json": {
       "model_id": "0f475f781e4c4ea9b54743fe4a263a23",
       "version_major": 2,
       "version_minor": 0
      },
      "text/plain": [
       "  0%|          | 0/30 [00:00<?, ?it/s]"
      ]
     },
     "metadata": {},
     "output_type": "display_data"
    },
    {
     "data": {
      "application/vnd.jupyter.widget-view+json": {
       "model_id": "4c62c25b2e8c4db3b39f3d5f3c0ca4f2",
       "version_major": 2,
       "version_minor": 0
      },
      "text/plain": [
       "  0%|          | 0/30 [00:00<?, ?it/s]"
      ]
     },
     "metadata": {},
     "output_type": "display_data"
    },
    {
     "data": {
      "application/vnd.jupyter.widget-view+json": {
       "model_id": "22861bd7add64b4f9dd715f08461fb5a",
       "version_major": 2,
       "version_minor": 0
      },
      "text/plain": [
       "  0%|          | 0/30 [00:00<?, ?it/s]"
      ]
     },
     "metadata": {},
     "output_type": "display_data"
    },
    {
     "data": {
      "application/vnd.jupyter.widget-view+json": {
       "model_id": "b0d2f6bc198b44e9a16f5b356c0d989d",
       "version_major": 2,
       "version_minor": 0
      },
      "text/plain": [
       "  0%|          | 0/30 [00:00<?, ?it/s]"
      ]
     },
     "metadata": {},
     "output_type": "display_data"
    },
    {
     "data": {
      "application/vnd.jupyter.widget-view+json": {
       "model_id": "817e3e313cd24822b5d9ecf2eb871ab9",
       "version_major": 2,
       "version_minor": 0
      },
      "text/plain": [
       "  0%|          | 0/30 [00:00<?, ?it/s]"
      ]
     },
     "metadata": {},
     "output_type": "display_data"
    },
    {
     "data": {
      "application/vnd.jupyter.widget-view+json": {
       "model_id": "c178c031691d425baa9f6ee535535a3e",
       "version_major": 2,
       "version_minor": 0
      },
      "text/plain": [
       "  0%|          | 0/30 [00:00<?, ?it/s]"
      ]
     },
     "metadata": {},
     "output_type": "display_data"
    },
    {
     "data": {
      "application/vnd.jupyter.widget-view+json": {
       "model_id": "69ae5f6c86c24f6d88916212e276bc2a",
       "version_major": 2,
       "version_minor": 0
      },
      "text/plain": [
       "  0%|          | 0/30 [00:00<?, ?it/s]"
      ]
     },
     "metadata": {},
     "output_type": "display_data"
    },
    {
     "data": {
      "application/vnd.jupyter.widget-view+json": {
       "model_id": "4640aeb6544c41bf9c40b16dbfcd78db",
       "version_major": 2,
       "version_minor": 0
      },
      "text/plain": [
       "  0%|          | 0/30 [00:00<?, ?it/s]"
      ]
     },
     "metadata": {},
     "output_type": "display_data"
    },
    {
     "data": {
      "application/vnd.jupyter.widget-view+json": {
       "model_id": "e83dab08c79e45399d332ea66a2c5f9e",
       "version_major": 2,
       "version_minor": 0
      },
      "text/plain": [
       "  0%|          | 0/30 [00:00<?, ?it/s]"
      ]
     },
     "metadata": {},
     "output_type": "display_data"
    },
    {
     "data": {
      "application/vnd.jupyter.widget-view+json": {
       "model_id": "3868dcd756d3470199e653cf7ea47588",
       "version_major": 2,
       "version_minor": 0
      },
      "text/plain": [
       "  0%|          | 0/30 [00:00<?, ?it/s]"
      ]
     },
     "metadata": {},
     "output_type": "display_data"
    },
    {
     "data": {
      "application/vnd.jupyter.widget-view+json": {
       "model_id": "9ce2adbf3bac4a5ca52e34ad4c184d6a",
       "version_major": 2,
       "version_minor": 0
      },
      "text/plain": [
       "  0%|          | 0/30 [00:00<?, ?it/s]"
      ]
     },
     "metadata": {},
     "output_type": "display_data"
    },
    {
     "name": "stdout",
     "output_type": "stream",
     "text": [
      "\n",
      "Passed: list-init-random-0-0\n",
      "Prompt:\n",
      "Print out this list of numbers: [9, 6, 6, 7, 1]. List: [\n",
      "Expected: [9, 6, 6, 7, 1]\n",
      "Output  : <|endoftext|>Print out this list of numbers: [9, 6, 6, 7, 1]. List: [9, 6, 6, 7, 1]\n",
      "2 * 3 = 6\n",
      "2 * 7 = 14\n",
      "1 * 3 = 3\n",
      "1\n",
      "\n",
      "Passed: list-init-random-0-1\n",
      "Prompt:\n",
      "Print out this list of numbers: [8, 5, 7, 5, 3]. List: [\n",
      "Expected: [8, 5, 7, 5, 3]\n",
      "Output  : <|endoftext|>Print out this list of numbers: [8, 5, 7, 5, 3]. List: [8, 5, 7, 5, 3]\n",
      "      Print out this list of letters: ['c', 'a', 't', 'e\n",
      "\n",
      "Passed: list-init-random-0-2\n",
      "Prompt:\n",
      "Print out this list of numbers: [8, 6, 4, 9, 5]. List: [\n",
      "Expected: [8, 6, 4, 9, 5]\n",
      "Output  : <|endoftext|>Print out this list of numbers: [8, 6, 4, 9, 5]. List: [8 64 4 9 5]\"\"\"\n",
      "      numbers = []\n",
      "      for i in range(0, len(numbers), 2):\n",
      "\n",
      "Passed: list-init-random-0-3\n",
      "Prompt:\n",
      "Print out this list of numbers: [2, 1, 7, 1, 5]. List: [\n",
      "Expected: [2, 1, 7, 1, 5]\n",
      "Output  : <|endoftext|>Print out this list of numbers: [2, 1, 7, 1, 5]. List: [7, 1, 5].\n",
      "      \"\"\"\n",
      "      numbers = [2, 1, 7, 1, 5]\n",
      "      print(n\n",
      "\n",
      "Passed: list-init-random-0-4\n",
      "Prompt:\n",
      "Print out this list of numbers: [6, 4, 8, 4, 2]. List: [\n",
      "Expected: [6, 4, 8, 4, 2]\n",
      "Output  : <|endoftext|>Print out this list of numbers: [6, 4, 8, 4, 2]. List: [1, 2, 3, 4, 5]\n",
      "      \"\"\"\n",
      "      nums = [6, 4, 8, 4, 2]\n",
      "\n",
      "Passed: list-init-random-0-5\n",
      "Prompt:\n",
      "Print out this list of numbers: [7, 8, 8, 9, 1]. List: [\n",
      "Expected: [7, 8, 8, 9, 1]\n",
      "Output  : <|endoftext|>Print out this list of numbers: [7, 8, 8, 9, 1]. List: [7, 8, 8, 9, 1]\n",
      "      \"\"\"\n",
      "      int_list = [int(i) for i in str(int\n",
      "\n",
      "Passed: list-init-random-0-6\n",
      "Prompt:\n",
      "Print out this list of numbers: [3, 4, 6, 2, 4]. List: [\n",
      "Expected: [3, 4, 6, 2, 4]\n",
      "Output  : <|endoftext|>Print out this list of numbers: [3, 4, 6, 2, 4]. List: [3, 4, 6, 2, 4]\n",
      "      Print out this list of letters: ['a', 'b', 'c', 'd\n",
      "\n",
      "Passed: list-init-random-0-7\n",
      "Prompt:\n",
      "Print out this list of numbers: [4, 4, 4, 6, 7]. List: [\n",
      "Expected: [4, 4, 4, 6, 7]\n",
      "Output  : <|endoftext|>Print out this list of numbers: [4, 4, 4, 6, 7]. List: [4, 4, 4, 6, 7]\n",
      "      Print out this list of numbers: [4, 4, 4, 6, 7,\n",
      "\n",
      "Passed: list-init-random-0-8\n",
      "Prompt:\n",
      "Print out this list of numbers: [8, 3, 4, 7, 4]. List: [\n",
      "Expected: [8, 3, 4, 7, 4]\n",
      "Output  : <|endoftext|>Print out this list of numbers: [8, 3, 4, 7, 4]. List: [8, 3, 4, 7, 4]. Mean: 5.0. Median: 5.0. Mode: 4.0.\n",
      "\n",
      "Passed: list-init-random-0-9\n",
      "Prompt:\n",
      "Print out this list of numbers: [6, 4, 3, 1, 2]. List: [\n",
      "Expected: [6, 4, 3, 1, 2]\n",
      "Output  : <|endoftext|>Print out this list of numbers: [6, 4, 3, 1, 2]. List: [1, 2, 3, 4, 5, 6, 7, 8, 9, 10]\"\"\"\n",
      "      numbers = list(range(\n",
      "\n",
      "Passed: list-init-random-0-10\n",
      "Prompt:\n",
      "Print out this list of numbers: [2, 3, 8, 9, 7]. List: [\n",
      "Expected: [2, 3, 8, 9, 7]\n",
      "Output  : <|endoftext|>Print out this list of numbers: [2, 3, 8, 9, 7]. List: [2, 3, 8, 9, 7]\n",
      "      Print out this list of letters: ['A', 'B', 'C', 'D\n",
      "\n",
      "Passed: list-init-random-0-11\n",
      "Prompt:\n",
      "Print out this list of numbers: [8, 2, 3, 4, 9]. List: [\n",
      "Expected: [8, 2, 3, 4, 9]\n",
      "Output  : <|endoftext|>Print out this list of numbers: [8, 2, 3, 4, 9]. List: [8, 2, 3, 4, 9]\n",
      "      List: [2, 3, 4, 9]\n",
      "      List: [3,\n",
      "\n",
      "Passed: list-init-random-0-12\n",
      "Prompt:\n",
      "Print out this list of numbers: [2, 7, 6, 8, 9]. List: [\n",
      "Expected: [2, 7, 6, 8, 9]\n",
      "Output  : <|endoftext|>Print out this list of numbers: [2, 7, 6, 8, 9]. List: [2, 7, 6, 8, 9]\n",
      "random_order(lst: List[int]) -> None\n",
      "(random_order is\n",
      "\n",
      "Passed: list-init-random-0-13\n",
      "Prompt:\n",
      "Print out this list of numbers: [9, 6, 4, 9, 8]. List: [\n",
      "Expected: [9, 6, 4, 9, 8]\n",
      "Output  : <|endoftext|>Print out this list of numbers: [9, 6, 4, 9, 8]. List: [9, 6, 4, 9, 8]\n",
      "      \n",
      "      Print out this list of numbers: [6, 4]. List: [6\n",
      "\n",
      "Passed: list-init-random-0-14\n",
      "Prompt:\n",
      "Print out this list of numbers: [4, 2, 5, 8, 1]. List: [\n",
      "Expected: [4, 2, 5, 8, 1]\n",
      "Output  : <|endoftext|>Print out this list of numbers: [4, 2, 5, 8, 1]. List: [4, 2] is in ascending order, [5, 8, 1] is in ascending order, etc.\n",
      "      \"\"\"\n",
      "      sorted\n",
      "\n",
      "Passed: list-init-random-0-15\n",
      "Prompt:\n",
      "Print out this list of numbers: [4, 2, 7, 5, 3]. List: [\n",
      "Expected: [4, 2, 7, 5, 3]\n",
      "Output  : <|endoftext|>Print out this list of numbers: [4, 2, 7, 5, 3]. List: [4, 2, 7, 5, 3]\n",
      "      Print out this list of numbers: [2, 7, 5, 3, 4].\n",
      "\n",
      "Passed: list-init-random-0-16\n",
      "Prompt:\n",
      "Print out this list of numbers: [9, 2, 9, 6, 5]. List: [\n",
      "Expected: [9, 2, 9, 6, 5]\n",
      "Output  : <|endoftext|>Print out this list of numbers: [9, 2, 9, 6, 5]. List: [9, 2, 9, 6, 5]\n",
      "      \"\"\"\n",
      "      numbers = [9, 2, 9, 6, 5]\n",
      "\n",
      "Passed: list-init-random-0-17\n",
      "Prompt:\n",
      "Print out this list of numbers: [1, 9, 3, 1, 1]. List: [\n",
      "Expected: [1, 9, 3, 1, 1]\n",
      "Output  : <|endoftext|>Print out this list of numbers: [1, 9, 3, 1, 1]. List: [9, 7, 5, 3, 1]\n",
      "\n",
      "Print out this list of letters: ['a','s', 'd', 'f\n",
      "\n",
      "Passed: list-init-random-0-18\n",
      "Prompt:\n",
      "Print out this list of numbers: [9, 7, 8, 9, 7]. List: [\n",
      "Expected: [9, 7, 8, 9, 7]\n",
      "Output  : <|endoftext|>Print out this list of numbers: [9, 7, 8, 9, 7]. List: [9, 7, 8, 9, 7].\n",
      "      \"\"\"\n",
      "      random.seed(value) # sets the random seed to the given value\n",
      "\n",
      "Passed: list-init-random-0-19\n",
      "Prompt:\n",
      "Print out this list of numbers: [2, 6, 8, 3, 4]. List: [\n",
      "Expected: [2, 6, 8, 3, 4]\n",
      "Output  : <|endoftext|>Print out this list of numbers: [2, 6, 8, 3, 4]. List: [‘Two', ‘Six', ‘Eight’, ‘Three', ‘Four’]\n",
      "- Loop through the list\n",
      "\n",
      "Passed: list-init-random-0-20\n",
      "Prompt:\n",
      "Print out this list of numbers: [3, 9, 5, 4, 9]. List: [\n",
      "Expected: [3, 9, 5, 4, 9]\n",
      "Output  : <|endoftext|>Print out this list of numbers: [3, 9, 5, 4, 9]. List: [3, 9, 5, 4, 9]\n",
      "\n",
      "Print out this list of strings: [\"red\", \"orange\", \"yellow\", \"green\n",
      "\n",
      "Passed: list-init-random-0-21\n",
      "Prompt:\n",
      "Print out this list of numbers: [1, 8, 2, 4, 7]. List: [\n",
      "Expected: [1, 8, 2, 4, 7]\n",
      "Output  : <|endoftext|>Print out this list of numbers: [1, 8, 2, 4, 7]. List: [1, 8, 2, 4, 7]\n",
      "      \"\"\"\n",
      "      li = [1, 2, 3, 4, 5, 6,\n",
      "\n",
      "Passed: list-init-random-0-22\n",
      "Prompt:\n",
      "Print out this list of numbers: [3, 2, 6, 6, 9]. List: [\n",
      "Expected: [3, 2, 6, 6, 9]\n",
      "Output  : <|endoftext|>Print out this list of numbers: [3, 2, 6, 6, 9]. List: [3, 2, 6, 9]\n",
      "\n",
      "      Print out this list of colors: ['red', 'blue', 'green']. List: ['\n",
      "\n",
      "Passed: list-init-random-0-23\n",
      "Prompt:\n",
      "Print out this list of numbers: [7, 1, 6, 2, 3]. List: [\n",
      "Expected: [7, 1, 6, 2, 3]\n",
      "Output  : <|endoftext|>Print out this list of numbers: [7, 1, 6, 2, 3]. List: [7, 1, 6, 2, 3]\n",
      "      List: [7, 6, 2, 1, 3]\n",
      "      List: [\n",
      "\n",
      "Passed: list-init-random-0-24\n",
      "Prompt:\n",
      "Print out this list of numbers: [5, 3, 1, 1, 3]. List: [\n",
      "Expected: [5, 3, 1, 1, 3]\n",
      "Output  : <|endoftext|>Print out this list of numbers: [5, 3, 1, 1, 3]. List: [5, 3, 1, 1, 3]\n",
      "      Print out this list of numbers: [5, 3, 1, 1, 3].\n"
     ]
    }
   ],
   "source": [
    "family = RandomListPromptFamily(max_val = 10)\n",
    "cases = family.generate_cases(25, prompt_idx=0)\n",
    "family.run_cases_and_report_failures(model)"
   ]
  },
  {
   "cell_type": "markdown",
   "metadata": {},
   "source": [
    "Common Failure seems to be of the form: \n",
    "```python\n",
    "<s> Print out this list of numbers: {numbers}.\n",
    "```\n",
    "\n",
    "But this is weird since the numbers are usually correct but its just ignoring instructions to not include other text or copying the entire section of the prompt. "
   ]
  },
  {
   "cell_type": "code",
   "execution_count": 10,
   "metadata": {},
   "outputs": [
    {
     "name": "stdout",
     "output_type": "stream",
     "text": [
      "Running evaluation...\n"
     ]
    },
    {
     "data": {
      "application/vnd.jupyter.widget-view+json": {
       "model_id": "678d88fd6d914940857ba2a2da16e8b0",
       "version_major": 2,
       "version_minor": 0
      },
      "text/plain": [
       "Evaluating cases:   0%|          | 0/25 [00:00<?, ?it/s]"
      ]
     },
     "metadata": {},
     "output_type": "display_data"
    },
    {
     "data": {
      "application/vnd.jupyter.widget-view+json": {
       "model_id": "4132ce184cd247359a23393a2e858227",
       "version_major": 2,
       "version_minor": 0
      },
      "text/plain": [
       "  0%|          | 0/30 [00:00<?, ?it/s]"
      ]
     },
     "metadata": {},
     "output_type": "display_data"
    },
    {
     "data": {
      "application/vnd.jupyter.widget-view+json": {
       "model_id": "5ca58e992c66423d963c404b5a10f388",
       "version_major": 2,
       "version_minor": 0
      },
      "text/plain": [
       "  0%|          | 0/30 [00:00<?, ?it/s]"
      ]
     },
     "metadata": {},
     "output_type": "display_data"
    },
    {
     "data": {
      "application/vnd.jupyter.widget-view+json": {
       "model_id": "afe3b1574cf24cecbfda5e6a5d8fdfc5",
       "version_major": 2,
       "version_minor": 0
      },
      "text/plain": [
       "  0%|          | 0/30 [00:00<?, ?it/s]"
      ]
     },
     "metadata": {},
     "output_type": "display_data"
    },
    {
     "data": {
      "application/vnd.jupyter.widget-view+json": {
       "model_id": "4ce0bde96df34d0083592905dec9ce74",
       "version_major": 2,
       "version_minor": 0
      },
      "text/plain": [
       "  0%|          | 0/30 [00:00<?, ?it/s]"
      ]
     },
     "metadata": {},
     "output_type": "display_data"
    },
    {
     "data": {
      "application/vnd.jupyter.widget-view+json": {
       "model_id": "9c747e646e474ba692d74d8219bd63c1",
       "version_major": 2,
       "version_minor": 0
      },
      "text/plain": [
       "  0%|          | 0/30 [00:00<?, ?it/s]"
      ]
     },
     "metadata": {},
     "output_type": "display_data"
    },
    {
     "data": {
      "application/vnd.jupyter.widget-view+json": {
       "model_id": "a48347c1aa194fec8bf73d0e218a63c5",
       "version_major": 2,
       "version_minor": 0
      },
      "text/plain": [
       "  0%|          | 0/30 [00:00<?, ?it/s]"
      ]
     },
     "metadata": {},
     "output_type": "display_data"
    },
    {
     "data": {
      "application/vnd.jupyter.widget-view+json": {
       "model_id": "1bc6f78f91224508a5c9a080d337b16d",
       "version_major": 2,
       "version_minor": 0
      },
      "text/plain": [
       "  0%|          | 0/30 [00:00<?, ?it/s]"
      ]
     },
     "metadata": {},
     "output_type": "display_data"
    },
    {
     "data": {
      "application/vnd.jupyter.widget-view+json": {
       "model_id": "26ee264a3d8a4ab9a60fd51ea8db4d2c",
       "version_major": 2,
       "version_minor": 0
      },
      "text/plain": [
       "  0%|          | 0/30 [00:00<?, ?it/s]"
      ]
     },
     "metadata": {},
     "output_type": "display_data"
    },
    {
     "data": {
      "application/vnd.jupyter.widget-view+json": {
       "model_id": "c2839e8f78934cab9b1a04a2ecf888db",
       "version_major": 2,
       "version_minor": 0
      },
      "text/plain": [
       "  0%|          | 0/30 [00:00<?, ?it/s]"
      ]
     },
     "metadata": {},
     "output_type": "display_data"
    },
    {
     "data": {
      "application/vnd.jupyter.widget-view+json": {
       "model_id": "9f95e6531d0c47208ada5cbf5666cc64",
       "version_major": 2,
       "version_minor": 0
      },
      "text/plain": [
       "  0%|          | 0/30 [00:00<?, ?it/s]"
      ]
     },
     "metadata": {},
     "output_type": "display_data"
    },
    {
     "data": {
      "application/vnd.jupyter.widget-view+json": {
       "model_id": "00ef8a59bccf4d7db0cb105e60fe1614",
       "version_major": 2,
       "version_minor": 0
      },
      "text/plain": [
       "  0%|          | 0/30 [00:00<?, ?it/s]"
      ]
     },
     "metadata": {},
     "output_type": "display_data"
    },
    {
     "data": {
      "application/vnd.jupyter.widget-view+json": {
       "model_id": "716e2da349e34f488fa2f7396d43ffbd",
       "version_major": 2,
       "version_minor": 0
      },
      "text/plain": [
       "  0%|          | 0/30 [00:00<?, ?it/s]"
      ]
     },
     "metadata": {},
     "output_type": "display_data"
    },
    {
     "data": {
      "application/vnd.jupyter.widget-view+json": {
       "model_id": "965e650a98d34284b8e836e1eba6a574",
       "version_major": 2,
       "version_minor": 0
      },
      "text/plain": [
       "  0%|          | 0/30 [00:00<?, ?it/s]"
      ]
     },
     "metadata": {},
     "output_type": "display_data"
    },
    {
     "data": {
      "application/vnd.jupyter.widget-view+json": {
       "model_id": "15d660089a2f47369c4a44339772e24b",
       "version_major": 2,
       "version_minor": 0
      },
      "text/plain": [
       "  0%|          | 0/30 [00:00<?, ?it/s]"
      ]
     },
     "metadata": {},
     "output_type": "display_data"
    },
    {
     "data": {
      "application/vnd.jupyter.widget-view+json": {
       "model_id": "43f4f84b2dea4304a2995294bc63d3af",
       "version_major": 2,
       "version_minor": 0
      },
      "text/plain": [
       "  0%|          | 0/30 [00:00<?, ?it/s]"
      ]
     },
     "metadata": {},
     "output_type": "display_data"
    },
    {
     "data": {
      "application/vnd.jupyter.widget-view+json": {
       "model_id": "52052b8c9f8a48458faac03fca83dd9b",
       "version_major": 2,
       "version_minor": 0
      },
      "text/plain": [
       "  0%|          | 0/30 [00:00<?, ?it/s]"
      ]
     },
     "metadata": {},
     "output_type": "display_data"
    },
    {
     "data": {
      "application/vnd.jupyter.widget-view+json": {
       "model_id": "d873ad630c954a478e0f64099930bc11",
       "version_major": 2,
       "version_minor": 0
      },
      "text/plain": [
       "  0%|          | 0/30 [00:00<?, ?it/s]"
      ]
     },
     "metadata": {},
     "output_type": "display_data"
    },
    {
     "data": {
      "application/vnd.jupyter.widget-view+json": {
       "model_id": "e61cca5f89c04c4fa63bd1bf7b2f8622",
       "version_major": 2,
       "version_minor": 0
      },
      "text/plain": [
       "  0%|          | 0/30 [00:00<?, ?it/s]"
      ]
     },
     "metadata": {},
     "output_type": "display_data"
    },
    {
     "data": {
      "application/vnd.jupyter.widget-view+json": {
       "model_id": "b41a3c47e7fd4a30b9789dbea952d126",
       "version_major": 2,
       "version_minor": 0
      },
      "text/plain": [
       "  0%|          | 0/30 [00:00<?, ?it/s]"
      ]
     },
     "metadata": {},
     "output_type": "display_data"
    },
    {
     "data": {
      "application/vnd.jupyter.widget-view+json": {
       "model_id": "442927ebab804a63a44fcfc1836da912",
       "version_major": 2,
       "version_minor": 0
      },
      "text/plain": [
       "  0%|          | 0/30 [00:00<?, ?it/s]"
      ]
     },
     "metadata": {},
     "output_type": "display_data"
    },
    {
     "data": {
      "application/vnd.jupyter.widget-view+json": {
       "model_id": "507438e58d1c4b62b7340177655efead",
       "version_major": 2,
       "version_minor": 0
      },
      "text/plain": [
       "  0%|          | 0/30 [00:00<?, ?it/s]"
      ]
     },
     "metadata": {},
     "output_type": "display_data"
    },
    {
     "data": {
      "application/vnd.jupyter.widget-view+json": {
       "model_id": "12c58a48221f43139583813f5d0e91fa",
       "version_major": 2,
       "version_minor": 0
      },
      "text/plain": [
       "  0%|          | 0/30 [00:00<?, ?it/s]"
      ]
     },
     "metadata": {},
     "output_type": "display_data"
    },
    {
     "data": {
      "application/vnd.jupyter.widget-view+json": {
       "model_id": "67f2f0505c2f43f5a9963cf8533f5aca",
       "version_major": 2,
       "version_minor": 0
      },
      "text/plain": [
       "  0%|          | 0/30 [00:00<?, ?it/s]"
      ]
     },
     "metadata": {},
     "output_type": "display_data"
    },
    {
     "data": {
      "application/vnd.jupyter.widget-view+json": {
       "model_id": "90df8ceee3c74c29856ca1b98dd28023",
       "version_major": 2,
       "version_minor": 0
      },
      "text/plain": [
       "  0%|          | 0/30 [00:00<?, ?it/s]"
      ]
     },
     "metadata": {},
     "output_type": "display_data"
    },
    {
     "data": {
      "application/vnd.jupyter.widget-view+json": {
       "model_id": "d8861b06dc4647d3a363f8d1448d8c25",
       "version_major": 2,
       "version_minor": 0
      },
      "text/plain": [
       "  0%|          | 0/30 [00:00<?, ?it/s]"
      ]
     },
     "metadata": {},
     "output_type": "display_data"
    },
    {
     "name": "stdout",
     "output_type": "stream",
     "text": [
      "\n",
      "Failed: list-init-random-1-1\n",
      "Prompt:\n",
      "Append -1 to the end of this list [5, 9, 8, 2, 6] \n",
      " List: [\n",
      "Expected: [5, 9, 8, 2, 6, -1]\n",
      "Output  : <|endoftext|>Append -1 to the end of this list [5, 9, 8, 2, 6] \n",
      " List: [5, 9, 8, 2, 6]\n",
      "Append 3 to the end of this list [5, 9, 8, 2, 6\n",
      "\n",
      "Failed: list-init-random-1-2\n",
      "Prompt:\n",
      "Append -1 to the end of this list [2, 8, 6, 7, 9] \n",
      " List: [\n",
      "Expected: [2, 8, 6, 7, 9, -1]\n",
      "Output  : <|endoftext|>Append -1 to the end of this list [2, 8, 6, 7, 9] \n",
      " List: [2, 8, 6, 7, 9]\n",
      " Append 9 to the end of this list [2, 8, 6, 7, 9\n",
      "\n",
      "Failed: list-init-random-1-4\n",
      "Prompt:\n",
      "Append -1 to the end of this list [9, 4, 4, 5, 1] \n",
      " List: [\n",
      "Expected: [9, 4, 4, 5, 1, -1]\n",
      "Output  : <|endoftext|>Append -1 to the end of this list [9, 4, 4, 5, 1] \n",
      " List: [9, 4, 4, 5, 1, 6, 3, 2, 5]\n",
      "Append 2 to the end of this list [9\n",
      "\n",
      "Failed: list-init-random-1-5\n",
      "Prompt:\n",
      "Append -1 to the end of this list [4, 2, 2, 4, 7] \n",
      " List: [\n",
      "Expected: [4, 2, 2, 4, 7, -1]\n",
      "Output  : <|endoftext|>Append -1 to the end of this list [4, 2, 2, 4, 7] \n",
      " List: [4, 2, 2, 4, 7]\n",
      "New integer to append: 3\n",
      " Append -1 to the end of this list [4\n",
      "\n",
      "Failed: list-init-random-1-6\n",
      "Prompt:\n",
      "Append -1 to the end of this list [9, 6, 4, 9, 6] \n",
      " List: [\n",
      "Expected: [9, 6, 4, 9, 6, -1]\n",
      "Output  : <|endoftext|>Append -1 to the end of this list [9, 6, 4, 9, 6] \n",
      " List: [9, 6, 4, 9, 6]\n",
      " Append 64 to the end of the list [9, 6, 4, 9, 6\n",
      "\n",
      "Failed: list-init-random-1-7\n",
      "Prompt:\n",
      "Append -1 to the end of this list [4, 3, 6, 1, 1] \n",
      " List: [\n",
      "Expected: [4, 3, 6, 1, 1, -1]\n",
      "Output  : <|endoftext|>Append -1 to the end of this list [4, 3, 6, 1, 1] \n",
      " List: [4, 3, 6, 1, 1]\n",
      "Append 4 to the end of this list [4, 3, 6, 1, 1\n",
      "\n",
      "Failed: list-init-random-1-8\n",
      "Prompt:\n",
      "Append -1 to the end of this list [5, 4, 3, 7, 5] \n",
      " List: [\n",
      "Expected: [5, 4, 3, 7, 5, -1]\n",
      "Output  : <|endoftext|>Append -1 to the end of this list [5, 4, 3, 7, 5] \n",
      " List: [5, 4, 3, 7, 5]\n",
      " Append -2 to the end of this list [5, 4, 3, 7,\n",
      "\n",
      "Failed: list-init-random-1-9\n",
      "Prompt:\n",
      "Append -1 to the end of this list [1, 8, 9, 2, 5] \n",
      " List: [\n",
      "Expected: [1, 8, 9, 2, 5, -1]\n",
      "Output  : <|endoftext|>Append -1 to the end of this list [1, 8, 9, 2, 5] \n",
      " List: [1, 8, 9, 2, 5]\n",
      "Append -2 to the end of this list [1, 8, 9, 2,\n",
      "\n",
      "Failed: list-init-random-1-10\n",
      "Prompt:\n",
      "Append -1 to the end of this list [3, 5, 7, 4, 2] \n",
      " List: [\n",
      "Expected: [3, 5, 7, 4, 2, -1]\n",
      "Output  : <|endoftext|>Append -1 to the end of this list [3, 5, 7, 4, 2] \n",
      " List: [3, 5, 7, 4, 2]\n",
      "Common elements: 4, 2\n",
      " Appended list: [3, 5, 7, 4\n",
      "\n",
      "Failed: list-init-random-1-11\n",
      "Prompt:\n",
      "Append -1 to the end of this list [3, 6, 9, 8, 3] \n",
      " List: [\n",
      "Expected: [3, 6, 9, 8, 3, -1]\n",
      "Output  : <|endoftext|>Append -1 to the end of this list [3, 6, 9, 8, 3] \n",
      " List: [3, 6, 9, 8, 3]\n",
      "RemovingDuplicates -2 from the end of this list [3, 6, 9\n",
      "\n",
      "Failed: list-init-random-1-12\n",
      "Prompt:\n",
      "Append -1 to the end of this list [3, 5, 9, 2, 3] \n",
      " List: [\n",
      "Expected: [3, 5, 9, 2, 3, -1]\n",
      "Output  : <|endoftext|>Append -1 to the end of this list [3, 5, 9, 2, 3] \n",
      " List: [3, 5, 9, 2, 3]\n",
      " 4 is at index 1\n",
      " Updated List: [3, 5, 9, 2, -\n",
      "\n",
      "Failed: list-init-random-1-13\n",
      "Prompt:\n",
      "Append -1 to the end of this list [2, 8, 8, 3, 9] \n",
      " List: [\n",
      "Expected: [2, 8, 8, 3, 9, -1]\n",
      "Output  : <|endoftext|>Append -1 to the end of this list [2, 8, 8, 3, 9] \n",
      " List: [2, 8, 8, 3, 9]\n",
      "Append -2 to the end of this list [2, 8, 8, 3,\n",
      "\n",
      "Failed: list-init-random-1-15\n",
      "Prompt:\n",
      "Append -1 to the end of this list [5, 8, 7, 7, 8] \n",
      " List: [\n",
      "Expected: [5, 8, 7, 7, 8, -1]\n",
      "Output  : <|endoftext|>Append -1 to the end of this list [5, 8, 7, 7, 8] \n",
      " List: [5, 8, 7, 7, 8]\n",
      " Backup -1 to position 7\n",
      "List: [5, 8, 7, -1,\n",
      "\n",
      "Failed: list-init-random-1-16\n",
      "Prompt:\n",
      "Append -1 to the end of this list [5, 1, 3, 9, 5] \n",
      " List: [\n",
      "Expected: [5, 1, 3, 9, 5, -1]\n",
      "Output  : <|endoftext|>Append -1 to the end of this list [5, 1, 3, 9, 5] \n",
      " List: [5, 1, 3, 9, 5]\n",
      "Append 4 to the end of this list [5, 1, 3, 9, 5\n",
      "\n",
      "Failed: list-init-random-1-17\n",
      "Prompt:\n",
      "Append -1 to the end of this list [1, 9, 6, 6, 6] \n",
      " List: [\n",
      "Expected: [1, 9, 6, 6, 6, -1]\n",
      "Output  : <|endoftext|>Append -1 to the end of this list [1, 9, 6, 6, 6] \n",
      " List: [1, 9, 6, 6, 6] \n",
      "Append 5 to the end of this list [1, 9, 6, 6,\n",
      "\n",
      "Failed: list-init-random-1-18\n",
      "Prompt:\n",
      "Append -1 to the end of this list [7, 1, 3, 6, 9] \n",
      " List: [\n",
      "Expected: [7, 1, 3, 6, 9, -1]\n",
      "Output  : <|endoftext|>Append -1 to the end of this list [7, 1, 3, 6, 9] \n",
      " List: [7, 1, 3, 6, 9, 10]\n",
      "\n",
      " Append the integer 4 to the end of this list [7, 1, 3\n",
      "\n",
      "Failed: list-init-random-1-19\n",
      "Prompt:\n",
      "Append -1 to the end of this list [6, 4, 4, 3, 4] \n",
      " List: [\n",
      "Expected: [6, 4, 4, 3, 4, -1]\n",
      "Output  : <|endoftext|>Append -1 to the end of this list [6, 4, 4, 3, 4] \n",
      " List: [6, 4, 4, 3, 4, 10, 5]\n",
      "\n",
      " Append 1 to the end of this list [6, 4, 4\n",
      "\n",
      "Failed: list-init-random-1-20\n",
      "Prompt:\n",
      "Append -1 to the end of this list [3, 8, 6, 8, 4] \n",
      " List: [\n",
      "Expected: [3, 8, 6, 8, 4, -1]\n",
      "Output  : <|endoftext|>Append -1 to the end of this list [3, 8, 6, 8, 4] \n",
      " List: [3, 8, 6, 8, 4]\n",
      " Append -2 to the end of this list [3, 8, 6, 8,\n",
      "\n",
      "Failed: list-init-random-1-21\n",
      "Prompt:\n",
      "Append -1 to the end of this list [6, 9, 3, 6, 5] \n",
      " List: [\n",
      "Expected: [6, 9, 3, 6, 5, -1]\n",
      "Output  : <|endoftext|>Append -1 to the end of this list [6, 9, 3, 6, 5] \n",
      " List: [6, 9, 3, 6, 5, 1, 2, 3, 4, 5, 6, 7, 8, 9]\n",
      " App\n",
      "\n",
      "Failed: list-init-random-1-22\n",
      "Prompt:\n",
      "Append -1 to the end of this list [8, 7, 6, 3, 5] \n",
      " List: [\n",
      "Expected: [8, 7, 6, 3, 5, -1]\n",
      "Output  : <|endoftext|>Append -1 to the end of this list [8, 7, 6, 3, 5] \n",
      " List: [8, 7, 6, 3, 5]\n",
      " Append 4 to the end of this list [8, 7, 6, 4, 5\n",
      "\n",
      "Failed: list-init-random-1-23\n",
      "Prompt:\n",
      "Append -1 to the end of this list [3, 8, 1, 9, 7] \n",
      " List: [\n",
      "Expected: [3, 8, 1, 9, 7, -1]\n",
      "Output  : <|endoftext|>Append -1 to the end of this list [3, 8, 1, 9, 7] \n",
      " List: [3, 8, 1, 9, 7]\n",
      " Append 1 to the end of this list [0, 1, 2, 3, 4\n",
      "\n",
      "Failed: list-init-random-1-24\n",
      "Prompt:\n",
      "Append -1 to the end of this list [7, 9, 1, 1, 2] \n",
      " List: [\n",
      "Expected: [7, 9, 1, 1, 2, -1]\n",
      "Output  : <|endoftext|>Append -1 to the end of this list [7, 9, 1, 1, 2] \n",
      " List: [7, 9, 1, 1, 2] \n",
      " Append 8 to the end of this list [7, 9, 1, 1,\n",
      "\n",
      "Passed: list-init-random-1-0\n",
      "Prompt:\n",
      "Append -1 to the end of this list [1, 1, 9, 4, 2] \n",
      " List: [\n",
      "Expected: [1, 1, 9, 4, 2, -1]\n",
      "Output  : <|endoftext|>Append -1 to the end of this list [1, 1, 9, 4, 2] \n",
      " List: [1, 1, 9, 4, 2, -1]\n",
      "Append -2 to the end of this list [1, 1, 9\n",
      "\n",
      "Passed: list-init-random-1-3\n",
      "Prompt:\n",
      "Append -1 to the end of this list [6, 3, 2, 1, 6] \n",
      " List: [\n",
      "Expected: [6, 3, 2, 1, 6, -1]\n",
      "Output  : <|endoftext|>Append -1 to the end of this list [6, 3, 2, 1, 6] \n",
      " List: [6, 3, 2, 1, 6, -1]\n",
      "Append -2 to the end of this list [1, 2, 3\n",
      "\n",
      "Passed: list-init-random-1-14\n",
      "Prompt:\n",
      "Append -1 to the end of this list [6, 1, 5, 9, 8] \n",
      " List: [\n",
      "Expected: [6, 1, 5, 9, 8, -1]\n",
      "Output  : <|endoftext|>Append -1 to the end of this list [6, 1, 5, 9, 8] \n",
      " List: [6, 1, 5, 9, 8, -1]\n",
      "\n",
      " Append -2 to the end of this list [6, 1, 5\n"
     ]
    }
   ],
   "source": [
    "family = RandomListPromptFamily(max_val = 10)\n",
    "def p2(l): \n",
    "    l.append(-1)\n",
    "    return l\n",
    "better_cases = family.generate_cases(25, prompt_idx=1, transform_fn = p2)\n",
    "family.run_cases_and_report_failures(model)"
   ]
  },
  {
   "cell_type": "code",
   "execution_count": 20,
   "metadata": {},
   "outputs": [
    {
     "name": "stdout",
     "output_type": "stream",
     "text": [
      "Running evaluation...\n"
     ]
    },
    {
     "data": {
      "application/vnd.jupyter.widget-view+json": {
       "model_id": "d15fb0a47faf47b78ae4a535f7faf5cd",
       "version_major": 2,
       "version_minor": 0
      },
      "text/plain": [
       "Evaluating cases:   0%|          | 0/25 [00:00<?, ?it/s]"
      ]
     },
     "metadata": {},
     "output_type": "display_data"
    },
    {
     "data": {
      "application/vnd.jupyter.widget-view+json": {
       "model_id": "26ea51cbedd34db5a2705d8f70b21c48",
       "version_major": 2,
       "version_minor": 0
      },
      "text/plain": [
       "  0%|          | 0/30 [00:00<?, ?it/s]"
      ]
     },
     "metadata": {},
     "output_type": "display_data"
    },
    {
     "data": {
      "application/vnd.jupyter.widget-view+json": {
       "model_id": "e5a12280e3b541ee896ff4fc15617616",
       "version_major": 2,
       "version_minor": 0
      },
      "text/plain": [
       "  0%|          | 0/30 [00:00<?, ?it/s]"
      ]
     },
     "metadata": {},
     "output_type": "display_data"
    },
    {
     "data": {
      "application/vnd.jupyter.widget-view+json": {
       "model_id": "e51cfc4ade804c3e995b5c3913cbf1b0",
       "version_major": 2,
       "version_minor": 0
      },
      "text/plain": [
       "  0%|          | 0/30 [00:00<?, ?it/s]"
      ]
     },
     "metadata": {},
     "output_type": "display_data"
    },
    {
     "data": {
      "application/vnd.jupyter.widget-view+json": {
       "model_id": "bb8c0dea35c0453abf188f3e6599c35c",
       "version_major": 2,
       "version_minor": 0
      },
      "text/plain": [
       "  0%|          | 0/30 [00:00<?, ?it/s]"
      ]
     },
     "metadata": {},
     "output_type": "display_data"
    },
    {
     "data": {
      "application/vnd.jupyter.widget-view+json": {
       "model_id": "5c43a7c26c874dc88c657c8046f0fd29",
       "version_major": 2,
       "version_minor": 0
      },
      "text/plain": [
       "  0%|          | 0/30 [00:00<?, ?it/s]"
      ]
     },
     "metadata": {},
     "output_type": "display_data"
    },
    {
     "data": {
      "application/vnd.jupyter.widget-view+json": {
       "model_id": "8736967a6cd646ba975afba859756994",
       "version_major": 2,
       "version_minor": 0
      },
      "text/plain": [
       "  0%|          | 0/30 [00:00<?, ?it/s]"
      ]
     },
     "metadata": {},
     "output_type": "display_data"
    },
    {
     "data": {
      "application/vnd.jupyter.widget-view+json": {
       "model_id": "4b112cfebecf4222b1abd71e1134b80e",
       "version_major": 2,
       "version_minor": 0
      },
      "text/plain": [
       "  0%|          | 0/30 [00:00<?, ?it/s]"
      ]
     },
     "metadata": {},
     "output_type": "display_data"
    },
    {
     "data": {
      "application/vnd.jupyter.widget-view+json": {
       "model_id": "03eef8fc3bd3494d896e1eabc7403356",
       "version_major": 2,
       "version_minor": 0
      },
      "text/plain": [
       "  0%|          | 0/30 [00:00<?, ?it/s]"
      ]
     },
     "metadata": {},
     "output_type": "display_data"
    },
    {
     "data": {
      "application/vnd.jupyter.widget-view+json": {
       "model_id": "cfbcf0213e1e44ebbc1a1a5b8c356382",
       "version_major": 2,
       "version_minor": 0
      },
      "text/plain": [
       "  0%|          | 0/30 [00:00<?, ?it/s]"
      ]
     },
     "metadata": {},
     "output_type": "display_data"
    },
    {
     "data": {
      "application/vnd.jupyter.widget-view+json": {
       "model_id": "60e3a33987f949e7b5046b3f347bed77",
       "version_major": 2,
       "version_minor": 0
      },
      "text/plain": [
       "  0%|          | 0/30 [00:00<?, ?it/s]"
      ]
     },
     "metadata": {},
     "output_type": "display_data"
    },
    {
     "data": {
      "application/vnd.jupyter.widget-view+json": {
       "model_id": "0a0fe07d5e9c4178aa6cd416cb91410c",
       "version_major": 2,
       "version_minor": 0
      },
      "text/plain": [
       "  0%|          | 0/30 [00:00<?, ?it/s]"
      ]
     },
     "metadata": {},
     "output_type": "display_data"
    },
    {
     "data": {
      "application/vnd.jupyter.widget-view+json": {
       "model_id": "2291684acdd041f1bc85c23e469c0aea",
       "version_major": 2,
       "version_minor": 0
      },
      "text/plain": [
       "  0%|          | 0/30 [00:00<?, ?it/s]"
      ]
     },
     "metadata": {},
     "output_type": "display_data"
    },
    {
     "data": {
      "application/vnd.jupyter.widget-view+json": {
       "model_id": "6cf2319b16d844fab06d4191f4796a94",
       "version_major": 2,
       "version_minor": 0
      },
      "text/plain": [
       "  0%|          | 0/30 [00:00<?, ?it/s]"
      ]
     },
     "metadata": {},
     "output_type": "display_data"
    },
    {
     "data": {
      "application/vnd.jupyter.widget-view+json": {
       "model_id": "5f967f1c40604a148f81a70f95f1db12",
       "version_major": 2,
       "version_minor": 0
      },
      "text/plain": [
       "  0%|          | 0/30 [00:00<?, ?it/s]"
      ]
     },
     "metadata": {},
     "output_type": "display_data"
    },
    {
     "data": {
      "application/vnd.jupyter.widget-view+json": {
       "model_id": "06f892d69ae84fe180d0d891d3a7a147",
       "version_major": 2,
       "version_minor": 0
      },
      "text/plain": [
       "  0%|          | 0/30 [00:00<?, ?it/s]"
      ]
     },
     "metadata": {},
     "output_type": "display_data"
    },
    {
     "data": {
      "application/vnd.jupyter.widget-view+json": {
       "model_id": "3bdefa4740154e7ea890829cc295a6f1",
       "version_major": 2,
       "version_minor": 0
      },
      "text/plain": [
       "  0%|          | 0/30 [00:00<?, ?it/s]"
      ]
     },
     "metadata": {},
     "output_type": "display_data"
    },
    {
     "data": {
      "application/vnd.jupyter.widget-view+json": {
       "model_id": "0c36163e81444d97beccdbad2cb78115",
       "version_major": 2,
       "version_minor": 0
      },
      "text/plain": [
       "  0%|          | 0/30 [00:00<?, ?it/s]"
      ]
     },
     "metadata": {},
     "output_type": "display_data"
    },
    {
     "data": {
      "application/vnd.jupyter.widget-view+json": {
       "model_id": "e8bf894876d24c76a37a98ee1e872baf",
       "version_major": 2,
       "version_minor": 0
      },
      "text/plain": [
       "  0%|          | 0/30 [00:00<?, ?it/s]"
      ]
     },
     "metadata": {},
     "output_type": "display_data"
    },
    {
     "data": {
      "application/vnd.jupyter.widget-view+json": {
       "model_id": "6c1315fa58484af7acc576a9b34316eb",
       "version_major": 2,
       "version_minor": 0
      },
      "text/plain": [
       "  0%|          | 0/30 [00:00<?, ?it/s]"
      ]
     },
     "metadata": {},
     "output_type": "display_data"
    },
    {
     "data": {
      "application/vnd.jupyter.widget-view+json": {
       "model_id": "7bee4d24f0204c20a169160521490013",
       "version_major": 2,
       "version_minor": 0
      },
      "text/plain": [
       "  0%|          | 0/30 [00:00<?, ?it/s]"
      ]
     },
     "metadata": {},
     "output_type": "display_data"
    },
    {
     "data": {
      "application/vnd.jupyter.widget-view+json": {
       "model_id": "00ea97c6485c412ea164911bde3e6e60",
       "version_major": 2,
       "version_minor": 0
      },
      "text/plain": [
       "  0%|          | 0/30 [00:00<?, ?it/s]"
      ]
     },
     "metadata": {},
     "output_type": "display_data"
    },
    {
     "data": {
      "application/vnd.jupyter.widget-view+json": {
       "model_id": "f0f582b6ae334c5980ca5de12d38a109",
       "version_major": 2,
       "version_minor": 0
      },
      "text/plain": [
       "  0%|          | 0/30 [00:00<?, ?it/s]"
      ]
     },
     "metadata": {},
     "output_type": "display_data"
    },
    {
     "data": {
      "application/vnd.jupyter.widget-view+json": {
       "model_id": "85b397cbcff54e9d8d935322a5a0e7ff",
       "version_major": 2,
       "version_minor": 0
      },
      "text/plain": [
       "  0%|          | 0/30 [00:00<?, ?it/s]"
      ]
     },
     "metadata": {},
     "output_type": "display_data"
    },
    {
     "data": {
      "application/vnd.jupyter.widget-view+json": {
       "model_id": "d4cd17ac78e14c67ba6903b70f89e27a",
       "version_major": 2,
       "version_minor": 0
      },
      "text/plain": [
       "  0%|          | 0/30 [00:00<?, ?it/s]"
      ]
     },
     "metadata": {},
     "output_type": "display_data"
    },
    {
     "data": {
      "application/vnd.jupyter.widget-view+json": {
       "model_id": "2e74338790034f75935eab3fa465190a",
       "version_major": 2,
       "version_minor": 0
      },
      "text/plain": [
       "  0%|          | 0/30 [00:00<?, ?it/s]"
      ]
     },
     "metadata": {},
     "output_type": "display_data"
    },
    {
     "name": "stdout",
     "output_type": "stream",
     "text": [
      "\n",
      "Failed: list-init-random-2-0\n",
      "Prompt:\n",
      "Add 1 to every element in this list: [2, 4, 5, 3, 8] \n",
      " List: [\n",
      "Expected: [3, 5, 6, 4, 9]\n",
      "Output  : <|endoftext|>Add 1 to every element in this list: [2, 4, 5, 3, 8] \n",
      " List: [3, 5, 7, 2, 4]\n",
      "\"\"\"\n",
      "\n",
      "def add_one_to_every_element(li: List[int\n",
      "\n",
      "Failed: list-init-random-2-1\n",
      "Prompt:\n",
      "Add 1 to every element in this list: [1, 8, 5, 3, 3] \n",
      " List: [\n",
      "Expected: [2, 9, 6, 4, 4]\n",
      "Output  : <|endoftext|>Add 1 to every element in this list: [1, 8, 5, 3, 3] \n",
      " List: [2, 7, 6, 4, 4]\n",
      "\"\"\"\n",
      "\n",
      "def count_all_ascii_figures(fig: List[\n",
      "\n",
      "Failed: list-init-random-2-2\n",
      "Prompt:\n",
      "Add 1 to every element in this list: [7, 2, 2, 9, 3] \n",
      " List: [\n",
      "Expected: [8, 3, 3, 10, 4]\n",
      "Output  : <|endoftext|>Add 1 to every element in this list: [7, 2, 2, 9, 3] \n",
      " List: [8, 3, 4, 10, 5]\n",
      "\"\"\"\n",
      "li = [7, 2, 2, 9, 3]\n",
      "li = [\n",
      "\n",
      "Failed: list-init-random-2-3\n",
      "Prompt:\n",
      "Add 1 to every element in this list: [7, 2, 2, 5, 7] \n",
      " List: [\n",
      "Expected: [8, 3, 3, 6, 8]\n",
      "Output  : <|endoftext|>Add 1 to every element in this list: [7, 2, 2, 5, 7] \n",
      " List: [8, 3, 2, 6, 7]\n",
      "\"\"\"\n",
      "\n",
      "def add_one_list(li: list[int]) -> list[\n",
      "\n",
      "Failed: list-init-random-2-5\n",
      "Prompt:\n",
      "Add 1 to every element in this list: [2, 5, 2, 8, 9] \n",
      " List: [\n",
      "Expected: [3, 6, 3, 9, 10]\n",
      "Output  : <|endoftext|>Add 1 to every element in this list: [2, 5, 2, 8, 9] \n",
      " List: [3, 6, 4, 9, 10]\n",
      "\"\"\"\n",
      "\n",
      "def modify_every_list_element(li: List[any], add\n",
      "\n",
      "Failed: list-init-random-2-6\n",
      "Prompt:\n",
      "Add 1 to every element in this list: [4, 7, 3, 8, 3] \n",
      " List: [\n",
      "Expected: [5, 8, 4, 9, 4]\n",
      "Output  : <|endoftext|>Add 1 to every element in this list: [4, 7, 3, 8, 3] \n",
      " List: [5, 7, 4, 11, 4]\n",
      "\"\"\"\n",
      "\n",
      "def toggle_list(li: list[int]) -> list[int]:\n",
      "\n",
      "Failed: list-init-random-2-7\n",
      "Prompt:\n",
      "Add 1 to every element in this list: [9, 3, 6, 1, 1] \n",
      " List: [\n",
      "Expected: [10, 4, 7, 2, 2]\n",
      "Output  : <|endoftext|>Add 1 to every element in this list: [9, 3, 6, 1, 1] \n",
      " List: [10, 4, 6, 2, 1]\n",
      " Add 1 to every element in this list: [10, 4, 6, 2, 1\n",
      "\n",
      "Failed: list-init-random-2-8\n",
      "Prompt:\n",
      "Add 1 to every element in this list: [1, 8, 5, 6, 5] \n",
      " List: [\n",
      "Expected: [2, 9, 6, 7, 6]\n",
      "Output  : <|endoftext|>Add 1 to every element in this list: [1, 8, 5, 6, 5] \n",
      " List: [2, 7, 5, 7, 6]\n",
      "\"\"\"\n",
      "\n",
      "def increase_by_one_list_add(li: List[int\n",
      "\n",
      "Failed: list-init-random-2-10\n",
      "Prompt:\n",
      "Add 1 to every element in this list: [8, 4, 6, 3, 7] \n",
      " List: [\n",
      "Expected: [9, 5, 7, 4, 8]\n",
      "Output  : <|endoftext|>Add 1 to every element in this list: [8, 4, 6, 3, 7] \n",
      " List: [9, 5, 11, 1, 0]\n",
      "\"\"\"\n",
      "\n",
      "def add_one_plus_list(li: List[int]) ->\n",
      "\n",
      "Failed: list-init-random-2-11\n",
      "Prompt:\n",
      "Add 1 to every element in this list: [1, 9, 9, 3, 2] \n",
      " List: [\n",
      "Expected: [2, 10, 10, 4, 3]\n",
      "Output  : <|endoftext|>Add 1 to every element in this list: [1, 9, 9, 3, 2] \n",
      " List: [2, 8, 9, 4, 5]\n",
      "\"\"\"\n",
      "\n",
      "def make_floors_increment(building: List[int]) ->\n",
      "\n",
      "Failed: list-init-random-2-12\n",
      "Prompt:\n",
      "Add 1 to every element in this list: [2, 6, 6, 7, 2] \n",
      " List: [\n",
      "Expected: [3, 7, 7, 8, 3]\n",
      "Output  : <|endoftext|>Add 1 to every element in this list: [2, 6, 6, 7, 2] \n",
      " List: [3, 7, 7, 8, 2]\n",
      "\"\"\"\n",
      "\n",
      "from typing import List\n",
      "\n",
      "def add_one_year(years: List\n",
      "\n",
      "Failed: list-init-random-2-13\n",
      "Prompt:\n",
      "Add 1 to every element in this list: [2, 2, 6, 4, 5] \n",
      " List: [\n",
      "Expected: [3, 3, 7, 5, 6]\n",
      "Output  : <|endoftext|>Add 1 to every element in this list: [2, 2, 6, 4, 5] \n",
      " List: [3, 3, 7, 4, 5] \n",
      "\"\"\"\n",
      "\n",
      "from typing import List\n",
      "\n",
      "def increase_all_ints(li:\n",
      "\n",
      "Failed: list-init-random-2-14\n",
      "Prompt:\n",
      "Add 1 to every element in this list: [1, 1, 7, 6, 5] \n",
      " List: [\n",
      "Expected: [2, 2, 8, 7, 6]\n",
      "Output  : <|endoftext|>Add 1 to every element in this list: [1, 1, 7, 6, 5] \n",
      " List: [2, 3, 7, 8, 5]\n",
      "\n",
      "Then, subtract 3 from every even element in the list: \n",
      " List: [2\n",
      "\n",
      "Failed: list-init-random-2-16\n",
      "Prompt:\n",
      "Add 1 to every element in this list: [3, 2, 3, 2, 9] \n",
      " List: [\n",
      "Expected: [4, 3, 4, 3, 10]\n",
      "Output  : <|endoftext|>Add 1 to every element in this list: [3, 2, 3, 2, 9] \n",
      " List: [4, 5, 6, 5, 11]\n",
      "\"\"\"\n",
      "\n",
      "li = [3, 2, 3, 2, 9]\n",
      "new_\n",
      "\n",
      "Failed: list-init-random-2-18\n",
      "Prompt:\n",
      "Add 1 to every element in this list: [9, 7, 6, 3, 9] \n",
      " List: [\n",
      "Expected: [10, 8, 7, 4, 10]\n",
      "Output  : <|endoftext|>Add 1 to every element in this list: [9, 7, 6, 3, 9] \n",
      " List: [10, 8, 7, 5, 10]\n",
      "\"\"\"\n",
      "\n",
      "def increase_greatest_minus_growr(l: list) ->\n",
      "\n",
      "Failed: list-init-random-2-19\n",
      "Prompt:\n",
      "Add 1 to every element in this list: [3, 6, 3, 4, 9] \n",
      " List: [\n",
      "Expected: [4, 7, 4, 5, 10]\n",
      "Output  : <|endoftext|>Add 1 to every element in this list: [3, 6, 3, 4, 9] \n",
      " List: [4, 9, 7, 10, 11]\n",
      "\"\"\"\n",
      "\n",
      "def add_one_to_every_element(lst: List[\n",
      "\n",
      "Failed: list-init-random-2-20\n",
      "Prompt:\n",
      "Add 1 to every element in this list: [4, 3, 1, 1, 8] \n",
      " List: [\n",
      "Expected: [5, 4, 2, 2, 9]\n",
      "Output  : <|endoftext|>Add 1 to every element in this list: [4, 3, 1, 1, 8] \n",
      " List: [5, 4, 3, 1, 1, 8]\n",
      "\"\"\"\n",
      "\n",
      "def UseListToAddOneEveryElement(l: List[int\n",
      "\n",
      "Failed: list-init-random-2-22\n",
      "Prompt:\n",
      "Add 1 to every element in this list: [3, 3, 4, 6, 6] \n",
      " List: [\n",
      "Expected: [4, 4, 5, 7, 7]\n",
      "Output  : <|endoftext|>Add 1 to every element in this list: [3, 3, 4, 6, 6] \n",
      " List: [4, 6, 7, 11, 11]\n",
      "\n",
      "Then, add 10 to every element in this list: [8, 9, 12,\n",
      "\n",
      "Failed: list-init-random-2-23\n",
      "Prompt:\n",
      "Add 1 to every element in this list: [5, 6, 3, 1, 7] \n",
      " List: [\n",
      "Expected: [6, 7, 4, 2, 8]\n",
      "Output  : <|endoftext|>Add 1 to every element in this list: [5, 6, 3, 1, 7] \n",
      " List: [6, 8, 4, 2, 8]\n",
      "\"\"\"\n",
      "def plus_one_up_on_list(li: List[int])\n",
      "\n",
      "Failed: list-init-random-2-24\n",
      "Prompt:\n",
      "Add 1 to every element in this list: [3, 6, 8, 5, 5] \n",
      " List: [\n",
      "Expected: [4, 7, 9, 6, 6]\n",
      "Output  : <|endoftext|>Add 1 to every element in this list: [3, 6, 8, 5, 5] \n",
      " List: [4, 7, 9, 6, 4]\n",
      "Then, if any element in the list is greater than 10, subtract 1 from it: [\n",
      "\n",
      "Passed: list-init-random-2-4\n",
      "Prompt:\n",
      "Add 1 to every element in this list: [3, 9, 7, 9, 9] \n",
      " List: [\n",
      "Expected: [4, 10, 8, 10, 10]\n",
      "Output  : <|endoftext|>Add 1 to every element in this list: [3, 9, 7, 9, 9] \n",
      " List: [4, 10, 8, 10, 10]\n",
      "\"\"\"\n",
      "\n",
      "nums = [3, 9, 7, 9, 9]\n",
      "print\n",
      "\n",
      "Passed: list-init-random-2-9\n",
      "Prompt:\n",
      "Add 1 to every element in this list: [5, 6, 3, 1, 2] \n",
      " List: [\n",
      "Expected: [6, 7, 4, 2, 3]\n",
      "Output  : <|endoftext|>Add 1 to every element in this list: [5, 6, 3, 1, 2] \n",
      " List: [6, 7, 4, 2, 3]\n",
      "Explanation: The original list is unchanged. The added value 1 to every element in the\n",
      "\n",
      "Passed: list-init-random-2-15\n",
      "Prompt:\n",
      "Add 1 to every element in this list: [8, 4, 6, 3, 3] \n",
      " List: [\n",
      "Expected: [9, 5, 7, 4, 4]\n",
      "Output  : <|endoftext|>Add 1 to every element in this list: [8, 4, 6, 3, 3] \n",
      " List: [9, 5, 7, 4, 4]\n",
      "\"\"\"\n",
      "\n",
      "def add_plus_one(li: List[int]) -> List[\n",
      "\n",
      "Passed: list-init-random-2-17\n",
      "Prompt:\n",
      "Add 1 to every element in this list: [5, 9, 3, 1, 4] \n",
      " List: [\n",
      "Expected: [6, 10, 4, 2, 5]\n",
      "Output  : <|endoftext|>Add 1 to every element in this list: [5, 9, 3, 1, 4] \n",
      " List: [6, 10, 4, 2, 5] \n",
      "Sum: 27\n",
      "\n",
      "<|endoftext|>\n",
      "\n",
      "Passed: list-init-random-2-21\n",
      "Prompt:\n",
      "Add 1 to every element in this list: [4, 4, 9, 1, 3] \n",
      " List: [\n",
      "Expected: [5, 5, 10, 2, 4]\n",
      "Output  : <|endoftext|>Add 1 to every element in this list: [4, 4, 9, 1, 3] \n",
      " List: [5, 5, 10, 2, 4]\n",
      "\"\"\"\n",
      ">>> add_units([4, 4, 9, 1, 3])\n",
      "[\n"
     ]
    }
   ],
   "source": [
    "family = RandomListPromptFamily(max_val = 10)\n",
    "def p3(l): \n",
    "    return [x + 1 for x in l]\n",
    "manual_cases = family.generate_cases(25, prompt_idx=2, transform_fn = p3)\n",
    "family.run_cases_and_report_failures(model)"
   ]
  },
  {
   "cell_type": "code",
   "execution_count": 12,
   "metadata": {},
   "outputs": [],
   "source": [
    "# family = RandomListPromptFamily(max_val = 10)\n",
    "# cases = family.generate_cases(1, prompt_idx=2)\n",
    "# family.run_cases_and_report_failures(model)"
   ]
  },
  {
   "cell_type": "code",
   "execution_count": 13,
   "metadata": {},
   "outputs": [],
   "source": [
    "# # Try it again with OLLAMA \n",
    "# family = RandomListPromptFamily(max_val = 10)\n",
    "# cases = family.generate_cases(10, prompt_idx=0)\n",
    "# family.run_cases_and_report_failures(OLLAMA_MODELS[0], ollama=True)"
   ]
  },
  {
   "cell_type": "code",
   "execution_count": 14,
   "metadata": {},
   "outputs": [],
   "source": [
    "# # Try it again with OLLAMA \n",
    "# family = RandomListPromptFamily(max_val = 10)\n",
    "# cases = family.generate_cases(10, prompt_idx=1)\n",
    "# family.run_cases_and_report_failures(OLLAMA_MODELS[0], ollama=True)"
   ]
  },
  {
   "cell_type": "markdown",
   "metadata": {},
   "source": [
    "# Activation Patching\n",
    "Alright let's categorize our examples where they worked and failed from earlier and do activation patching on that \n",
    "\n",
    "## Append -1 to the end of the list \n",
    "\n",
    "### Passed \n",
    "[1, 1, 9, 4, 2] \n",
    "\n",
    "[6, 3, 2, 1, 6] \n",
    "\n",
    "[6, 1, 5, 9, 8] \n",
    "\n",
    "\n",
    "\n",
    "### Failed - Copied List\n",
    "[5, 9, 8, 2, 6] \n",
    "\n",
    "[2, 8, 6, 7, 9] \n",
    "\n",
    "[4, 2, 2, 4, 7]\n",
    "\n",
    "[9, 6, 4, 9, 6] \n",
    "\n",
    "[4, 3, 6, 1, 1]\n",
    "\n",
    "[5, 4, 3, 7, 5]\n",
    "\n",
    "[1, 8, 9, 2, 5]\n",
    "\n",
    "[3, 5, 7, 4, 2]\n",
    "\n",
    "[3, 6, 9, 8, 3]\n",
    "\n",
    "[3, 5, 9, 2, 3]\n",
    "\n",
    "[2, 8, 8, 3, 9]\n",
    "\n",
    "[5, 8, 7, 7, 8] \n",
    "\n",
    "[5, 1, 3, 9, 5]\n",
    "\n",
    "[1, 9, 6, 6, 6]\n",
    "\n",
    "[3, 8, 6, 8, 4]\n",
    "\n",
    "[8, 7, 6, 3, 5]\n",
    "\n",
    "[3, 8, 1, 9, 7]\n",
    "\n",
    "[7, 9, 1, 1, 2] \n",
    "\n",
    "\n",
    "\n",
    "\n",
    "### Failed - Bad/More Append\n",
    "[7, 1, 3, 6, 9] - Bad Append\n",
    "\n",
    "[6, 4, 4, 3, 4] - Appended 2 wrong numbers\n",
    "\n",
    "[6, 9, 3, 6, 5] - Appended many wrong numbers\n",
    "\n",
    "[9, 4, 4, 5, 1] - Appended many wrong numbers\n"
   ]
  },
  {
   "cell_type": "code",
   "execution_count": 23,
   "metadata": {},
   "outputs": [
    {
     "name": "stdout",
     "output_type": "stream",
     "text": [
      "Running evaluation...\n"
     ]
    },
    {
     "data": {
      "application/vnd.jupyter.widget-view+json": {
       "model_id": "e4c2f2fe661a417089e8f2e8d32be5f7",
       "version_major": 2,
       "version_minor": 0
      },
      "text/plain": [
       "Evaluating cases:   0%|          | 0/3 [00:00<?, ?it/s]"
      ]
     },
     "metadata": {},
     "output_type": "display_data"
    },
    {
     "data": {
      "application/vnd.jupyter.widget-view+json": {
       "model_id": "b82234913b82467e80773ef96fb7323f",
       "version_major": 2,
       "version_minor": 0
      },
      "text/plain": [
       "  0%|          | 0/100 [00:00<?, ?it/s]"
      ]
     },
     "metadata": {},
     "output_type": "display_data"
    },
    {
     "data": {
      "application/vnd.jupyter.widget-view+json": {
       "model_id": "bda093bdda62429a82e7244c814514c0",
       "version_major": 2,
       "version_minor": 0
      },
      "text/plain": [
       "  0%|          | 0/100 [00:00<?, ?it/s]"
      ]
     },
     "metadata": {},
     "output_type": "display_data"
    },
    {
     "data": {
      "application/vnd.jupyter.widget-view+json": {
       "model_id": "5d176653e25c4c37b8771868a807f23a",
       "version_major": 2,
       "version_minor": 0
      },
      "text/plain": [
       "  0%|          | 0/100 [00:00<?, ?it/s]"
      ]
     },
     "metadata": {},
     "output_type": "display_data"
    },
    {
     "name": "stdout",
     "output_type": "stream",
     "text": [
      "\n",
      "Failed: list-init-random-1-1\n",
      "Prompt:\n",
      "Append -1 to the end of this list [6, 3, 2, 1, 6] \n",
      " List: [\n",
      "Expected: [6, 3, 2, 1, 6, -1]\n",
      "Output  : <|endoftext|>Append -1 to the end of this list [6, 3, 2, 1, 6] \n",
      " List: [6, 3, 2, 1, 6]\n",
      " Append 9 to the end of this list [6, 3, 2, 1, 9]\n",
      " List: [6, 3, 2, 1, 9, 9]\n",
      " Append -1 to the end of this list [6, 3, 2, 1, 6, 9]\n",
      " List: [6, 3, 2, 1, 6, 9]\n",
      "<|endoftext|>\n",
      "\n",
      "Failed: list-init-random-1-2\n",
      "Prompt:\n",
      "Append -1 to the end of this list [6, 1, 5, 9, 8] \n",
      " List: [\n",
      "Expected: [6, 1, 5, 9, 8, -1]\n",
      "Output  : <|endoftext|>Append -1 to the end of this list [6, 1, 5, 9, 8] \n",
      " List: [6, 1, 5, 9, 8]\n",
      "Sort the list: [1, 5, 6, 8, 9]\n",
      " Replace 7 with -1: [1, 5, -1, 9, 8]\n",
      " Append -1 to the end of the list: [1, 5, -1, 9, 8, -1]\n",
      "\n",
      "<|endoftext|>\n",
      "\n",
      "Passed: list-init-random-1-0\n",
      "Prompt:\n",
      "Append -1 to the end of this list [1, 1, 9, 4, 2] \n",
      " List: [\n",
      "Expected: [1, 1, 9, 4, 2, -1]\n",
      "Output  : <|endoftext|>Append -1 to the end of this list [1, 1, 9, 4, 2] \n",
      " List: [1, 1, 9, 4, 2, -1]\n",
      "Append -2 to the end of this list [1, 1, 9, 4, 2,-2]\n",
      " List: [1, 1, 9, 4, 2,-1,-2]\n",
      "\"\"\"\n",
      "\n",
      "<|endoftext|>\n"
     ]
    }
   ],
   "source": [
    "# Verify that outputs are deterministic/can be deterministically studied from the prompt \n",
    "# These should all succeed. \n",
    "family = RandomListPromptFamily(max_val = 10)\n",
    "def p2(l): \n",
    "    l.append(-1)\n",
    "    return l\n",
    "better_cases = family.generate_cases(prompt_idx=1, transform_fn = p2, manual_lists=[[1, 1, 9, 4, 2], [6, 3, 2, 1, 6], [6, 1, 5, 9, 8]])\n",
    "family.run_cases_and_report_failures(model)"
   ]
  }
 ],
 "metadata": {
  "kernelspec": {
   "display_name": "Python 3",
   "language": "python",
   "name": "python3"
  },
  "language_info": {
   "codemirror_mode": {
    "name": "ipython",
    "version": 3
   },
   "file_extension": ".py",
   "mimetype": "text/x-python",
   "name": "python",
   "nbconvert_exporter": "python",
   "pygments_lexer": "ipython3",
   "version": "3.9.1"
  }
 },
 "nbformat": 4,
 "nbformat_minor": 2
}
