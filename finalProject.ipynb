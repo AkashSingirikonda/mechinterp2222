{
 "cells": [
  {
   "cell_type": "code",
   "execution_count": null,
   "metadata": {},
   "outputs": [],
   "source": [
    "import transformerlens\n",
    "import ollama"
   ]
  },
  {
   "cell_type": "code",
   "execution_count": null,
   "metadata": {},
   "outputs": [],
   "source": [
    "ollama.generate(model='mistral:7b', prompt='Why is the sky blue?')"
   ]
  },
  {
   "cell_type": "code",
   "execution_count": null,
   "metadata": {},
   "outputs": [],
   "source": [
    "def ollama_generate(prompt):\n",
    "    output = ollama.generate(model='mistral:7b', prompt=prompt)\n",
    "    return output"
   ]
  },
  {
   "cell_type": "code",
   "execution_count": null,
   "metadata": {},
   "outputs": [],
   "source": [
    "def extract_list(text):\n",
    "    # Find the last '[' character in the text and extract the substring from there\n",
    "    start_index = text.rfind('[ANSWER]:')\n",
    "    if start_index == -1:\n",
    "        return []  # No list found, return an empty list\n",
    "    list_text = text[start_index:]\n",
    "    print(list_text)\n",
    "    return list_text"
   ]
  },
  {
   "cell_type": "code",
   "execution_count": null,
   "metadata": {},
   "outputs": [],
   "source": [
    "b = 100\n",
    "prompt_initialize_from_random = f\"\"\"\n",
    "You are to function as an interactive system to help me visualize operations on an ever changing list. Can you start by generating a list of {b} integers. Generate a response in the following format: \n",
    "[RESPONSE]: ...\n",
    "[ANSWER]: [n1, ..., nN]\n",
    "\"\"\""
   ]
  },
  {
   "cell_type": "code",
   "execution_count": null,
   "metadata": {},
   "outputs": [],
   "source": [
    "to_modify = \"\"\n",
    "prompt_modify = f\"\"\"\n",
    "You are to function as an interactive system to help me visualize operations on an ever changing list. Given the list {to_modify} can you add 1 to the 3rd element of the list? Return the whole list. Generate a response in the following format: \n",
    "[RESPONSE]: ...\n",
    "[ANSWER]: [n1, ..., nN]\n",
    "\"\"\""
   ]
  },
  {
   "cell_type": "code",
   "execution_count": null,
   "metadata": {},
   "outputs": [],
   "source": [
    "for i in range(10): \n",
    "    to_modify = extract_list(ollama_generate(prompt_initialize_from_random).response)\n",
    "    prompt_modify = f\"\"\"\n",
    "    You are to function as an interactive system to help me visualize operations on an ever changing list. Given the list {to_modify} can you add 1 to the 3rd element of the list? Return the whole list. Generate a response in the following format: \n",
    "    [RESPONSE]: ...\n",
    "    [ANSWER]: [n1, ..., nN]\n",
    "    \"\"\"\n",
    "    extract_list(ollama_generate(prompt_modify).response)"
   ]
  },
  {
   "cell_type": "code",
   "execution_count": null,
   "metadata": {},
   "outputs": [],
   "source": []
  }
 ],
 "metadata": {
  "kernelspec": {
   "display_name": "base",
   "language": "python",
   "name": "python3"
  },
  "language_info": {
   "codemirror_mode": {
    "name": "ipython",
    "version": 3
   },
   "file_extension": ".py",
   "mimetype": "text/x-python",
   "name": "python",
   "nbconvert_exporter": "python",
   "pygments_lexer": "ipython3",
   "version": "3.11.4"
  }
 },
 "nbformat": 4,
 "nbformat_minor": 2
}
