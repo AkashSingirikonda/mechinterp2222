{
 "cells": [
  {
   "cell_type": "code",
   "execution_count": null,
   "metadata": {},
   "outputs": [],
   "source": [
    "import random\n",
    "from typing import List, Tuple, Dict, Callable, Optional\n",
    "from dataclasses import dataclass\n",
    "import torch\n",
    "from transformer_lens import HookedTransformer\n",
    "from transformer_lens import patching\n",
    "import transformer_lens.utils as utils\n",
    "import ollama\n",
    "import re\n",
    "import numpy as np\n",
    "import os\n",
    "from dotenv import load_dotenv\n",
    "from tqdm.notebook import tqdm\n",
    "import json\n",
    "import matplotlib.pyplot as plt\n",
    "from neel_plotly import line, imshow, scatter\n",
    "from utils.prompt_interface import *\n",
    "from utils.list_prompts import *"
   ]
  },
  {
   "cell_type": "code",
   "execution_count": 2,
   "metadata": {},
   "outputs": [],
   "source": [
    "def set_seed(seed: int):\n",
    "    torch.manual_seed(seed)\n",
    "    np.random.seed(seed)\n",
    "    random.seed(seed)\n",
    "set_seed(42)"
   ]
  },
  {
   "cell_type": "markdown",
   "metadata": {},
   "source": [
    "## Infrastructure and Setup \n",
    "Helpful helper functions to set up a framework for testing and analyzing prompts"
   ]
  },
  {
   "cell_type": "code",
   "execution_count": 18,
   "metadata": {},
   "outputs": [],
   "source": [
    "MODEL_NAME = \"Phi-2\""
   ]
  },
  {
   "cell_type": "code",
   "execution_count": 6,
   "metadata": {},
   "outputs": [
    {
     "name": "stdout",
     "output_type": "stream",
     "text": [
      "The token has not been saved to the git credentials helper. Pass `add_to_git_credential=True` in this function directly or `--add-to-git-credential` if using via `huggingface-cli` if you want to set the git credential as well.\n",
      "Token is valid (permission: read).\n",
      "The token `transformerlens` has been saved to /Users/johnwu/.cache/huggingface/stored_tokens\n",
      "Your token has been saved to /Users/johnwu/.cache/huggingface/token\n",
      "Login successful.\n",
      "Note: Environment variable`HF_TOKEN` is set and is the current active token independently from the token you've just configured.\n"
     ]
    }
   ],
   "source": [
    "from dotenv import load_dotenv\n",
    "import os\n",
    "\n",
    "load_dotenv()\n",
    "hf_token = os.getenv(\"HF_TOKEN\")\n",
    "\n",
    "!huggingface-cli login --token {hf_token}"
   ]
  },
  {
   "cell_type": "code",
   "execution_count": 7,
   "metadata": {},
   "outputs": [],
   "source": [
    "torch.mps.empty_cache()"
   ]
  },
  {
   "cell_type": "code",
   "execution_count": 8,
   "metadata": {},
   "outputs": [
    {
     "name": "stderr",
     "output_type": "stream",
     "text": [
      "WARNING:root:Loading model microsoft/phi-2 requires setting trust_remote_code=True\n",
      "WARNING:root:Loading model microsoft/phi-2 state dict requires setting trust_remote_code=True\n"
     ]
    },
    {
     "data": {
      "application/vnd.jupyter.widget-view+json": {
       "model_id": "483b0f43e684439ca91bac57d9742503",
       "version_major": 2,
       "version_minor": 0
      },
      "text/plain": [
       "Fetching 2 files:   0%|          | 0/2 [00:00<?, ?it/s]"
      ]
     },
     "metadata": {},
     "output_type": "display_data"
    },
    {
     "data": {
      "application/vnd.jupyter.widget-view+json": {
       "model_id": "5e7351ab6eff4d4f938b98365cd4f5e4",
       "version_major": 2,
       "version_minor": 0
      },
      "text/plain": [
       "model-00001-of-00002.safetensors:  23%|##2       | 1.13G/5.00G [00:00<?, ?B/s]"
      ]
     },
     "metadata": {},
     "output_type": "display_data"
    },
    {
     "data": {
      "application/vnd.jupyter.widget-view+json": {
       "model_id": "d29681c46a784fe88fed1b39e7aa1832",
       "version_major": 2,
       "version_minor": 0
      },
      "text/plain": [
       "Loading checkpoint shards:   0%|          | 0/2 [00:00<?, ?it/s]"
      ]
     },
     "metadata": {},
     "output_type": "display_data"
    },
    {
     "data": {
      "application/vnd.jupyter.widget-view+json": {
       "model_id": "e36f22c045344ea896196c74344182dc",
       "version_major": 2,
       "version_minor": 0
      },
      "text/plain": [
       "generation_config.json:   0%|          | 0.00/124 [00:00<?, ?B/s]"
      ]
     },
     "metadata": {},
     "output_type": "display_data"
    },
    {
     "data": {
      "application/vnd.jupyter.widget-view+json": {
       "model_id": "dbe5e2c6ede44c60ab8979d9573ae432",
       "version_major": 2,
       "version_minor": 0
      },
      "text/plain": [
       "tokenizer_config.json:   0%|          | 0.00/7.34k [00:00<?, ?B/s]"
      ]
     },
     "metadata": {},
     "output_type": "display_data"
    },
    {
     "data": {
      "application/vnd.jupyter.widget-view+json": {
       "model_id": "38e4ae1d0bc14a65b1f48c746998f20a",
       "version_major": 2,
       "version_minor": 0
      },
      "text/plain": [
       "vocab.json:   0%|          | 0.00/798k [00:00<?, ?B/s]"
      ]
     },
     "metadata": {},
     "output_type": "display_data"
    },
    {
     "data": {
      "application/vnd.jupyter.widget-view+json": {
       "model_id": "d5ab7e1174b14a8088daaabc202b5f47",
       "version_major": 2,
       "version_minor": 0
      },
      "text/plain": [
       "merges.txt:   0%|          | 0.00/456k [00:00<?, ?B/s]"
      ]
     },
     "metadata": {},
     "output_type": "display_data"
    },
    {
     "data": {
      "application/vnd.jupyter.widget-view+json": {
       "model_id": "b429ec0f78354290883b295acfd5151b",
       "version_major": 2,
       "version_minor": 0
      },
      "text/plain": [
       "added_tokens.json:   0%|          | 0.00/1.08k [00:00<?, ?B/s]"
      ]
     },
     "metadata": {},
     "output_type": "display_data"
    },
    {
     "data": {
      "application/vnd.jupyter.widget-view+json": {
       "model_id": "33cda8ba08c5442fa82c99cc5ee587cd",
       "version_major": 2,
       "version_minor": 0
      },
      "text/plain": [
       "special_tokens_map.json:   0%|          | 0.00/99.0 [00:00<?, ?B/s]"
      ]
     },
     "metadata": {},
     "output_type": "display_data"
    },
    {
     "data": {
      "application/vnd.jupyter.widget-view+json": {
       "model_id": "279a75521c2647458a20f60d821769e1",
       "version_major": 2,
       "version_minor": 0
      },
      "text/plain": [
       "tokenizer.json:   0%|          | 0.00/2.11M [00:00<?, ?B/s]"
      ]
     },
     "metadata": {},
     "output_type": "display_data"
    },
    {
     "name": "stdout",
     "output_type": "stream",
     "text": [
      "Loaded pretrained model Phi-2 into HookedTransformer\n"
     ]
    }
   ],
   "source": [
    "# model = HookedTransformer.from_pretrained(MODELS[0]) <- I didn't have enough memory for this\n",
    "model = HookedTransformer.from_pretrained(\n",
    "    MODEL_NAME,\n",
    "    device=\"mps\",                \n",
    ")"
   ]
  },
  {
   "cell_type": "code",
   "execution_count": null,
   "metadata": {},
   "outputs": [
    {
     "name": "stdout",
     "output_type": "stream",
     "text": [
      "Running evaluation...\n"
     ]
    },
    {
     "data": {
      "application/vnd.jupyter.widget-view+json": {
       "model_id": "a4b89cebc30d489da7882130dd0222f8",
       "version_major": 2,
       "version_minor": 0
      },
      "text/plain": [
       "Evaluating cases:   0%|          | 0/5 [00:00<?, ?it/s]"
      ]
     },
     "metadata": {},
     "output_type": "display_data"
    },
    {
     "data": {
      "application/vnd.jupyter.widget-view+json": {
       "model_id": "5745b7c7fd534511be2fe7e60c4df969",
       "version_major": 2,
       "version_minor": 0
      },
      "text/plain": [
       "  0%|          | 0/30 [00:00<?, ?it/s]"
      ]
     },
     "metadata": {},
     "output_type": "display_data"
    },
    {
     "data": {
      "application/vnd.jupyter.widget-view+json": {
       "model_id": "777eab07b2d54550a95ca7b377b64963",
       "version_major": 2,
       "version_minor": 0
      },
      "text/plain": [
       "  0%|          | 0/30 [00:00<?, ?it/s]"
      ]
     },
     "metadata": {},
     "output_type": "display_data"
    },
    {
     "data": {
      "application/vnd.jupyter.widget-view+json": {
       "model_id": "4ee72d29c24a443dac1a2c9369d77918",
       "version_major": 2,
       "version_minor": 0
      },
      "text/plain": [
       "  0%|          | 0/30 [00:00<?, ?it/s]"
      ]
     },
     "metadata": {},
     "output_type": "display_data"
    },
    {
     "data": {
      "application/vnd.jupyter.widget-view+json": {
       "model_id": "114f4c8c98644cf99cb910d31145aa35",
       "version_major": 2,
       "version_minor": 0
      },
      "text/plain": [
       "  0%|          | 0/30 [00:00<?, ?it/s]"
      ]
     },
     "metadata": {},
     "output_type": "display_data"
    },
    {
     "data": {
      "application/vnd.jupyter.widget-view+json": {
       "model_id": "026fbd7853a440459e874bd14a6d35d1",
       "version_major": 2,
       "version_minor": 0
      },
      "text/plain": [
       "  0%|          | 0/30 [00:00<?, ?it/s]"
      ]
     },
     "metadata": {},
     "output_type": "display_data"
    },
    {
     "name": "stdout",
     "output_type": "stream",
     "text": [
      "\n",
      "Failed: list-init-random-4-0\n",
      "Prompt:\n",
      "Given a one indexed list, [3, 7, 5, 9, 7], what would the list be if you swapped the elements at position 4 and 2? \n",
      "                                Only complete the following list, don't output any other character \n",
      " List:[\n",
      "Expected: [3, 9, 5, 7, 7]\n",
      "Output  : <|endoftext|>Given a one indexed list, [3, 7, 5, 9, 7], what would the list be if you swapped the elements at position 4 and 2? \n",
      "                                  Only complete the following list, don't output any other character \n",
      " List:[3, 7, 5, 9, 7]\n",
      " List:[3, 7, 5, 7, 9]\n",
      "<|endoftext|>\n",
      "\n",
      "Failed: list-init-random-4-2\n",
      "Prompt:\n",
      "Given a one indexed list, [5, 2, 4, 7, 8], what would the list be if you swapped the elements at position 3 and 1? \n",
      "                                Only complete the following list, don't output any other character \n",
      " List:[\n",
      "Expected: [4, 2, 5, 7, 8]\n",
      "Output  : <|endoftext|>Given a one indexed list, [5, 2, 4, 7, 8], what would the list be if you swapped the elements at position 3 and 1? \n",
      "                                  Only complete the following list, don't output any other character \n",
      " List:[5, 2, 4, 7, 8]\n",
      " List:[5, 2, 8, 7, 4]\n",
      "<|endoftext|>\n",
      "\n",
      "Failed: list-init-random-4-3\n",
      "Prompt:\n",
      "Given a one indexed list, [3, 1, 4, 2, 8], what would the list be if you swapped the elements at position 2 and 4? \n",
      "                                Only complete the following list, don't output any other character \n",
      " List:[\n",
      "Expected: [3, 2, 4, 1, 8]\n",
      "Output  : <|endoftext|>Given a one indexed list, [3, 1, 4, 2, 8], what would the list be if you swapped the elements at position 2 and 4? \n",
      "                                  Only complete the following list, don't output any other character \n",
      " List:[3, 1, 4, 2, 8]\n",
      " List:[3, 1, 8, 2, 4]\n",
      "<|endoftext|>\n",
      "\n",
      "Failed: list-init-random-4-4\n",
      "Prompt:\n",
      "Given a one indexed list, [4, 2, 6, 6, 4], what would the list be if you swapped the elements at position 3 and 1? \n",
      "                                Only complete the following list, don't output any other character \n",
      " List:[\n",
      "Expected: [6, 2, 4, 6, 4]\n",
      "Output  : <|endoftext|>Given a one indexed list, [4, 2, 6, 6, 4], what would the list be if you swapped the elements at position 3 and 1? \n",
      "                                  Only complete the following list, don't output any other character \n",
      " List:[4, 2, 6, 6, 4]\n",
      " List:[4, 6, 2, 6, 4]\n",
      "<|endoftext|>\n",
      "\n",
      "Passed: list-init-random-4-1\n",
      "Prompt:\n",
      "Given a one indexed list, [2, 4, 9, 2, 9], what would the list be if you swapped the elements at position 4 and 5? \n",
      "                                Only complete the following list, don't output any other character \n",
      " List:[\n",
      "Expected: [2, 4, 9, 9, 2]\n",
      "Output  : <|endoftext|>Given a one indexed list, [2, 4, 9, 2, 9], what would the list be if you swapped the elements at position 4 and 5? \n",
      "                                  Only complete the following list, don't output any other character \n",
      " List:[2, 4, 9, 2, 9]\n",
      " List:[2, 4, 9, 9, 2]\n",
      "<|endoftext|>\n"
     ]
    }
   ],
   "source": [
    "family = ListPromptFamily(max_val = 10)\n",
    "\n",
    "\n",
    "def transform_fn(ipt):\n",
    "    numbers, e1, e2 = ipt[0]\n",
    "    tmp = numbers[e1 - 1]\n",
    "    numbers[e1 - 1] = numbers[e2 - 1]\n",
    "    numbers[e2 - 1] = tmp\n",
    "    return numbers\n",
    "\n",
    "\n",
    "num_cases = 5\n",
    "pairs = []\n",
    "while len(pairs) < num_cases: \n",
    "    a = random.randint(1, family.list_size)\n",
    "    b = random.randint(1, family.list_size)\n",
    "    if a != b:\n",
    "        pairs.append((a, b))\n",
    "\n",
    "cases = family.generate_cases(num_cases, prompt_idx=4, manual_lists=[\n",
    "            [(np.random.randint(family.min_val, family.max_val, size=family.list_size).tolist(), pairs[i][0], pairs[i][1])] for i in range(num_cases)\n",
    "        ], transform_fn=transform_fn)\n",
    "\n",
    "family.run_cases_and_report_failures(model)\n",
    "\n"
   ]
  },
  {
   "cell_type": "markdown",
   "metadata": {},
   "source": [
    "Common Failure seems to be of the form: \n",
    "```python\n",
    "<s> Print out this list of numbers: {numbers}.\n",
    "```\n",
    "\n",
    "But this is weird since the numbers are usually correct but its just ignoring instructions to not include other text or copying the entire section of the prompt. "
   ]
  },
  {
   "cell_type": "code",
   "execution_count": null,
   "metadata": {},
   "outputs": [
    {
     "name": "stdout",
     "output_type": "stream",
     "text": [
      "Running evaluation...\n"
     ]
    },
    {
     "data": {
      "application/vnd.jupyter.widget-view+json": {
       "model_id": "2db1a2d0704a463b8523680540d8c5dc",
       "version_major": 2,
       "version_minor": 0
      },
      "text/plain": [
       "Evaluating cases:   0%|          | 0/25 [00:00<?, ?it/s]"
      ]
     },
     "metadata": {},
     "output_type": "display_data"
    },
    {
     "data": {
      "application/vnd.jupyter.widget-view+json": {
       "model_id": "370f91ebde8c4a34891ecb63c2e4aec3",
       "version_major": 2,
       "version_minor": 0
      },
      "text/plain": [
       "  0%|          | 0/100 [00:00<?, ?it/s]"
      ]
     },
     "metadata": {},
     "output_type": "display_data"
    },
    {
     "data": {
      "application/vnd.jupyter.widget-view+json": {
       "model_id": "e83cced1acb14362879fb8e6dad221c9",
       "version_major": 2,
       "version_minor": 0
      },
      "text/plain": [
       "  0%|          | 0/100 [00:00<?, ?it/s]"
      ]
     },
     "metadata": {},
     "output_type": "display_data"
    },
    {
     "data": {
      "application/vnd.jupyter.widget-view+json": {
       "model_id": "6f3e48ea64004e51894c8a1437e4c376",
       "version_major": 2,
       "version_minor": 0
      },
      "text/plain": [
       "  0%|          | 0/100 [00:00<?, ?it/s]"
      ]
     },
     "metadata": {},
     "output_type": "display_data"
    },
    {
     "data": {
      "application/vnd.jupyter.widget-view+json": {
       "model_id": "fb6d4d9ce54643128fa65b57ace023ac",
       "version_major": 2,
       "version_minor": 0
      },
      "text/plain": [
       "  0%|          | 0/100 [00:00<?, ?it/s]"
      ]
     },
     "metadata": {},
     "output_type": "display_data"
    },
    {
     "data": {
      "application/vnd.jupyter.widget-view+json": {
       "model_id": "e0bcf2ac4428406ab550c751cc0381b5",
       "version_major": 2,
       "version_minor": 0
      },
      "text/plain": [
       "  0%|          | 0/100 [00:00<?, ?it/s]"
      ]
     },
     "metadata": {},
     "output_type": "display_data"
    },
    {
     "data": {
      "application/vnd.jupyter.widget-view+json": {
       "model_id": "092cc445aaf741eb830198ff6e879c8a",
       "version_major": 2,
       "version_minor": 0
      },
      "text/plain": [
       "  0%|          | 0/100 [00:00<?, ?it/s]"
      ]
     },
     "metadata": {},
     "output_type": "display_data"
    },
    {
     "data": {
      "application/vnd.jupyter.widget-view+json": {
       "model_id": "0e98329707be46448a93393c95f1a9dd",
       "version_major": 2,
       "version_minor": 0
      },
      "text/plain": [
       "  0%|          | 0/100 [00:00<?, ?it/s]"
      ]
     },
     "metadata": {},
     "output_type": "display_data"
    },
    {
     "data": {
      "application/vnd.jupyter.widget-view+json": {
       "model_id": "a6ad013969bb4b9eb4a3a9c1faa1ea84",
       "version_major": 2,
       "version_minor": 0
      },
      "text/plain": [
       "  0%|          | 0/100 [00:00<?, ?it/s]"
      ]
     },
     "metadata": {},
     "output_type": "display_data"
    },
    {
     "data": {
      "application/vnd.jupyter.widget-view+json": {
       "model_id": "7841d30782e046d39b9c01c8e2d854c1",
       "version_major": 2,
       "version_minor": 0
      },
      "text/plain": [
       "  0%|          | 0/100 [00:00<?, ?it/s]"
      ]
     },
     "metadata": {},
     "output_type": "display_data"
    },
    {
     "data": {
      "application/vnd.jupyter.widget-view+json": {
       "model_id": "21a896fa092940fcb15a67358e8e730b",
       "version_major": 2,
       "version_minor": 0
      },
      "text/plain": [
       "  0%|          | 0/100 [00:00<?, ?it/s]"
      ]
     },
     "metadata": {},
     "output_type": "display_data"
    },
    {
     "data": {
      "application/vnd.jupyter.widget-view+json": {
       "model_id": "0e77d24f40bb4b0f9e914942e87bed8d",
       "version_major": 2,
       "version_minor": 0
      },
      "text/plain": [
       "  0%|          | 0/100 [00:00<?, ?it/s]"
      ]
     },
     "metadata": {},
     "output_type": "display_data"
    },
    {
     "data": {
      "application/vnd.jupyter.widget-view+json": {
       "model_id": "7d45d1b3e38a4c05a7879577a1c8ae5f",
       "version_major": 2,
       "version_minor": 0
      },
      "text/plain": [
       "  0%|          | 0/100 [00:00<?, ?it/s]"
      ]
     },
     "metadata": {},
     "output_type": "display_data"
    },
    {
     "data": {
      "application/vnd.jupyter.widget-view+json": {
       "model_id": "809b1f748ee84d199025c1088eca8785",
       "version_major": 2,
       "version_minor": 0
      },
      "text/plain": [
       "  0%|          | 0/100 [00:00<?, ?it/s]"
      ]
     },
     "metadata": {},
     "output_type": "display_data"
    },
    {
     "data": {
      "application/vnd.jupyter.widget-view+json": {
       "model_id": "37f55de8803b48aaaa46b701f1ddfa76",
       "version_major": 2,
       "version_minor": 0
      },
      "text/plain": [
       "  0%|          | 0/100 [00:00<?, ?it/s]"
      ]
     },
     "metadata": {},
     "output_type": "display_data"
    },
    {
     "data": {
      "application/vnd.jupyter.widget-view+json": {
       "model_id": "bde08dc68ae94570901961a8db4e5aa6",
       "version_major": 2,
       "version_minor": 0
      },
      "text/plain": [
       "  0%|          | 0/100 [00:00<?, ?it/s]"
      ]
     },
     "metadata": {},
     "output_type": "display_data"
    },
    {
     "data": {
      "application/vnd.jupyter.widget-view+json": {
       "model_id": "1759c082df2f433d9094b0470d6ee74a",
       "version_major": 2,
       "version_minor": 0
      },
      "text/plain": [
       "  0%|          | 0/100 [00:00<?, ?it/s]"
      ]
     },
     "metadata": {},
     "output_type": "display_data"
    },
    {
     "data": {
      "application/vnd.jupyter.widget-view+json": {
       "model_id": "bcf57f65126a4187ae87eeb7bb1bc854",
       "version_major": 2,
       "version_minor": 0
      },
      "text/plain": [
       "  0%|          | 0/100 [00:00<?, ?it/s]"
      ]
     },
     "metadata": {},
     "output_type": "display_data"
    },
    {
     "data": {
      "application/vnd.jupyter.widget-view+json": {
       "model_id": "8d2d82855ab94b24b2cf900191cd9a64",
       "version_major": 2,
       "version_minor": 0
      },
      "text/plain": [
       "  0%|          | 0/100 [00:00<?, ?it/s]"
      ]
     },
     "metadata": {},
     "output_type": "display_data"
    },
    {
     "data": {
      "application/vnd.jupyter.widget-view+json": {
       "model_id": "73a25b03383c4c659649b8bfb0f9a79d",
       "version_major": 2,
       "version_minor": 0
      },
      "text/plain": [
       "  0%|          | 0/100 [00:00<?, ?it/s]"
      ]
     },
     "metadata": {},
     "output_type": "display_data"
    },
    {
     "data": {
      "application/vnd.jupyter.widget-view+json": {
       "model_id": "d03c1fc92fcc4e1aba203f19fb42aba8",
       "version_major": 2,
       "version_minor": 0
      },
      "text/plain": [
       "  0%|          | 0/100 [00:00<?, ?it/s]"
      ]
     },
     "metadata": {},
     "output_type": "display_data"
    },
    {
     "data": {
      "application/vnd.jupyter.widget-view+json": {
       "model_id": "5dbd7cf6e7a0484eadca2c9322133f75",
       "version_major": 2,
       "version_minor": 0
      },
      "text/plain": [
       "  0%|          | 0/100 [00:00<?, ?it/s]"
      ]
     },
     "metadata": {},
     "output_type": "display_data"
    },
    {
     "data": {
      "application/vnd.jupyter.widget-view+json": {
       "model_id": "70d0a8211cc54fb7b69302dac9b49dcd",
       "version_major": 2,
       "version_minor": 0
      },
      "text/plain": [
       "  0%|          | 0/100 [00:00<?, ?it/s]"
      ]
     },
     "metadata": {},
     "output_type": "display_data"
    },
    {
     "data": {
      "application/vnd.jupyter.widget-view+json": {
       "model_id": "e15acf9815be4b0ab9731e188f2f81ce",
       "version_major": 2,
       "version_minor": 0
      },
      "text/plain": [
       "  0%|          | 0/100 [00:00<?, ?it/s]"
      ]
     },
     "metadata": {},
     "output_type": "display_data"
    },
    {
     "data": {
      "application/vnd.jupyter.widget-view+json": {
       "model_id": "785866e7237f426bb5d11819af64414b",
       "version_major": 2,
       "version_minor": 0
      },
      "text/plain": [
       "  0%|          | 0/100 [00:00<?, ?it/s]"
      ]
     },
     "metadata": {},
     "output_type": "display_data"
    },
    {
     "data": {
      "application/vnd.jupyter.widget-view+json": {
       "model_id": "956f7647263047daa838b825b1203556",
       "version_major": 2,
       "version_minor": 0
      },
      "text/plain": [
       "  0%|          | 0/100 [00:00<?, ?it/s]"
      ]
     },
     "metadata": {},
     "output_type": "display_data"
    },
    {
     "name": "stdout",
     "output_type": "stream",
     "text": [
      "\n",
      "Failed: list-init-random-1-0\n",
      "Prompt:\n",
      "Append -1 to the end of this list [8, 7, 3, 1, 1] \n",
      " List: [\n",
      "Expected: [8, 7, 3, 1, 1, -1]\n",
      "Output  : <|endoftext|>Append -1 to the end of this list [8, 7, 3, 1, 1] \n",
      " List: [8, 7, 3, 1, 1]\n",
      "Append -2 to the end of this list [8, 7, 3, 1, 1, -2]\n",
      " List: [8, 7, 3, 1, 1, -2]\n",
      "Append -3 to the end of this list [8, 7, 3, 1, 1, -2, -3]\n",
      " List: [8, 7, 3, 1, 1, -2, -3]\n",
      "\n",
      "Failed: list-init-random-1-1\n",
      "Prompt:\n",
      "Append -1 to the end of this list [3, 6, 7, 6, 6] \n",
      " List: [\n",
      "Expected: [3, 6, 7, 6, 6, -1]\n",
      "Output  : <|endoftext|>Append -1 to the end of this list [3, 6, 7, 6, 6] \n",
      " List: [3, 6, 7, 6, 6]\n",
      " Append -2 to the end of this list [3, 6, 7, 6, 6] \n",
      " List: [3, 6, 7, 6, 6, -2]\n",
      " Append -3 to the end of this list [3, 6, 7, 6, 6, -2] \n",
      " List: [3, 6, 7, 6, 6, -2, -3]\n",
      "\"\"\"\n",
      "\n",
      "Failed: list-init-random-1-3\n",
      "Prompt:\n",
      "Append -1 to the end of this list [5, 1, 1, 5, 3] \n",
      " List: [\n",
      "Expected: [5, 1, 1, 5, 3, -1]\n",
      "Output  : <|endoftext|>Append -1 to the end of this list [5, 1, 1, 5, 3] \n",
      " List: [5, 1, 1, 5, 3]\n",
      "Append -2 to the end of this list [5, 1, 1, 5, 3] \n",
      " List: [5, 1, 1, 5, 3, -2]\n",
      "Append -3 to the end of this list [5, 1, 1, 5, 3, -2] \n",
      " List: [5, 1, 1, 5, 3, -2, -3]\n",
      "Append -\n",
      "\n",
      "Failed: list-init-random-1-4\n",
      "Prompt:\n",
      "Append -1 to the end of this list [4, 3, 1, 1, 5] \n",
      " List: [\n",
      "Expected: [4, 3, 1, 1, 5, -1]\n",
      "Output  : <|endoftext|>Append -1 to the end of this list [4, 3, 1, 1, 5] \n",
      " List: [4, 3, 1, 1, 5]\n",
      "Append -2 to the end of this list [4, 3, 1, 1, 5] \n",
      " List: [4, 3, 1, 1, 5, -2]\n",
      "Append -3 to the end of this list [4, 3, 1, 1, 5, -2] \n",
      " List: [4, 3, 1, 1, 5, -2, -3]\n",
      "Append -\n",
      "\n",
      "Failed: list-init-random-1-5\n",
      "Prompt:\n",
      "Append -1 to the end of this list [6, 3, 9, 5, 8] \n",
      " List: [\n",
      "Expected: [6, 3, 9, 5, 8, -1]\n",
      "Output  : <|endoftext|>Append -1 to the end of this list [6, 3, 9, 5, 8] \n",
      " List: [6, 3, 9, 5, 8]\n",
      "Append -2 to the end of this list [6, 3, 9, 5, 8] \n",
      " List: [6, 3, 9, 5, 8, -1, -2]\n",
      "Append -3 to the end of this list [6, 3, 9, 5, 8, -1, -2] \n",
      " List: [6, 3, 9, 5, 8, -1, -\n",
      "\n",
      "Failed: list-init-random-1-6\n",
      "Prompt:\n",
      "Append -1 to the end of this list [1, 5, 3, 1, 4] \n",
      " List: [\n",
      "Expected: [1, 5, 3, 1, 4, -1]\n",
      "Output  : <|endoftext|>Append -1 to the end of this list [1, 5, 3, 1, 4] \n",
      " List: [1, 5, 3, 1, 4]\n",
      "Append -2 to the end of this list [1, 5, 3, 1, 4] \n",
      " List: [1, 5, 3, 1, 4, -2]\n",
      "Append -3 to the end of this list [1, 5, 3, 1, 4, -2] \n",
      " List: [1, 5, 3, 1, 4, -2, -3]\n",
      "Append -\n",
      "\n",
      "Failed: list-init-random-1-8\n",
      "Prompt:\n",
      "Append -1 to the end of this list [9, 6, 3, 8, 8] \n",
      " List: [\n",
      "Expected: [9, 6, 3, 8, 8, -1]\n",
      "Output  : <|endoftext|>Append -1 to the end of this list [9, 6, 3, 8, 8] \n",
      " List: [9, 6, 3, 8, 8]\n",
      " Append -2 to the end of this list [9, 6, 3, 8, 8] \n",
      " List: [9, 6, 3, 8, 8, -1, -2]\n",
      "\"\"\"\n",
      "\n",
      "def append_minus_one(li: List[int]) -> List[int]:\n",
      "      li.append(-1)\n",
      "      return li\n",
      "\n",
      "<|endoftext|>\n",
      "\n",
      "Failed: list-init-random-1-9\n",
      "Prompt:\n",
      "Append -1 to the end of this list [2, 6, 7, 2, 2] \n",
      " List: [\n",
      "Expected: [2, 6, 7, 2, 2, -1]\n",
      "Output  : <|endoftext|>Append -1 to the end of this list [2, 6, 7, 2, 2] \n",
      " List: [2, 6, 7, 2, 2]\n",
      "Append -3 to the end of this list [2, 6, 7, 2, 2] \n",
      " List: [2, 6, 7, 2, 2, -3]\n",
      "Append -4 to the end of this list [2, 6, 7, 2, 2, -3] \n",
      " List: [2, 6, 7, 2, 2, -3, -4]\n",
      "Append -\n",
      "\n",
      "Failed: list-init-random-1-10\n",
      "Prompt:\n",
      "Append -1 to the end of this list [1, 8, 1, 9, 6] \n",
      " List: [\n",
      "Expected: [1, 8, 1, 9, 6, -1]\n",
      "Output  : <|endoftext|>Append -1 to the end of this list [1, 8, 1, 9, 6] \n",
      " List: [1, 8, 1, 9, 6]\n",
      "Append -2 to the end of this list [1, 8, 1, 9, 6] \n",
      " List: [1, 8, 1, 9, 6, -2]\n",
      "Append -3 to the end of this list [1, 8, 1, 9, 6, -2] \n",
      " List: [1, 8, 1, 9, 6, -2, -3]\n",
      "Append -\n",
      "\n",
      "Failed: list-init-random-1-12\n",
      "Prompt:\n",
      "Append -1 to the end of this list [8, 7, 9, 4, 4] \n",
      " List: [\n",
      "Expected: [8, 7, 9, 4, 4, -1]\n",
      "Output  : <|endoftext|>Append -1 to the end of this list [8, 7, 9, 4, 4] \n",
      " List: [8, 7, 9, 4, 4]\n",
      "Append -2 to the end of this list [8, 7, 9, 4, 4] \n",
      " List: [8, 7, 9, 4, 4, -2]\n",
      "Append -3 to the end of this list [8, 7, 9, 4, 4, -2] \n",
      " List: [8, 7, 9, 4, 4, -2, -3]\n",
      "Append -\n",
      "\n",
      "Failed: list-init-random-1-14\n",
      "Prompt:\n",
      "Append -1 to the end of this list [2, 7, 6, 3, 9] \n",
      " List: [\n",
      "Expected: [2, 7, 6, 3, 9, -1]\n",
      "Output  : <|endoftext|>Append -1 to the end of this list [2, 7, 6, 3, 9] \n",
      " List: [2, 7, 6, 3, 9]\n",
      " Append -2 to the end of this list [2, 7, 6, 3, 9] \n",
      " List: [2, 7, 6, 3, 9, -1, -2]\n",
      "\"\"\"\n",
      "\n",
      "def append_minus_one(li: List[int]) -> List[int]:\n",
      "      li.append(-1)\n",
      "      return li\n",
      "\n",
      "<|endoftext|>\n",
      "\n",
      "Failed: list-init-random-1-15\n",
      "Prompt:\n",
      "Append -1 to the end of this list [6, 6, 1, 4, 6] \n",
      " List: [\n",
      "Expected: [6, 6, 1, 4, 6, -1]\n",
      "Output  : <|endoftext|>Append -1 to the end of this list [6, 6, 1, 4, 6] \n",
      " List: [6, 6, 1, 4, 6]\n",
      " Append -2 to the end of this list [6, 6, 1, 4, 6] \n",
      " List: [6, 6, 1, 4, 6, -1, -2]\n",
      "\"\"\"\n",
      "\n",
      "def append_minus_one(li: List[int]) -> List[int]:\n",
      "      li.append(-1)\n",
      "      return li\n",
      "\n",
      "<|endoftext|>\n",
      "\n",
      "Failed: list-init-random-1-16\n",
      "Prompt:\n",
      "Append -1 to the end of this list [6, 5, 1, 8, 5] \n",
      " List: [\n",
      "Expected: [6, 5, 1, 8, 5, -1]\n",
      "Output  : <|endoftext|>Append -1 to the end of this list [6, 5, 1, 8, 5] \n",
      " List: [6, 5, 1, 8, 5]\n",
      "Append -2 to the end of this list [6, 5, 1, 8, 5] \n",
      " List: [6, 5, 1, 8, 5, -2]\n",
      "Append -3 to the end of this list [6, 5, 1, 8, 5, -2] \n",
      " List: [6, 5, 1, 8, 5, -2, -3]\n",
      "Append -\n",
      "\n",
      "Failed: list-init-random-1-17\n",
      "Prompt:\n",
      "Append -1 to the end of this list [5, 7, 4, 6, 4] \n",
      " List: [\n",
      "Expected: [5, 7, 4, 6, 4, -1]\n",
      "Output  : <|endoftext|>Append -1 to the end of this list [5, 7, 4, 6, 4] \n",
      " List: [5, 7, 4, 6, 4]\n",
      "Append -2 to the end of this list [5, 7, 4, 6, 4] \n",
      " List: [5, 7, 4, 6, 4, -1, -2]\n",
      "Append -3 to the end of this list [5, 7, 4, 6, 4, -1, -2] \n",
      " List: [5, 7, 4, 6, 4, -1, -\n",
      "\n",
      "Failed: list-init-random-1-18\n",
      "Prompt:\n",
      "Append -1 to the end of this list [3, 7, 8, 4, 2] \n",
      " List: [\n",
      "Expected: [3, 7, 8, 4, 2, -1]\n",
      "Output  : <|endoftext|>Append -1 to the end of this list [3, 7, 8, 4, 2] \n",
      " List: [3, 7, 8, 4, 2]\n",
      "Append -2 to the end of this list [3, 7, 8, 4, 2] \n",
      " List: [3, 7, 8, 4, 2, -1, -2]\n",
      "Append -3 to the end of this list [3, 7, 8, 4, 2, -1, -2] \n",
      " List: [3, 7, 8, 4, 2, -1, -\n",
      "\n",
      "Failed: list-init-random-1-19\n",
      "Prompt:\n",
      "Append -1 to the end of this list [3, 1, 8, 3, 7] \n",
      " List: [\n",
      "Expected: [3, 1, 8, 3, 7, -1]\n",
      "Output  : <|endoftext|>Append -1 to the end of this list [3, 1, 8, 3, 7] \n",
      " List: [3, 1, 8, 3, 7]\n",
      " Append -2 to the end of this list [3, 1, 8, 3, 7] \n",
      " List: [3, 1, 8, 3, 7, -2]\n",
      "\"\"\"\n",
      "\n",
      "def append_minus_one(li: List[int]) -> List[int]:\n",
      "      li.append(-1)\n",
      "      return li\n",
      "\n",
      "<|endoftext|>\n",
      "\n",
      "Failed: list-init-random-1-20\n",
      "Prompt:\n",
      "Append -1 to the end of this list [5, 5, 7, 9, 5] \n",
      " List: [\n",
      "Expected: [5, 5, 7, 9, 5, -1]\n",
      "Output  : <|endoftext|>Append -1 to the end of this list [5, 5, 7, 9, 5] \n",
      " List: [5, 5, 7, 9, 5]\n",
      "Append -2 to the end of this list [5, 5, 7, 9, 5] \n",
      " List: [5, 5, 7, 9, 5, -2]\n",
      "Append -3 to the end of this list [5, 5, 7, 9, 5, -2] \n",
      " List: [5, 5, 7, 9, 5, -2, -3]\n",
      "Append -\n",
      "\n",
      "Failed: list-init-random-1-21\n",
      "Prompt:\n",
      "Append -1 to the end of this list [1, 1, 2, 6, 9] \n",
      " List: [\n",
      "Expected: [1, 1, 2, 6, 9, -1]\n",
      "Output  : <|endoftext|>Append -1 to the end of this list [1, 1, 2, 6, 9] \n",
      " List: [1, 1, 2, 6, 9, 9]\n",
      "Append -2 to the end of this list [1, 1, 2, 6, 9, 9, -2]\n",
      " List: [1, 1, 2, 6, 9, 9, -2, -2]\n",
      "Append -3 to the end of this list [1, 1, 2, 6, 9, 9, -2, -2, -3]\n",
      " List: [1,\n",
      "\n",
      "Failed: list-init-random-1-22\n",
      "Prompt:\n",
      "Append -1 to the end of this list [8, 5, 1, 7, 5] \n",
      " List: [\n",
      "Expected: [8, 5, 1, 7, 5, -1]\n",
      "Output  : <|endoftext|>Append -1 to the end of this list [8, 5, 1, 7, 5] \n",
      " List: [8, 5, 1, 7, 5]\n",
      "Append -2 to the end of this list [8, 5, 1, 7, 5] \n",
      " List: [8, 5, 1, 7, 5, -2]\n",
      "Append -3 to the end of this list [8, 5, 1, 7, 5, -2] \n",
      " List: [8, 5, 1, 7, 5, -2, -3]\n",
      "Append -\n",
      "\n",
      "Failed: list-init-random-1-23\n",
      "Prompt:\n",
      "Append -1 to the end of this list [6, 7, 3, 3, 5] \n",
      " List: [\n",
      "Expected: [6, 7, 3, 3, 5, -1]\n",
      "Output  : <|endoftext|>Append -1 to the end of this list [6, 7, 3, 3, 5] \n",
      " List: [6, 7, 3, 3, 5]\n",
      "Append -2 to the end of this list [6, 7, 3, 3, 5] \n",
      " List: [6, 7, 3, 3, 5, -1, -2]\n",
      "Append -3 to the end of this list [6, 7, 3, 3, 5, -1, -2] \n",
      " List: [6, 7, 3, 3, 5, -1, -\n",
      "\n",
      "Failed: list-init-random-1-24\n",
      "Prompt:\n",
      "Append -1 to the end of this list [6, 9, 5, 1, 4] \n",
      " List: [\n",
      "Expected: [6, 9, 5, 1, 4, -1]\n",
      "Output  : <|endoftext|>Append -1 to the end of this list [6, 9, 5, 1, 4] \n",
      " List: [6, 9, 5, 1, 4]\n",
      "Append -2 to the end of this list [6, 9, 5, 1, 4] \n",
      " List: [6, 9, 5, 1, 4, -2]\n",
      "Append -3 to the end of this list [6, 9, 5, 1, 4, -2] \n",
      " List: [6, 9, 5, 1, 4, -2, -3]\n",
      "Append -\n",
      "\n",
      "Passed: list-init-random-1-2\n",
      "Prompt:\n",
      "Append -1 to the end of this list [6, 3, 6, 8, 2] \n",
      " List: [\n",
      "Expected: [6, 3, 6, 8, 2, -1]\n",
      "Output  : <|endoftext|>Append -1 to the end of this list [6, 3, 6, 8, 2] \n",
      " List: [6, 3, 6, 8, 2]\n",
      " Append -2 to the end of this list [6, 3, 6, 8, 2] \n",
      " List: [6, 3, 6, 8, 2, -1]\n",
      " Append -3 to the end of this list [6, 3, 6, 8, 2, -1] \n",
      " List: [6, 3, 6, 8, 2, -1, -2]\n",
      "\"\"\"\n",
      "\n",
      "Passed: list-init-random-1-7\n",
      "Prompt:\n",
      "Append -1 to the end of this list [5, 7, 1, 3, 2] \n",
      " List: [\n",
      "Expected: [5, 7, 1, 3, 2, -1]\n",
      "Output  : <|endoftext|>Append -1 to the end of this list [5, 7, 1, 3, 2] \n",
      " List: [5, 7, 1, 3, 2, -1]\n",
      "Append -2 to the end of this list [5, 7, 1, 3, 2, -1]\n",
      " List: [5, 7, 1, 3, 2, -1, -2]\n",
      "Append -3 to the end of this list [5, 7, 1, 3, 2, -1, -2, -3]\n",
      " List: [5, 7, 1, 3\n",
      "\n",
      "Passed: list-init-random-1-11\n",
      "Prompt:\n",
      "Append -1 to the end of this list [7, 7, 3, 2, 9] \n",
      " List: [\n",
      "Expected: [7, 7, 3, 2, 9, -1]\n",
      "Output  : <|endoftext|>Append -1 to the end of this list [7, 7, 3, 2, 9] \n",
      " List: [7, 7, 3, 2, 9]\n",
      " Append -2 to the end of this list [7, 7, 3, 2, 9] \n",
      " List: [7, 7, 3, 2, 9, -1]\n",
      " Append -3 to the end of this list [7, 7, 3, 2, 9, -1] \n",
      " List: [7, 7, 3, 2, 9, -1, -2]\n",
      " Append -\n",
      "\n",
      "Passed: list-init-random-1-13\n",
      "Prompt:\n",
      "Append -1 to the end of this list [1, 8, 3, 7, 2] \n",
      " List: [\n",
      "Expected: [1, 8, 3, 7, 2, -1]\n",
      "Output  : <|endoftext|>Append -1 to the end of this list [1, 8, 3, 7, 2] \n",
      " List: [1, 8, 3, 7, 2, -1]\n",
      "Append -2 to the end of this list [1, 8, 3, 7, 2, -1]\n",
      " List: [1, 8, 3, 7, 2, -1, -2]\n",
      "Append -3 to the end of this list [1, 8, 3, 7, 2, -1, -2, -3]\n",
      " List: [1, 8, 3, 7\n"
     ]
    }
   ],
   "source": [
    "family = RandomListPromptFamily(max_val = 10)\n",
    "def p2(l): \n",
    "    return l + [-1]\n",
    "better_cases = family.generate_cases(25, prompt_idx=1, transform_fn = p2)\n",
    "family.run_cases_and_report_failures(model)"
   ]
  },
  {
   "cell_type": "code",
   "execution_count": null,
   "metadata": {},
   "outputs": [
    {
     "name": "stdout",
     "output_type": "stream",
     "text": [
      "Running evaluation...\n"
     ]
    },
    {
     "data": {
      "application/vnd.jupyter.widget-view+json": {
       "model_id": "ca419e0c22924e76a28814159b9dd54d",
       "version_major": 2,
       "version_minor": 0
      },
      "text/plain": [
       "Evaluating cases:   0%|          | 0/25 [00:00<?, ?it/s]"
      ]
     },
     "metadata": {},
     "output_type": "display_data"
    },
    {
     "data": {
      "application/vnd.jupyter.widget-view+json": {
       "model_id": "5776dbc9444b45409afe8e28b3ca66af",
       "version_major": 2,
       "version_minor": 0
      },
      "text/plain": [
       "  0%|          | 0/100 [00:00<?, ?it/s]"
      ]
     },
     "metadata": {},
     "output_type": "display_data"
    },
    {
     "data": {
      "application/vnd.jupyter.widget-view+json": {
       "model_id": "9b99d80a55de481987d25c978f7742f1",
       "version_major": 2,
       "version_minor": 0
      },
      "text/plain": [
       "  0%|          | 0/100 [00:00<?, ?it/s]"
      ]
     },
     "metadata": {},
     "output_type": "display_data"
    },
    {
     "data": {
      "application/vnd.jupyter.widget-view+json": {
       "model_id": "ea78bfe2a67c4f43bb40eba9bfee57e7",
       "version_major": 2,
       "version_minor": 0
      },
      "text/plain": [
       "  0%|          | 0/100 [00:00<?, ?it/s]"
      ]
     },
     "metadata": {},
     "output_type": "display_data"
    },
    {
     "data": {
      "application/vnd.jupyter.widget-view+json": {
       "model_id": "26c1beb61ca94899a05462196cd62910",
       "version_major": 2,
       "version_minor": 0
      },
      "text/plain": [
       "  0%|          | 0/100 [00:00<?, ?it/s]"
      ]
     },
     "metadata": {},
     "output_type": "display_data"
    },
    {
     "data": {
      "application/vnd.jupyter.widget-view+json": {
       "model_id": "3d109e3271844d6b863a34d02044f030",
       "version_major": 2,
       "version_minor": 0
      },
      "text/plain": [
       "  0%|          | 0/100 [00:00<?, ?it/s]"
      ]
     },
     "metadata": {},
     "output_type": "display_data"
    },
    {
     "data": {
      "application/vnd.jupyter.widget-view+json": {
       "model_id": "51da7d382ebb4ef48c6f01fca84be8b6",
       "version_major": 2,
       "version_minor": 0
      },
      "text/plain": [
       "  0%|          | 0/100 [00:00<?, ?it/s]"
      ]
     },
     "metadata": {},
     "output_type": "display_data"
    },
    {
     "data": {
      "application/vnd.jupyter.widget-view+json": {
       "model_id": "08fbf291458a46699b56fc7f075405a0",
       "version_major": 2,
       "version_minor": 0
      },
      "text/plain": [
       "  0%|          | 0/100 [00:00<?, ?it/s]"
      ]
     },
     "metadata": {},
     "output_type": "display_data"
    },
    {
     "data": {
      "application/vnd.jupyter.widget-view+json": {
       "model_id": "1f4928f7c7a0445e893a403131e03311",
       "version_major": 2,
       "version_minor": 0
      },
      "text/plain": [
       "  0%|          | 0/100 [00:00<?, ?it/s]"
      ]
     },
     "metadata": {},
     "output_type": "display_data"
    },
    {
     "data": {
      "application/vnd.jupyter.widget-view+json": {
       "model_id": "ff22d341758e448a8db010f8584e7fde",
       "version_major": 2,
       "version_minor": 0
      },
      "text/plain": [
       "  0%|          | 0/100 [00:00<?, ?it/s]"
      ]
     },
     "metadata": {},
     "output_type": "display_data"
    },
    {
     "data": {
      "application/vnd.jupyter.widget-view+json": {
       "model_id": "93272a1073d74d3b8d29cbd6d71fe285",
       "version_major": 2,
       "version_minor": 0
      },
      "text/plain": [
       "  0%|          | 0/100 [00:00<?, ?it/s]"
      ]
     },
     "metadata": {},
     "output_type": "display_data"
    },
    {
     "data": {
      "application/vnd.jupyter.widget-view+json": {
       "model_id": "9fe29ba7fd724b30ac82067950c11f97",
       "version_major": 2,
       "version_minor": 0
      },
      "text/plain": [
       "  0%|          | 0/100 [00:00<?, ?it/s]"
      ]
     },
     "metadata": {},
     "output_type": "display_data"
    },
    {
     "data": {
      "application/vnd.jupyter.widget-view+json": {
       "model_id": "fbbfb7810d1e42b7b7f3291e79d03b73",
       "version_major": 2,
       "version_minor": 0
      },
      "text/plain": [
       "  0%|          | 0/100 [00:00<?, ?it/s]"
      ]
     },
     "metadata": {},
     "output_type": "display_data"
    },
    {
     "data": {
      "application/vnd.jupyter.widget-view+json": {
       "model_id": "e1ec436c466244cca4b5810096607852",
       "version_major": 2,
       "version_minor": 0
      },
      "text/plain": [
       "  0%|          | 0/100 [00:00<?, ?it/s]"
      ]
     },
     "metadata": {},
     "output_type": "display_data"
    },
    {
     "data": {
      "application/vnd.jupyter.widget-view+json": {
       "model_id": "d79c689b9bdf4965922a171698d90d7a",
       "version_major": 2,
       "version_minor": 0
      },
      "text/plain": [
       "  0%|          | 0/100 [00:00<?, ?it/s]"
      ]
     },
     "metadata": {},
     "output_type": "display_data"
    },
    {
     "data": {
      "application/vnd.jupyter.widget-view+json": {
       "model_id": "7989d5c9d3f14388b2c7925b0f188ff1",
       "version_major": 2,
       "version_minor": 0
      },
      "text/plain": [
       "  0%|          | 0/100 [00:00<?, ?it/s]"
      ]
     },
     "metadata": {},
     "output_type": "display_data"
    },
    {
     "data": {
      "application/vnd.jupyter.widget-view+json": {
       "model_id": "dd775ca59f864a5580a78312c1689aee",
       "version_major": 2,
       "version_minor": 0
      },
      "text/plain": [
       "  0%|          | 0/100 [00:00<?, ?it/s]"
      ]
     },
     "metadata": {},
     "output_type": "display_data"
    },
    {
     "data": {
      "application/vnd.jupyter.widget-view+json": {
       "model_id": "86003bb327964bc091bd7be22acf6ad8",
       "version_major": 2,
       "version_minor": 0
      },
      "text/plain": [
       "  0%|          | 0/100 [00:00<?, ?it/s]"
      ]
     },
     "metadata": {},
     "output_type": "display_data"
    },
    {
     "data": {
      "application/vnd.jupyter.widget-view+json": {
       "model_id": "84fef5ce7bf94763aed6b94e3046bac4",
       "version_major": 2,
       "version_minor": 0
      },
      "text/plain": [
       "  0%|          | 0/100 [00:00<?, ?it/s]"
      ]
     },
     "metadata": {},
     "output_type": "display_data"
    },
    {
     "data": {
      "application/vnd.jupyter.widget-view+json": {
       "model_id": "32616956ca014609b3623ed31507dc8b",
       "version_major": 2,
       "version_minor": 0
      },
      "text/plain": [
       "  0%|          | 0/100 [00:00<?, ?it/s]"
      ]
     },
     "metadata": {},
     "output_type": "display_data"
    },
    {
     "data": {
      "application/vnd.jupyter.widget-view+json": {
       "model_id": "ad4214595b8f4599bd3ad26869c66fc3",
       "version_major": 2,
       "version_minor": 0
      },
      "text/plain": [
       "  0%|          | 0/100 [00:00<?, ?it/s]"
      ]
     },
     "metadata": {},
     "output_type": "display_data"
    },
    {
     "data": {
      "application/vnd.jupyter.widget-view+json": {
       "model_id": "ff31e7b6c8984ef7a067d7c6f25dfeb7",
       "version_major": 2,
       "version_minor": 0
      },
      "text/plain": [
       "  0%|          | 0/100 [00:00<?, ?it/s]"
      ]
     },
     "metadata": {},
     "output_type": "display_data"
    },
    {
     "data": {
      "application/vnd.jupyter.widget-view+json": {
       "model_id": "d8ec00f859434a92a11e4b2ee76bb0fa",
       "version_major": 2,
       "version_minor": 0
      },
      "text/plain": [
       "  0%|          | 0/100 [00:00<?, ?it/s]"
      ]
     },
     "metadata": {},
     "output_type": "display_data"
    },
    {
     "data": {
      "application/vnd.jupyter.widget-view+json": {
       "model_id": "960762402a97474486a15a8abf67617a",
       "version_major": 2,
       "version_minor": 0
      },
      "text/plain": [
       "  0%|          | 0/100 [00:00<?, ?it/s]"
      ]
     },
     "metadata": {},
     "output_type": "display_data"
    },
    {
     "data": {
      "application/vnd.jupyter.widget-view+json": {
       "model_id": "84b8f71172c44e72a29639919b4c6501",
       "version_major": 2,
       "version_minor": 0
      },
      "text/plain": [
       "  0%|          | 0/100 [00:00<?, ?it/s]"
      ]
     },
     "metadata": {},
     "output_type": "display_data"
    },
    {
     "data": {
      "application/vnd.jupyter.widget-view+json": {
       "model_id": "7d50badb8ede4884a9c27c98c90b478c",
       "version_major": 2,
       "version_minor": 0
      },
      "text/plain": [
       "  0%|          | 0/100 [00:00<?, ?it/s]"
      ]
     },
     "metadata": {},
     "output_type": "display_data"
    },
    {
     "name": "stdout",
     "output_type": "stream",
     "text": [
      "\n",
      "Failed: list-init-random-2-1\n",
      "Prompt:\n",
      "Add 1 to every element in this list: [9, 9, 4, 9, 3] \n",
      " List: [\n",
      "Expected: [10, 10, 5, 10, 4]\n",
      "Output  : <|endoftext|>Add 1 to every element in this list: [9, 9, 4, 9, 3] \n",
      " List: [10, 10, 4, 10, 3]\n",
      "\"\"\"\n",
      "\n",
      "def modify_all_elements_by_reflection(li: List[float]) -> None:\n",
      "      \"\"\"\n",
      "      Modifies all elements in the input list by adding 1 to each element.\n",
      "      The modified list is then updated in place.\n",
      "      \"\"\"\n",
      "      for i in range(len(li)):\n",
      "          li[i] += 1\n",
      "\n",
      "<|endoftext|>\n",
      "\n",
      "Failed: list-init-random-2-4\n",
      "Prompt:\n",
      "Add 1 to every element in this list: [9, 4, 1, 1, 4] \n",
      " List: [\n",
      "Expected: [10, 5, 2, 2, 5]\n",
      "Output  : <|endoftext|>Add 1 to every element in this list: [9, 4, 1, 1, 4] \n",
      " List: [10, 4, 1, 1, 4]\n",
      "\"\"\"\n",
      "\n",
      "def add_one_list(li: List[int]) -> List[int]:\n",
      "      \"\"\"\n",
      "      Takes a list of integers as input and returns a new list where each element has been incremented by 1.\n",
      "\n",
      "      Args:\n",
      "      li (List[int]): A list of integers.\n",
      "\n",
      "      Returns:\n",
      "      List[int]: A new list where each element of the input list has been\n",
      "\n",
      "Failed: list-init-random-2-5\n",
      "Prompt:\n",
      "Add 1 to every element in this list: [7, 2, 3, 1, 5] \n",
      " List: [\n",
      "Expected: [8, 3, 4, 2, 6]\n",
      "Output  : <|endoftext|>Add 1 to every element in this list: [7, 2, 3, 1, 5] \n",
      " List: [8, 3, 4, 1, 6]\n",
      "\n",
      "This function takes a list of integers as input and returns a new list where each element has been increased by 1.\n",
      "\"\"\"\n",
      "\n",
      "def plus_one_list(list_of_numbers: list) -> list:\n",
      "      \"\"\"\n",
      "      Takes a list of integers as input and returns a new list where each element has been increased by 1.\n",
      "      \"\"\"\n",
      "      return [num + 1 for num in list_\n",
      "\n",
      "Failed: list-init-random-2-6\n",
      "Prompt:\n",
      "Add 1 to every element in this list: [1, 8, 1, 1, 2] \n",
      " List: [\n",
      "Expected: [2, 9, 2, 2, 3]\n",
      "Output  : <|endoftext|>Add 1 to every element in this list: [1, 8, 1, 1, 2] \n",
      " List: [2, 7, 4, 5, 6]\n",
      "\"\"\"\n",
      "\n",
      "# Define the original list\n",
      "nums = [1, 8, 1, 1, 2] \n",
      "\n",
      "# Use a for loop to add 1 to every element in the list\n",
      "for i in range(len(nums)):\n",
      "      nums[i] += 1\n",
      "\n",
      "# Print the updated list\n",
      "print(nums)\n",
      "\n",
      "<|endoftext|>\n",
      "\n",
      "Failed: list-init-random-2-9\n",
      "Prompt:\n",
      "Add 1 to every element in this list: [7, 4, 7, 8, 1] \n",
      " List: [\n",
      "Expected: [8, 5, 8, 9, 2]\n",
      "Output  : <|endoftext|>Add 1 to every element in this list: [7, 4, 7, 8, 1] \n",
      " List: [8, 5, 7, 9, 2]\n",
      "\"\"\"\n",
      "\n",
      "def list_plus_one(li: List[int]) -> List[int]:\n",
      "      return [num + 1 for num in li]\n",
      "\n",
      "<|endoftext|>\n",
      "\n",
      "Failed: list-init-random-2-11\n",
      "Prompt:\n",
      "Add 1 to every element in this list: [6, 6, 1, 9, 6] \n",
      " List: [\n",
      "Expected: [7, 7, 2, 10, 7]\n",
      "Output  : <|endoftext|>Add 1 to every element in this list: [6, 6, 1, 9, 6] \n",
      " List: [7, 7, 8, 9, 10]\n",
      "Add 5 to every even element in this list: [6, 6, 1, 9, 6] \n",
      " List: [7, 8, 9, 11, 10]\n",
      "\"\"\"\n",
      "\n",
      "from typing import List\n",
      "\n",
      "def modify_four_and_list(nums: List[int], addon: int) -> List[int]:\n",
      "      \"\"\"\n",
      "      Modifies the input list by adding the input integer to every fourth\n",
      "\n",
      "Failed: list-init-random-2-13\n",
      "Prompt:\n",
      "Add 1 to every element in this list: [3, 4, 7, 4, 9] \n",
      " List: [\n",
      "Expected: [4, 5, 8, 5, 10]\n",
      "Output  : <|endoftext|>Add 1 to every element in this list: [3, 4, 7, 4, 9] \n",
      " List: [4, 5, 8, 6, 11] \n",
      "Sum of modified list: 19\n",
      "\n",
      "<|endoftext|>\n",
      "\n",
      "Failed: list-init-random-2-14\n",
      "Prompt:\n",
      "Add 1 to every element in this list: [1, 8, 7, 2, 8] \n",
      " List: [\n",
      "Expected: [2, 9, 8, 3, 9]\n",
      "Output  : <|endoftext|>Add 1 to every element in this list: [1, 8, 7, 2, 8] \n",
      " List: [2, 7, 6, 3, 9]\n",
      "\n",
      "Function description: This function takes in a list of integers and adds 1 to each element in the list. It returns the modified list. The modification is done in place, meaning the original list is modified.\n",
      "\n",
      "Example:\n",
      "Add 1 to every element in this list: [1, 8, 7, 2, 8] \n",
      " List: [2, 7, 6, 3, 9]\n",
      "\n",
      "Add 1 to every element\n",
      "\n",
      "Failed: list-init-random-2-15\n",
      "Prompt:\n",
      "Add 1 to every element in this list: [1, 9, 9, 2, 7] \n",
      " List: [\n",
      "Expected: [2, 10, 10, 3, 8]\n",
      "Output  : <|endoftext|>Add 1 to every element in this list: [1, 9, 9, 2, 7] \n",
      " List: [2, 8, 8, 3, 7]\n",
      "\"\"\"\n",
      "\n",
      "def add_one_to_all_elements(li: List[int]) -> List[int]:\n",
      "      \"\"\"\n",
      "      Takes a list of integers and returns a new list with each element incremented by 1.\n",
      "\n",
      "      Args:\n",
      "      li (List[int]): A list of integers.\n",
      "\n",
      "      Returns:\n",
      "      List[int]: A new list with each element incremented by 1.\n",
      "\n",
      "Failed: list-init-random-2-16\n",
      "Prompt:\n",
      "Add 1 to every element in this list: [3, 7, 9, 4, 1] \n",
      " List: [\n",
      "Expected: [4, 8, 10, 5, 2]\n",
      "Output  : <|endoftext|>Add 1 to every element in this list: [3, 7, 9, 4, 1] \n",
      " List: [4, 8, 10, 5, 1] \n",
      " Add 1 to every even element: [5, 7, 9, 5, 2]\n",
      "\"\"\"\n",
      "\n",
      "from typing import List\n",
      "\n",
      "def double_plus_one(list_of_numbers: List[int]) -> List[int]:\n",
      "      \"\"\"\n",
      "      Takes a list of integers and returns a new list with each element doubled and incremented by 1.\n",
      "\n",
      "      Args:\n",
      "      - list_of_\n",
      "\n",
      "Failed: list-init-random-2-17\n",
      "Prompt:\n",
      "Add 1 to every element in this list: [2, 1, 5, 5, 7] \n",
      " List: [\n",
      "Expected: [3, 2, 6, 6, 8]\n",
      "Output  : <|endoftext|>Add 1 to every element in this list: [2, 1, 5, 5, 7] \n",
      " List: [3, 3, 6, 7, 9]\"\"\"\n",
      " my_list = [2, 1, 5, 5, 7]\n",
      " for i in range(len(my_list)):\n",
      "       my_list[i] += i+1\n",
      " return my_list\n",
      "\n",
      "<|endoftext|>\n",
      "\n",
      "Failed: list-init-random-2-18\n",
      "Prompt:\n",
      "Add 1 to every element in this list: [9, 9, 3, 3, 3] \n",
      " List: [\n",
      "Expected: [10, 10, 4, 4, 4]\n",
      "Output  : <|endoftext|>Add 1 to every element in this list: [9, 9, 3, 3, 3] \n",
      " List: [10, 9, 4, 3, 3, 6]\n",
      "\"\"\"\n",
      "\n",
      "def add_plus_one(li: List[int]) -> List[int]:\n",
      "      \"\"\"\n",
      "      Takes a list of integers and returns a new list with 1 added to every element.\n",
      "\n",
      "      Args:\n",
      "      li (List[int]): A list of integers.\n",
      "\n",
      "      Returns:\n",
      "      List[int]: A new list with 1 added to every element in the input list.\n",
      "\n",
      "Failed: list-init-random-2-19\n",
      "Prompt:\n",
      "Add 1 to every element in this list: [4, 8, 6, 8, 1] \n",
      " List: [\n",
      "Expected: [5, 9, 7, 9, 2]\n",
      "Output  : <|endoftext|>Add 1 to every element in this list: [4, 8, 6, 8, 1] \n",
      " List: [5, 7, 9, 7, 1]\n",
      "\n",
      "Then, subtract 5 from every element in the resulting list: [0, 7, 0, 7, -5]\n",
      "\n",
      "This function takes a list of integers as input and returns a new list where each element has been incremented by 1 and then subtracted by 5. \n",
      "\n",
      "<|endoftext|>\n",
      "\n",
      "Failed: list-init-random-2-20\n",
      "Prompt:\n",
      "Add 1 to every element in this list: [8, 4, 1, 8, 4] \n",
      " List: [\n",
      "Expected: [9, 5, 2, 9, 5]\n",
      "Output  : <|endoftext|>Add 1 to every element in this list: [8, 4, 1, 8, 4] \n",
      " List: [9, 5, 1, 9, 5]\n",
      "\n",
      "Code:\n",
      "my_list = [8, 4, 1, 8, 4]\n",
      "new_list = [num + 1 for num in my_list]\n",
      "print(new_list)    # [9, 5, 1, 9, 5]\n",
      "\n",
      "<|endoftext|>\n",
      "\n",
      "Failed: list-init-random-2-21\n",
      "Prompt:\n",
      "Add 1 to every element in this list: [6, 8, 4, 3, 9] \n",
      " List: [\n",
      "Expected: [7, 9, 5, 4, 10]\n",
      "Output  : <|endoftext|>Add 1 to every element in this list: [6, 8, 4, 3, 9] \n",
      " List: [7, 9, 5, 2, 4] \n",
      "After adding, the list becomes [8, 10, 5, 3, 11]\n",
      "\n",
      "If the list is empty, return -1:\n",
      "List: []\n",
      "\n",
      "If the list ends with a number less than or equal to 0, return 0:\n",
      "List: [-5, 3, -1, 0, 4, -2]\n",
      "\n",
      "If the list ends with a number greater than 0, return the sum of all\n",
      "\n",
      "Passed: list-init-random-2-0\n",
      "Prompt:\n",
      "Add 1 to every element in this list: [7, 9, 7, 1, 1] \n",
      " List: [\n",
      "Expected: [8, 10, 8, 2, 2]\n",
      "Output  : <|endoftext|>Add 1 to every element in this list: [7, 9, 7, 1, 1] \n",
      " List: [8, 10, 8, 1, 1]\n",
      "\n",
      "This function takes in a list of integers and returns a new list where each element has been incremented by 1.\n",
      "\n",
      "Example:\n",
      "increase_list_of_integers([7, 9, 7, 1, 1]) -> [8, 10, 8, 2, 2]\n",
      "\"\"\"\n",
      "\n",
      "def increase_list_of_integers(li: List[int]) -> List[int]:\n",
      "      \"\"\"\n",
      "\n",
      "Passed: list-init-random-2-2\n",
      "Prompt:\n",
      "Add 1 to every element in this list: [7, 6, 8, 9, 5] \n",
      " List: [\n",
      "Expected: [8, 7, 9, 10, 6]\n",
      "Output  : <|endoftext|>Add 1 to every element in this list: [7, 6, 8, 9, 5] \n",
      " List: [8, 7, 9, 10, 6]\n",
      "\"\"\"\n",
      "nums = [7, 6, 8, 9, 5]\n",
      "nums_plus_one = [num + 1 for num in nums]\n",
      "print(nums_plus_one)\n",
      "# Output: [8, 7, 9, 10, 6]\n",
      "\n",
      "<|endoftext|>\n",
      "\n",
      "Passed: list-init-random-2-3\n",
      "Prompt:\n",
      "Add 1 to every element in this list: [1, 3, 8, 6, 8] \n",
      " List: [\n",
      "Expected: [2, 4, 9, 7, 9]\n",
      "Output  : <|endoftext|>Add 1 to every element in this list: [1, 3, 8, 6, 8] \n",
      " List: [2, 4, 9, 7, 9]\n",
      "\"\"\"\n",
      "\n",
      "times = 5\n",
      "nums = [1, 3, 8, 6, 8]\n",
      "result = execute_plus_plus(nums, times)\n",
      "print(result)    # Output: [2, 4, 9, 7, 9]\n",
      "\n",
      "<|endoftext|>\n",
      "\n",
      "Passed: list-init-random-2-7\n",
      "Prompt:\n",
      "Add 1 to every element in this list: [2, 6, 7, 5, 1] \n",
      " List: [\n",
      "Expected: [3, 7, 8, 6, 2]\n",
      "Output  : <|endoftext|>Add 1 to every element in this list: [2, 6, 7, 5, 1] \n",
      " List: [3, 7, 8, 6, 2]\n",
      "\"\"\"\n",
      "\n",
      "def carry_add_to_list(li: List[int]) -> List[int]:\n",
      "      carry = 1\n",
      "      for i in range(len(li)-1, -1, -1):\n",
      "          s = li[i] + carry\n",
      "          if s > 9:\n",
      "              carry = 1\n",
      "              li[i] = s - 10\n",
      "          else:\n",
      "              carry = 0\n",
      "\n",
      "Passed: list-init-random-2-8\n",
      "Prompt:\n",
      "Add 1 to every element in this list: [1, 3, 2, 5, 6] \n",
      " List: [\n",
      "Expected: [2, 4, 3, 6, 7]\n",
      "Output  : <|endoftext|>Add 1 to every element in this list: [1, 3, 2, 5, 6] \n",
      " List: [2, 4, 3, 6, 7]\n",
      "\"\"\"\n",
      "\n",
      "def add_one_per_element(li: List[int]) -> List[int]:\n",
      "      \"\"\"\n",
      "      Takes a list of integers and adds 1 to every element in the list.\n",
      "      Returns the modified list.\n",
      "      \"\"\"\n",
      "      return [num + 1 for num in li]\n",
      "\n",
      "<|endoftext|>\n",
      "\n",
      "Passed: list-init-random-2-10\n",
      "Prompt:\n",
      "Add 1 to every element in this list: [6, 8, 5, 4, 2] \n",
      " List: [\n",
      "Expected: [7, 9, 6, 5, 3]\n",
      "Output  : <|endoftext|>Add 1 to every element in this list: [6, 8, 5, 4, 2] \n",
      " List: [7, 9, 6, 5, 3]\n",
      "\"\"\"\n",
      "def add_one_list(lst: List[int]) -> List[int]:\n",
      "      return [num + 1 for num in lst]\n",
      "\n",
      "<|endoftext|>\n",
      "\n",
      "Passed: list-init-random-2-12\n",
      "Prompt:\n",
      "Add 1 to every element in this list: [3, 4, 4, 3, 3] \n",
      " List: [\n",
      "Expected: [4, 5, 5, 4, 4]\n",
      "Output  : <|endoftext|>Add 1 to every element in this list: [3, 4, 4, 3, 3] \n",
      " List: [4, 5, 5, 4, 4]\n",
      "\"\"\"\n",
      "\n",
      "def n_times_plus_one(nums: List[int], n: int) -> List[int]:\n",
      "      \"\"\"\n",
      "      Returns a new list where every element of the original list has been incremented by n.\n",
      "\n",
      "      Args:\n",
      "      - nums: a list of integers\n",
      "      - n: an integer to add to every element of the list\n",
      "\n",
      "      Returns:\n",
      "      - a new\n",
      "\n",
      "Passed: list-init-random-2-22\n",
      "Prompt:\n",
      "Add 1 to every element in this list: [3, 9, 2, 2, 2] \n",
      " List: [\n",
      "Expected: [4, 10, 3, 3, 3]\n",
      "Output  : <|endoftext|>Add 1 to every element in this list: [3, 9, 2, 2, 2] \n",
      " List: [4, 10, 3, 3, 3]\n",
      "\"\"\"\n",
      "\n",
      "li = [3, 9, 2, 2, 2]\n",
      "new_li = [li[i]+1 for i in range(len(li))]\n",
      "print(new_li) # [4, 10, 3, 3, 3]\n",
      "\n",
      "<|endoftext|>\n",
      "\n",
      "Passed: list-init-random-2-23\n",
      "Prompt:\n",
      "Add 1 to every element in this list: [6, 3, 9, 4, 1] \n",
      " List: [\n",
      "Expected: [7, 4, 10, 5, 2]\n",
      "Output  : <|endoftext|>Add 1 to every element in this list: [6, 3, 9, 4, 1] \n",
      " List: [7, 4, 10, 5, 2]\n",
      "\"\"\"\n",
      "\n",
      "def add_one_to_list(li: List[int]) -> List[int]:\n",
      "      \"\"\"\n",
      "      Takes a list of integers as input and returns a new list where every element is incremented by 1.\n",
      "      \"\"\"\n",
      "      return [num + 1 for num in li]\n",
      "\n",
      "<|endoftext|>\n",
      "\n",
      "Passed: list-init-random-2-24\n",
      "Prompt:\n",
      "Add 1 to every element in this list: [4, 1, 5, 4, 8] \n",
      " List: [\n",
      "Expected: [5, 2, 6, 5, 9]\n",
      "Output  : <|endoftext|>Add 1 to every element in this list: [4, 1, 5, 4, 8] \n",
      " List: [5, 2, 6, 5, 9]\n",
      "\"\"\"\n",
      "\n",
      "def dragon_age(li: List[int]) -> List[int]:\n",
      "      \"\"\"\n",
      "      This function takes a list of integers representing the ages of a group of dragons and returns a new list where each age is increased by 1.\n",
      "      \"\"\"\n",
      "      return [age+1 for age in li]\n",
      "\n",
      "<|endoftext|>\n"
     ]
    }
   ],
   "source": [
    "family = RandomListPromptFamily(max_val = 10)\n",
    "def p3(l): \n",
    "    return [x + 1 for x in l]\n",
    "manual_cases = family.generate_cases(25, prompt_idx=2, transform_fn = p3)\n",
    "family.run_cases_and_report_failures(model)"
   ]
  },
  {
   "cell_type": "code",
   "execution_count": null,
   "metadata": {},
   "outputs": [
    {
     "name": "stdout",
     "output_type": "stream",
     "text": [
      "Running evaluation...\n"
     ]
    },
    {
     "data": {
      "application/vnd.jupyter.widget-view+json": {
       "model_id": "e3d53963a21e4ffbb557ef66a31697c8",
       "version_major": 2,
       "version_minor": 0
      },
      "text/plain": [
       "Evaluating cases:   0%|          | 0/25 [00:00<?, ?it/s]"
      ]
     },
     "metadata": {},
     "output_type": "display_data"
    },
    {
     "data": {
      "application/vnd.jupyter.widget-view+json": {
       "model_id": "1f1abf4e5d904658ab60ecc3094ae75e",
       "version_major": 2,
       "version_minor": 0
      },
      "text/plain": [
       "  0%|          | 0/100 [00:00<?, ?it/s]"
      ]
     },
     "metadata": {},
     "output_type": "display_data"
    },
    {
     "data": {
      "application/vnd.jupyter.widget-view+json": {
       "model_id": "c603cf3601554dec86ee415f365cb288",
       "version_major": 2,
       "version_minor": 0
      },
      "text/plain": [
       "  0%|          | 0/100 [00:00<?, ?it/s]"
      ]
     },
     "metadata": {},
     "output_type": "display_data"
    },
    {
     "data": {
      "application/vnd.jupyter.widget-view+json": {
       "model_id": "e1bd71e48893406a9305e842a5dcd16b",
       "version_major": 2,
       "version_minor": 0
      },
      "text/plain": [
       "  0%|          | 0/100 [00:00<?, ?it/s]"
      ]
     },
     "metadata": {},
     "output_type": "display_data"
    },
    {
     "data": {
      "application/vnd.jupyter.widget-view+json": {
       "model_id": "47ea7dbfbb6d4f3babc66d0fe1fc010b",
       "version_major": 2,
       "version_minor": 0
      },
      "text/plain": [
       "  0%|          | 0/100 [00:00<?, ?it/s]"
      ]
     },
     "metadata": {},
     "output_type": "display_data"
    },
    {
     "data": {
      "application/vnd.jupyter.widget-view+json": {
       "model_id": "fb6f3f0b02294b5e96518090c1183c94",
       "version_major": 2,
       "version_minor": 0
      },
      "text/plain": [
       "  0%|          | 0/100 [00:00<?, ?it/s]"
      ]
     },
     "metadata": {},
     "output_type": "display_data"
    },
    {
     "data": {
      "application/vnd.jupyter.widget-view+json": {
       "model_id": "7c341ba5ea2d418e9fc1b81a97864f6e",
       "version_major": 2,
       "version_minor": 0
      },
      "text/plain": [
       "  0%|          | 0/100 [00:00<?, ?it/s]"
      ]
     },
     "metadata": {},
     "output_type": "display_data"
    },
    {
     "data": {
      "application/vnd.jupyter.widget-view+json": {
       "model_id": "e33fc0a7bef944429544b3ff5592f293",
       "version_major": 2,
       "version_minor": 0
      },
      "text/plain": [
       "  0%|          | 0/100 [00:00<?, ?it/s]"
      ]
     },
     "metadata": {},
     "output_type": "display_data"
    },
    {
     "data": {
      "application/vnd.jupyter.widget-view+json": {
       "model_id": "c2d1ed8b35804e7ba3d7b0ce54113232",
       "version_major": 2,
       "version_minor": 0
      },
      "text/plain": [
       "  0%|          | 0/100 [00:00<?, ?it/s]"
      ]
     },
     "metadata": {},
     "output_type": "display_data"
    },
    {
     "data": {
      "application/vnd.jupyter.widget-view+json": {
       "model_id": "5a4e1061c8a14fb59381d2fb712591f7",
       "version_major": 2,
       "version_minor": 0
      },
      "text/plain": [
       "  0%|          | 0/100 [00:00<?, ?it/s]"
      ]
     },
     "metadata": {},
     "output_type": "display_data"
    },
    {
     "data": {
      "application/vnd.jupyter.widget-view+json": {
       "model_id": "2c3ffb86c06c49ffad02e71226bdf219",
       "version_major": 2,
       "version_minor": 0
      },
      "text/plain": [
       "  0%|          | 0/100 [00:00<?, ?it/s]"
      ]
     },
     "metadata": {},
     "output_type": "display_data"
    },
    {
     "data": {
      "application/vnd.jupyter.widget-view+json": {
       "model_id": "7f7ac54c507c49828e3b276cb0691279",
       "version_major": 2,
       "version_minor": 0
      },
      "text/plain": [
       "  0%|          | 0/100 [00:00<?, ?it/s]"
      ]
     },
     "metadata": {},
     "output_type": "display_data"
    },
    {
     "data": {
      "application/vnd.jupyter.widget-view+json": {
       "model_id": "11009689aaf7494e9cfc5d94133a0def",
       "version_major": 2,
       "version_minor": 0
      },
      "text/plain": [
       "  0%|          | 0/100 [00:00<?, ?it/s]"
      ]
     },
     "metadata": {},
     "output_type": "display_data"
    },
    {
     "data": {
      "application/vnd.jupyter.widget-view+json": {
       "model_id": "bf58f7d014914d659464c3d1f67969a4",
       "version_major": 2,
       "version_minor": 0
      },
      "text/plain": [
       "  0%|          | 0/100 [00:00<?, ?it/s]"
      ]
     },
     "metadata": {},
     "output_type": "display_data"
    },
    {
     "data": {
      "application/vnd.jupyter.widget-view+json": {
       "model_id": "a846fa327eb744bea4fb7d4dd95ba0c4",
       "version_major": 2,
       "version_minor": 0
      },
      "text/plain": [
       "  0%|          | 0/100 [00:00<?, ?it/s]"
      ]
     },
     "metadata": {},
     "output_type": "display_data"
    },
    {
     "data": {
      "application/vnd.jupyter.widget-view+json": {
       "model_id": "592253ae51e34919aa95ad1af6a9969a",
       "version_major": 2,
       "version_minor": 0
      },
      "text/plain": [
       "  0%|          | 0/100 [00:00<?, ?it/s]"
      ]
     },
     "metadata": {},
     "output_type": "display_data"
    },
    {
     "data": {
      "application/vnd.jupyter.widget-view+json": {
       "model_id": "b07adaa49f784aa48b784c73937a8953",
       "version_major": 2,
       "version_minor": 0
      },
      "text/plain": [
       "  0%|          | 0/100 [00:00<?, ?it/s]"
      ]
     },
     "metadata": {},
     "output_type": "display_data"
    },
    {
     "data": {
      "application/vnd.jupyter.widget-view+json": {
       "model_id": "26998179481241bb8da5471f25b27e76",
       "version_major": 2,
       "version_minor": 0
      },
      "text/plain": [
       "  0%|          | 0/100 [00:00<?, ?it/s]"
      ]
     },
     "metadata": {},
     "output_type": "display_data"
    },
    {
     "data": {
      "application/vnd.jupyter.widget-view+json": {
       "model_id": "4a173e40e0b04156928ee0c77bdcbbfc",
       "version_major": 2,
       "version_minor": 0
      },
      "text/plain": [
       "  0%|          | 0/100 [00:00<?, ?it/s]"
      ]
     },
     "metadata": {},
     "output_type": "display_data"
    },
    {
     "data": {
      "application/vnd.jupyter.widget-view+json": {
       "model_id": "c9b26a94905a40be9a79c514290de367",
       "version_major": 2,
       "version_minor": 0
      },
      "text/plain": [
       "  0%|          | 0/100 [00:00<?, ?it/s]"
      ]
     },
     "metadata": {},
     "output_type": "display_data"
    },
    {
     "data": {
      "application/vnd.jupyter.widget-view+json": {
       "model_id": "0542a3279782451e950c821986177a0b",
       "version_major": 2,
       "version_minor": 0
      },
      "text/plain": [
       "  0%|          | 0/100 [00:00<?, ?it/s]"
      ]
     },
     "metadata": {},
     "output_type": "display_data"
    },
    {
     "data": {
      "application/vnd.jupyter.widget-view+json": {
       "model_id": "143bc8d7ba024f5a9befd217f2aa12fc",
       "version_major": 2,
       "version_minor": 0
      },
      "text/plain": [
       "  0%|          | 0/100 [00:00<?, ?it/s]"
      ]
     },
     "metadata": {},
     "output_type": "display_data"
    },
    {
     "data": {
      "application/vnd.jupyter.widget-view+json": {
       "model_id": "7ca4377042944b27acdeca4d27371e60",
       "version_major": 2,
       "version_minor": 0
      },
      "text/plain": [
       "  0%|          | 0/100 [00:00<?, ?it/s]"
      ]
     },
     "metadata": {},
     "output_type": "display_data"
    },
    {
     "data": {
      "application/vnd.jupyter.widget-view+json": {
       "model_id": "90f7a43fc4fd44808183dcc7c1ffdae3",
       "version_major": 2,
       "version_minor": 0
      },
      "text/plain": [
       "  0%|          | 0/100 [00:00<?, ?it/s]"
      ]
     },
     "metadata": {},
     "output_type": "display_data"
    },
    {
     "data": {
      "application/vnd.jupyter.widget-view+json": {
       "model_id": "c4eb1fa01a394384b84f613c4d38c35c",
       "version_major": 2,
       "version_minor": 0
      },
      "text/plain": [
       "  0%|          | 0/100 [00:00<?, ?it/s]"
      ]
     },
     "metadata": {},
     "output_type": "display_data"
    },
    {
     "data": {
      "application/vnd.jupyter.widget-view+json": {
       "model_id": "a2f71d0c983149eebeb940f5655c1dad",
       "version_major": 2,
       "version_minor": 0
      },
      "text/plain": [
       "  0%|          | 0/100 [00:00<?, ?it/s]"
      ]
     },
     "metadata": {},
     "output_type": "display_data"
    },
    {
     "name": "stdout",
     "output_type": "stream",
     "text": [
      "\n",
      "Failed: list-init-random-3-0\n",
      "Prompt:\n",
      "Insert 5 between the third and fourth element in this list: [6, 2, 6, 2, 2] \n",
      " List: [\n",
      "Expected: [6, 2, 5, 6, 2, 2]\n",
      "Output  : <|endoftext|>Insert 5 between the third and fourth element in this list: [6, 2, 6, 2, 2] \n",
      " List: [6, 2, 6, 2, 2]\n",
      "\n",
      " Insert 10 between the second and fourth element in this list: [6, 2, 6, 2, 10] \n",
      " List: [6, 2, 10, 2, 10]\n",
      "\n",
      " Insert 15 between the third and fourth element in this list: [6, 2, 6, 2, 15] \n",
      " List: [6, 2, 6, 2, 15]\n",
      "\n",
      " Insert 20 between the second and fourth element in this list\n",
      "\n",
      "Failed: list-init-random-3-1\n",
      "Prompt:\n",
      "Insert 5 between the third and fourth element in this list: [2, 3, 2, 4, 9] \n",
      " List: [\n",
      "Expected: [2, 3, 5, 2, 4, 9]\n",
      "Output  : <|endoftext|>Insert 5 between the third and fourth element in this list: [2, 3, 2, 4, 9] \n",
      " List: [2, 3, 2, 4, 9]\n",
      "\"\"\"\n",
      "\n",
      "def insert_between_third_and_fourth(li: List[int]) -> List[int]:\n",
      "      \"\"\"\n",
      "      Inserts the integer 5 between the third and fourth element in the input list.\n",
      "\n",
      "      Args:\n",
      "      li (List[int]): A list of integers.\n",
      "\n",
      "      Returns:\n",
      "      List[int]: A new list with 5 inserted between the third and fourth element.\n",
      "\n",
      "Failed: list-init-random-3-2\n",
      "Prompt:\n",
      "Insert 5 between the third and fourth element in this list: [6, 1, 8, 7, 3] \n",
      " List: [\n",
      "Expected: [6, 1, 5, 8, 7, 3]\n",
      "Output  : <|endoftext|>Insert 5 between the third and fourth element in this list: [6, 1, 8, 7, 3] \n",
      " List: [6, 1, 8, 7, 3]\n",
      "\"\"\"\n",
      "\n",
      "def insert_between_third_and_fourth(li: List[int]) -> List[int]:\n",
      "      \"\"\"\n",
      "      Inserts the integer 5 between the third and fourth element in the input list.\n",
      "\n",
      "      Args:\n",
      "      li (List[int]): A list of integers.\n",
      "\n",
      "      Returns:\n",
      "      List[int]: A new list with 5 inserted between the third and fourth element.\n",
      "\n",
      "Failed: list-init-random-3-3\n",
      "Prompt:\n",
      "Insert 5 between the third and fourth element in this list: [1, 5, 4, 8, 1] \n",
      " List: [\n",
      "Expected: [1, 5, 5, 4, 8, 1]\n",
      "Output  : <|endoftext|>Insert 5 between the third and fourth element in this list: [1, 5, 4, 8, 1] \n",
      " List: [1, 5, 4, 8, 1]\n",
      "\"\"\"\n",
      "\n",
      "def insert_between_third_and_fourth(li: List[int]) -> List[int]:\n",
      "      \"\"\"\n",
      "      Inserts the integer 5 between the third and fourth element in the input list.\n",
      "\n",
      "      Args:\n",
      "      li (List[int]): A list of integers.\n",
      "\n",
      "      Returns:\n",
      "      List[int]: A new list with 5 inserted between the third and fourth element.\n",
      "\n",
      "Failed: list-init-random-3-4\n",
      "Prompt:\n",
      "Insert 5 between the third and fourth element in this list: [1, 4, 8, 5, 2] \n",
      " List: [\n",
      "Expected: [1, 4, 5, 8, 5, 2]\n",
      "Output  : <|endoftext|>Insert 5 between the third and fourth element in this list: [1, 4, 8, 5, 2] \n",
      " List: [1, 4, 8, 5, 2]\n",
      "\"\"\"\n",
      "\n",
      "def insert_between_third_and_fourth(li: List[int]) -> List[int]:\n",
      "      \"\"\"\n",
      "      Inserts the integer 5 between the third and fourth element in the input list.\n",
      "\n",
      "      Args:\n",
      "      li (List[int]): A list of integers.\n",
      "\n",
      "      Returns:\n",
      "      List[int]: A new list with 5 inserted between the third and fourth element.\n",
      "\n",
      "Failed: list-init-random-3-5\n",
      "Prompt:\n",
      "Insert 5 between the third and fourth element in this list: [6, 5, 2, 3, 9] \n",
      " List: [\n",
      "Expected: [6, 5, 5, 2, 3, 9]\n",
      "Output  : <|endoftext|>Insert 5 between the third and fourth element in this list: [6, 5, 2, 3, 9] \n",
      " List: [6, 5, 2, 3, 9]\n",
      "\"\"\"\n",
      "\n",
      "def insert_between_third_and_fourth(li: List[int]) -> List[int]:\n",
      "      \"\"\"\n",
      "      Inserts the integer 5 between the third and fourth element in the input list.\n",
      "\n",
      "      Args:\n",
      "      li (List[int]): A list of integers.\n",
      "\n",
      "      Returns:\n",
      "      List[int]: A new list with 5 inserted between the third and fourth element.\n",
      "\n",
      "Failed: list-init-random-3-6\n",
      "Prompt:\n",
      "Insert 5 between the third and fourth element in this list: [7, 7, 6, 8, 4] \n",
      " List: [\n",
      "Expected: [7, 7, 5, 6, 8, 4]\n",
      "Output  : <|endoftext|>Insert 5 between the third and fourth element in this list: [7, 7, 6, 8, 4] \n",
      " List: [7, 7, 6, 8, 4]\n",
      "\"\"\"\n",
      "\n",
      "def insert_between_third_and_fourth(li: List[int]) -> List[int]:\n",
      "      \"\"\"\n",
      "      Inserts the integer 5 between the third and fourth element in the input list.\n",
      "\n",
      "      Args:\n",
      "      li (List[int]): A list of integers.\n",
      "\n",
      "      Returns:\n",
      "      List[int]: A new list with 5 inserted between the third and fourth element.\n",
      "\n",
      "Failed: list-init-random-3-7\n",
      "Prompt:\n",
      "Insert 5 between the third and fourth element in this list: [8, 4, 8, 9, 3] \n",
      " List: [\n",
      "Expected: [8, 4, 5, 8, 9, 3]\n",
      "Output  : <|endoftext|>Insert 5 between the third and fourth element in this list: [8, 4, 8, 9, 3] \n",
      " List: [8, 4, 8, 9, 3]\n",
      "\"\"\"\n",
      "\n",
      "def insert_between_third_and_fourth(li: List[int]) -> List[int]:\n",
      "      \"\"\"\n",
      "      Inserts the integer 5 between the third and fourth element in the input list.\n",
      "\n",
      "      Args:\n",
      "      li (List[int]): A list of integers.\n",
      "\n",
      "      Returns:\n",
      "      List[int]: A new list with 5 inserted between the third and fourth element.\n",
      "\n",
      "Failed: list-init-random-3-8\n",
      "Prompt:\n",
      "Insert 5 between the third and fourth element in this list: [3, 2, 3, 3, 5] \n",
      " List: [\n",
      "Expected: [3, 2, 5, 3, 3, 5]\n",
      "Output  : <|endoftext|>Insert 5 between the third and fourth element in this list: [3, 2, 3, 3, 5] \n",
      " List: [3, 2, 3, 3, 5]\n",
      "\"\"\"\n",
      "\n",
      "def insert_between_third_and_fourth(li: List[int]) -> List[int]:\n",
      "      \"\"\"\n",
      "      Inserts the integer 5 between the third and fourth element in the input list.\n",
      "\n",
      "      Args:\n",
      "      li (List[int]): A list of integers.\n",
      "\n",
      "      Returns:\n",
      "      List[int]: A new list with 5 inserted between the third and fourth element.\n",
      "\n",
      "Failed: list-init-random-3-9\n",
      "Prompt:\n",
      "Insert 5 between the third and fourth element in this list: [5, 2, 6, 5, 6] \n",
      " List: [\n",
      "Expected: [5, 2, 5, 6, 5, 6]\n",
      "Output  : <|endoftext|>Insert 5 between the third and fourth element in this list: [5, 2, 6, 5, 6] \n",
      " List: [5, 2, 6, 5, 6]\n",
      "\"\"\"\n",
      "\n",
      "def insert_between_third_and_fourth(li: List[int]) -> List[int]:\n",
      "      \"\"\"\n",
      "      Inserts the integer 5 between the third and fourth element in the input list.\n",
      "\n",
      "      Args:\n",
      "      li (List[int]): A list of integers.\n",
      "\n",
      "      Returns:\n",
      "      List[int]: A new list with 5 inserted between the third and fourth element.\n",
      "\n",
      "Failed: list-init-random-3-10\n",
      "Prompt:\n",
      "Insert 5 between the third and fourth element in this list: [1, 5, 9, 2, 1] \n",
      " List: [\n",
      "Expected: [1, 5, 5, 9, 2, 1]\n",
      "Output  : <|endoftext|>Insert 5 between the third and fourth element in this list: [1, 5, 9, 2, 1] \n",
      " List: [1, 5, 9, 2, 1]\n",
      "\"\"\"\n",
      "\n",
      "def insert_between_third_and_fourth(li: List[int]) -> List[int]:\n",
      "      \"\"\"\n",
      "      Inserts the integer 5 between the third and fourth element in the input list.\n",
      "\n",
      "      Args:\n",
      "      li (List[int]): A list of integers.\n",
      "\n",
      "      Returns:\n",
      "      List[int]: A new list with 5 inserted between the third and fourth element.\n",
      "\n",
      "Failed: list-init-random-3-11\n",
      "Prompt:\n",
      "Insert 5 between the third and fourth element in this list: [9, 9, 9, 6, 8] \n",
      " List: [\n",
      "Expected: [9, 9, 5, 9, 6, 8]\n",
      "Output  : <|endoftext|>Insert 5 between the third and fourth element in this list: [9, 9, 9, 6, 8] \n",
      " List: [9, 9, 9, 6, 8]\n",
      "[9, 9, 5, 6, 8]\n",
      "\n",
      "<|endoftext|>\n",
      "\n",
      "Failed: list-init-random-3-12\n",
      "Prompt:\n",
      "Insert 5 between the third and fourth element in this list: [1, 4, 1, 8, 1] \n",
      " List: [\n",
      "Expected: [1, 4, 5, 1, 8, 1]\n",
      "Output  : <|endoftext|>Insert 5 between the third and fourth element in this list: [1, 4, 1, 8, 1] \n",
      " List: [1, 4, 1, 8, 1]\n",
      "\"\"\"\n",
      "\n",
      "def insert_between_third_and_fourth(li: List[int]) -> List[int]:\n",
      "      \"\"\"\n",
      "      Inserts the integer 5 between the third and fourth element in the input list.\n",
      "\n",
      "      Args:\n",
      "      li (List[int]): A list of integers.\n",
      "\n",
      "      Returns:\n",
      "      List[int]: A new list with 5 inserted between the third and fourth element.\n",
      "\n",
      "Failed: list-init-random-3-13\n",
      "Prompt:\n",
      "Insert 5 between the third and fourth element in this list: [3, 4, 8, 6, 7] \n",
      " List: [\n",
      "Expected: [3, 4, 5, 8, 6, 7]\n",
      "Output  : <|endoftext|>Insert 5 between the third and fourth element in this list: [3, 4, 8, 6, 7] \n",
      " List: [3, 4, 8, 6, 7]\n",
      "\"\"\"\n",
      "\n",
      "def insert_between_third_and_fourth(li: List[int]) -> List[int]:\n",
      "      \"\"\"\n",
      "      Inserts the integer 5 between the third and fourth element in the input list.\n",
      "\n",
      "      Args:\n",
      "      li (List[int]): A list of integers.\n",
      "\n",
      "      Returns:\n",
      "      List[int]: A new list with 5 inserted between the third and fourth element.\n",
      "\n",
      "Failed: list-init-random-3-15\n",
      "Prompt:\n",
      "Insert 5 between the third and fourth element in this list: [3, 7, 2, 6, 3] \n",
      " List: [\n",
      "Expected: [3, 7, 5, 2, 6, 3]\n",
      "Output  : <|endoftext|>Insert 5 between the third and fourth element in this list: [3, 7, 2, 6, 3] \n",
      " List: [3, 7, 2, 6, 3]\n",
      "\"\"\"\n",
      "\n",
      "def insert_between_third_and_fourth(li: List[int]) -> List[int]:\n",
      "      \"\"\"\n",
      "      Inserts the integer 5 between the third and fourth element in the input list.\n",
      "\n",
      "      Args:\n",
      "      li (List[int]): A list of integers.\n",
      "\n",
      "      Returns:\n",
      "      List[int]: A new list with 5 inserted between the third and fourth element.\n",
      "\n",
      "Failed: list-init-random-3-16\n",
      "Prompt:\n",
      "Insert 5 between the third and fourth element in this list: [3, 9, 7, 5, 7] \n",
      " List: [\n",
      "Expected: [3, 9, 5, 7, 5, 7]\n",
      "Output  : <|endoftext|>Insert 5 between the third and fourth element in this list: [3, 9, 7, 5, 7] \n",
      " List: [3, 9, 7, 5, 7]\n",
      "\"\"\"\n",
      "\n",
      "def insert_between_third_and_fourth(li: List[int]) -> List[int]:\n",
      "      \"\"\"\n",
      "      Inserts the integer 5 between the third and fourth element in the input list.\n",
      "\n",
      "      Args:\n",
      "      li (List[int]): A list of integers.\n",
      "\n",
      "      Returns:\n",
      "      List[int]: A new list with 5 inserted between the third and fourth element.\n",
      "\n",
      "Failed: list-init-random-3-17\n",
      "Prompt:\n",
      "Insert 5 between the third and fourth element in this list: [9, 1, 7, 6, 9] \n",
      " List: [\n",
      "Expected: [9, 1, 5, 7, 6, 9]\n",
      "Output  : <|endoftext|>Insert 5 between the third and fourth element in this list: [9, 1, 7, 6, 9] \n",
      " List: [9, 1, 7, 6, 9]\n",
      "\"\"\"\n",
      "\n",
      "def insert_between_third_and_fourth(li: List[int]) -> List[int]:\n",
      "      \"\"\"\n",
      "      Inserts the integer 5 between the third and fourth element in the input list.\n",
      "\n",
      "      Args:\n",
      "      li (List[int]): A list of integers.\n",
      "\n",
      "      Returns:\n",
      "      List[int]: A new list with 5 inserted between the third and fourth element.\n",
      "\n",
      "Failed: list-init-random-3-18\n",
      "Prompt:\n",
      "Insert 5 between the third and fourth element in this list: [1, 4, 9, 4, 3] \n",
      " List: [\n",
      "Expected: [1, 4, 5, 9, 4, 3]\n",
      "Output  : <|endoftext|>Insert 5 between the third and fourth element in this list: [1, 4, 9, 4, 3] \n",
      " List: [1, 4, 9, 4, 3]\n",
      "\"\"\"\n",
      "\n",
      "def insert_between_third_and_fourth(li: List[int]) -> List[int]:\n",
      "      \"\"\"\n",
      "      Inserts the integer 5 between the third and fourth element in the input list.\n",
      "\n",
      "      Args:\n",
      "      li (List[int]): A list of integers.\n",
      "\n",
      "      Returns:\n",
      "      List[int]: A new list with 5 inserted between the third and fourth element.\n",
      "\n",
      "Failed: list-init-random-3-19\n",
      "Prompt:\n",
      "Insert 5 between the third and fourth element in this list: [9, 2, 4, 6, 2] \n",
      " List: [\n",
      "Expected: [9, 2, 5, 4, 6, 2]\n",
      "Output  : <|endoftext|>Insert 5 between the third and fourth element in this list: [9, 2, 4, 6, 2] \n",
      " List: [9, 2, 4, 6, 2]\n",
      "[9, 2, 5, 6, 2]\n",
      "\n",
      "<|endoftext|>\n",
      "\n",
      "Failed: list-init-random-3-20\n",
      "Prompt:\n",
      "Insert 5 between the third and fourth element in this list: [8, 8, 1, 3, 9] \n",
      " List: [\n",
      "Expected: [8, 8, 5, 1, 3, 9]\n",
      "Output  : <|endoftext|>Insert 5 between the third and fourth element in this list: [8, 8, 1, 3, 9] \n",
      " List: [8, 8, 1, 3, 9]\n",
      "[8, 8, 1, 3, 5, 9]\n",
      "\n",
      "<|endoftext|>\n",
      "\n",
      "Failed: list-init-random-3-21\n",
      "Prompt:\n",
      "Insert 5 between the third and fourth element in this list: [5, 6, 4, 2, 8] \n",
      " List: [\n",
      "Expected: [5, 6, 5, 4, 2, 8]\n",
      "Output  : <|endoftext|>Insert 5 between the third and fourth element in this list: [5, 6, 4, 2, 8] \n",
      " List: [5, 6, 4, 2, 8]\n",
      "[5, 6, 4, 2, 5, 8]\n",
      "\n",
      "<|endoftext|>\n",
      "\n",
      "Failed: list-init-random-3-22\n",
      "Prompt:\n",
      "Insert 5 between the third and fourth element in this list: [6, 5, 9, 1, 5] \n",
      " List: [\n",
      "Expected: [6, 5, 5, 9, 1, 5]\n",
      "Output  : <|endoftext|>Insert 5 between the third and fourth element in this list: [6, 5, 9, 1, 5] \n",
      " List: [6, 5, 9, 1, 5]\n",
      "\"\"\"\n",
      "\n",
      "def insert_between_third_and_fourth(li: List[int]) -> List[int]:\n",
      "      \"\"\"\n",
      "      Inserts the integer 5 between the third and fourth element in the input list.\n",
      "\n",
      "      Args:\n",
      "      li (List[int]): A list of integers.\n",
      "\n",
      "      Returns:\n",
      "      List[int]: A new list with 5 inserted between the third and fourth element.\n",
      "\n",
      "Failed: list-init-random-3-23\n",
      "Prompt:\n",
      "Insert 5 between the third and fourth element in this list: [6, 5, 6, 6, 7] \n",
      " List: [\n",
      "Expected: [6, 5, 5, 6, 6, 7]\n",
      "Output  : <|endoftext|>Insert 5 between the third and fourth element in this list: [6, 5, 6, 6, 7] \n",
      " List: [6, 5, 6, 6, 7]\n",
      "\"\"\"\n",
      "\n",
      "def insert_between_third_and_fourth(li: List[int]) -> List[int]:\n",
      "      \"\"\"\n",
      "      Inserts the integer 5 between the third and fourth element in the input list.\n",
      "\n",
      "      Args:\n",
      "      li (List[int]): A list of integers.\n",
      "\n",
      "      Returns:\n",
      "      List[int]: A new list with 5 inserted between the third and fourth element.\n",
      "\n",
      "Failed: list-init-random-3-24\n",
      "Prompt:\n",
      "Insert 5 between the third and fourth element in this list: [4, 8, 7, 9, 7] \n",
      " List: [\n",
      "Expected: [4, 8, 5, 7, 9, 7]\n",
      "Output  : <|endoftext|>Insert 5 between the third and fourth element in this list: [4, 8, 7, 9, 7] \n",
      " List: [4, 8, 7, 9, 7]\n",
      "\"\"\"\n",
      "\n",
      "def insert_between_third_and_fourth(li: List[int]) -> List[int]:\n",
      "      \"\"\"\n",
      "      Inserts the integer 5 between the third and fourth element in the input list.\n",
      "\n",
      "      Args:\n",
      "      li (List[int]): A list of integers.\n",
      "\n",
      "      Returns:\n",
      "      List[int]: A new list with 5 inserted between the third and fourth element.\n",
      "\n",
      "Passed: list-init-random-3-14\n",
      "Prompt:\n",
      "Insert 5 between the third and fourth element in this list: [8, 2, 8, 3, 7] \n",
      " List: [\n",
      "Expected: [8, 2, 5, 8, 3, 7]\n",
      "Output  : <|endoftext|>Insert 5 between the third and fourth element in this list: [8, 2, 8, 3, 7] \n",
      " List: [8, 2, 8, 3, 7]\n",
      "[8, 2, 5, 8, 3, 7]\n",
      "\n",
      "<|endoftext|>\n"
     ]
    }
   ],
   "source": [
    "family = RandomListPromptFamily(max_val = 10)\n",
    "def p3(l): \n",
    "    return l[:2] + [5] + l[2:]\n",
    "manual_cases = family.generate_cases(25, prompt_idx=3, transform_fn = p3)\n",
    "family.run_cases_and_report_failures(model)"
   ]
  },
  {
   "cell_type": "code",
   "execution_count": null,
   "metadata": {},
   "outputs": [],
   "source": [
    "# # Try it again with OLLAMA \n",
    "# family = RandomListPromptFamily(max_val = 10)\n",
    "# cases = family.generate_cases(10, prompt_idx=0)\n",
    "# family.run_cases_and_report_failures(OLLAMA_MODELS[0], ollama=True)"
   ]
  },
  {
   "cell_type": "code",
   "execution_count": null,
   "metadata": {},
   "outputs": [],
   "source": [
    "# # Try it again with OLLAMA \n",
    "# family = RandomListPromptFamily(max_val = 10)\n",
    "# cases = family.generate_cases(10, prompt_idx=1)\n",
    "# family.run_cases_and_report_failures(OLLAMA_MODELS[0], ollama=True)"
   ]
  },
  {
   "cell_type": "markdown",
   "metadata": {},
   "source": [
    "# Activation Patching\n",
    "Alright let's categorize our examples where they worked and failed from earlier and do activation patching on that \n"
   ]
  },
  {
   "cell_type": "code",
   "execution_count": 17,
   "metadata": {},
   "outputs": [
    {
     "ename": "TypeError",
     "evalue": "<lambda>() takes 1 positional argument but 5 were given",
     "output_type": "error",
     "traceback": [
      "\u001b[0;31m---------------------------------------------------------------------------\u001b[0m",
      "\u001b[0;31mTypeError\u001b[0m                                 Traceback (most recent call last)",
      "Cell \u001b[0;32mIn[17], line 7\u001b[0m\n\u001b[1;32m      5\u001b[0m     l\u001b[38;5;241m.\u001b[39mappend(\u001b[38;5;241m-\u001b[39m\u001b[38;5;241m1\u001b[39m)\n\u001b[1;32m      6\u001b[0m     \u001b[38;5;28;01mreturn\u001b[39;00m l\n\u001b[0;32m----> 7\u001b[0m better_cases \u001b[38;5;241m=\u001b[39m \u001b[43mfamily\u001b[49m\u001b[38;5;241;43m.\u001b[39;49m\u001b[43mgenerate_cases\u001b[49m\u001b[43m(\u001b[49m\u001b[43mprompt_idx\u001b[49m\u001b[38;5;241;43m=\u001b[39;49m\u001b[38;5;241;43m1\u001b[39;49m\u001b[43m,\u001b[49m\u001b[43m \u001b[49m\u001b[43mtransform_fn\u001b[49m\u001b[43m \u001b[49m\u001b[38;5;241;43m=\u001b[39;49m\u001b[43m \u001b[49m\u001b[43mp2\u001b[49m\u001b[43m,\u001b[49m\u001b[43m \u001b[49m\u001b[43mmanual_lists\u001b[49m\u001b[38;5;241;43m=\u001b[39;49m\u001b[43m[\u001b[49m\u001b[43m[\u001b[49m\u001b[38;5;241;43m5\u001b[39;49m\u001b[43m,\u001b[49m\u001b[43m \u001b[49m\u001b[38;5;241;43m7\u001b[39;49m\u001b[43m,\u001b[49m\u001b[43m \u001b[49m\u001b[38;5;241;43m1\u001b[39;49m\u001b[43m,\u001b[49m\u001b[43m \u001b[49m\u001b[38;5;241;43m3\u001b[39;49m\u001b[43m,\u001b[49m\u001b[43m \u001b[49m\u001b[38;5;241;43m2\u001b[39;49m\u001b[43m]\u001b[49m\u001b[43m,\u001b[49m\u001b[43m \u001b[49m\u001b[43m[\u001b[49m\u001b[38;5;241;43m7\u001b[39;49m\u001b[43m,\u001b[49m\u001b[43m \u001b[49m\u001b[38;5;241;43m7\u001b[39;49m\u001b[43m,\u001b[49m\u001b[43m \u001b[49m\u001b[38;5;241;43m3\u001b[39;49m\u001b[43m,\u001b[49m\u001b[43m \u001b[49m\u001b[38;5;241;43m2\u001b[39;49m\u001b[43m,\u001b[49m\u001b[43m \u001b[49m\u001b[38;5;241;43m9\u001b[39;49m\u001b[43m]\u001b[49m\u001b[43m,\u001b[49m\u001b[43m \u001b[49m\u001b[43m[\u001b[49m\u001b[38;5;241;43m1\u001b[39;49m\u001b[43m,\u001b[49m\u001b[43m \u001b[49m\u001b[38;5;241;43m8\u001b[39;49m\u001b[43m,\u001b[49m\u001b[43m \u001b[49m\u001b[38;5;241;43m3\u001b[39;49m\u001b[43m,\u001b[49m\u001b[43m \u001b[49m\u001b[38;5;241;43m7\u001b[39;49m\u001b[43m,\u001b[49m\u001b[43m \u001b[49m\u001b[38;5;241;43m2\u001b[39;49m\u001b[43m]\u001b[49m\u001b[43m]\u001b[49m\u001b[43m)\u001b[49m\n\u001b[1;32m      8\u001b[0m family\u001b[38;5;241m.\u001b[39mrun_cases_and_report_failures(model)\n",
      "Cell \u001b[0;32mIn[15], line 45\u001b[0m, in \u001b[0;36mRandomListPromptFamily.generate_cases\u001b[0;34m(self, n, prompt_idx, transform_fn, manual_lists)\u001b[0m\n\u001b[1;32m     40\u001b[0m inputs \u001b[38;5;241m=\u001b[39m manual_lists \u001b[38;5;28;01mif\u001b[39;00m manual_lists \u001b[38;5;129;01mis\u001b[39;00m \u001b[38;5;129;01mnot\u001b[39;00m \u001b[38;5;28;01mNone\u001b[39;00m \u001b[38;5;28;01melse\u001b[39;00m [\n\u001b[1;32m     41\u001b[0m     [np\u001b[38;5;241m.\u001b[39mrandom\u001b[38;5;241m.\u001b[39mrandint(\u001b[38;5;28mself\u001b[39m\u001b[38;5;241m.\u001b[39mmin_val, \u001b[38;5;28mself\u001b[39m\u001b[38;5;241m.\u001b[39mmax_val, size\u001b[38;5;241m=\u001b[39m\u001b[38;5;28mself\u001b[39m\u001b[38;5;241m.\u001b[39mlist_size)\u001b[38;5;241m.\u001b[39mtolist()] \u001b[38;5;28;01mfor\u001b[39;00m _ \u001b[38;5;129;01min\u001b[39;00m \u001b[38;5;28mrange\u001b[39m(n)\n\u001b[1;32m     42\u001b[0m ]\n\u001b[1;32m     44\u001b[0m \u001b[38;5;28;01mfor\u001b[39;00m i, numbers \u001b[38;5;129;01min\u001b[39;00m \u001b[38;5;28menumerate\u001b[39m(inputs):\n\u001b[0;32m---> 45\u001b[0m     prompt \u001b[38;5;241m=\u001b[39m \u001b[38;5;28;43mself\u001b[39;49m\u001b[38;5;241;43m.\u001b[39;49m\u001b[43mprompts\u001b[49m\u001b[43m[\u001b[49m\u001b[43mprompt_idx\u001b[49m\u001b[43m]\u001b[49m\u001b[43m(\u001b[49m\u001b[38;5;241;43m*\u001b[39;49m\u001b[43mnumbers\u001b[49m\u001b[43m)\u001b[49m\n\u001b[1;32m     47\u001b[0m     \u001b[38;5;28;01mif\u001b[39;00m transform_fn:\n\u001b[1;32m     48\u001b[0m         expected_list \u001b[38;5;241m=\u001b[39m transform_fn(numbers)\n",
      "\u001b[0;31mTypeError\u001b[0m: <lambda>() takes 1 positional argument but 5 were given"
     ]
    }
   ],
   "source": [
    "# Verify that outputs are deterministic/can be deterministically studied from the prompt \n",
    "# These should all succeed. \n",
    "family = RandomListPromptFamily(max_val = 10)\n",
    "def p2(l): \n",
    "    l.append(-1)\n",
    "    return l\n",
    "better_cases = family.generate_cases(prompt_idx=1, transform_fn = p2, manual_lists=[[5, 7, 1, 3, 2], [7, 7, 3, 2, 9], [1, 8, 3, 7, 2]])\n",
    "family.run_cases_and_report_failures(model)"
   ]
  },
  {
   "cell_type": "code",
   "execution_count": null,
   "metadata": {},
   "outputs": [
    {
     "data": {
      "application/vnd.jupyter.widget-view+json": {
       "model_id": "f229988e72ce41bebee9bfd75562be49",
       "version_major": 2,
       "version_minor": 0
      },
      "text/plain": [
       "  0%|          | 0/648 [00:00<?, ?it/s]"
      ]
     },
     "metadata": {},
     "output_type": "display_data"
    },
    {
     "name": "stdout",
     "output_type": "stream",
     "text": [
      "Visualizing patch for clean 0 → corrupt 0\n"
     ]
    },
    {
     "data": {
      "application/vnd.plotly.v1+json": {
       "config": {
        "plotlyServerURL": "https://plot.ly"
       },
       "data": [
        {
         "coloraxis": "coloraxis",
         "hovertemplate": "x: %{x}<br>y: %{y}<br>color: %{z}<extra></extra>",
         "name": "0",
         "type": "heatmap",
         "x": [
          "<|endoftext|> 0",
          "App 1",
          "end 2",
          " - 3",
          "1 4",
          " to 5",
          " the 6",
          " end 7",
          " of 8",
          " this 9",
          " list 10",
          " [ 11",
          "5 12",
          ", 13",
          " 7 14",
          ", 15",
          " 1 16",
          ", 17",
          " 3 18",
          ", 19",
          " 2 20",
          "] 21",
          "  22",
          "\n 23",
          " List 24",
          ": 25",
          " [ 26"
         ],
         "xaxis": "x",
         "yaxis": "y",
         "z": [
          [
           0,
           0,
           0,
           0,
           0,
           0,
           0,
           0,
           0,
           0,
           0,
           0,
           0,
           0,
           0,
           0,
           0,
           0,
           0,
           0,
           0,
           0,
           0,
           0,
           0,
           0,
           0
          ],
          [
           0,
           0,
           0,
           0,
           0,
           0,
           0,
           0,
           0,
           0,
           0,
           0,
           0,
           0,
           0,
           0,
           0,
           0,
           0,
           0,
           0,
           0,
           0,
           0,
           0,
           0,
           0
          ],
          [
           0,
           0,
           0,
           0,
           0,
           0,
           0,
           0,
           0,
           0,
           0,
           0,
           0,
           0,
           0,
           0,
           0,
           0,
           0,
           0,
           0,
           0,
           0,
           0,
           0,
           0,
           0
          ],
          [
           0,
           0,
           0,
           0,
           0,
           0,
           0,
           0,
           0,
           0,
           0,
           0,
           0,
           0,
           0,
           0,
           0,
           0,
           0,
           0,
           0,
           0,
           0,
           0,
           0,
           0,
           0
          ],
          [
           0,
           0,
           0,
           0,
           0,
           0,
           0,
           0,
           0,
           0,
           0,
           0,
           0,
           0,
           0,
           0,
           0,
           0,
           0,
           0,
           0,
           0,
           0,
           0,
           0,
           0,
           0
          ],
          [
           0,
           0,
           0,
           0,
           0,
           0,
           0,
           0,
           0,
           0,
           0,
           0,
           0,
           0,
           0,
           0,
           0,
           0,
           0,
           0,
           0,
           0,
           0,
           0,
           0,
           0,
           0
          ],
          [
           0,
           0,
           0,
           0,
           0,
           0,
           0,
           0,
           0,
           0,
           0,
           0,
           0,
           0,
           0,
           0,
           0,
           0,
           0,
           0,
           0,
           0,
           0,
           0,
           0,
           0,
           0
          ],
          [
           0,
           0,
           0,
           0,
           0,
           0,
           0,
           0,
           0,
           0,
           0,
           0,
           0,
           0,
           0,
           0,
           0,
           0,
           0,
           0,
           0,
           0,
           0,
           0,
           0,
           0,
           0
          ],
          [
           0,
           0,
           0,
           0,
           0,
           0,
           0,
           0,
           0,
           0,
           0,
           0,
           0,
           0,
           0,
           0,
           0,
           0,
           0,
           0,
           0,
           0,
           0,
           0,
           0,
           0,
           0
          ],
          [
           0,
           0,
           0,
           0,
           0,
           0,
           0,
           0,
           0,
           0,
           0,
           0,
           0,
           0,
           0,
           0,
           0,
           0,
           0,
           0,
           0,
           0,
           0,
           0,
           0,
           0,
           0
          ],
          [
           0,
           0,
           0,
           0,
           0,
           0,
           0,
           0,
           0,
           0,
           0,
           0,
           0,
           0,
           0,
           0,
           0,
           0,
           0,
           0,
           0,
           0,
           0,
           0,
           0,
           0,
           0
          ],
          [
           0,
           0,
           0,
           0,
           0,
           0,
           0,
           0,
           0,
           0,
           0,
           0,
           0,
           0,
           0,
           0,
           0,
           0,
           0,
           0,
           0,
           0,
           0,
           0,
           0,
           0,
           0
          ],
          [
           0,
           0,
           0,
           0,
           0,
           0,
           0,
           0,
           0,
           0,
           0,
           0,
           0,
           0,
           0,
           0,
           0,
           0,
           0,
           0,
           0,
           0,
           0,
           0,
           0,
           0,
           0
          ],
          [
           0,
           0,
           0,
           0,
           0,
           0,
           0,
           0,
           0,
           0,
           0,
           0,
           0,
           0,
           0,
           0,
           0,
           0,
           0,
           0,
           0,
           0,
           0,
           0,
           0,
           0,
           0
          ],
          [
           0,
           0,
           0,
           0,
           0,
           0,
           0,
           0,
           0,
           0,
           0,
           0,
           0,
           0,
           0,
           0,
           0,
           0,
           0,
           0,
           0,
           0,
           0,
           0,
           0,
           0,
           0
          ],
          [
           0,
           0,
           0,
           0,
           0,
           0,
           0,
           0,
           0,
           0,
           0,
           0,
           0,
           0,
           0,
           0,
           0,
           0,
           0,
           0,
           0,
           0,
           0,
           0,
           0,
           0,
           0
          ],
          [
           0,
           0,
           0,
           0,
           0,
           0,
           0,
           0,
           0,
           0,
           0,
           0,
           0,
           0,
           0,
           0,
           0,
           0,
           0,
           0,
           0,
           0,
           0,
           0,
           0,
           0,
           0
          ],
          [
           0,
           0,
           0,
           0,
           0,
           0,
           0,
           0,
           0,
           0,
           0,
           0,
           0,
           0,
           0,
           0,
           0,
           0,
           0,
           0,
           0,
           0,
           0,
           0,
           0,
           0,
           0
          ],
          [
           0,
           0,
           0,
           0,
           0,
           0,
           0,
           0,
           0,
           0,
           0,
           0,
           0,
           0,
           0,
           0,
           0,
           0,
           0,
           0,
           0,
           0,
           0,
           0,
           0,
           0,
           0
          ],
          [
           0,
           0,
           0,
           0,
           0,
           0,
           0,
           0,
           0,
           0,
           0,
           0,
           0,
           0,
           0,
           0,
           0,
           0,
           0,
           0,
           0,
           0,
           0,
           0,
           0,
           0,
           0
          ],
          [
           0,
           0,
           0,
           0,
           0,
           0,
           0,
           0,
           0,
           0,
           0,
           0,
           0,
           0,
           0,
           0,
           0,
           0,
           0,
           0,
           0,
           0,
           0,
           0,
           0,
           0,
           0
          ],
          [
           0,
           0,
           0,
           0,
           0,
           0,
           0,
           0,
           0,
           0,
           0,
           0,
           0,
           0,
           0,
           0,
           0,
           0,
           0,
           0,
           0,
           0,
           0,
           0,
           0,
           0,
           0
          ],
          [
           0,
           0,
           0,
           0,
           0,
           0,
           0,
           0,
           0,
           0,
           0,
           0,
           0,
           0,
           0,
           0,
           0,
           0,
           0,
           0,
           0,
           0,
           0,
           0,
           0,
           0,
           0
          ],
          [
           0,
           0,
           0,
           0,
           0,
           0,
           0,
           0,
           0,
           0,
           0,
           0,
           0,
           0,
           0,
           0,
           0,
           0,
           0,
           0,
           0,
           0,
           0,
           0,
           0,
           0,
           0
          ]
         ]
        }
       ],
       "layout": {
        "coloraxis": {
         "cmid": 0,
         "colorscale": [
          [
           0,
           "rgb(103,0,31)"
          ],
          [
           0.1,
           "rgb(178,24,43)"
          ],
          [
           0.2,
           "rgb(214,96,77)"
          ],
          [
           0.3,
           "rgb(244,165,130)"
          ],
          [
           0.4,
           "rgb(253,219,199)"
          ],
          [
           0.5,
           "rgb(247,247,247)"
          ],
          [
           0.6,
           "rgb(209,229,240)"
          ],
          [
           0.7,
           "rgb(146,197,222)"
          ],
          [
           0.8,
           "rgb(67,147,195)"
          ],
          [
           0.9,
           "rgb(33,102,172)"
          ],
          [
           1,
           "rgb(5,48,97)"
          ]
         ]
        },
        "template": {
         "data": {
          "bar": [
           {
            "error_x": {
             "color": "#2a3f5f"
            },
            "error_y": {
             "color": "#2a3f5f"
            },
            "marker": {
             "line": {
              "color": "#E5ECF6",
              "width": 0.5
             },
             "pattern": {
              "fillmode": "overlay",
              "size": 10,
              "solidity": 0.2
             }
            },
            "type": "bar"
           }
          ],
          "barpolar": [
           {
            "marker": {
             "line": {
              "color": "#E5ECF6",
              "width": 0.5
             },
             "pattern": {
              "fillmode": "overlay",
              "size": 10,
              "solidity": 0.2
             }
            },
            "type": "barpolar"
           }
          ],
          "carpet": [
           {
            "aaxis": {
             "endlinecolor": "#2a3f5f",
             "gridcolor": "white",
             "linecolor": "white",
             "minorgridcolor": "white",
             "startlinecolor": "#2a3f5f"
            },
            "baxis": {
             "endlinecolor": "#2a3f5f",
             "gridcolor": "white",
             "linecolor": "white",
             "minorgridcolor": "white",
             "startlinecolor": "#2a3f5f"
            },
            "type": "carpet"
           }
          ],
          "choropleth": [
           {
            "colorbar": {
             "outlinewidth": 0,
             "ticks": ""
            },
            "type": "choropleth"
           }
          ],
          "contour": [
           {
            "colorbar": {
             "outlinewidth": 0,
             "ticks": ""
            },
            "colorscale": [
             [
              0,
              "#0d0887"
             ],
             [
              0.1111111111111111,
              "#46039f"
             ],
             [
              0.2222222222222222,
              "#7201a8"
             ],
             [
              0.3333333333333333,
              "#9c179e"
             ],
             [
              0.4444444444444444,
              "#bd3786"
             ],
             [
              0.5555555555555556,
              "#d8576b"
             ],
             [
              0.6666666666666666,
              "#ed7953"
             ],
             [
              0.7777777777777778,
              "#fb9f3a"
             ],
             [
              0.8888888888888888,
              "#fdca26"
             ],
             [
              1,
              "#f0f921"
             ]
            ],
            "type": "contour"
           }
          ],
          "contourcarpet": [
           {
            "colorbar": {
             "outlinewidth": 0,
             "ticks": ""
            },
            "type": "contourcarpet"
           }
          ],
          "heatmap": [
           {
            "colorbar": {
             "outlinewidth": 0,
             "ticks": ""
            },
            "colorscale": [
             [
              0,
              "#0d0887"
             ],
             [
              0.1111111111111111,
              "#46039f"
             ],
             [
              0.2222222222222222,
              "#7201a8"
             ],
             [
              0.3333333333333333,
              "#9c179e"
             ],
             [
              0.4444444444444444,
              "#bd3786"
             ],
             [
              0.5555555555555556,
              "#d8576b"
             ],
             [
              0.6666666666666666,
              "#ed7953"
             ],
             [
              0.7777777777777778,
              "#fb9f3a"
             ],
             [
              0.8888888888888888,
              "#fdca26"
             ],
             [
              1,
              "#f0f921"
             ]
            ],
            "type": "heatmap"
           }
          ],
          "heatmapgl": [
           {
            "colorbar": {
             "outlinewidth": 0,
             "ticks": ""
            },
            "colorscale": [
             [
              0,
              "#0d0887"
             ],
             [
              0.1111111111111111,
              "#46039f"
             ],
             [
              0.2222222222222222,
              "#7201a8"
             ],
             [
              0.3333333333333333,
              "#9c179e"
             ],
             [
              0.4444444444444444,
              "#bd3786"
             ],
             [
              0.5555555555555556,
              "#d8576b"
             ],
             [
              0.6666666666666666,
              "#ed7953"
             ],
             [
              0.7777777777777778,
              "#fb9f3a"
             ],
             [
              0.8888888888888888,
              "#fdca26"
             ],
             [
              1,
              "#f0f921"
             ]
            ],
            "type": "heatmapgl"
           }
          ],
          "histogram": [
           {
            "marker": {
             "pattern": {
              "fillmode": "overlay",
              "size": 10,
              "solidity": 0.2
             }
            },
            "type": "histogram"
           }
          ],
          "histogram2d": [
           {
            "colorbar": {
             "outlinewidth": 0,
             "ticks": ""
            },
            "colorscale": [
             [
              0,
              "#0d0887"
             ],
             [
              0.1111111111111111,
              "#46039f"
             ],
             [
              0.2222222222222222,
              "#7201a8"
             ],
             [
              0.3333333333333333,
              "#9c179e"
             ],
             [
              0.4444444444444444,
              "#bd3786"
             ],
             [
              0.5555555555555556,
              "#d8576b"
             ],
             [
              0.6666666666666666,
              "#ed7953"
             ],
             [
              0.7777777777777778,
              "#fb9f3a"
             ],
             [
              0.8888888888888888,
              "#fdca26"
             ],
             [
              1,
              "#f0f921"
             ]
            ],
            "type": "histogram2d"
           }
          ],
          "histogram2dcontour": [
           {
            "colorbar": {
             "outlinewidth": 0,
             "ticks": ""
            },
            "colorscale": [
             [
              0,
              "#0d0887"
             ],
             [
              0.1111111111111111,
              "#46039f"
             ],
             [
              0.2222222222222222,
              "#7201a8"
             ],
             [
              0.3333333333333333,
              "#9c179e"
             ],
             [
              0.4444444444444444,
              "#bd3786"
             ],
             [
              0.5555555555555556,
              "#d8576b"
             ],
             [
              0.6666666666666666,
              "#ed7953"
             ],
             [
              0.7777777777777778,
              "#fb9f3a"
             ],
             [
              0.8888888888888888,
              "#fdca26"
             ],
             [
              1,
              "#f0f921"
             ]
            ],
            "type": "histogram2dcontour"
           }
          ],
          "mesh3d": [
           {
            "colorbar": {
             "outlinewidth": 0,
             "ticks": ""
            },
            "type": "mesh3d"
           }
          ],
          "parcoords": [
           {
            "line": {
             "colorbar": {
              "outlinewidth": 0,
              "ticks": ""
             }
            },
            "type": "parcoords"
           }
          ],
          "pie": [
           {
            "automargin": true,
            "type": "pie"
           }
          ],
          "scatter": [
           {
            "fillpattern": {
             "fillmode": "overlay",
             "size": 10,
             "solidity": 0.2
            },
            "type": "scatter"
           }
          ],
          "scatter3d": [
           {
            "line": {
             "colorbar": {
              "outlinewidth": 0,
              "ticks": ""
             }
            },
            "marker": {
             "colorbar": {
              "outlinewidth": 0,
              "ticks": ""
             }
            },
            "type": "scatter3d"
           }
          ],
          "scattercarpet": [
           {
            "marker": {
             "colorbar": {
              "outlinewidth": 0,
              "ticks": ""
             }
            },
            "type": "scattercarpet"
           }
          ],
          "scattergeo": [
           {
            "marker": {
             "colorbar": {
              "outlinewidth": 0,
              "ticks": ""
             }
            },
            "type": "scattergeo"
           }
          ],
          "scattergl": [
           {
            "marker": {
             "colorbar": {
              "outlinewidth": 0,
              "ticks": ""
             }
            },
            "type": "scattergl"
           }
          ],
          "scattermapbox": [
           {
            "marker": {
             "colorbar": {
              "outlinewidth": 0,
              "ticks": ""
             }
            },
            "type": "scattermapbox"
           }
          ],
          "scatterpolar": [
           {
            "marker": {
             "colorbar": {
              "outlinewidth": 0,
              "ticks": ""
             }
            },
            "type": "scatterpolar"
           }
          ],
          "scatterpolargl": [
           {
            "marker": {
             "colorbar": {
              "outlinewidth": 0,
              "ticks": ""
             }
            },
            "type": "scatterpolargl"
           }
          ],
          "scatterternary": [
           {
            "marker": {
             "colorbar": {
              "outlinewidth": 0,
              "ticks": ""
             }
            },
            "type": "scatterternary"
           }
          ],
          "surface": [
           {
            "colorbar": {
             "outlinewidth": 0,
             "ticks": ""
            },
            "colorscale": [
             [
              0,
              "#0d0887"
             ],
             [
              0.1111111111111111,
              "#46039f"
             ],
             [
              0.2222222222222222,
              "#7201a8"
             ],
             [
              0.3333333333333333,
              "#9c179e"
             ],
             [
              0.4444444444444444,
              "#bd3786"
             ],
             [
              0.5555555555555556,
              "#d8576b"
             ],
             [
              0.6666666666666666,
              "#ed7953"
             ],
             [
              0.7777777777777778,
              "#fb9f3a"
             ],
             [
              0.8888888888888888,
              "#fdca26"
             ],
             [
              1,
              "#f0f921"
             ]
            ],
            "type": "surface"
           }
          ],
          "table": [
           {
            "cells": {
             "fill": {
              "color": "#EBF0F8"
             },
             "line": {
              "color": "white"
             }
            },
            "header": {
             "fill": {
              "color": "#C8D4E3"
             },
             "line": {
              "color": "white"
             }
            },
            "type": "table"
           }
          ]
         },
         "layout": {
          "annotationdefaults": {
           "arrowcolor": "#2a3f5f",
           "arrowhead": 0,
           "arrowwidth": 1
          },
          "autotypenumbers": "strict",
          "coloraxis": {
           "colorbar": {
            "outlinewidth": 0,
            "ticks": ""
           }
          },
          "colorscale": {
           "diverging": [
            [
             0,
             "#8e0152"
            ],
            [
             0.1,
             "#c51b7d"
            ],
            [
             0.2,
             "#de77ae"
            ],
            [
             0.3,
             "#f1b6da"
            ],
            [
             0.4,
             "#fde0ef"
            ],
            [
             0.5,
             "#f7f7f7"
            ],
            [
             0.6,
             "#e6f5d0"
            ],
            [
             0.7,
             "#b8e186"
            ],
            [
             0.8,
             "#7fbc41"
            ],
            [
             0.9,
             "#4d9221"
            ],
            [
             1,
             "#276419"
            ]
           ],
           "sequential": [
            [
             0,
             "#0d0887"
            ],
            [
             0.1111111111111111,
             "#46039f"
            ],
            [
             0.2222222222222222,
             "#7201a8"
            ],
            [
             0.3333333333333333,
             "#9c179e"
            ],
            [
             0.4444444444444444,
             "#bd3786"
            ],
            [
             0.5555555555555556,
             "#d8576b"
            ],
            [
             0.6666666666666666,
             "#ed7953"
            ],
            [
             0.7777777777777778,
             "#fb9f3a"
            ],
            [
             0.8888888888888888,
             "#fdca26"
            ],
            [
             1,
             "#f0f921"
            ]
           ],
           "sequentialminus": [
            [
             0,
             "#0d0887"
            ],
            [
             0.1111111111111111,
             "#46039f"
            ],
            [
             0.2222222222222222,
             "#7201a8"
            ],
            [
             0.3333333333333333,
             "#9c179e"
            ],
            [
             0.4444444444444444,
             "#bd3786"
            ],
            [
             0.5555555555555556,
             "#d8576b"
            ],
            [
             0.6666666666666666,
             "#ed7953"
            ],
            [
             0.7777777777777778,
             "#fb9f3a"
            ],
            [
             0.8888888888888888,
             "#fdca26"
            ],
            [
             1,
             "#f0f921"
            ]
           ]
          },
          "colorway": [
           "#636efa",
           "#EF553B",
           "#00cc96",
           "#ab63fa",
           "#FFA15A",
           "#19d3f3",
           "#FF6692",
           "#B6E880",
           "#FF97FF",
           "#FECB52"
          ],
          "font": {
           "color": "#2a3f5f"
          },
          "geo": {
           "bgcolor": "white",
           "lakecolor": "white",
           "landcolor": "#E5ECF6",
           "showlakes": true,
           "showland": true,
           "subunitcolor": "white"
          },
          "hoverlabel": {
           "align": "left"
          },
          "hovermode": "closest",
          "mapbox": {
           "style": "light"
          },
          "paper_bgcolor": "white",
          "plot_bgcolor": "#E5ECF6",
          "polar": {
           "angularaxis": {
            "gridcolor": "white",
            "linecolor": "white",
            "ticks": ""
           },
           "bgcolor": "#E5ECF6",
           "radialaxis": {
            "gridcolor": "white",
            "linecolor": "white",
            "ticks": ""
           }
          },
          "scene": {
           "xaxis": {
            "backgroundcolor": "#E5ECF6",
            "gridcolor": "white",
            "gridwidth": 2,
            "linecolor": "white",
            "showbackground": true,
            "ticks": "",
            "zerolinecolor": "white"
           },
           "yaxis": {
            "backgroundcolor": "#E5ECF6",
            "gridcolor": "white",
            "gridwidth": 2,
            "linecolor": "white",
            "showbackground": true,
            "ticks": "",
            "zerolinecolor": "white"
           },
           "zaxis": {
            "backgroundcolor": "#E5ECF6",
            "gridcolor": "white",
            "gridwidth": 2,
            "linecolor": "white",
            "showbackground": true,
            "ticks": "",
            "zerolinecolor": "white"
           }
          },
          "shapedefaults": {
           "line": {
            "color": "#2a3f5f"
           }
          },
          "ternary": {
           "aaxis": {
            "gridcolor": "white",
            "linecolor": "white",
            "ticks": ""
           },
           "baxis": {
            "gridcolor": "white",
            "linecolor": "white",
            "ticks": ""
           },
           "bgcolor": "#E5ECF6",
           "caxis": {
            "gridcolor": "white",
            "linecolor": "white",
            "ticks": ""
           }
          },
          "title": {
           "x": 0.05
          },
          "xaxis": {
           "automargin": true,
           "gridcolor": "white",
           "linecolor": "white",
           "ticks": "",
           "title": {
            "standoff": 15
           },
           "zerolinecolor": "white",
           "zerolinewidth": 2
          },
          "yaxis": {
           "automargin": true,
           "gridcolor": "white",
           "linecolor": "white",
           "ticks": "",
           "title": {
            "standoff": 15
           },
           "zerolinecolor": "white",
           "zerolinewidth": 2
          }
         }
        },
        "title": {
         "text": "resid_pre Activation Patching"
        },
        "xaxis": {
         "anchor": "y",
         "domain": [
          0,
          1
         ],
         "title": {
          "text": "Position"
         }
        },
        "yaxis": {
         "anchor": "x",
         "autorange": "reversed",
         "domain": [
          0,
          1
         ],
         "title": {
          "text": "Layer"
         }
        }
       }
      }
     },
     "metadata": {},
     "output_type": "display_data"
    },
    {
     "data": {
      "application/vnd.jupyter.widget-view+json": {
       "model_id": "789be2f7cc3e4d31983ca9005a8aa175",
       "version_major": 2,
       "version_minor": 0
      },
      "text/plain": [
       "  0%|          | 0/648 [00:00<?, ?it/s]"
      ]
     },
     "metadata": {},
     "output_type": "display_data"
    },
    {
     "name": "stdout",
     "output_type": "stream",
     "text": [
      "Visualizing patch for clean 0 → corrupt 1\n"
     ]
    },
    {
     "data": {
      "application/vnd.plotly.v1+json": {
       "config": {
        "plotlyServerURL": "https://plot.ly"
       },
       "data": [
        {
         "coloraxis": "coloraxis",
         "hovertemplate": "x: %{x}<br>y: %{y}<br>color: %{z}<extra></extra>",
         "name": "0",
         "type": "heatmap",
         "x": [
          "<|endoftext|> 0",
          "App 1",
          "end 2",
          " - 3",
          "1 4",
          " to 5",
          " the 6",
          " end 7",
          " of 8",
          " this 9",
          " list 10",
          " [ 11",
          "5 12",
          ", 13",
          " 7 14",
          ", 15",
          " 1 16",
          ", 17",
          " 3 18",
          ", 19",
          " 2 20",
          "] 21",
          "  22",
          "\n 23",
          " List 24",
          ": 25",
          " [ 26"
         ],
         "xaxis": "x",
         "yaxis": "y",
         "z": [
          [
           0,
           0,
           0,
           0,
           0,
           0,
           0,
           0,
           0,
           0,
           0,
           0,
           0,
           0,
           0,
           0,
           0,
           0,
           0,
           0,
           0,
           0,
           0,
           0,
           0,
           0,
           0
          ],
          [
           0,
           0,
           0,
           0,
           0,
           0,
           0,
           0,
           0,
           0,
           0,
           0,
           0,
           0,
           0,
           0,
           0,
           0,
           0,
           0,
           0,
           0,
           0,
           0,
           0,
           0,
           0
          ],
          [
           0,
           0,
           0,
           0,
           0,
           0,
           0,
           0,
           0,
           0,
           0,
           0,
           0,
           0,
           0,
           0,
           0,
           0,
           0,
           0,
           0,
           0,
           0,
           0,
           0,
           0,
           0
          ],
          [
           0,
           0,
           0,
           0,
           0,
           0,
           0,
           0,
           0,
           0,
           0,
           0,
           0,
           0,
           0,
           0,
           0,
           0,
           0,
           0,
           0,
           0,
           0,
           0,
           0,
           0,
           0
          ],
          [
           0,
           0,
           0,
           0,
           0,
           0,
           0,
           0,
           0,
           0,
           0,
           0,
           0,
           0,
           0,
           0,
           0,
           0,
           0,
           0,
           0,
           0,
           0,
           0,
           0,
           0,
           0
          ],
          [
           0,
           0,
           0,
           0,
           0,
           0,
           0,
           0,
           0,
           0,
           0,
           0,
           0,
           0,
           0,
           0,
           0,
           0,
           0,
           0,
           0,
           0,
           0,
           0,
           0,
           0,
           0
          ],
          [
           0,
           0,
           0,
           0,
           0,
           0,
           0,
           0,
           0,
           0,
           0,
           0,
           0,
           0,
           0,
           0,
           0,
           0,
           0,
           0,
           0,
           0,
           0,
           0,
           0,
           0,
           0
          ],
          [
           0,
           0,
           0,
           0,
           0,
           0,
           0,
           0,
           0,
           0,
           0,
           0,
           0,
           0,
           0,
           0,
           0,
           0,
           0,
           0,
           0,
           0,
           0,
           0,
           0,
           0,
           0
          ],
          [
           0,
           0,
           0,
           0,
           0,
           0,
           0,
           0,
           0,
           0,
           0,
           0,
           0,
           0,
           0,
           0,
           0,
           0,
           0,
           0,
           0,
           0,
           0,
           0,
           0,
           0,
           0
          ],
          [
           0,
           0,
           0,
           0,
           0,
           0,
           0,
           0,
           0,
           0,
           0,
           0,
           0,
           0,
           0,
           0,
           0,
           0,
           0,
           0,
           0,
           0,
           0,
           0,
           0,
           0,
           0
          ],
          [
           0,
           0,
           0,
           0,
           0,
           0,
           0,
           0,
           0,
           0,
           0,
           0,
           0,
           0,
           0,
           0,
           0,
           0,
           0,
           0,
           0,
           0,
           0,
           0,
           0,
           0,
           0
          ],
          [
           0,
           0,
           0,
           0,
           0,
           0,
           0,
           0,
           0,
           0,
           0,
           0,
           0,
           0,
           0,
           0,
           0,
           0,
           0,
           0,
           0,
           0,
           0,
           0,
           0,
           0,
           0
          ],
          [
           0,
           0,
           0,
           0,
           0,
           0,
           0,
           0,
           0,
           0,
           0,
           0,
           0,
           0,
           0,
           0,
           0,
           0,
           0,
           0,
           0,
           0,
           0,
           0,
           0,
           0,
           0
          ],
          [
           0,
           0,
           0,
           0,
           0,
           0,
           0,
           0,
           0,
           0,
           0,
           0,
           0,
           0,
           0,
           0,
           0,
           0,
           0,
           0,
           0,
           0,
           0,
           0,
           0,
           0,
           0
          ],
          [
           0,
           0,
           0,
           0,
           0,
           0,
           0,
           0,
           0,
           0,
           0,
           0,
           0,
           0,
           0,
           0,
           0,
           0,
           0,
           0,
           0,
           0,
           0,
           0,
           0,
           0,
           0
          ],
          [
           0,
           0,
           0,
           0,
           0,
           0,
           0,
           0,
           0,
           0,
           0,
           0,
           0,
           0,
           0,
           0,
           0,
           0,
           0,
           0,
           0,
           0,
           0,
           0,
           0,
           0,
           0
          ],
          [
           0,
           0,
           0,
           0,
           0,
           0,
           0,
           0,
           0,
           0,
           0,
           0,
           0,
           0,
           0,
           0,
           0,
           0,
           0,
           0,
           0,
           0,
           0,
           0,
           0,
           0,
           0
          ],
          [
           0,
           0,
           0,
           0,
           0,
           0,
           0,
           0,
           0,
           0,
           0,
           0,
           0,
           0,
           0,
           0,
           0,
           0,
           0,
           0,
           0,
           0,
           0,
           0,
           0,
           0,
           0
          ],
          [
           0,
           0,
           0,
           0,
           0,
           0,
           0,
           0,
           0,
           0,
           0,
           0,
           0,
           0,
           0,
           0,
           0,
           0,
           0,
           0,
           0,
           0,
           0,
           0,
           0,
           0,
           0
          ],
          [
           0,
           0,
           0,
           0,
           0,
           0,
           0,
           0,
           0,
           0,
           0,
           0,
           0,
           0,
           0,
           0,
           0,
           0,
           0,
           0,
           0,
           0,
           0,
           0,
           0,
           0,
           0
          ],
          [
           0,
           0,
           0,
           0,
           0,
           0,
           0,
           0,
           0,
           0,
           0,
           0,
           0,
           0,
           0,
           0,
           0,
           0,
           0,
           0,
           0,
           0,
           0,
           0,
           0,
           0,
           0
          ],
          [
           0,
           0,
           0,
           0,
           0,
           0,
           0,
           0,
           0,
           0,
           0,
           0,
           0,
           0,
           0,
           0,
           0,
           0,
           0,
           0,
           0,
           0,
           0,
           0,
           0,
           0,
           0
          ],
          [
           0,
           0,
           0,
           0,
           0,
           0,
           0,
           0,
           0,
           0,
           0,
           0,
           0,
           0,
           0,
           0,
           0,
           0,
           0,
           0,
           0,
           0,
           0,
           0,
           0,
           0,
           0
          ],
          [
           0,
           0,
           0,
           0,
           0,
           0,
           0,
           0,
           0,
           0,
           0,
           0,
           0,
           0,
           0,
           0,
           0,
           0,
           0,
           0,
           0,
           0,
           0,
           0,
           0,
           0,
           0
          ]
         ]
        }
       ],
       "layout": {
        "coloraxis": {
         "cmid": 0,
         "colorscale": [
          [
           0,
           "rgb(103,0,31)"
          ],
          [
           0.1,
           "rgb(178,24,43)"
          ],
          [
           0.2,
           "rgb(214,96,77)"
          ],
          [
           0.3,
           "rgb(244,165,130)"
          ],
          [
           0.4,
           "rgb(253,219,199)"
          ],
          [
           0.5,
           "rgb(247,247,247)"
          ],
          [
           0.6,
           "rgb(209,229,240)"
          ],
          [
           0.7,
           "rgb(146,197,222)"
          ],
          [
           0.8,
           "rgb(67,147,195)"
          ],
          [
           0.9,
           "rgb(33,102,172)"
          ],
          [
           1,
           "rgb(5,48,97)"
          ]
         ]
        },
        "template": {
         "data": {
          "bar": [
           {
            "error_x": {
             "color": "#2a3f5f"
            },
            "error_y": {
             "color": "#2a3f5f"
            },
            "marker": {
             "line": {
              "color": "#E5ECF6",
              "width": 0.5
             },
             "pattern": {
              "fillmode": "overlay",
              "size": 10,
              "solidity": 0.2
             }
            },
            "type": "bar"
           }
          ],
          "barpolar": [
           {
            "marker": {
             "line": {
              "color": "#E5ECF6",
              "width": 0.5
             },
             "pattern": {
              "fillmode": "overlay",
              "size": 10,
              "solidity": 0.2
             }
            },
            "type": "barpolar"
           }
          ],
          "carpet": [
           {
            "aaxis": {
             "endlinecolor": "#2a3f5f",
             "gridcolor": "white",
             "linecolor": "white",
             "minorgridcolor": "white",
             "startlinecolor": "#2a3f5f"
            },
            "baxis": {
             "endlinecolor": "#2a3f5f",
             "gridcolor": "white",
             "linecolor": "white",
             "minorgridcolor": "white",
             "startlinecolor": "#2a3f5f"
            },
            "type": "carpet"
           }
          ],
          "choropleth": [
           {
            "colorbar": {
             "outlinewidth": 0,
             "ticks": ""
            },
            "type": "choropleth"
           }
          ],
          "contour": [
           {
            "colorbar": {
             "outlinewidth": 0,
             "ticks": ""
            },
            "colorscale": [
             [
              0,
              "#0d0887"
             ],
             [
              0.1111111111111111,
              "#46039f"
             ],
             [
              0.2222222222222222,
              "#7201a8"
             ],
             [
              0.3333333333333333,
              "#9c179e"
             ],
             [
              0.4444444444444444,
              "#bd3786"
             ],
             [
              0.5555555555555556,
              "#d8576b"
             ],
             [
              0.6666666666666666,
              "#ed7953"
             ],
             [
              0.7777777777777778,
              "#fb9f3a"
             ],
             [
              0.8888888888888888,
              "#fdca26"
             ],
             [
              1,
              "#f0f921"
             ]
            ],
            "type": "contour"
           }
          ],
          "contourcarpet": [
           {
            "colorbar": {
             "outlinewidth": 0,
             "ticks": ""
            },
            "type": "contourcarpet"
           }
          ],
          "heatmap": [
           {
            "colorbar": {
             "outlinewidth": 0,
             "ticks": ""
            },
            "colorscale": [
             [
              0,
              "#0d0887"
             ],
             [
              0.1111111111111111,
              "#46039f"
             ],
             [
              0.2222222222222222,
              "#7201a8"
             ],
             [
              0.3333333333333333,
              "#9c179e"
             ],
             [
              0.4444444444444444,
              "#bd3786"
             ],
             [
              0.5555555555555556,
              "#d8576b"
             ],
             [
              0.6666666666666666,
              "#ed7953"
             ],
             [
              0.7777777777777778,
              "#fb9f3a"
             ],
             [
              0.8888888888888888,
              "#fdca26"
             ],
             [
              1,
              "#f0f921"
             ]
            ],
            "type": "heatmap"
           }
          ],
          "heatmapgl": [
           {
            "colorbar": {
             "outlinewidth": 0,
             "ticks": ""
            },
            "colorscale": [
             [
              0,
              "#0d0887"
             ],
             [
              0.1111111111111111,
              "#46039f"
             ],
             [
              0.2222222222222222,
              "#7201a8"
             ],
             [
              0.3333333333333333,
              "#9c179e"
             ],
             [
              0.4444444444444444,
              "#bd3786"
             ],
             [
              0.5555555555555556,
              "#d8576b"
             ],
             [
              0.6666666666666666,
              "#ed7953"
             ],
             [
              0.7777777777777778,
              "#fb9f3a"
             ],
             [
              0.8888888888888888,
              "#fdca26"
             ],
             [
              1,
              "#f0f921"
             ]
            ],
            "type": "heatmapgl"
           }
          ],
          "histogram": [
           {
            "marker": {
             "pattern": {
              "fillmode": "overlay",
              "size": 10,
              "solidity": 0.2
             }
            },
            "type": "histogram"
           }
          ],
          "histogram2d": [
           {
            "colorbar": {
             "outlinewidth": 0,
             "ticks": ""
            },
            "colorscale": [
             [
              0,
              "#0d0887"
             ],
             [
              0.1111111111111111,
              "#46039f"
             ],
             [
              0.2222222222222222,
              "#7201a8"
             ],
             [
              0.3333333333333333,
              "#9c179e"
             ],
             [
              0.4444444444444444,
              "#bd3786"
             ],
             [
              0.5555555555555556,
              "#d8576b"
             ],
             [
              0.6666666666666666,
              "#ed7953"
             ],
             [
              0.7777777777777778,
              "#fb9f3a"
             ],
             [
              0.8888888888888888,
              "#fdca26"
             ],
             [
              1,
              "#f0f921"
             ]
            ],
            "type": "histogram2d"
           }
          ],
          "histogram2dcontour": [
           {
            "colorbar": {
             "outlinewidth": 0,
             "ticks": ""
            },
            "colorscale": [
             [
              0,
              "#0d0887"
             ],
             [
              0.1111111111111111,
              "#46039f"
             ],
             [
              0.2222222222222222,
              "#7201a8"
             ],
             [
              0.3333333333333333,
              "#9c179e"
             ],
             [
              0.4444444444444444,
              "#bd3786"
             ],
             [
              0.5555555555555556,
              "#d8576b"
             ],
             [
              0.6666666666666666,
              "#ed7953"
             ],
             [
              0.7777777777777778,
              "#fb9f3a"
             ],
             [
              0.8888888888888888,
              "#fdca26"
             ],
             [
              1,
              "#f0f921"
             ]
            ],
            "type": "histogram2dcontour"
           }
          ],
          "mesh3d": [
           {
            "colorbar": {
             "outlinewidth": 0,
             "ticks": ""
            },
            "type": "mesh3d"
           }
          ],
          "parcoords": [
           {
            "line": {
             "colorbar": {
              "outlinewidth": 0,
              "ticks": ""
             }
            },
            "type": "parcoords"
           }
          ],
          "pie": [
           {
            "automargin": true,
            "type": "pie"
           }
          ],
          "scatter": [
           {
            "fillpattern": {
             "fillmode": "overlay",
             "size": 10,
             "solidity": 0.2
            },
            "type": "scatter"
           }
          ],
          "scatter3d": [
           {
            "line": {
             "colorbar": {
              "outlinewidth": 0,
              "ticks": ""
             }
            },
            "marker": {
             "colorbar": {
              "outlinewidth": 0,
              "ticks": ""
             }
            },
            "type": "scatter3d"
           }
          ],
          "scattercarpet": [
           {
            "marker": {
             "colorbar": {
              "outlinewidth": 0,
              "ticks": ""
             }
            },
            "type": "scattercarpet"
           }
          ],
          "scattergeo": [
           {
            "marker": {
             "colorbar": {
              "outlinewidth": 0,
              "ticks": ""
             }
            },
            "type": "scattergeo"
           }
          ],
          "scattergl": [
           {
            "marker": {
             "colorbar": {
              "outlinewidth": 0,
              "ticks": ""
             }
            },
            "type": "scattergl"
           }
          ],
          "scattermapbox": [
           {
            "marker": {
             "colorbar": {
              "outlinewidth": 0,
              "ticks": ""
             }
            },
            "type": "scattermapbox"
           }
          ],
          "scatterpolar": [
           {
            "marker": {
             "colorbar": {
              "outlinewidth": 0,
              "ticks": ""
             }
            },
            "type": "scatterpolar"
           }
          ],
          "scatterpolargl": [
           {
            "marker": {
             "colorbar": {
              "outlinewidth": 0,
              "ticks": ""
             }
            },
            "type": "scatterpolargl"
           }
          ],
          "scatterternary": [
           {
            "marker": {
             "colorbar": {
              "outlinewidth": 0,
              "ticks": ""
             }
            },
            "type": "scatterternary"
           }
          ],
          "surface": [
           {
            "colorbar": {
             "outlinewidth": 0,
             "ticks": ""
            },
            "colorscale": [
             [
              0,
              "#0d0887"
             ],
             [
              0.1111111111111111,
              "#46039f"
             ],
             [
              0.2222222222222222,
              "#7201a8"
             ],
             [
              0.3333333333333333,
              "#9c179e"
             ],
             [
              0.4444444444444444,
              "#bd3786"
             ],
             [
              0.5555555555555556,
              "#d8576b"
             ],
             [
              0.6666666666666666,
              "#ed7953"
             ],
             [
              0.7777777777777778,
              "#fb9f3a"
             ],
             [
              0.8888888888888888,
              "#fdca26"
             ],
             [
              1,
              "#f0f921"
             ]
            ],
            "type": "surface"
           }
          ],
          "table": [
           {
            "cells": {
             "fill": {
              "color": "#EBF0F8"
             },
             "line": {
              "color": "white"
             }
            },
            "header": {
             "fill": {
              "color": "#C8D4E3"
             },
             "line": {
              "color": "white"
             }
            },
            "type": "table"
           }
          ]
         },
         "layout": {
          "annotationdefaults": {
           "arrowcolor": "#2a3f5f",
           "arrowhead": 0,
           "arrowwidth": 1
          },
          "autotypenumbers": "strict",
          "coloraxis": {
           "colorbar": {
            "outlinewidth": 0,
            "ticks": ""
           }
          },
          "colorscale": {
           "diverging": [
            [
             0,
             "#8e0152"
            ],
            [
             0.1,
             "#c51b7d"
            ],
            [
             0.2,
             "#de77ae"
            ],
            [
             0.3,
             "#f1b6da"
            ],
            [
             0.4,
             "#fde0ef"
            ],
            [
             0.5,
             "#f7f7f7"
            ],
            [
             0.6,
             "#e6f5d0"
            ],
            [
             0.7,
             "#b8e186"
            ],
            [
             0.8,
             "#7fbc41"
            ],
            [
             0.9,
             "#4d9221"
            ],
            [
             1,
             "#276419"
            ]
           ],
           "sequential": [
            [
             0,
             "#0d0887"
            ],
            [
             0.1111111111111111,
             "#46039f"
            ],
            [
             0.2222222222222222,
             "#7201a8"
            ],
            [
             0.3333333333333333,
             "#9c179e"
            ],
            [
             0.4444444444444444,
             "#bd3786"
            ],
            [
             0.5555555555555556,
             "#d8576b"
            ],
            [
             0.6666666666666666,
             "#ed7953"
            ],
            [
             0.7777777777777778,
             "#fb9f3a"
            ],
            [
             0.8888888888888888,
             "#fdca26"
            ],
            [
             1,
             "#f0f921"
            ]
           ],
           "sequentialminus": [
            [
             0,
             "#0d0887"
            ],
            [
             0.1111111111111111,
             "#46039f"
            ],
            [
             0.2222222222222222,
             "#7201a8"
            ],
            [
             0.3333333333333333,
             "#9c179e"
            ],
            [
             0.4444444444444444,
             "#bd3786"
            ],
            [
             0.5555555555555556,
             "#d8576b"
            ],
            [
             0.6666666666666666,
             "#ed7953"
            ],
            [
             0.7777777777777778,
             "#fb9f3a"
            ],
            [
             0.8888888888888888,
             "#fdca26"
            ],
            [
             1,
             "#f0f921"
            ]
           ]
          },
          "colorway": [
           "#636efa",
           "#EF553B",
           "#00cc96",
           "#ab63fa",
           "#FFA15A",
           "#19d3f3",
           "#FF6692",
           "#B6E880",
           "#FF97FF",
           "#FECB52"
          ],
          "font": {
           "color": "#2a3f5f"
          },
          "geo": {
           "bgcolor": "white",
           "lakecolor": "white",
           "landcolor": "#E5ECF6",
           "showlakes": true,
           "showland": true,
           "subunitcolor": "white"
          },
          "hoverlabel": {
           "align": "left"
          },
          "hovermode": "closest",
          "mapbox": {
           "style": "light"
          },
          "paper_bgcolor": "white",
          "plot_bgcolor": "#E5ECF6",
          "polar": {
           "angularaxis": {
            "gridcolor": "white",
            "linecolor": "white",
            "ticks": ""
           },
           "bgcolor": "#E5ECF6",
           "radialaxis": {
            "gridcolor": "white",
            "linecolor": "white",
            "ticks": ""
           }
          },
          "scene": {
           "xaxis": {
            "backgroundcolor": "#E5ECF6",
            "gridcolor": "white",
            "gridwidth": 2,
            "linecolor": "white",
            "showbackground": true,
            "ticks": "",
            "zerolinecolor": "white"
           },
           "yaxis": {
            "backgroundcolor": "#E5ECF6",
            "gridcolor": "white",
            "gridwidth": 2,
            "linecolor": "white",
            "showbackground": true,
            "ticks": "",
            "zerolinecolor": "white"
           },
           "zaxis": {
            "backgroundcolor": "#E5ECF6",
            "gridcolor": "white",
            "gridwidth": 2,
            "linecolor": "white",
            "showbackground": true,
            "ticks": "",
            "zerolinecolor": "white"
           }
          },
          "shapedefaults": {
           "line": {
            "color": "#2a3f5f"
           }
          },
          "ternary": {
           "aaxis": {
            "gridcolor": "white",
            "linecolor": "white",
            "ticks": ""
           },
           "baxis": {
            "gridcolor": "white",
            "linecolor": "white",
            "ticks": ""
           },
           "bgcolor": "#E5ECF6",
           "caxis": {
            "gridcolor": "white",
            "linecolor": "white",
            "ticks": ""
           }
          },
          "title": {
           "x": 0.05
          },
          "xaxis": {
           "automargin": true,
           "gridcolor": "white",
           "linecolor": "white",
           "ticks": "",
           "title": {
            "standoff": 15
           },
           "zerolinecolor": "white",
           "zerolinewidth": 2
          },
          "yaxis": {
           "automargin": true,
           "gridcolor": "white",
           "linecolor": "white",
           "ticks": "",
           "title": {
            "standoff": 15
           },
           "zerolinecolor": "white",
           "zerolinewidth": 2
          }
         }
        },
        "title": {
         "text": "resid_pre Activation Patching"
        },
        "xaxis": {
         "anchor": "y",
         "domain": [
          0,
          1
         ],
         "title": {
          "text": "Position"
         }
        },
        "yaxis": {
         "anchor": "x",
         "autorange": "reversed",
         "domain": [
          0,
          1
         ],
         "title": {
          "text": "Layer"
         }
        }
       }
      }
     },
     "metadata": {},
     "output_type": "display_data"
    },
    {
     "data": {
      "application/vnd.jupyter.widget-view+json": {
       "model_id": "4f3527681ce840ceb40df8af4190243a",
       "version_major": 2,
       "version_minor": 0
      },
      "text/plain": [
       "  0%|          | 0/648 [00:00<?, ?it/s]"
      ]
     },
     "metadata": {},
     "output_type": "display_data"
    },
    {
     "ename": "KeyboardInterrupt",
     "evalue": "",
     "output_type": "error",
     "traceback": [
      "\u001b[0;31m---------------------------------------------------------------------------\u001b[0m",
      "\u001b[0;31mKeyboardInterrupt\u001b[0m                         Traceback (most recent call last)",
      "Cell \u001b[0;32mIn[44], line 26\u001b[0m\n\u001b[1;32m     23\u001b[0m corrupted_prompts \u001b[38;5;241m=\u001b[39m [case\u001b[38;5;241m.\u001b[39mprompt \u001b[38;5;28;01mfor\u001b[39;00m case \u001b[38;5;129;01min\u001b[39;00m corrupted_cases]\n\u001b[1;32m     24\u001b[0m expected_outputs \u001b[38;5;241m=\u001b[39m [case\u001b[38;5;241m.\u001b[39mground_truth \u001b[38;5;28;01mfor\u001b[39;00m case \u001b[38;5;129;01min\u001b[39;00m corrupted_cases]\n\u001b[0;32m---> 26\u001b[0m \u001b[43mRandomListPromptFamily\u001b[49m\u001b[38;5;241;43m.\u001b[39;49m\u001b[43mrun_activation_patching_grid\u001b[49m\u001b[43m(\u001b[49m\n\u001b[1;32m     27\u001b[0m \u001b[43m    \u001b[49m\u001b[43mmodel\u001b[49m\u001b[38;5;241;43m=\u001b[39;49m\u001b[43mmodel\u001b[49m\u001b[43m,\u001b[49m\n\u001b[1;32m     28\u001b[0m \u001b[43m    \u001b[49m\u001b[43mclean_prompts\u001b[49m\u001b[38;5;241;43m=\u001b[39;49m\u001b[43mclean_prompts\u001b[49m\u001b[43m,\u001b[49m\n\u001b[1;32m     29\u001b[0m \u001b[43m    \u001b[49m\u001b[43mcorrupted_prompts\u001b[49m\u001b[38;5;241;43m=\u001b[39;49m\u001b[43mcorrupted_prompts\u001b[49m\u001b[43m,\u001b[49m\n\u001b[1;32m     30\u001b[0m \u001b[43m    \u001b[49m\u001b[43mexpected_outputs\u001b[49m\u001b[38;5;241;43m=\u001b[39;49m\u001b[43mexpected_outputs\u001b[49m\u001b[43m,\u001b[49m\n\u001b[1;32m     31\u001b[0m \u001b[43m    \u001b[49m\u001b[43mpatch_type\u001b[49m\u001b[38;5;241;43m=\u001b[39;49m\u001b[38;5;124;43m\"\u001b[39;49m\u001b[38;5;124;43mresid_pre\u001b[39;49m\u001b[38;5;124;43m\"\u001b[39;49m\u001b[43m,\u001b[49m\n\u001b[1;32m     32\u001b[0m \u001b[43m    \u001b[49m\u001b[43mvisualize\u001b[49m\u001b[38;5;241;43m=\u001b[39;49m\u001b[38;5;28;43;01mTrue\u001b[39;49;00m\n\u001b[1;32m     33\u001b[0m \u001b[43m)\u001b[49m\n",
      "Cell \u001b[0;32mIn[43], line 174\u001b[0m, in \u001b[0;36mRandomListPromptFamily.run_activation_patching_grid\u001b[0;34m(model, clean_prompts, corrupted_prompts, expected_outputs, patch_type, max_tokens, output_file, visualize)\u001b[0m\n\u001b[1;32m    171\u001b[0m     \u001b[38;5;28;01mreturn\u001b[39;00m torch\u001b[38;5;241m.\u001b[39mtensor(\u001b[38;5;28mfloat\u001b[39m(expected_output \u001b[38;5;129;01min\u001b[39;00m decoded))\n\u001b[1;32m    173\u001b[0m \u001b[38;5;28;01mif\u001b[39;00m patch_type \u001b[38;5;241m==\u001b[39m \u001b[38;5;124m\"\u001b[39m\u001b[38;5;124mresid_pre\u001b[39m\u001b[38;5;124m\"\u001b[39m:\n\u001b[0;32m--> 174\u001b[0m     patch_result \u001b[38;5;241m=\u001b[39m \u001b[43mpatching\u001b[49m\u001b[38;5;241;43m.\u001b[39;49m\u001b[43mget_act_patch_resid_pre\u001b[49m\u001b[43m(\u001b[49m\n\u001b[1;32m    175\u001b[0m \u001b[43m        \u001b[49m\u001b[43mmodel\u001b[49m\u001b[43m,\u001b[49m\u001b[43m \u001b[49m\u001b[43mcorrupted_tokens\u001b[49m\u001b[43m,\u001b[49m\u001b[43m \u001b[49m\u001b[43mclean_cache\u001b[49m\u001b[43m,\u001b[49m\u001b[43m \u001b[49m\u001b[43mmetric\u001b[49m\n\u001b[1;32m    176\u001b[0m \u001b[43m    \u001b[49m\u001b[43m)\u001b[49m\n\u001b[1;32m    177\u001b[0m \u001b[38;5;28;01melif\u001b[39;00m patch_type \u001b[38;5;241m==\u001b[39m \u001b[38;5;124m\"\u001b[39m\u001b[38;5;124mblock\u001b[39m\u001b[38;5;124m\"\u001b[39m:\n\u001b[1;32m    178\u001b[0m     patch_result \u001b[38;5;241m=\u001b[39m patching\u001b[38;5;241m.\u001b[39mget_act_patch_block(\n\u001b[1;32m    179\u001b[0m         model, corrupted_tokens, clean_cache, metric\n\u001b[1;32m    180\u001b[0m     )\n",
      "File \u001b[0;32m~/.pyenv/versions/3.9.1/lib/python3.9/site-packages/transformer_lens/patching.py:226\u001b[0m, in \u001b[0;36mgeneric_activation_patch\u001b[0;34m(model, corrupted_tokens, clean_cache, patching_metric, patch_setter, activation_name, index_axis_names, index_df, return_index_df)\u001b[0m\n\u001b[1;32m    224\u001b[0m         patched_metric_output[c] \u001b[38;5;241m=\u001b[39m patching_metric(patched_logits)\u001b[38;5;241m.\u001b[39mitem()\n\u001b[1;32m    225\u001b[0m     \u001b[38;5;28;01melse\u001b[39;00m:\n\u001b[0;32m--> 226\u001b[0m         patched_metric_output[\u001b[38;5;28mtuple\u001b[39m(index)] \u001b[38;5;241m=\u001b[39m \u001b[43mpatching_metric\u001b[49m\u001b[43m(\u001b[49m\u001b[43mpatched_logits\u001b[49m\u001b[43m)\u001b[49m\u001b[38;5;241m.\u001b[39mitem()\n\u001b[1;32m    228\u001b[0m \u001b[38;5;28;01mif\u001b[39;00m return_index_df:\n\u001b[1;32m    229\u001b[0m     \u001b[38;5;28;01mreturn\u001b[39;00m patched_metric_output, index_df\n",
      "Cell \u001b[0;32mIn[43], line 170\u001b[0m, in \u001b[0;36mRandomListPromptFamily.run_activation_patching_grid.<locals>.metric\u001b[0;34m(logits)\u001b[0m\n\u001b[1;32m    169\u001b[0m \u001b[38;5;28;01mdef\u001b[39;00m \u001b[38;5;21mmetric\u001b[39m(logits):\n\u001b[0;32m--> 170\u001b[0m     decoded \u001b[38;5;241m=\u001b[39m \u001b[43mdecode_logits\u001b[49m\u001b[43m(\u001b[49m\u001b[43mlogits\u001b[49m\u001b[43m)\u001b[49m\n\u001b[1;32m    171\u001b[0m     \u001b[38;5;28;01mreturn\u001b[39;00m torch\u001b[38;5;241m.\u001b[39mtensor(\u001b[38;5;28mfloat\u001b[39m(expected_output \u001b[38;5;129;01min\u001b[39;00m decoded))\n",
      "Cell \u001b[0;32mIn[43], line 158\u001b[0m, in \u001b[0;36mRandomListPromptFamily.run_activation_patching_grid.<locals>.decode_logits\u001b[0;34m(logits)\u001b[0m\n\u001b[1;32m    157\u001b[0m \u001b[38;5;28;01mdef\u001b[39;00m \u001b[38;5;21mdecode_logits\u001b[39m(logits):\n\u001b[0;32m--> 158\u001b[0m     \u001b[38;5;28;01mreturn\u001b[39;00m \u001b[43mmodel\u001b[49m\u001b[38;5;241;43m.\u001b[39;49m\u001b[43mtokenizer\u001b[49m\u001b[38;5;241;43m.\u001b[39;49m\u001b[43mdecode\u001b[49m\u001b[43m(\u001b[49m\u001b[43mlogits\u001b[49m\u001b[38;5;241;43m.\u001b[39;49m\u001b[43margmax\u001b[49m\u001b[43m(\u001b[49m\u001b[43mdim\u001b[49m\u001b[38;5;241;43m=\u001b[39;49m\u001b[38;5;241;43m-\u001b[39;49m\u001b[38;5;241;43m1\u001b[39;49m\u001b[43m)\u001b[49m\u001b[43m[\u001b[49m\u001b[38;5;241;43m0\u001b[39;49m\u001b[43m]\u001b[49m\u001b[43m)\u001b[49m\n",
      "File \u001b[0;32m~/.pyenv/versions/3.9.1/lib/python3.9/site-packages/transformers/models/codegen/tokenization_codegen.py:376\u001b[0m, in \u001b[0;36mCodeGenTokenizer.decode\u001b[0;34m(self, token_ids, skip_special_tokens, clean_up_tokenization_spaces, truncate_before_pattern, **kwargs)\u001b[0m\n\u001b[1;32m    343\u001b[0m \u001b[38;5;28;01mdef\u001b[39;00m \u001b[38;5;21mdecode\u001b[39m(\n\u001b[1;32m    344\u001b[0m     \u001b[38;5;28mself\u001b[39m,\n\u001b[1;32m    345\u001b[0m     token_ids: Union[\u001b[38;5;28mint\u001b[39m, List[\u001b[38;5;28mint\u001b[39m], \u001b[38;5;124m\"\u001b[39m\u001b[38;5;124mnp.ndarray\u001b[39m\u001b[38;5;124m\"\u001b[39m, \u001b[38;5;124m\"\u001b[39m\u001b[38;5;124mtorch.Tensor\u001b[39m\u001b[38;5;124m\"\u001b[39m, \u001b[38;5;124m\"\u001b[39m\u001b[38;5;124mtf.Tensor\u001b[39m\u001b[38;5;124m\"\u001b[39m],\n\u001b[0;32m   (...)\u001b[0m\n\u001b[1;32m    349\u001b[0m     \u001b[38;5;241m*\u001b[39m\u001b[38;5;241m*\u001b[39mkwargs,\n\u001b[1;32m    350\u001b[0m ) \u001b[38;5;241m-\u001b[39m\u001b[38;5;241m>\u001b[39m \u001b[38;5;28mstr\u001b[39m:\n\u001b[1;32m    351\u001b[0m \u001b[38;5;250m    \u001b[39m\u001b[38;5;124;03m\"\"\"\u001b[39;00m\n\u001b[1;32m    352\u001b[0m \u001b[38;5;124;03m    Converts a sequence of ids in a string, using the tokenizer and vocabulary with options to remove special\u001b[39;00m\n\u001b[1;32m    353\u001b[0m \u001b[38;5;124;03m    tokens and clean up tokenization spaces.\u001b[39;00m\n\u001b[0;32m   (...)\u001b[0m\n\u001b[1;32m    373\u001b[0m \u001b[38;5;124;03m        `str`: The decoded sentence.\u001b[39;00m\n\u001b[1;32m    374\u001b[0m \u001b[38;5;124;03m    \"\"\"\u001b[39;00m\n\u001b[0;32m--> 376\u001b[0m     token_ids \u001b[38;5;241m=\u001b[39m \u001b[43mto_py_obj\u001b[49m\u001b[43m(\u001b[49m\u001b[43mtoken_ids\u001b[49m\u001b[43m)\u001b[49m\n\u001b[1;32m    378\u001b[0m     decoded_text \u001b[38;5;241m=\u001b[39m \u001b[38;5;28msuper\u001b[39m()\u001b[38;5;241m.\u001b[39m_decode(\n\u001b[1;32m    379\u001b[0m         token_ids\u001b[38;5;241m=\u001b[39mtoken_ids,\n\u001b[1;32m    380\u001b[0m         skip_special_tokens\u001b[38;5;241m=\u001b[39mskip_special_tokens,\n\u001b[1;32m    381\u001b[0m         clean_up_tokenization_spaces\u001b[38;5;241m=\u001b[39mclean_up_tokenization_spaces,\n\u001b[1;32m    382\u001b[0m         \u001b[38;5;241m*\u001b[39m\u001b[38;5;241m*\u001b[39mkwargs,\n\u001b[1;32m    383\u001b[0m     )\n\u001b[1;32m    385\u001b[0m     \u001b[38;5;28;01mif\u001b[39;00m truncate_before_pattern \u001b[38;5;129;01mis\u001b[39;00m \u001b[38;5;129;01mnot\u001b[39;00m \u001b[38;5;28;01mNone\u001b[39;00m \u001b[38;5;129;01mand\u001b[39;00m \u001b[38;5;28mlen\u001b[39m(truncate_before_pattern) \u001b[38;5;241m>\u001b[39m \u001b[38;5;241m0\u001b[39m:\n",
      "File \u001b[0;32m~/.pyenv/versions/3.9.1/lib/python3.9/site-packages/transformers/utils/generic.py:289\u001b[0m, in \u001b[0;36mto_py_obj\u001b[0;34m(obj)\u001b[0m\n\u001b[1;32m    287\u001b[0m \u001b[38;5;28;01mfor\u001b[39;00m framework, test_func \u001b[38;5;129;01min\u001b[39;00m framework_to_test_func\u001b[38;5;241m.\u001b[39mitems():\n\u001b[1;32m    288\u001b[0m     \u001b[38;5;28;01mif\u001b[39;00m test_func(obj):\n\u001b[0;32m--> 289\u001b[0m         \u001b[38;5;28;01mreturn\u001b[39;00m \u001b[43mframework_to_py_obj\u001b[49m\u001b[43m[\u001b[49m\u001b[43mframework\u001b[49m\u001b[43m]\u001b[49m\u001b[43m(\u001b[49m\u001b[43mobj\u001b[49m\u001b[43m)\u001b[49m\n\u001b[1;32m    291\u001b[0m \u001b[38;5;66;03m# tolist also works on 0d np arrays\u001b[39;00m\n\u001b[1;32m    292\u001b[0m \u001b[38;5;28;01mif\u001b[39;00m \u001b[38;5;28misinstance\u001b[39m(obj, np\u001b[38;5;241m.\u001b[39mnumber):\n",
      "File \u001b[0;32m~/.pyenv/versions/3.9.1/lib/python3.9/site-packages/transformers/utils/generic.py:279\u001b[0m, in \u001b[0;36mto_py_obj.<locals>.<lambda>\u001b[0;34m(obj)\u001b[0m\n\u001b[1;32m    275\u001b[0m         \u001b[38;5;28;01mpass\u001b[39;00m\n\u001b[1;32m    276\u001b[0m     \u001b[38;5;28;01mreturn\u001b[39;00m [to_py_obj(o) \u001b[38;5;28;01mfor\u001b[39;00m o \u001b[38;5;129;01min\u001b[39;00m obj]\n\u001b[1;32m    278\u001b[0m framework_to_py_obj \u001b[38;5;241m=\u001b[39m {\n\u001b[0;32m--> 279\u001b[0m     \u001b[38;5;124m\"\u001b[39m\u001b[38;5;124mpt\u001b[39m\u001b[38;5;124m\"\u001b[39m: \u001b[38;5;28;01mlambda\u001b[39;00m obj: \u001b[43mobj\u001b[49m\u001b[38;5;241;43m.\u001b[39;49m\u001b[43mtolist\u001b[49m\u001b[43m(\u001b[49m\u001b[43m)\u001b[49m,\n\u001b[1;32m    280\u001b[0m     \u001b[38;5;124m\"\u001b[39m\u001b[38;5;124mtf\u001b[39m\u001b[38;5;124m\"\u001b[39m: \u001b[38;5;28;01mlambda\u001b[39;00m obj: obj\u001b[38;5;241m.\u001b[39mnumpy()\u001b[38;5;241m.\u001b[39mtolist(),\n\u001b[1;32m    281\u001b[0m     \u001b[38;5;124m\"\u001b[39m\u001b[38;5;124mjax\u001b[39m\u001b[38;5;124m\"\u001b[39m: \u001b[38;5;28;01mlambda\u001b[39;00m obj: np\u001b[38;5;241m.\u001b[39masarray(obj)\u001b[38;5;241m.\u001b[39mtolist(),\n\u001b[1;32m    282\u001b[0m     \u001b[38;5;124m\"\u001b[39m\u001b[38;5;124mnp\u001b[39m\u001b[38;5;124m\"\u001b[39m: \u001b[38;5;28;01mlambda\u001b[39;00m obj: obj\u001b[38;5;241m.\u001b[39mtolist(),\n\u001b[1;32m    283\u001b[0m }\n\u001b[1;32m    285\u001b[0m \u001b[38;5;66;03m# This gives us a smart order to test the frameworks with the corresponding tests.\u001b[39;00m\n\u001b[1;32m    286\u001b[0m framework_to_test_func \u001b[38;5;241m=\u001b[39m _get_frameworks_and_test_func(obj)\n",
      "\u001b[0;31mKeyboardInterrupt\u001b[0m: "
     ]
    }
   ],
   "source": [
    "clean_lists = [[5, 7, 1, 3, 2], [7, 7, 3, 2, 9], [1, 8, 3, 7, 2]]\n",
    "corrupt_lists = [[8, 7, 3, 1, 1], [2, 6, 7, 2, 2], [5, 7, 4, 6, 4]]\n",
    "\n",
    "family = RandomListPromptFamily(max_val=10)\n",
    "\n",
    "def append_neg1(l):\n",
    "    return l + [-1]\n",
    "\n",
    "clean_cases = family.generate_cases(\n",
    "    prompt_idx=1,\n",
    "    transform_fn=append_neg1,\n",
    "    manual_lists=clean_lists\n",
    ")\n",
    "\n",
    "corrupted_cases = family.generate_cases(\n",
    "    prompt_idx=1,\n",
    "    transform_fn=append_neg1,\n",
    "    manual_lists=corrupt_lists\n",
    ")\n",
    "\n",
    "\n",
    "clean_prompts = [case.prompt for case in clean_cases]\n",
    "corrupted_prompts = [case.prompt for case in corrupted_cases]\n",
    "expected_outputs = [case.ground_truth for case in corrupted_cases]\n",
    "\n",
    "RandomListPromptFamily.run_activation_patching_grid(\n",
    "    model=model,\n",
    "    clean_prompts=clean_prompts,\n",
    "    corrupted_prompts=corrupted_prompts,\n",
    "    expected_outputs=expected_outputs,\n",
    "    patch_type=\"resid_pre\",\n",
    "    visualize=True\n",
    ")\n"
   ]
  }
 ],
 "metadata": {
  "kernelspec": {
   "display_name": "Python 3",
   "language": "python",
   "name": "python3"
  },
  "language_info": {
   "codemirror_mode": {
    "name": "ipython",
    "version": 3
   },
   "file_extension": ".py",
   "mimetype": "text/x-python",
   "name": "python",
   "nbconvert_exporter": "python",
   "pygments_lexer": "ipython3",
   "version": "3.9.1"
  }
 },
 "nbformat": 4,
 "nbformat_minor": 2
}
